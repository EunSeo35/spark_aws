{
 "cells": [
  {
   "cell_type": "code",
   "execution_count": 6,
   "id": "659bc65b-91cf-4df4-ae69-c6945676c23f",
   "metadata": {},
   "outputs": [
    {
     "name": "stderr",
     "output_type": "stream",
     "text": [
      "24/12/10 13:29:27 WARN Utils: Service 'SparkUI' could not bind on port 4040. Attempting port 4041.\n"
     ]
    }
   ],
   "source": [
    "from pyspark import SparkConf, SparkContext\n",
    "conf = SparkConf().setMaster(\"local\").setAppName(\"spark_sql_basic1\")\n",
    "sc   = SparkContext(conf=conf)"
   ]
  },
  {
   "cell_type": "code",
   "execution_count": 8,
   "id": "d2491882-be89-4a69-8ea0-494afe6b275d",
   "metadata": {},
   "outputs": [],
   "source": [
    "#RDD\n",
    "movies_rdd = sc.parallelize([\n",
    "    (1, (\"어벤져스\", \"마블\")),\n",
    "    (2, (\"슈퍼맨\", \"DC\")),\n",
    "    (3, (\"배트맨\", \"DC\")),\n",
    "    (4, (\"겨울왕국\", \"디즈니\")),\n",
    "    (5, (\"아이언맨\", \"마블\"))\n",
    "])\n",
    "\n",
    "\n",
    "attendances_rdd = sc.parallelize([\n",
    "    (1, (13934592, \"KR\")),\n",
    "    (2, (2182227,\"KR\")),\n",
    "    (3, (4226242, \"KR\")),\n",
    "    (4, (10303058, \"KR\")),\n",
    "    (5, (4300365, \"KR\"))\n",
    "])"
   ]
  },
  {
   "cell_type": "code",
   "execution_count": 9,
   "id": "3c981d91-1034-4c46-8b90-59a40705e6bb",
   "metadata": {},
   "outputs": [],
   "source": [
    "#관객수가 500만 이상인 영화 가져오기 \n",
    "#1. 조인 -> 필터 -> 영화정보\n",
    "#2. 필터 -> 조인 -> 영화정보\n"
   ]
  },
  {
   "cell_type": "code",
   "execution_count": 17,
   "id": "10894a68-11e1-48f9-8373-cf4d2a1e5319",
   "metadata": {},
   "outputs": [
    {
     "data": {
      "text/plain": [
       "[(4, (('겨울왕국', '디즈니'), (10303058, 'KR'))),\n",
       " (1, (('어벤져스', '마블'), (13934592, 'KR')))]"
      ]
     },
     "execution_count": 17,
     "metadata": {},
     "output_type": "execute_result"
    }
   ],
   "source": [
    "#1. \n",
    "movies_att= movies_rdd.join(attendances_rdd)\n",
    "movies_att.filter(\n",
    "    lambda x : x[1][1][0] > 5000000\n",
    ").collect()"
   ]
  },
  {
   "cell_type": "code",
   "execution_count": 18,
   "id": "f03faac8-0fe8-4ea5-9a53-1f20ebd9b5f8",
   "metadata": {},
   "outputs": [
    {
     "data": {
      "text/plain": [
       "[(2, (('슈퍼맨', 'DC'), (2182227, 'KR'))),\n",
       " (4, (('겨울왕국', '디즈니'), (10303058, 'KR'))),\n",
       " (1, (('어벤져스', '마블'), (13934592, 'KR'))),\n",
       " (3, (('배트맨', 'DC'), (4226242, 'KR'))),\n",
       " (5, (('아이언맨', '마블'), (4300365, 'KR')))]"
      ]
     },
     "execution_count": 18,
     "metadata": {},
     "output_type": "execute_result"
    }
   ],
   "source": [
    "movies_att.take(10)"
   ]
  },
  {
   "cell_type": "code",
   "execution_count": 22,
   "id": "1642e6f3-e046-4dd4-8576-a21ffecacb0e",
   "metadata": {},
   "outputs": [
    {
     "data": {
      "text/plain": [
       "[(4, (('겨울왕국', '디즈니'), (10303058, 'KR'))),\n",
       " (1, (('어벤져스', '마블'), (13934592, 'KR')))]"
      ]
     },
     "execution_count": 22,
     "metadata": {},
     "output_type": "execute_result"
    }
   ],
   "source": [
    "#2.\n",
    "filtered_att = attendances_rdd.filter( lambda x : x[1][0] > 5000000)\n",
    "movies_rdd.join(filtered_att).collect()"
   ]
  },
  {
   "cell_type": "code",
   "execution_count": null,
   "id": "d5d858b6-dcc3-497b-b773-831142579d25",
   "metadata": {},
   "outputs": [],
   "source": []
  },
  {
   "cell_type": "code",
   "execution_count": 23,
   "id": "0c57fe5a-02ce-468e-aa18-637ce707a017",
   "metadata": {},
   "outputs": [],
   "source": [
    "from pyspark.sql import SparkSession\n",
    "spark = SparkSession.builder.appName(\"spark_sql_basic\").getOrCreate()"
   ]
  },
  {
   "cell_type": "code",
   "execution_count": 24,
   "id": "84c9b312-6aee-4ff8-8ac2-e222c69fd40a",
   "metadata": {},
   "outputs": [],
   "source": [
    "movies = [\n",
    "    (1, \"어벤져스\", \"마블\", 2012, 4, 26),\n",
    "    (2, \"슈퍼맨\", \"DC\", 2013, 6, 13),\n",
    "    (3, \"배트맨\", \"DC\", 2008, 8, 6),\n",
    "    (4, \"겨울왕국\", \"디즈니\", 2014, 1, 16),\n",
    "    (5, \"아이언맨\", \"마블\", 2008, 4, 30)\n",
    "]"
   ]
  },
  {
   "cell_type": "code",
   "execution_count": 25,
   "id": "acbfc246-4843-4c98-91b5-c167319ff3dd",
   "metadata": {},
   "outputs": [],
   "source": [
    "movie_schema = ['id', 'name', 'company', 'year', 'month', 'day']"
   ]
  },
  {
   "cell_type": "code",
   "execution_count": 27,
   "id": "904a6ad3-279d-4f06-8baf-0ba5b4c85d85",
   "metadata": {},
   "outputs": [],
   "source": [
    "df = spark.createDataFrame(data = movies, schema = movie_schema)"
   ]
  },
  {
   "cell_type": "code",
   "execution_count": 29,
   "id": "331750cd-9417-49c8-8547-c082e5020c39",
   "metadata": {},
   "outputs": [
    {
     "name": "stdout",
     "output_type": "stream",
     "text": [
      "+--------+\n",
      "|    name|\n",
      "+--------+\n",
      "|어벤져스|\n",
      "|  슈퍼맨|\n",
      "|  배트맨|\n",
      "|겨울왕국|\n",
      "|아이언맨|\n",
      "+--------+\n",
      "\n"
     ]
    }
   ],
   "source": [
    "df.select('name').show()"
   ]
  },
  {
   "cell_type": "code",
   "execution_count": null,
   "id": "f964c41c-165c-4e8d-b31e-3f99a05b6264",
   "metadata": {},
   "outputs": [],
   "source": [
    "#sql 사용을 위한 view emdfhr"
   ]
  },
  {
   "cell_type": "code",
   "execution_count": 30,
   "id": "3827e7a5-994b-4ce5-87a6-68e89257dee9",
   "metadata": {},
   "outputs": [],
   "source": [
    "df.createOrReplaceTempView('movies') "
   ]
  },
  {
   "cell_type": "code",
   "execution_count": 33,
   "id": "77a49a1c-e1db-4894-896f-70dd8ea462bf",
   "metadata": {},
   "outputs": [
    {
     "name": "stdout",
     "output_type": "stream",
     "text": [
      "+---+--------+-------+----+-----+---+\n",
      "| id|    name|company|year|month|day|\n",
      "+---+--------+-------+----+-----+---+\n",
      "|  1|어벤져스|   마블|2012|    4| 26|\n",
      "|  2|  슈퍼맨|     DC|2013|    6| 13|\n",
      "|  3|  배트맨|     DC|2008|    8|  6|\n",
      "|  4|겨울왕국| 디즈니|2014|    1| 16|\n",
      "|  5|아이언맨|   마블|2008|    4| 30|\n",
      "+---+--------+-------+----+-----+---+\n",
      "\n"
     ]
    }
   ],
   "source": [
    "spark.sql('select * from movies').show()"
   ]
  },
  {
   "cell_type": "code",
   "execution_count": 34,
   "id": "202b2a50-d6e9-482b-a13a-b8bd4e01dcb9",
   "metadata": {},
   "outputs": [
    {
     "name": "stdout",
     "output_type": "stream",
     "text": [
      "+--------+\n",
      "|    name|\n",
      "+--------+\n",
      "|어벤져스|\n",
      "|아이언맨|\n",
      "+--------+\n",
      "\n"
     ]
    }
   ],
   "source": [
    "# company가 마블인 영화 목록\n",
    "spark.sql(\"select name from movies where company = '마블'\").show()"
   ]
  },
  {
   "cell_type": "code",
   "execution_count": 35,
   "id": "1909b43b-613c-467b-b3d6-3966ecee89f3",
   "metadata": {},
   "outputs": [
    {
     "name": "stdout",
     "output_type": "stream",
     "text": [
      "+--------+\n",
      "|    name|\n",
      "+--------+\n",
      "|  슈퍼맨|\n",
      "|  배트맨|\n",
      "|아이언맨|\n",
      "+--------+\n",
      "\n"
     ]
    }
   ],
   "source": [
    "# 영화 이름이 ~맨으로 끝나는 영화 출력\n",
    "spark.sql(\"select name from movies where name like '%맨'\").show()"
   ]
  },
  {
   "cell_type": "code",
   "execution_count": 43,
   "id": "0193406a-50c8-4278-9c4a-84b855173204",
   "metadata": {},
   "outputs": [
    {
     "name": "stdout",
     "output_type": "stream",
     "text": [
      "+--------+\n",
      "|    name|\n",
      "+--------+\n",
      "|어벤져스|\n",
      "|  슈퍼맨|\n",
      "|  배트맨|\n",
      "|아이언맨|\n",
      "+--------+\n",
      "\n"
     ]
    }
   ],
   "source": [
    "#회사가 마블, DC인 영화\n",
    "# where company = '마블'\n",
    "#     OR company = 'DC'\n",
    "\n",
    "spark.sql(\n",
    "    '''\n",
    "    select name \n",
    "    from movies \n",
    "    where company in ('마블', 'DC')\n",
    "    '''\n",
    ").show()"
   ]
  },
  {
   "cell_type": "code",
   "execution_count": 46,
   "id": "ddcf2bc6-89da-4d8f-981c-6dac6da2422f",
   "metadata": {},
   "outputs": [
    {
     "name": "stdout",
     "output_type": "stream",
     "text": [
      "+---+--------+-------+----+-----+---+\n",
      "| id|    name|company|year|month|day|\n",
      "+---+--------+-------+----+-----+---+\n",
      "|  1|어벤져스|   마블|2012|    4| 26|\n",
      "|  5|아이언맨|   마블|2008|    4| 30|\n",
      "+---+--------+-------+----+-----+---+\n",
      "\n"
     ]
    }
   ],
   "source": [
    "#회사가 '마'로 시작하거나 '나'로 끝나는 영화\n",
    "spark.sql(\n",
    "    '''\n",
    "    select *\n",
    "    from movies \n",
    "    where company like '마%'\n",
    "        or  company like '%나'\n",
    "    '''\n",
    ").show()"
   ]
  },
  {
   "cell_type": "code",
   "execution_count": 48,
   "id": "da057c5b-4cad-4819-9cfe-341c0bd12c5f",
   "metadata": {},
   "outputs": [
    {
     "name": "stdout",
     "output_type": "stream",
     "text": [
      "+---+--------+-------+----+-----+---+\n",
      "| id|    name|company|year|month|day|\n",
      "+---+--------+-------+----+-----+---+\n",
      "|  1|어벤져스|   마블|2012|    4| 26|\n",
      "+---+--------+-------+----+-----+---+\n",
      "\n"
     ]
    }
   ],
   "source": [
    "#회사가 '마'로 시작하거나 '나'로 끝나는 영화 중 2010년 이후로 개봉한 영화\n",
    "spark.sql(\n",
    "    '''\n",
    "    select *\n",
    "    from movies \n",
    "    where (company like '마%'\n",
    "        or  company like '%나')\n",
    "        and year >= '2010'\n",
    "    '''\n",
    ").show()"
   ]
  },
  {
   "cell_type": "code",
   "execution_count": 50,
   "id": "cb9bcdce-e0df-4816-bc4b-9b2572a7f3f0",
   "metadata": {},
   "outputs": [
    {
     "name": "stdout",
     "output_type": "stream",
     "text": [
      "+---+--------+-------+----+-----+---+\n",
      "| id|    name|company|year|month|day|\n",
      "+---+--------+-------+----+-----+---+\n",
      "|  3|  배트맨|     DC|2008|    8|  6|\n",
      "|  5|아이언맨|   마블|2008|    4| 30|\n",
      "|  1|어벤져스|   마블|2012|    4| 26|\n",
      "|  2|  슈퍼맨|     DC|2013|    6| 13|\n",
      "|  4|겨울왕국| 디즈니|2014|    1| 16|\n",
      "+---+--------+-------+----+-----+---+\n",
      "\n"
     ]
    }
   ],
   "source": [
    "#개봉 연도 오름차순 \n",
    "spark.sql(\n",
    "    '''\n",
    "    select *\n",
    "    from movies \n",
    "    order by year\n",
    "    '''\n",
    ").show()"
   ]
  },
  {
   "cell_type": "code",
   "execution_count": null,
   "id": "ebaa0f47-5a4b-4069-9211-f0772bf72cc1",
   "metadata": {},
   "outputs": [],
   "source": []
  },
  {
   "cell_type": "code",
   "execution_count": 51,
   "id": "2a166be2-ef1c-41fc-9414-ca17c2cb00f7",
   "metadata": {},
   "outputs": [],
   "source": [
    "attendances = [\n",
    "    (1, 13934592., \"KR\"),\n",
    "    (2, 2182227.,\"KR\"),\n",
    "    (3, 4226242., \"KR\"),\n",
    "    (4, 10303058., \"KR\"),\n",
    "    (5, 4300365., \"KR\")\n",
    "]"
   ]
  },
  {
   "cell_type": "code",
   "execution_count": 56,
   "id": "d16244bd-16c6-4027-91cc-7d88781410a5",
   "metadata": {},
   "outputs": [],
   "source": [
    "from pyspark.sql.types import StringType, IntegerType, FloatType, StructType, StructField\n",
    "\n",
    "att_schema = StructType([ \n",
    "    StructField(\"id\", IntegerType(), True), \n",
    "    StructField(\"att\", FloatType(), True),\n",
    "    StructField(\"theater_country\", StringType(), True)\n",
    "])"
   ]
  },
  {
   "cell_type": "code",
   "execution_count": 57,
   "id": "b6e244d1-2851-4213-9b78-633a36244e36",
   "metadata": {},
   "outputs": [
    {
     "data": {
      "text/plain": [
       "[('id', 'int'), ('att', 'float'), ('theater_country', 'string')]"
      ]
     },
     "execution_count": 57,
     "metadata": {},
     "output_type": "execute_result"
    }
   ],
   "source": [
    "att_df = spark.createDataFrame( data=attendances, schema = att_schema )\n",
    "att_df.dtypes"
   ]
  },
  {
   "cell_type": "code",
   "execution_count": 59,
   "id": "fe421cd6-6611-47c5-a81f-6b6957232980",
   "metadata": {},
   "outputs": [],
   "source": [
    "att_df.createOrReplaceTempView('att')"
   ]
  },
  {
   "cell_type": "code",
   "execution_count": 60,
   "id": "41254b7f-20c6-426f-898f-0558f4210d31",
   "metadata": {},
   "outputs": [
    {
     "name": "stdout",
     "output_type": "stream",
     "text": [
      "+---+-----------+---------------+\n",
      "| id|        att|theater_country|\n",
      "+---+-----------+---------------+\n",
      "|  1|1.3934592E7|             KR|\n",
      "|  2|  2182227.0|             KR|\n",
      "|  3|  4226242.0|             KR|\n",
      "|  4|1.0303058E7|             KR|\n",
      "|  5|  4300365.0|             KR|\n",
      "+---+-----------+---------------+\n",
      "\n"
     ]
    }
   ],
   "source": [
    "att_df.select('*').show()"
   ]
  },
  {
   "cell_type": "code",
   "execution_count": 66,
   "id": "5737208b-ce70-46e3-b41f-380030e4cdcf",
   "metadata": {},
   "outputs": [],
   "source": [
    "movies_views = spark.sql(\n",
    "    '''\n",
    "    select movies.id, name, company, theater_country\n",
    "    from movies join att on movies.id = att.id\n",
    "    '''   \n",
    ")"
   ]
  },
  {
   "cell_type": "code",
   "execution_count": 67,
   "id": "925de027-e1e5-4362-873c-23575d4c7a2b",
   "metadata": {},
   "outputs": [],
   "source": [
    "movies_views.createOrReplaceTempView('movies_view')"
   ]
  },
  {
   "cell_type": "code",
   "execution_count": 69,
   "id": "587b80bd-a9db-45df-917d-dbbd5d11da74",
   "metadata": {},
   "outputs": [
    {
     "name": "stderr",
     "output_type": "stream",
     "text": [
      "                                                                                "
     ]
    },
    {
     "name": "stdout",
     "output_type": "stream",
     "text": [
      "+---+--------+-------+---------------+\n",
      "| id|    name|company|theater_country|\n",
      "+---+--------+-------+---------------+\n",
      "|  5|아이언맨|   마블|             KR|\n",
      "|  1|어벤져스|   마블|             KR|\n",
      "|  3|  배트맨|     DC|             KR|\n",
      "|  2|  슈퍼맨|     DC|             KR|\n",
      "|  4|겨울왕국| 디즈니|             KR|\n",
      "+---+--------+-------+---------------+\n",
      "\n"
     ]
    }
   ],
   "source": [
    "spark.sql(\n",
    "    '''\n",
    "    select *\n",
    "    from movies_view\n",
    "    '''\n",
    ").show()"
   ]
  },
  {
   "cell_type": "code",
   "execution_count": null,
   "id": "693c0b8d-07be-4ecd-ac8e-3467371630c8",
   "metadata": {},
   "outputs": [],
   "source": []
  },
  {
   "cell_type": "code",
   "execution_count": null,
   "id": "433cb92c-a590-4956-8016-3625856564c6",
   "metadata": {},
   "outputs": [],
   "source": []
  },
  {
   "cell_type": "code",
   "execution_count": null,
   "id": "a465ef8e-002c-49a2-98c7-7ddeba9f80d2",
   "metadata": {},
   "outputs": [],
   "source": []
  },
  {
   "cell_type": "code",
   "execution_count": null,
   "id": "6d71828a-b44f-4c37-a26c-08f764ca1083",
   "metadata": {},
   "outputs": [],
   "source": []
  },
  {
   "cell_type": "code",
   "execution_count": null,
   "id": "ab4edcbf-dd2c-4bf7-a2ea-d00296260a1c",
   "metadata": {},
   "outputs": [],
   "source": []
  },
  {
   "cell_type": "code",
   "execution_count": null,
   "id": "db7ce85e-d371-445c-aba0-a0ce5c03e85e",
   "metadata": {},
   "outputs": [],
   "source": []
  },
  {
   "cell_type": "code",
   "execution_count": 70,
   "id": "480d8464-f32a-4679-a208-561ef42ef62f",
   "metadata": {},
   "outputs": [],
   "source": [
    "sc.stop()"
   ]
  },
  {
   "cell_type": "code",
   "execution_count": null,
   "id": "e376e71c-e721-4618-8bc3-8e0f94a20add",
   "metadata": {},
   "outputs": [],
   "source": []
  }
 ],
 "metadata": {
  "kernelspec": {
   "display_name": "Python (spark_start)",
   "language": "python",
   "name": "spark_start"
  },
  "language_info": {
   "codemirror_mode": {
    "name": "ipython",
    "version": 3
   },
   "file_extension": ".py",
   "mimetype": "text/x-python",
   "name": "python",
   "nbconvert_exporter": "python",
   "pygments_lexer": "ipython3",
   "version": "3.8.20"
  }
 },
 "nbformat": 4,
 "nbformat_minor": 5
}
