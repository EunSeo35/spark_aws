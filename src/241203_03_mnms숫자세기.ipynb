{
 "cells": [
  {
   "cell_type": "markdown",
   "id": "eba9e93a",
   "metadata": {},
   "source": [
    "\n",
    "\n",
    "\n"
   ]
  },
  {
   "cell_type": "code",
   "execution_count": 1,
   "id": "cbcc4814",
   "metadata": {},
   "outputs": [
    {
     "name": "stderr",
     "output_type": "stream",
     "text": [
      "24/12/06 11:21:48 WARN NativeCodeLoader: Unable to load native-hadoop library for your platform... using builtin-java classes where applicable\n",
      "Using Spark's default log4j profile: org/apache/spark/log4j-defaults.properties\n",
      "Setting default log level to \"WARN\".\n",
      "To adjust logging level use sc.setLogLevel(newLevel). For SparkR, use setLogLevel(newLevel).\n"
     ]
    }
   ],
   "source": [
    "from pyspark import SparkConf , SparkContext\n",
    "\n",
    "conf = SparkConf().setMaster(\"local\").setAppName(\"mnm-rdd-counts\")\n",
    "spark = SparkContext(conf=conf)"
   ]
  },
  {
   "cell_type": "code",
   "execution_count": 2,
   "id": "3d699ab3",
   "metadata": {},
   "outputs": [],
   "source": [
    "import os \n",
    "directory = os.path.join(os.getcwd(),\"data\")\n",
    "filename = \"mnm_dataset.csv\"\n",
    "filepath = os.path.join(directory, filename)"
   ]
  },
  {
   "cell_type": "code",
   "execution_count": 3,
   "id": "1d6bad69",
   "metadata": {},
   "outputs": [
    {
     "data": {
      "text/plain": [
       "file:////home/lab09/src/data/mnm_dataset.csv MapPartitionsRDD[1] at textFile at NativeMethodAccessorImpl.java:0"
      ]
     },
     "execution_count": 3,
     "metadata": {},
     "output_type": "execute_result"
    }
   ],
   "source": [
    "#RDD 생성\n",
    "lines = spark.textFile(\"file:///\"+filepath.replace(\"ww\", \"/\"))\n",
    "lines "
   ]
  },
  {
   "cell_type": "code",
   "execution_count": 4,
   "id": "c7537fe0",
   "metadata": {},
   "outputs": [
    {
     "name": "stderr",
     "output_type": "stream",
     "text": [
      "                                                                                "
     ]
    },
    {
     "data": {
      "text/plain": [
       "['State,Color,Count', 'TX,Red,20', 'NV,Blue,66', 'CO,Blue,79', 'OR,Blue,71']"
      ]
     },
     "execution_count": 4,
     "metadata": {},
     "output_type": "execute_result"
    }
   ],
   "source": [
    "lines.take(5)"
   ]
  },
  {
   "cell_type": "code",
   "execution_count": 5,
   "id": "8df23feb",
   "metadata": {},
   "outputs": [],
   "source": [
    "header = lines.first()\n",
    "datas = lines.filter(lambda row : row != header)"
   ]
  },
  {
   "cell_type": "code",
   "execution_count": 6,
   "id": "23ff3165",
   "metadata": {},
   "outputs": [
    {
     "data": {
      "text/plain": [
       "['TX,Red,20',\n",
       " 'NV,Blue,66',\n",
       " 'CO,Blue,79',\n",
       " 'OR,Blue,71',\n",
       " 'WA,Yellow,93',\n",
       " 'WY,Blue,16',\n",
       " 'CA,Yellow,53',\n",
       " 'WA,Green,60',\n",
       " 'OR,Green,71',\n",
       " 'TX,Green,68']"
      ]
     },
     "execution_count": 6,
     "metadata": {},
     "output_type": "execute_result"
    }
   ],
   "source": [
    "datas.take(10)"
   ]
  },
  {
   "cell_type": "code",
   "execution_count": 7,
   "id": "ef068032",
   "metadata": {},
   "outputs": [],
   "source": [
    "# 1. 데이터 RDD 생성 map()\n",
    "def parse(row):\n",
    "    fields = row.split(\",\")\n",
    "    state = fields[0]\n",
    "    color = fields[1]\n",
    "    count = int(fields[2])\n",
    "    \n",
    "    return color, count"
   ]
  },
  {
   "cell_type": "code",
   "execution_count": 8,
   "id": "e4a857e1",
   "metadata": {},
   "outputs": [
    {
     "data": {
      "text/plain": [
       "[('Red', 20),\n",
       " ('Blue', 66),\n",
       " ('Blue', 79),\n",
       " ('Blue', 71),\n",
       " ('Yellow', 93),\n",
       " ('Blue', 16),\n",
       " ('Yellow', 53),\n",
       " ('Green', 60),\n",
       " ('Green', 71),\n",
       " ('Green', 68)]"
      ]
     },
     "execution_count": 8,
     "metadata": {},
     "output_type": "execute_result"
    }
   ],
   "source": [
    "color_counts = datas.map(parse)\n",
    "color_counts.take(10)"
   ]
  },
  {
   "cell_type": "code",
   "execution_count": 9,
   "id": "576f5b5c",
   "metadata": {},
   "outputs": [
    {
     "data": {
      "text/plain": [
       "[('Red', (20, 1)),\n",
       " ('Blue', (66, 1)),\n",
       " ('Blue', (79, 1)),\n",
       " ('Blue', (71, 1)),\n",
       " ('Yellow', (93, 1)),\n",
       " ('Blue', (16, 1)),\n",
       " ('Yellow', (53, 1)),\n",
       " ('Green', (60, 1)),\n",
       " ('Green', (71, 1)),\n",
       " ('Green', (68, 1))]"
      ]
     },
     "execution_count": 9,
     "metadata": {},
     "output_type": "execute_result"
    }
   ],
   "source": [
    "color_counts = color_counts.mapValues(lambda x : (x, 1))\n",
    "color_counts.take(10)"
   ]
  },
  {
   "cell_type": "code",
   "execution_count": 10,
   "id": "761efd5c",
   "metadata": {},
   "outputs": [
    {
     "name": "stderr",
     "output_type": "stream",
     "text": [
      "                                                                                "
     ]
    },
    {
     "data": {
      "text/plain": [
       "[('Red', (916864, 16619)),\n",
       " ('Blue', (902516, 16449)),\n",
       " ('Yellow', (923009, 16796)),\n",
       " ('Green', (926150, 16928)),\n",
       " ('Brown', (915703, 16510)),\n",
       " ('Orange', (915793, 16697))]"
      ]
     },
     "execution_count": 10,
     "metadata": {},
     "output_type": "execute_result"
    }
   ],
   "source": [
    "# 2. collect()\n",
    "result = color_counts.reduceByKey(lambda x, y: (x[0] + y[0], x[1] + y[1]))\n",
    "result = result.collect()\n",
    "result"
   ]
  },
  {
   "cell_type": "code",
   "execution_count": 11,
   "id": "dc874a66",
   "metadata": {},
   "outputs": [
    {
     "data": {
      "text/plain": [
       "('Blue', (902516, 16449))"
      ]
     },
     "execution_count": 11,
     "metadata": {},
     "output_type": "execute_result"
    }
   ],
   "source": [
    "# 3. blue mnms만 꺼내기\n",
    "result[1]"
   ]
  },
  {
   "cell_type": "code",
   "execution_count": 12,
   "id": "7fc2b0ab",
   "metadata": {},
   "outputs": [
    {
     "data": {
      "text/plain": [
       "5500035"
      ]
     },
     "execution_count": 12,
     "metadata": {},
     "output_type": "execute_result"
    }
   ],
   "source": [
    "# 4. 전체 합계 구하기\n",
    "total_counts = sum(row[1][0] for row in result)\n",
    "total_counts "
   ]
  },
  {
   "cell_type": "code",
   "execution_count": 13,
   "id": "8e08d959",
   "metadata": {},
   "outputs": [],
   "source": [
    "# 5. 도시별 합계 구하기\n",
    "\n",
    "def CityParse(row):\n",
    "    fields = row.split(\",\")\n",
    "    state = fields[0]\n",
    "    count = int(fields[2])\n",
    "    return state, count"
   ]
  },
  {
   "cell_type": "code",
   "execution_count": 14,
   "id": "9cd44311",
   "metadata": {},
   "outputs": [
    {
     "data": {
      "text/plain": [
       "[('TX', (20, 1)),\n",
       " ('NV', (66, 1)),\n",
       " ('CO', (79, 1)),\n",
       " ('OR', (71, 1)),\n",
       " ('WA', (93, 1)),\n",
       " ('WY', (16, 1)),\n",
       " ('CA', (53, 1)),\n",
       " ('WA', (60, 1)),\n",
       " ('OR', (71, 1)),\n",
       " ('TX', (68, 1))]"
      ]
     },
     "execution_count": 14,
     "metadata": {},
     "output_type": "execute_result"
    }
   ],
   "source": [
    "city_counts = datas.map(CityParse)\n",
    "city_counts=city_counts.mapValues(lambda x : (x,1))\n",
    "city_counts.take(10)"
   ]
  },
  {
   "cell_type": "code",
   "execution_count": 94,
   "id": "e4b226fe",
   "metadata": {},
   "outputs": [
    {
     "data": {
      "text/plain": [
       "[('TX', (556493, 10072)),\n",
       " ('NV', (548477, 10025)),\n",
       " ('CO', (556302, 10051)),\n",
       " ('OR', (542169, 9903)),\n",
       " ('WA', (557227, 10065)),\n",
       " ('WY', (538975, 9782)),\n",
       " ('CA', (561184, 10164)),\n",
       " ('AZ', (546812, 10001)),\n",
       " ('NM', (553454, 10050)),\n",
       " ('UT', (538942, 9886))]"
      ]
     },
     "execution_count": 94,
     "metadata": {},
     "output_type": "execute_result"
    }
   ],
   "source": [
    "city_counts = city_counts.reduceByKey(lambda x,y : (x[0]+y[0], x[1]+y[1]))\n",
    "city_counts.collect()"
   ]
  },
  {
   "cell_type": "code",
   "execution_count": 15,
   "id": "e8294cf2",
   "metadata": {},
   "outputs": [],
   "source": [
    "spark.stop()"
   ]
  },
  {
   "cell_type": "code",
   "execution_count": null,
   "id": "378ce8a7",
   "metadata": {},
   "outputs": [],
   "source": []
  }
 ],
 "metadata": {
  "kernelspec": {
   "display_name": "Python (spark_start)",
   "language": "python",
   "name": "spark_start"
  },
  "language_info": {
   "codemirror_mode": {
    "name": "ipython",
    "version": 3
   },
   "file_extension": ".py",
   "mimetype": "text/x-python",
   "name": "python",
   "nbconvert_exporter": "python",
   "pygments_lexer": "ipython3",
   "version": "3.8.20"
  }
 },
 "nbformat": 4,
 "nbformat_minor": 5
}
