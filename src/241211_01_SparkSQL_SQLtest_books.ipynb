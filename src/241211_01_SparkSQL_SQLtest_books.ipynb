{
 "cells": [
  {
   "cell_type": "code",
   "execution_count": 1,
   "id": "e13f5501-6153-48dc-b1f8-e7f9714f25b1",
   "metadata": {},
   "outputs": [
    {
     "name": "stderr",
     "output_type": "stream",
     "text": [
      "24/12/11 10:29:45 WARN NativeCodeLoader: Unable to load native-hadoop library for your platform... using builtin-java classes where applicable\n",
      "Using Spark's default log4j profile: org/apache/spark/log4j-defaults.properties\n",
      "Setting default log level to \"WARN\".\n",
      "To adjust logging level use sc.setLogLevel(newLevel). For SparkR, use setLogLevel(newLevel).\n"
     ]
    }
   ],
   "source": [
    "from pyspark.sql import SparkSession\n",
    "\n",
    "# SparkSession 생성\n",
    "spark = SparkSession.builder \\\n",
    "    .appName(\"241211_01_SparkSQL_SQLtest\") \\\n",
    "    .getOrCreate()\n"
   ]
  },
  {
   "cell_type": "code",
   "execution_count": 6,
   "id": "f0867c04-58ca-4280-86ac-51731fee879d",
   "metadata": {},
   "outputs": [],
   "source": [
    "from pyspark.sql import Row\n",
    "\n",
    "\n",
    "user_data = [\n",
    "    Row(user_id=1, username='A', address='서울'),\n",
    "    Row(user_id=2, username='B', address='대전'),\n",
    "    Row(user_id=3, username='C', address='경기도'),\n",
    "    Row(user_id=4, username='D', address=None),\n",
    "    Row(user_id=5, username='E', address=None),\n",
    "    Row(user_id=6, username='F', address='서울'),\n",
    "    Row(user_id=7, username='G', address='경기도'),\n",
    "    Row(user_id=8, username='H', address='대구'),\n",
    "    Row(user_id=9, username='I', address='부산'),\n",
    "    Row(user_id=10, username='J', address='전주'),\n",
    "    Row(user_id=11, username='K', address='광주')\n",
    "]\n",
    "\n",
    "\n",
    "books_data = [\n",
    "    Row(book_id=1, title=\"Book A\", author_fname=\"John\", author_lname=\"Doe\", pages=300, released_year=2005, stock_quantity=55),\n",
    "    Row(book_id=2, title=\"Book B\", author_fname=\"Jane\", author_lname=\"Smith\", pages=250, released_year=2010, stock_quantity=40),\n",
    "    Row(book_id=3, title=\"Book C\", author_fname=\"Emily\", author_lname=\"Jones\", pages=180, released_year=2015, stock_quantity=20),\n",
    "    Row(book_id=4, title=\"Book D\", author_fname=\"Chris\", author_lname=\"Brown\", pages=320, released_year=2012, stock_quantity=75),\n",
    "    Row(book_id=5, title=\"Book E\", author_fname=\"Anna\", author_lname=\"Davis\", pages=270, released_year=2008, stock_quantity=35)\n",
    "]\n"
   ]
  },
  {
   "cell_type": "code",
   "execution_count": 10,
   "id": "251a0770-7d6b-4635-834f-6476e1cd4eff",
   "metadata": {},
   "outputs": [],
   "source": [
    "#Dataframe 생성 및 sql 테이블 생성 \n",
    "\n",
    "user_df = spark.createDataFrame(user_data)\n",
    "user_df.createOrReplaceTempView('users')\n",
    "\n",
    "book_df = spark.createDataFrame(books_data)\n",
    "book_df.createOrReplaceTempView('books')"
   ]
  },
  {
   "cell_type": "code",
   "execution_count": 11,
   "id": "083551a2-ae03-4505-a79c-56170e8b686d",
   "metadata": {},
   "outputs": [
    {
     "name": "stderr",
     "output_type": "stream",
     "text": [
      "[Stage 0:>                                                          (0 + 1) / 1]"
     ]
    },
    {
     "name": "stdout",
     "output_type": "stream",
     "text": [
      "+-------+--------+-------+\n",
      "|user_id|username|address|\n",
      "+-------+--------+-------+\n",
      "|      1|       A|   서울|\n",
      "|      2|       B|   대전|\n",
      "|      3|       C| 경기도|\n",
      "|      4|       D|   null|\n",
      "|      5|       E|   null|\n",
      "|      6|       F|   서울|\n",
      "|      7|       G| 경기도|\n",
      "|      8|       H|   대구|\n",
      "|      9|       I|   부산|\n",
      "|     10|       J|   전주|\n",
      "|     11|       K|   광주|\n",
      "+-------+--------+-------+\n",
      "\n"
     ]
    },
    {
     "name": "stderr",
     "output_type": "stream",
     "text": [
      "                                                                                "
     ]
    }
   ],
   "source": [
    "spark.sql(\n",
    "    '''\n",
    "    select * from users;\n",
    "    '''\n",
    ").show()"
   ]
  },
  {
   "cell_type": "code",
   "execution_count": 13,
   "id": "64810f87-43ef-4fe2-abd9-623a3b94509b",
   "metadata": {},
   "outputs": [
    {
     "name": "stdout",
     "output_type": "stream",
     "text": [
      "+--------+--------+\n",
      "|username| address|\n",
      "+--------+--------+\n",
      "|       A|    서울|\n",
      "|       B|    대전|\n",
      "|       C|  경기도|\n",
      "|       D|주소없음|\n",
      "|       E|주소없음|\n",
      "|       F|    서울|\n",
      "|       G|  경기도|\n",
      "|       H|    대구|\n",
      "|       I|    부산|\n",
      "|       J|    전주|\n",
      "|       K|    광주|\n",
      "+--------+--------+\n",
      "\n"
     ]
    }
   ],
   "source": [
    "spark.sql(\n",
    "    '''\n",
    "    select username,\n",
    "        IF(address IS NULL, '주소없음', address) AS address\n",
    "    From users;\n",
    "    '''\n",
    ").show()"
   ]
  },
  {
   "cell_type": "code",
   "execution_count": 15,
   "id": "25248463-144f-47b8-b65f-c1907f504a70",
   "metadata": {},
   "outputs": [
    {
     "name": "stdout",
     "output_type": "stream",
     "text": [
      "+-------+------+------------+------------+-----+-------------+--------------+\n",
      "|book_id| title|author_fname|author_lname|pages|released_year|stock_quantity|\n",
      "+-------+------+------------+------------+-----+-------------+--------------+\n",
      "|      1|Book A|        John|         Doe|  300|         2005|            55|\n",
      "|      2|Book B|        Jane|       Smith|  250|         2010|            40|\n",
      "|      3|Book C|       Emily|       Jones|  180|         2015|            20|\n",
      "|      4|Book D|       Chris|       Brown|  320|         2012|            75|\n",
      "|      5|Book E|        Anna|       Davis|  270|         2008|            35|\n",
      "+-------+------+------------+------------+-----+-------------+--------------+\n",
      "\n"
     ]
    }
   ],
   "source": [
    "spark.sql(\n",
    "    '''\n",
    "    select *\n",
    "    from books\n",
    "    '''\n",
    ").show()"
   ]
  },
  {
   "cell_type": "code",
   "execution_count": 26,
   "id": "8708879d-4a2a-45a4-a940-b3eff8a35372",
   "metadata": {},
   "outputs": [
    {
     "name": "stdout",
     "output_type": "stream",
     "text": [
      "+--------------+--------------+\n",
      "|stock_quantity|quantity_level|\n",
      "+--------------+--------------+\n",
      "|            55|     재고 많음|\n",
      "|            40|     재고 중간|\n",
      "|            20|     재고 없음|\n",
      "|            75|     재고 많음|\n",
      "|            35|     재고 중간|\n",
      "+--------------+--------------+\n",
      "\n"
     ]
    }
   ],
   "source": [
    "books_1= spark.sql(\n",
    "    '''\n",
    "        SELECT stock_quantity, \n",
    "    \t   IF(stock_quantity >= 50, '재고 많음',\n",
    "    \t   IF(stock_quantity >= 30, '재고 중간', '재고 없음')) AS quantity_level\n",
    "        FROM books;\n",
    "    '''\n",
    ")\n",
    "books_1.show()"
   ]
  },
  {
   "cell_type": "code",
   "execution_count": 27,
   "id": "2587b21d-306d-4572-9b8a-da3678a2d506",
   "metadata": {},
   "outputs": [
    {
     "name": "stdout",
     "output_type": "stream",
     "text": [
      "+--------------+--------------+\n",
      "|stock_quantity|quantity_level|\n",
      "+--------------+--------------+\n",
      "|            55|     재고 많음|\n",
      "|            40|     재고 중간|\n",
      "|            20|     재고 부족|\n",
      "|            75|     재고 많음|\n",
      "|            35|     재고 중간|\n",
      "+--------------+--------------+\n",
      "\n"
     ]
    }
   ],
   "source": [
    "books_2 = spark.sql(\n",
    "    '''\n",
    "        SELECT stock_quantity, \n",
    "            CASE\n",
    "                WHEN stock_quantity >= 50 THEN '재고 많음'\n",
    "                WHEN stock_quantity >= 30 THEN '재고 중간'\n",
    "                ELSE '재고 부족'\n",
    "            END AS quantity_level\n",
    "        FROM books;\n",
    "    '''\n",
    ")\n",
    "books_2.show()"
   ]
  },
  {
   "cell_type": "code",
   "execution_count": 29,
   "id": "b35e45d5-b3f4-4e9c-870d-113b2b7b539f",
   "metadata": {},
   "outputs": [
    {
     "name": "stdout",
     "output_type": "stream",
     "text": [
      "== Physical Plan ==\n",
      "*(1) Project [stock_quantity#53L, if ((stock_quantity#53L >= 50)) 재고 많음 else if ((stock_quantity#53L >= 30)) 재고 중간 else 재고 없음 AS quantity_level#223]\n",
      "+- *(1) Scan ExistingRDD[book_id#47L,title#48,author_fname#49,author_lname#50,pages#51L,released_year#52L,stock_quantity#53L]\n",
      "\n",
      "\n"
     ]
    }
   ],
   "source": [
    "#실행결과 비교\n",
    "books_1.explain()"
   ]
  },
  {
   "cell_type": "code",
   "execution_count": 30,
   "id": "66c80cba-3881-438b-a7e4-606b56fc8545",
   "metadata": {},
   "outputs": [
    {
     "name": "stdout",
     "output_type": "stream",
     "text": [
      "== Physical Plan ==\n",
      "*(1) Project [stock_quantity#53L, CASE WHEN (stock_quantity#53L >= 50) THEN 재고 많음 WHEN (stock_quantity#53L >= 30) THEN 재고 중간 ELSE 재고 부족 END AS quantity_level#235]\n",
      "+- *(1) Scan ExistingRDD[book_id#47L,title#48,author_fname#49,author_lname#50,pages#51L,released_year#52L,stock_quantity#53L]\n",
      "\n",
      "\n"
     ]
    }
   ],
   "source": [
    "books_2.explain()"
   ]
  },
  {
   "cell_type": "code",
   "execution_count": 34,
   "id": "14890101-a890-4e95-8a2e-d39073649422",
   "metadata": {},
   "outputs": [
    {
     "name": "stderr",
     "output_type": "stream",
     "text": [
      "                                                                                "
     ]
    },
    {
     "name": "stdout",
     "output_type": "stream",
     "text": [
      "+------------+--------+\n",
      "|author_lname|count(1)|\n",
      "+------------+--------+\n",
      "|       Jones|       1|\n",
      "|       Davis|       1|\n",
      "|       Smith|       1|\n",
      "|         Doe|       1|\n",
      "|       Brown|       1|\n",
      "+------------+--------+\n",
      "\n"
     ]
    }
   ],
   "source": [
    "spark.sql( \n",
    "    '''\n",
    "    select author_lname, count(*)\n",
    "    from books\n",
    "    group by author_lname;\n",
    "'''\n",
    "\n",
    ").show()"
   ]
  },
  {
   "cell_type": "code",
   "execution_count": 38,
   "id": "01fc61b5-b4c0-4357-b75a-0ea22e074721",
   "metadata": {},
   "outputs": [],
   "source": [
    "# books 테이블 데이터에 borrowed_by 추가\n",
    "books_data_with_user = [\n",
    "    Row(book_id=1, title=\"Book A\", author_fname=\"John\", author_lname=\"Doe\", pages=300, released_year=2005, stock_quantity=55, borrowed_by=1),\n",
    "    Row(book_id=2, title=\"Book B\", author_fname=\"Jane\", author_lname=\"Smith\", pages=250, released_year=2010, stock_quantity=40, borrowed_by=2),\n",
    "    Row(book_id=3, title=\"Book C\", author_fname=\"Emily\", author_lname=\"Jones\", pages=180, released_year=2015, stock_quantity=20, borrowed_by=3),\n",
    "    Row(book_id=4, title=\"Book D\", author_fname=\"Chris\", author_lname=\"Brown\", pages=320, released_year=2012, stock_quantity=75, borrowed_by=None),\n",
    "    Row(book_id=5, title=\"Book E\", author_fname=\"Anna\", author_lname=\"Davis\", pages=270, released_year=2008, stock_quantity=35, borrowed_by=6)\n",
    "]\n",
    "\n",
    "\n",
    "books_df_with_user = spark.createDataFrame(books_data_with_user)\n",
    "books_df_with_user.createOrReplaceTempView(\"books\")"
   ]
  },
  {
   "cell_type": "code",
   "execution_count": 44,
   "id": "12ee8215-b2bb-485d-b6e9-9c5ebdb2286f",
   "metadata": {},
   "outputs": [],
   "source": [
    "from pyspark.sql.functions import when, lit\n",
    "\n",
    "# borrowed_by 컬럼 추가 및 데이터 입력\n",
    "updated_books_df = book_df.withColumn(\n",
    "    \"borrowed_by\",\n",
    "    when(book_df.book_id == 1, 1)\n",
    "    .when(book_df.book_id == 2, 2)\n",
    "    .when(book_df.book_id == 3, 3)\n",
    "    .when(book_df.book_id == 4, lit(None))\n",
    "    .when(book_df.book_id == 5, 6)\n",
    "    .otherwise(None)\n",
    ")\n"
   ]
  },
  {
   "cell_type": "code",
   "execution_count": 46,
   "id": "0ae07ffa-fcc8-413b-98d0-5caaf7d18c47",
   "metadata": {},
   "outputs": [
    {
     "name": "stdout",
     "output_type": "stream",
     "text": [
      "+-------+------+------------+------------+-----+-------------+--------------+-----------+\n",
      "|book_id| title|author_fname|author_lname|pages|released_year|stock_quantity|borrowed_by|\n",
      "+-------+------+------------+------------+-----+-------------+--------------+-----------+\n",
      "|      1|Book A|        John|         Doe|  300|         2005|            55|          1|\n",
      "|      2|Book B|        Jane|       Smith|  250|         2010|            40|          2|\n",
      "|      3|Book C|       Emily|       Jones|  180|         2015|            20|          3|\n",
      "|      4|Book D|       Chris|       Brown|  320|         2012|            75|       null|\n",
      "|      5|Book E|        Anna|       Davis|  270|         2008|            35|          6|\n",
      "+-------+------+------------+------------+-----+-------------+--------------+-----------+\n",
      "\n"
     ]
    }
   ],
   "source": [
    "books_sql = spark.sql(\n",
    "    '''\n",
    "    select * \n",
    "    from books\n",
    "    '''\n",
    ")\n",
    "\n",
    "books_sql.show()"
   ]
  },
  {
   "cell_type": "code",
   "execution_count": 49,
   "id": "faeac3a5-58a3-4a01-9944-1efdfb4f6b9e",
   "metadata": {},
   "outputs": [
    {
     "name": "stdout",
     "output_type": "stream",
     "text": [
      "+-------+------+------------+------------+-----+-------------+--------------+-----------+\n",
      "|book_id| title|author_fname|author_lname|pages|released_year|stock_quantity|borrowed_by|\n",
      "+-------+------+------------+------------+-----+-------------+--------------+-----------+\n",
      "|      1|Book A|        John|         Doe|  300|         2005|            55|          1|\n",
      "|      2|Book B|        Jane|       Smith|  250|         2010|            40|          2|\n",
      "|      3|Book C|       Emily|       Jones|  180|         2015|            50|          3|\n",
      "|      4|Book D|       Chris|       Brown|  320|         2012|            75|       null|\n",
      "|      5|Book E|        Anna|       Davis|  270|         2008|            35|          6|\n",
      "+-------+------+------------+------------+-----+-------------+--------------+-----------+\n",
      "\n"
     ]
    }
   ],
   "source": [
    "#book_id = 3, stock_quantity = 50으로 바꾼다. \n",
    "#sql의 update set과 같음\n",
    "\n",
    "\n",
    "updated_books_df = books_df_with_user.withColumn( \n",
    "    'stock_quantity', \n",
    "    when(books_df_with_user.book_id == 3, 50).otherwise(books_df_with_user.stock_quantity)\n",
    ")\n",
    "\n",
    "updated_books_df.show()"
   ]
  },
  {
   "cell_type": "code",
   "execution_count": 50,
   "id": "905af083-e69f-431a-89fb-eb6ee7214693",
   "metadata": {},
   "outputs": [
    {
     "ename": "SyntaxError",
     "evalue": "invalid syntax (992090041.py, line 5)",
     "output_type": "error",
     "traceback": [
      "\u001b[0;36m  Cell \u001b[0;32mIn[50], line 5\u001b[0;36m\u001b[0m\n\u001b[0;31m    )\u001b[0m\n\u001b[0m    ^\u001b[0m\n\u001b[0;31mSyntaxError\u001b[0m\u001b[0;31m:\u001b[0m invalid syntax\n"
     ]
    }
   ],
   "source": [
    "#stock_quantity 10% 증가\n",
    "books_df_with_user.withColumn(\n",
    "    'stock_quantity',\n",
    "    books_df_with_user.stock_quantity = books_df_with_user.stock_quantity*10%\n",
    ")"
   ]
  },
  {
   "cell_type": "code",
   "execution_count": 51,
   "id": "e4b0d9e2-97a2-4209-b94d-8e636cdf08af",
   "metadata": {},
   "outputs": [
    {
     "name": "stdout",
     "output_type": "stream",
     "text": [
      "+-------+------+------------+------------+-----+-------------+--------------+-----------+\n",
      "|book_id| title|author_fname|author_lname|pages|released_year|stock_quantity|borrowed_by|\n",
      "+-------+------+------------+------------+-----+-------------+--------------+-----------+\n",
      "|      1|Book A|        John|         Doe|  300|         2005|            55|          1|\n",
      "|      2|Book B|        Jane|       Smith|  250|         2010|            40|          2|\n",
      "|      3|Book C|       Emily|       Jones|  180|         2015|            50|          3|\n",
      "|      4|Book D|       Chris|       Brown|  320|         2012|            75|       null|\n",
      "|      5|Book E|        Anna|       Davis|  270|         2008|            35|          6|\n",
      "+-------+------+------------+------------+-----+-------------+--------------+-----------+\n",
      "\n"
     ]
    }
   ],
   "source": [
    "#뷰로 등록\n",
    "updated_books_df.createOrReplaceTempView(\"books\")\n",
    "spark.sql(\"select * from books\").show()"
   ]
  },
  {
   "cell_type": "markdown",
   "id": "5dd0dc5e-9197-4103-9252-d7b4f702be39",
   "metadata": {},
   "source": [
    "## 데이터 저장"
   ]
  },
  {
   "cell_type": "code",
   "execution_count": 54,
   "id": "f2770168-0b20-49ab-a363-3bdcaed1bfa1",
   "metadata": {},
   "outputs": [],
   "source": [
    "#write의 저장 mode: overwrite, append, ignore, error\n",
    "\n",
    "updated_books_df.write.csv(\"data/output/sqltest_updated_books.csv\", header = True, mode = 'overwrite')"
   ]
  },
  {
   "cell_type": "code",
   "execution_count": 55,
   "id": "2f66e5a9-f29c-4b2e-8beb-503c963e89db",
   "metadata": {},
   "outputs": [],
   "source": [
    "user_df.write.csv(\"data/output/sqltest_updated_users.csv\", header = True, mode = 'overwrite')"
   ]
  },
  {
   "cell_type": "code",
   "execution_count": null,
   "id": "715e7145-bada-4250-aef6-ac475a4a93bc",
   "metadata": {},
   "outputs": [],
   "source": []
  },
  {
   "cell_type": "code",
   "execution_count": null,
   "id": "478e48e1-82cb-4901-b0c1-c0597809b642",
   "metadata": {},
   "outputs": [],
   "source": []
  }
 ],
 "metadata": {
  "kernelspec": {
   "display_name": "Python (spark_start)",
   "language": "python",
   "name": "spark_start"
  },
  "language_info": {
   "codemirror_mode": {
    "name": "ipython",
    "version": 3
   },
   "file_extension": ".py",
   "mimetype": "text/x-python",
   "name": "python",
   "nbconvert_exporter": "python",
   "pygments_lexer": "ipython3",
   "version": "3.8.20"
  }
 },
 "nbformat": 4,
 "nbformat_minor": 5
}
