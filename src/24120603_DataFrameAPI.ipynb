{
 "cells": [
  {
   "cell_type": "code",
   "execution_count": 1,
   "id": "f8528457-37dc-4f5d-a26a-f4bf3d5b46b6",
   "metadata": {},
   "outputs": [
    {
     "name": "stderr",
     "output_type": "stream",
     "text": [
      "24/12/09 10:13:08 WARN NativeCodeLoader: Unable to load native-hadoop library for your platform... using builtin-java classes where applicable\n",
      "Using Spark's default log4j profile: org/apache/spark/log4j-defaults.properties\n",
      "Setting default log level to \"WARN\".\n",
      "To adjust logging level use sc.setLogLevel(newLevel). For SparkR, use setLogLevel(newLevel).\n"
     ]
    }
   ],
   "source": [
    "from pyspark.sql import SparkSession\n",
    "spark = SparkSession.builder.appName(\"FirstSparkSessionApp\").getOrCreate() "
   ]
  },
  {
   "cell_type": "code",
   "execution_count": 2,
   "id": "fb2d87e1-2157-4f78-a74e-0fcb9c8dd5dd",
   "metadata": {},
   "outputs": [
    {
     "name": "stderr",
     "output_type": "stream",
     "text": [
      "                                                                                "
     ]
    }
   ],
   "source": [
    "df = spark.read.format('csv').load('data/2015-summary.csv', inferSchema = True, header = True)"
   ]
  },
  {
   "cell_type": "code",
   "execution_count": 3,
   "id": "c101157f-3791-460e-82be-190072abc3a6",
   "metadata": {},
   "outputs": [
    {
     "data": {
      "text/plain": [
       "StructType(List(StructField(DEST_COUNTRY_NAME,StringType,true),StructField(ORIGIN_COUNTRY_NAME,StringType,true),StructField(count,IntegerType,true)))"
      ]
     },
     "execution_count": 3,
     "metadata": {},
     "output_type": "execute_result"
    }
   ],
   "source": [
    "df.schema"
   ]
  },
  {
   "cell_type": "code",
   "execution_count": 4,
   "id": "3f0beea7-cac4-461c-a8d3-c6486c2f4870",
   "metadata": {},
   "outputs": [
    {
     "name": "stdout",
     "output_type": "stream",
     "text": [
      "root\n",
      " |-- DEST_COUNTRY_NAME: string (nullable = true)\n",
      " |-- ORIGIN_COUNTRY_NAME: string (nullable = true)\n",
      " |-- count: integer (nullable = true)\n",
      "\n"
     ]
    }
   ],
   "source": [
    "df.printSchema()"
   ]
  },
  {
   "cell_type": "code",
   "execution_count": 5,
   "id": "c5f4417a-c46e-44c2-8485-deeb6510077c",
   "metadata": {},
   "outputs": [
    {
     "name": "stdout",
     "output_type": "stream",
     "text": [
      "+--------------------+-------------------+-----+\n",
      "|   DEST_COUNTRY_NAME|ORIGIN_COUNTRY_NAME|count|\n",
      "+--------------------+-------------------+-----+\n",
      "|       United States|            Romania|   15|\n",
      "|       United States|            Croatia|    1|\n",
      "|       United States|            Ireland|  344|\n",
      "|               Egypt|      United States|   15|\n",
      "|       United States|              India|   62|\n",
      "|       United States|          Singapore|    1|\n",
      "|       United States|            Grenada|   62|\n",
      "|          Costa Rica|      United States|  588|\n",
      "|             Senegal|      United States|   40|\n",
      "|             Moldova|      United States|    1|\n",
      "|       United States|       Sint Maarten|  325|\n",
      "|       United States|   Marshall Islands|   39|\n",
      "|              Guyana|      United States|   64|\n",
      "|               Malta|      United States|    1|\n",
      "|            Anguilla|      United States|   41|\n",
      "|             Bolivia|      United States|   30|\n",
      "|       United States|           Paraguay|    6|\n",
      "|             Algeria|      United States|    4|\n",
      "|Turks and Caicos ...|      United States|  230|\n",
      "|       United States|          Gibraltar|    1|\n",
      "+--------------------+-------------------+-----+\n",
      "only showing top 20 rows\n",
      "\n"
     ]
    }
   ],
   "source": [
    "df.show()"
   ]
  },
  {
   "cell_type": "code",
   "execution_count": 6,
   "id": "721175f6-838d-4eda-8bc0-aeb46b32adf0",
   "metadata": {},
   "outputs": [
    {
     "name": "stdout",
     "output_type": "stream",
     "text": [
      "+-----------------+\n",
      "|DEST_COUNTRY_NAME|\n",
      "+-----------------+\n",
      "|    United States|\n",
      "|    United States|\n",
      "|    United States|\n",
      "|            Egypt|\n",
      "|    United States|\n",
      "+-----------------+\n",
      "only showing top 5 rows\n",
      "\n"
     ]
    }
   ],
   "source": [
    "#spark DataTable\n",
    "df.select('DEST_COUNTRY_NAME').show(5)"
   ]
  },
  {
   "cell_type": "markdown",
   "id": "79c4a5aa-6dd2-46b0-9f89-2ada3242a6af",
   "metadata": {},
   "source": [
    "### 테이블 생성"
   ]
  },
  {
   "cell_type": "code",
   "execution_count": 7,
   "id": "458f8f4f-e529-4567-aa2b-b8995acb1590",
   "metadata": {},
   "outputs": [],
   "source": [
    "#createOrReplaceTempView\n",
    "df.createOrReplaceTempView('mobility_data')"
   ]
  },
  {
   "cell_type": "code",
   "execution_count": 8,
   "id": "faffea29-3362-47c3-af8d-e614196131b2",
   "metadata": {},
   "outputs": [
    {
     "name": "stdout",
     "output_type": "stream",
     "text": [
      "+-----------------+-------------------+------+\n",
      "|DEST_COUNTRY_NAME|ORIGIN_COUNTRY_NAME| count|\n",
      "+-----------------+-------------------+------+\n",
      "|       Costa Rica|      United States|   588|\n",
      "|    United States|        Netherlands|   660|\n",
      "|      The Bahamas|      United States|   955|\n",
      "|      El Salvador|      United States|   561|\n",
      "|           Mexico|      United States|  7140|\n",
      "|    United States|         Costa Rica|   608|\n",
      "|         Colombia|      United States|   873|\n",
      "|    United States|            Jamaica|   712|\n",
      "|           Panama|      United States|   510|\n",
      "|    United States|        The Bahamas|   986|\n",
      "|    United States|          Hong Kong|   414|\n",
      "|    United States|              China|   920|\n",
      "|    United States| Dominican Republic|  1420|\n",
      "|    United States|      United States|370002|\n",
      "|          Germany|      United States|  1468|\n",
      "|    United States|        South Korea|   827|\n",
      "|    United States|        El Salvador|   508|\n",
      "|    United States|             Panama|   465|\n",
      "|    United States|           Honduras|   407|\n",
      "|           Canada|      United States|  8399|\n",
      "+-----------------+-------------------+------+\n",
      "only showing top 20 rows\n",
      "\n"
     ]
    }
   ],
   "source": [
    "#spark SQL\n",
    "spark.sql(\"select * from mobility_data where count >= 400\").show()"
   ]
  },
  {
   "cell_type": "code",
   "execution_count": 9,
   "id": "343585da-7ae6-431d-8762-ba3c8800a05d",
   "metadata": {},
   "outputs": [
    {
     "data": {
      "text/plain": [
       "256"
      ]
     },
     "execution_count": 9,
     "metadata": {},
     "output_type": "execute_result"
    }
   ],
   "source": [
    "df.count()"
   ]
  },
  {
   "cell_type": "code",
   "execution_count": 22,
   "id": "b6ed3021-318b-46d3-8ea3-800b7c3651ea",
   "metadata": {},
   "outputs": [
    {
     "name": "stdout",
     "output_type": "stream",
     "text": [
      "+--------------------+\n",
      "|   DEST_COUNTRY_NAME|\n",
      "+--------------------+\n",
      "|            Anguilla|\n",
      "|              Russia|\n",
      "|            Paraguay|\n",
      "|             Senegal|\n",
      "|              Sweden|\n",
      "|            Kiribati|\n",
      "|              Guyana|\n",
      "|         Philippines|\n",
      "|            Djibouti|\n",
      "|            Malaysia|\n",
      "|           Singapore|\n",
      "|                Fiji|\n",
      "|              Turkey|\n",
      "|                Iraq|\n",
      "|             Germany|\n",
      "|              Jordan|\n",
      "|               Palau|\n",
      "|Turks and Caicos ...|\n",
      "|              France|\n",
      "|              Greece|\n",
      "+--------------------+\n",
      "only showing top 20 rows\n",
      "\n"
     ]
    }
   ],
   "source": [
    "#dropDuplicates() 중복 제거\n",
    "df_dup = df.select('DEST_COUNTRY_NAME').dropDuplicates()\n",
    "df_dup.show()"
   ]
  },
  {
   "cell_type": "code",
   "execution_count": 23,
   "id": "90577d99-6e67-419a-b23c-0c501278d9e5",
   "metadata": {},
   "outputs": [
    {
     "name": "stderr",
     "output_type": "stream",
     "text": [
      "                                                                                "
     ]
    },
    {
     "data": {
      "text/plain": [
       "132"
      ]
     },
     "execution_count": 23,
     "metadata": {},
     "output_type": "execute_result"
    }
   ],
   "source": [
    "df_dup.count()"
   ]
  },
  {
   "cell_type": "code",
   "execution_count": 24,
   "id": "e0729504-fa83-499a-9bc5-830c633bc4d1",
   "metadata": {},
   "outputs": [
    {
     "name": "stderr",
     "output_type": "stream",
     "text": [
      "                                                                                "
     ]
    },
    {
     "data": {
      "text/plain": [
       "256"
      ]
     },
     "execution_count": 24,
     "metadata": {},
     "output_type": "execute_result"
    }
   ],
   "source": [
    "df.distinct().count()"
   ]
  },
  {
   "cell_type": "code",
   "execution_count": 25,
   "id": "d8d399e2-88ec-451c-aeb5-91be8c6019f0",
   "metadata": {},
   "outputs": [
    {
     "name": "stderr",
     "output_type": "stream",
     "text": [
      "24/12/09 10:16:54 WARN CacheManager: Asked to cache already cached data.\n"
     ]
    },
    {
     "name": "stdout",
     "output_type": "stream",
     "text": [
      "+--------------------+\n",
      "|   DEST_COUNTRY_NAME|\n",
      "+--------------------+\n",
      "|            Anguilla|\n",
      "|              Russia|\n",
      "|            Paraguay|\n",
      "|             Senegal|\n",
      "|              Sweden|\n",
      "|            Kiribati|\n",
      "|              Guyana|\n",
      "|         Philippines|\n",
      "|            Djibouti|\n",
      "|            Malaysia|\n",
      "|           Singapore|\n",
      "|                Fiji|\n",
      "|              Turkey|\n",
      "|                Iraq|\n",
      "|             Germany|\n",
      "|              Jordan|\n",
      "|               Palau|\n",
      "|Turks and Caicos ...|\n",
      "|              France|\n",
      "|              Greece|\n",
      "+--------------------+\n",
      "only showing top 20 rows\n",
      "\n"
     ]
    }
   ],
   "source": [
    "df_dup = df.select('DEST_COUNTRY_NAME').dropDuplicates().cache()\n",
    "df_dup.show()"
   ]
  },
  {
   "cell_type": "code",
   "execution_count": 27,
   "id": "be22e357-ec37-4001-9a39-33658a6717e7",
   "metadata": {},
   "outputs": [
    {
     "name": "stdout",
     "output_type": "stream",
     "text": [
      "+--------------------+-------------------+-----+\n",
      "|   DEST_COUNTRY_NAME|ORIGIN_COUNTRY_NAME|count|\n",
      "+--------------------+-------------------+-----+\n",
      "|             Algeria|      United States|    4|\n",
      "|              Angola|      United States|   15|\n",
      "|            Anguilla|      United States|   41|\n",
      "| Antigua and Barbuda|      United States|  126|\n",
      "|           Argentina|      United States|  180|\n",
      "|               Aruba|      United States|  346|\n",
      "|           Australia|      United States|  329|\n",
      "|             Austria|      United States|   62|\n",
      "|          Azerbaijan|      United States|   21|\n",
      "|             Bahrain|      United States|   19|\n",
      "|            Barbados|      United States|  154|\n",
      "|             Belgium|      United States|  259|\n",
      "|              Belize|      United States|  188|\n",
      "|             Bermuda|      United States|  183|\n",
      "|             Bolivia|      United States|   30|\n",
      "|Bonaire, Sint Eus...|      United States|   58|\n",
      "|              Brazil|      United States|  853|\n",
      "|British Virgin Is...|      United States|  107|\n",
      "|            Bulgaria|      United States|    3|\n",
      "|        Burkina Faso|      United States|    1|\n",
      "+--------------------+-------------------+-----+\n",
      "only showing top 20 rows\n",
      "\n"
     ]
    }
   ],
   "source": [
    "df.sort('DEST_COUNTRY_NAME').show() #셔플"
   ]
  },
  {
   "cell_type": "code",
   "execution_count": 14,
   "id": "6924210b-f37c-4870-aec9-8f53a9671100",
   "metadata": {},
   "outputs": [
    {
     "data": {
      "text/plain": [
       "DataFrame[DEST_COUNTRY_NAME: string, ORIGIN_COUNTRY_NAME: string, count: int, withInCoutnry: boolean]"
      ]
     },
     "execution_count": 14,
     "metadata": {},
     "output_type": "execute_result"
    }
   ],
   "source": [
    "from pyspark.sql.functions import *\n",
    "\n",
    "#withColumn 새로운 컬럼 추가 \n",
    "#expr sql 인식 가능 \n",
    "\n",
    "df3 = df.withColumn('withInCoutnry', expr('ORIGIN_COUNTRY_NAME == DEST_COUNTRY_NAME'))\n",
    "df3"
   ]
  },
  {
   "cell_type": "code",
   "execution_count": 15,
   "id": "da577de6-8498-406c-9400-6714fa720de4",
   "metadata": {},
   "outputs": [
    {
     "name": "stdout",
     "output_type": "stream",
     "text": [
      "+--------------------+-------------------+-----+-------------+--------+\n",
      "|   DEST_COUNTRY_NAME|ORIGIN_COUNTRY_NAME|count|withInCoutnry|category|\n",
      "+--------------------+-------------------+-----+-------------+--------+\n",
      "|       United States|            Romania|   15|        false|   upper|\n",
      "|       United States|            Croatia|    1|        false|   under|\n",
      "|       United States|            Ireland|  344|        false|   upper|\n",
      "|               Egypt|      United States|   15|        false|   upper|\n",
      "|       United States|              India|   62|        false|   upper|\n",
      "|       United States|          Singapore|    1|        false|   under|\n",
      "|       United States|            Grenada|   62|        false|   upper|\n",
      "|          Costa Rica|      United States|  588|        false|   upper|\n",
      "|             Senegal|      United States|   40|        false|   upper|\n",
      "|             Moldova|      United States|    1|        false|   under|\n",
      "|       United States|       Sint Maarten|  325|        false|   upper|\n",
      "|       United States|   Marshall Islands|   39|        false|   upper|\n",
      "|              Guyana|      United States|   64|        false|   upper|\n",
      "|               Malta|      United States|    1|        false|   under|\n",
      "|            Anguilla|      United States|   41|        false|   upper|\n",
      "|             Bolivia|      United States|   30|        false|   upper|\n",
      "|       United States|           Paraguay|    6|        false|   under|\n",
      "|             Algeria|      United States|    4|        false|   under|\n",
      "|Turks and Caicos ...|      United States|  230|        false|   upper|\n",
      "|       United States|          Gibraltar|    1|        false|   under|\n",
      "+--------------------+-------------------+-----+-------------+--------+\n",
      "only showing top 20 rows\n",
      "\n"
     ]
    }
   ],
   "source": [
    "df4 = df3.withColumn('category', expr('CASE WHEN count < 10 THEN \"under\" WHEN count >= 10 THEN \"upper\" END'))\n",
    "df4.show()\n"
   ]
  },
  {
   "cell_type": "code",
   "execution_count": 16,
   "id": "ae707e4f-4f57-45a1-8b19-861cf4b1f39a",
   "metadata": {},
   "outputs": [
    {
     "name": "stdout",
     "output_type": "stream",
     "text": [
      "+--------------------+-------------------+-----+-------------+--------+------------+\n",
      "|   DEST_COUNTRY_NAME|ORIGIN_COUNTRY_NAME|count|withInCoutnry|category|double_count|\n",
      "+--------------------+-------------------+-----+-------------+--------+------------+\n",
      "|       United States|            Romania|   15|        false|   upper|          30|\n",
      "|       United States|            Croatia|    1|        false|   under|           2|\n",
      "|       United States|            Ireland|  344|        false|   upper|         688|\n",
      "|               Egypt|      United States|   15|        false|   upper|          30|\n",
      "|       United States|              India|   62|        false|   upper|         124|\n",
      "|       United States|          Singapore|    1|        false|   under|           2|\n",
      "|       United States|            Grenada|   62|        false|   upper|         124|\n",
      "|          Costa Rica|      United States|  588|        false|   upper|        1176|\n",
      "|             Senegal|      United States|   40|        false|   upper|          80|\n",
      "|             Moldova|      United States|    1|        false|   under|           2|\n",
      "|       United States|       Sint Maarten|  325|        false|   upper|         650|\n",
      "|       United States|   Marshall Islands|   39|        false|   upper|          78|\n",
      "|              Guyana|      United States|   64|        false|   upper|         128|\n",
      "|               Malta|      United States|    1|        false|   under|           2|\n",
      "|            Anguilla|      United States|   41|        false|   upper|          82|\n",
      "|             Bolivia|      United States|   30|        false|   upper|          60|\n",
      "|       United States|           Paraguay|    6|        false|   under|          12|\n",
      "|             Algeria|      United States|    4|        false|   under|           8|\n",
      "|Turks and Caicos ...|      United States|  230|        false|   upper|         460|\n",
      "|       United States|          Gibraltar|    1|        false|   under|           2|\n",
      "+--------------------+-------------------+-----+-------------+--------+------------+\n",
      "only showing top 20 rows\n",
      "\n"
     ]
    }
   ],
   "source": [
    "#count 2배\n",
    "df5 = df4.withColumn('double_count',expr('count')*2)\n",
    "df5.show()"
   ]
  },
  {
   "cell_type": "code",
   "execution_count": 17,
   "id": "6e47ca60-47ff-495f-ad35-328e930b2e46",
   "metadata": {},
   "outputs": [
    {
     "name": "stdout",
     "output_type": "stream",
     "text": [
      "+-------------+-----+\n",
      "|withInCoutnry|count|\n",
      "+-------------+-----+\n",
      "|         true|    1|\n",
      "|        false|  255|\n",
      "+-------------+-----+\n",
      "\n"
     ]
    }
   ],
   "source": [
    "df5.groupby('withInCoutnry').count().show()"
   ]
  },
  {
   "cell_type": "code",
   "execution_count": 18,
   "id": "db2075a0-9449-433f-896a-d78777031b06",
   "metadata": {},
   "outputs": [
    {
     "name": "stdout",
     "output_type": "stream",
     "text": [
      "+--------+-----+\n",
      "|category|count|\n",
      "+--------+-----+\n",
      "|   under|   48|\n",
      "|   upper|  208|\n",
      "+--------+-----+\n",
      "\n"
     ]
    }
   ],
   "source": [
    "df5.groupby('category').count().show()"
   ]
  },
  {
   "cell_type": "markdown",
   "id": "cdff5984-dfb9-43cf-82cd-5f0cae03d389",
   "metadata": {},
   "source": [
    "### Projection & Filter\n",
    "\n",
    "select a,b,c --> # ***projection*** -> column -> transformation\n",
    "\n",
    "from TableA \n",
    "\n",
    "where a>10 # ***filter*** -> row -> transformation"
   ]
  },
  {
   "cell_type": "code",
   "execution_count": 19,
   "id": "982b32f6-debc-43bc-b812-d2d8859c31a8",
   "metadata": {},
   "outputs": [],
   "source": [
    "df6= df5.where('count<5')"
   ]
  },
  {
   "cell_type": "code",
   "execution_count": 20,
   "id": "21d8ec68-3bc5-41d7-a005-852585944c85",
   "metadata": {},
   "outputs": [
    {
     "data": {
      "text/plain": [
       "46"
      ]
     },
     "execution_count": 20,
     "metadata": {},
     "output_type": "execute_result"
    }
   ],
   "source": [
    "df6.count()"
   ]
  },
  {
   "cell_type": "code",
   "execution_count": 21,
   "id": "a4b67d01-5df8-4032-83da-d6af23d085dc",
   "metadata": {},
   "outputs": [
    {
     "name": "stdout",
     "output_type": "stream",
     "text": [
      "+-----------------+--------------------+-----+-------------+--------+------------+\n",
      "|DEST_COUNTRY_NAME| ORIGIN_COUNTRY_NAME|count|withInCoutnry|category|double_count|\n",
      "+-----------------+--------------------+-----+-------------+--------+------------+\n",
      "|    United States|             Romania|   15|        false|   upper|          30|\n",
      "|    United States|             Ireland|  344|        false|   upper|         688|\n",
      "|    United States|               India|   62|        false|   upper|         124|\n",
      "|    United States|             Grenada|   62|        false|   upper|         124|\n",
      "|    United States|        Sint Maarten|  325|        false|   upper|         650|\n",
      "|    United States|    Marshall Islands|   39|        false|   upper|          78|\n",
      "|    United States|            Paraguay|    6|        false|   under|          12|\n",
      "|    United States|Federated States ...|   69|        false|   upper|         138|\n",
      "|    United States|              Russia|  161|        false|   upper|         322|\n",
      "|    United States|         Netherlands|  660|        false|   upper|        1320|\n",
      "|    United States|             Senegal|   42|        false|   upper|          84|\n",
      "|    United States|              Angola|   13|        false|   upper|          26|\n",
      "|    United States|            Anguilla|   38|        false|   upper|          76|\n",
      "|    United States|             Ecuador|  300|        false|   upper|         600|\n",
      "|    United States|            Portugal|  134|        false|   upper|         268|\n",
      "|    United States|          Costa Rica|  608|        false|   upper|        1216|\n",
      "|    United States|           Guatemala|  318|        false|   upper|         636|\n",
      "|    United States|            Suriname|   34|        false|   upper|          68|\n",
      "|    United States|          Cape Verde|   14|        false|   upper|          28|\n",
      "|    United States|             Jamaica|  712|        false|   upper|        1424|\n",
      "+-----------------+--------------------+-----+-------------+--------+------------+\n",
      "only showing top 20 rows\n",
      "\n"
     ]
    }
   ],
   "source": [
    "df6 = df5.where('count>5').where('ORIGIN_COUNTRY_NAME != \"United States\"')\n",
    "df6.show()"
   ]
  },
  {
   "cell_type": "code",
   "execution_count": null,
   "id": "7eebba29-1f8b-470a-bfe9-e1a998d6b875",
   "metadata": {},
   "outputs": [],
   "source": []
  },
  {
   "cell_type": "code",
   "execution_count": 137,
   "id": "6fc730ff-de5b-40f1-b904-272bc5d212b6",
   "metadata": {},
   "outputs": [],
   "source": [
    "res = df5.where('count>5')"
   ]
  },
  {
   "cell_type": "code",
   "execution_count": 138,
   "id": "9dbcdcff-e90e-440a-b053-46d8aae7cbbe",
   "metadata": {},
   "outputs": [
    {
     "name": "stdout",
     "output_type": "stream",
     "text": [
      "+--------------------+-----+\n",
      "| ORIGIN_COUNTRY_NAME|count|\n",
      "+--------------------+-----+\n",
      "|              Russia|    1|\n",
      "|            Anguilla|    1|\n",
      "|             Senegal|    1|\n",
      "|              Sweden|    1|\n",
      "|            Kiribati|    1|\n",
      "|              Guyana|    1|\n",
      "|         Philippines|    1|\n",
      "|                Fiji|    1|\n",
      "|              Turkey|    1|\n",
      "|             Germany|    1|\n",
      "|              Jordan|    1|\n",
      "|               Palau|    1|\n",
      "|Turks and Caicos ...|    1|\n",
      "|              France|    1|\n",
      "|              Greece|    1|\n",
      "|British Virgin Is...|    1|\n",
      "|              Taiwan|    1|\n",
      "|            Dominica|    1|\n",
      "|           Argentina|    1|\n",
      "|              Angola|    1|\n",
      "+--------------------+-----+\n",
      "only showing top 20 rows\n",
      "\n"
     ]
    }
   ],
   "source": [
    "### upper인 ORIGIN_COUNTRY_NAME별 평균 카운트\n",
    "\n",
    "res.where('category == \"upper\"').groupby('ORIGIN_COUNTRY_NAME').count().show()"
   ]
  },
  {
   "cell_type": "code",
   "execution_count": 139,
   "id": "25b4da32-e6c0-4f4e-a499-a9fc19255447",
   "metadata": {},
   "outputs": [
    {
     "name": "stdout",
     "output_type": "stream",
     "text": [
      "+-------------------+\n",
      "|ORIGIN_COUNTRY_NAME|\n",
      "+-------------------+\n",
      "|            Ireland|\n",
      "|      United States|\n",
      "|       Sint Maarten|\n",
      "|      United States|\n",
      "|      United States|\n",
      "|        Netherlands|\n",
      "|      United States|\n",
      "|      United States|\n",
      "|      United States|\n",
      "|      United States|\n",
      "|      United States|\n",
      "|      United States|\n",
      "|      United States|\n",
      "|            Ecuador|\n",
      "|      United States|\n",
      "|      United States|\n",
      "|         Costa Rica|\n",
      "|          Guatemala|\n",
      "|      United States|\n",
      "|            Jamaica|\n",
      "+-------------------+\n",
      "only showing top 20 rows\n",
      "\n"
     ]
    }
   ],
   "source": [
    "## 카운트가 200이상인 ORIGIN_COUNTRY_NAME\n",
    "res.select('ORIGIN_COUNTRY_NAME').where('count >=200').show()"
   ]
  },
  {
   "cell_type": "code",
   "execution_count": 140,
   "id": "a24b9ae4-fbd2-4027-a6b8-1e686342a8b6",
   "metadata": {},
   "outputs": [],
   "source": [
    "## 국내 여행이 아니면서 가장 횟수가 많은 ORIGIN_COUNTRY_NAME top10 추출"
   ]
  },
  {
   "cell_type": "code",
   "execution_count": 141,
   "id": "c6cbf524-ca2f-4b93-85d6-bd9bea834b50",
   "metadata": {},
   "outputs": [],
   "source": [
    "res.createOrReplaceTempView('country_data')"
   ]
  },
  {
   "cell_type": "code",
   "execution_count": 142,
   "id": "b4e0dcce-551e-4511-9422-5e1974bb03d1",
   "metadata": {},
   "outputs": [
    {
     "name": "stdout",
     "output_type": "stream",
     "text": [
      "+-----------------+-------------------+-----+-------------+--------+------------+\n",
      "|DEST_COUNTRY_NAME|ORIGIN_COUNTRY_NAME|count|withInCoutnry|category|double_count|\n",
      "+-----------------+-------------------+-----+-------------+--------+------------+\n",
      "|    United States|            Romania|   15|        false|   upper|          30|\n",
      "|    United States|            Ireland|  344|        false|   upper|         688|\n",
      "|            Egypt|      United States|   15|        false|   upper|          30|\n",
      "|    United States|              India|   62|        false|   upper|         124|\n",
      "|    United States|            Grenada|   62|        false|   upper|         124|\n",
      "+-----------------+-------------------+-----+-------------+--------+------------+\n",
      "\n"
     ]
    }
   ],
   "source": [
    "spark.sql(\"select * from country_data limit 5\").show()"
   ]
  },
  {
   "cell_type": "code",
   "execution_count": 143,
   "id": "3f6a3de2-f209-46aa-bc9f-cf85514d2e10",
   "metadata": {},
   "outputs": [
    {
     "name": "stdout",
     "output_type": "stream",
     "text": [
      "+-------------------+------+\n",
      "|ORIGIN_COUNTRY_NAME| count|\n",
      "+-------------------+------+\n",
      "|      United States|370002|\n",
      "|             Canada|  8483|\n",
      "|      United States|  8399|\n",
      "|             Mexico|  7187|\n",
      "|      United States|  7140|\n",
      "|      United States|  2025|\n",
      "|     United Kingdom|  1970|\n",
      "|      United States|  1548|\n",
      "|              Japan|  1496|\n",
      "|      United States|  1468|\n",
      "+-------------------+------+\n",
      "\n"
     ]
    }
   ],
   "source": [
    "spark.sql(\"select ORIGIN_COUNTRY_NAME, count from country_data where  order by count desc limit 10\").show()"
   ]
  },
  {
   "cell_type": "code",
   "execution_count": 146,
   "id": "b0125883-f9cc-4a18-991b-7b62b3b59450",
   "metadata": {},
   "outputs": [],
   "source": [
    "## 국내 여행이 아니면서 가장 횟수가 적은 ORIGIN_COUNTRY_NAME top10 추출"
   ]
  },
  {
   "cell_type": "code",
   "execution_count": 147,
   "id": "484ad5e1-4353-492a-b581-0e1063704750",
   "metadata": {},
   "outputs": [
    {
     "name": "stdout",
     "output_type": "stream",
     "text": [
      "+-------------------+-----+\n",
      "|ORIGIN_COUNTRY_NAME|count|\n",
      "+-------------------+-----+\n",
      "|           Paraguay|    6|\n",
      "|      United States|   12|\n",
      "|              Egypt|   12|\n",
      "|           Ethiopia|   12|\n",
      "|           Pakistan|   12|\n",
      "|     Czech Republic|   12|\n",
      "|             Angola|   13|\n",
      "|            Ukraine|   13|\n",
      "|      United States|   13|\n",
      "|      United States|   13|\n",
      "+-------------------+-----+\n",
      "\n"
     ]
    }
   ],
   "source": [
    "spark.sql(\"select ORIGIN_COUNTRY_NAME, count from country_data where  order by count asc limit 10\").show()"
   ]
  },
  {
   "cell_type": "code",
   "execution_count": 153,
   "id": "d6dd2c3c-0b4c-43fd-9af9-52ecdd2fd033",
   "metadata": {},
   "outputs": [
    {
     "name": "stdout",
     "output_type": "stream",
     "text": [
      "+------------------+------+\n",
      "| DEST_COUNTRY_NAME| total|\n",
      "+------------------+------+\n",
      "|     United States|411318|\n",
      "|            Canada|  8399|\n",
      "|            Mexico|  7140|\n",
      "|    United Kingdom|  2025|\n",
      "|             Japan|  1548|\n",
      "|           Germany|  1468|\n",
      "|Dominican Republic|  1353|\n",
      "|       South Korea|  1048|\n",
      "|       The Bahamas|   955|\n",
      "|            France|   935|\n",
      "+------------------+------+\n",
      "\n"
     ]
    },
    {
     "name": "stderr",
     "output_type": "stream",
     "text": [
      "                                                                                "
     ]
    }
   ],
   "source": [
    "## 도착지별 count 총합이 가장 많은 top10 추출 \n",
    "spark.sql(\n",
    "    '''\n",
    "    select DEST_COUNTRY_NAME, sum(count) as total\n",
    "    from country_data \n",
    "    group by DEST_COUNTRY_NAME \n",
    "    having total\n",
    "    order by total desc\n",
    "    limit 10\n",
    "    '''\n",
    "        \n",
    ").show()"
   ]
  },
  {
   "cell_type": "code",
   "execution_count": 28,
   "id": "103beeb2-0196-406e-8f8b-3c13980aacec",
   "metadata": {},
   "outputs": [],
   "source": [
    "spark.stop()"
   ]
  },
  {
   "cell_type": "markdown",
   "id": "774f7c38-a898-4028-bf3c-3c46548c96b8",
   "metadata": {},
   "source": [
    "### 집계함수 "
   ]
  },
  {
   "cell_type": "code",
   "execution_count": 31,
   "id": "4b29eff4-a6c5-4bd5-8aea-51339b764a16",
   "metadata": {},
   "outputs": [],
   "source": [
    "from pyspark.sql import SparkSession\n",
    "spark = SparkSession.builder.appName(\"SecondSparkSessionApp\").getOrCreate() "
   ]
  },
  {
   "cell_type": "code",
   "execution_count": 35,
   "id": "f47938b2-9918-4a7d-ad36-318cb5c17ce6",
   "metadata": {},
   "outputs": [],
   "source": [
    "df = spark.read.format('csv').load('data/emp.csv', inferSchema = True, header = True)"
   ]
  },
  {
   "cell_type": "code",
   "execution_count": 36,
   "id": "7f1a3745-4a73-4c6d-9327-9bc007b016bf",
   "metadata": {},
   "outputs": [
    {
     "name": "stdout",
     "output_type": "stream",
     "text": [
      "root\n",
      " |-- empno: integer (nullable = true)\n",
      " |-- ename: string (nullable = true)\n",
      " |-- job: string (nullable = true)\n",
      " |-- mgr: integer (nullable = true)\n",
      " |-- hiredate: string (nullable = true)\n",
      " |-- sal: integer (nullable = true)\n",
      " |-- comm: integer (nullable = true)\n",
      " |-- deptno: integer (nullable = true)\n",
      "\n"
     ]
    }
   ],
   "source": [
    "df.printSchema()"
   ]
  },
  {
   "cell_type": "code",
   "execution_count": 38,
   "id": "4d3619d7-28ee-44d3-a845-9f42615b2f17",
   "metadata": {},
   "outputs": [
    {
     "name": "stdout",
     "output_type": "stream",
     "text": [
      "+------+------+\n",
      "| ename|deptno|\n",
      "+------+------+\n",
      "| SMITH|    20|\n",
      "| ALLEN|    30|\n",
      "|  WARD|    30|\n",
      "| JONES|    20|\n",
      "|MARTIN|    30|\n",
      "| BLAKE|    30|\n",
      "| CLARK|    10|\n",
      "| SCOTT|    20|\n",
      "|  KING|    10|\n",
      "|TURNER|    30|\n",
      "| ADAMS|    20|\n",
      "| JAMES|    30|\n",
      "|  FORD|    20|\n",
      "|MILLER|    10|\n",
      "|  JACK|    70|\n",
      "+------+------+\n",
      "\n"
     ]
    }
   ],
   "source": [
    "df.select('ename','deptno').show()"
   ]
  },
  {
   "cell_type": "code",
   "execution_count": 44,
   "id": "2d01e89a-fb10-4a4c-841f-613f350f6012",
   "metadata": {},
   "outputs": [
    {
     "name": "stdout",
     "output_type": "stream",
     "text": [
      "+------+------+\n",
      "| ename|deptno|\n",
      "+------+------+\n",
      "| ALLEN|    30|\n",
      "|  WARD|    30|\n",
      "|MARTIN|    30|\n",
      "| BLAKE|    30|\n",
      "|TURNER|    30|\n",
      "| JAMES|    30|\n",
      "+------+------+\n",
      "\n"
     ]
    }
   ],
   "source": [
    "#projection & filter\n",
    "df.select('ename','deptno').where('deptno == 30').show()"
   ]
  },
  {
   "cell_type": "code",
   "execution_count": 48,
   "id": "6ab8c493-40f1-47a8-8d2f-fdcd5b9f5c31",
   "metadata": {},
   "outputs": [
    {
     "name": "stdout",
     "output_type": "stream",
     "text": [
      "+----------+\n",
      "|count(job)|\n",
      "+----------+\n",
      "|        15|\n",
      "+----------+\n",
      "\n"
     ]
    }
   ],
   "source": [
    "from pyspark.sql.functions import count\n",
    "\n",
    "df.select(count('job')).show()"
   ]
  },
  {
   "cell_type": "code",
   "execution_count": 50,
   "id": "e59ad9f5-8c95-489d-a095-d6e3c202d5bc",
   "metadata": {},
   "outputs": [
    {
     "name": "stdout",
     "output_type": "stream",
     "text": [
      "+--------+\n",
      "|count(1)|\n",
      "+--------+\n",
      "|      15|\n",
      "+--------+\n",
      "\n"
     ]
    }
   ],
   "source": [
    "# selectExpr\n",
    "df.selectExpr('count(*)').show()"
   ]
  },
  {
   "cell_type": "code",
   "execution_count": 56,
   "id": "44c30e74-bbc1-4b90-aff5-1c143657f726",
   "metadata": {},
   "outputs": [
    {
     "name": "stdout",
     "output_type": "stream",
     "text": [
      "+---------+\n",
      "|      job|\n",
      "+---------+\n",
      "|  ANALYST|\n",
      "| SALESMAN|\n",
      "|    CLERK|\n",
      "|  MANAGER|\n",
      "|PRESIDENT|\n",
      "+---------+\n",
      "\n"
     ]
    }
   ],
   "source": [
    "df.select('job').distinct().show()"
   ]
  },
  {
   "cell_type": "code",
   "execution_count": 58,
   "id": "d1b30ef5-5ba5-4556-aaf4-c5ead925e6d3",
   "metadata": {},
   "outputs": [
    {
     "name": "stderr",
     "output_type": "stream",
     "text": [
      "[Stage 46:===================================================>  (190 + 2) / 200]"
     ]
    },
    {
     "data": {
      "text/plain": [
       "5"
      ]
     },
     "execution_count": 58,
     "metadata": {},
     "output_type": "execute_result"
    },
    {
     "name": "stderr",
     "output_type": "stream",
     "text": [
      "                                                                                "
     ]
    }
   ],
   "source": [
    "df.select('job').distinct().count() #"
   ]
  },
  {
   "cell_type": "code",
   "execution_count": 57,
   "id": "a430cf4a-9f3f-4765-a1fd-1504c3c48063",
   "metadata": {},
   "outputs": [
    {
     "name": "stderr",
     "output_type": "stream",
     "text": [
      "[Stage 43:================================================>     (181 + 2) / 200]"
     ]
    },
    {
     "name": "stdout",
     "output_type": "stream",
     "text": [
      "+-------------------+\n",
      "|count(DISTINCT job)|\n",
      "+-------------------+\n",
      "|                  5|\n",
      "+-------------------+\n",
      "\n"
     ]
    },
    {
     "name": "stderr",
     "output_type": "stream",
     "text": [
      "                                                                                "
     ]
    }
   ],
   "source": [
    "df.select(countDistinct('job')).show() # 근사치"
   ]
  },
  {
   "cell_type": "code",
   "execution_count": 59,
   "id": "84bca869-5b44-49e9-ac4b-7d2d7c69379f",
   "metadata": {},
   "outputs": [],
   "source": [
    "from pyspark.sql.functions import countDistinct, approx_count_distinct "
   ]
  },
  {
   "cell_type": "code",
   "execution_count": 61,
   "id": "a1b6a7e9-a6f7-465c-843a-0ff7f610e61d",
   "metadata": {},
   "outputs": [
    {
     "name": "stdout",
     "output_type": "stream",
     "text": [
      "+--------------------------+\n",
      "|approx_count_distinct(job)|\n",
      "+--------------------------+\n",
      "|                         5|\n",
      "+--------------------------+\n",
      "\n"
     ]
    }
   ],
   "source": [
    "#성능면에서 유리한 연산\n",
    "df.select(approx_count_distinct('job',0.1)).show()"
   ]
  },
  {
   "cell_type": "code",
   "execution_count": 62,
   "id": "ffa8066c-ad3e-4a36-b6d0-470044bdc8d2",
   "metadata": {},
   "outputs": [],
   "source": [
    "from pyspark.sql.functions import first, last "
   ]
  },
  {
   "cell_type": "code",
   "execution_count": 65,
   "id": "7085c429-8f5b-45ed-92ee-fbad4988f498",
   "metadata": {},
   "outputs": [
    {
     "name": "stdout",
     "output_type": "stream",
     "text": [
      "+------------+-----------+\n",
      "|first(ename)|last(ename)|\n",
      "+------------+-----------+\n",
      "|       SMITH|       JACK|\n",
      "+------------+-----------+\n",
      "\n"
     ]
    }
   ],
   "source": [
    "df.select(first('ename'),last('ename')).show()"
   ]
  },
  {
   "cell_type": "code",
   "execution_count": 66,
   "id": "c42427da-93db-43c3-a36c-8a48b778a6d3",
   "metadata": {},
   "outputs": [
    {
     "name": "stdout",
     "output_type": "stream",
     "text": [
      "+--------+--------+\n",
      "|max(sal)|min(sal)|\n",
      "+--------+--------+\n",
      "|    5000|     800|\n",
      "+--------+--------+\n",
      "\n"
     ]
    }
   ],
   "source": [
    "df.select(max('sal'),min('sal')).show()"
   ]
  },
  {
   "cell_type": "code",
   "execution_count": 73,
   "id": "7117c509-c0dc-4fa6-bfd3-33050c414092",
   "metadata": {},
   "outputs": [
    {
     "name": "stderr",
     "output_type": "stream",
     "text": [
      "[Stage 66:======================================>               (143 + 2) / 200]"
     ]
    },
    {
     "name": "stdout",
     "output_type": "stream",
     "text": [
      "+-----------------+\n",
      "|sum(DISTINCT sal)|\n",
      "+-----------------+\n",
      "|            27975|\n",
      "+-----------------+\n",
      "\n"
     ]
    },
    {
     "name": "stderr",
     "output_type": "stream",
     "text": [
      "                                                                                "
     ]
    }
   ],
   "source": [
    "#df.select('job','sal').show()\n",
    "df.selectExpr('sum(distinct sal)').show()"
   ]
  },
  {
   "cell_type": "code",
   "execution_count": 76,
   "id": "13615006-bba4-4c96-b91a-ece62c19d735",
   "metadata": {},
   "outputs": [
    {
     "name": "stdout",
     "output_type": "stream",
     "text": [
      "+--------+------------+------------------+\n",
      "|total_tx|total_salary|        avg_salary|\n",
      "+--------+------------+------------------+\n",
      "|      15|       32225|2148.3333333333335|\n",
      "+--------+------------+------------------+\n",
      "\n"
     ]
    }
   ],
   "source": [
    "#alias\n",
    "dfs = df.select( count('sal').alias('total_tx'),\n",
    "                    sum('sal').alias('total_salary'),\n",
    "                    avg('sal').alias('avg_salary')\n",
    "               )\n",
    "\n",
    "dfs.show()"
   ]
  },
  {
   "cell_type": "code",
   "execution_count": 77,
   "id": "d12e9ba4-4beb-4251-9706-a5e85eb7f484",
   "metadata": {},
   "outputs": [
    {
     "name": "stdout",
     "output_type": "stream",
     "text": [
      "+--------+------------+------------------+\n",
      "|total_tx|total_salary|        avg_salary|\n",
      "+--------+------------+------------------+\n",
      "|      15|       32225|2148.3333333333335|\n",
      "+--------+------------+------------------+\n",
      "\n"
     ]
    }
   ],
   "source": [
    "dfs = df.select( count('sal').alias('total_tx'),\n",
    "                    sum('sal').alias('total_salary'),\n",
    "                    #avg('sal').alias('avg_salary')\n",
    "                    expr('mean(sal) as avg_salary')\n",
    "               )\n",
    "\n",
    "dfs.show()"
   ]
  },
  {
   "cell_type": "markdown",
   "id": "e44eefca-565e-45dc-8405-1db4519394bf",
   "metadata": {},
   "source": [
    "### 그룹화"
   ]
  },
  {
   "cell_type": "code",
   "execution_count": 102,
   "id": "3fdd4a79-9129-49d6-93eb-bbce17373c8b",
   "metadata": {},
   "outputs": [
    {
     "name": "stdout",
     "output_type": "stream",
     "text": [
      "+---------+-------+\n",
      "|      job|SAL_SUM|\n",
      "+---------+-------+\n",
      "|  ANALYST|   6000|\n",
      "| SALESMAN|   5600|\n",
      "|    CLERK|   7350|\n",
      "|  MANAGER|   8275|\n",
      "|PRESIDENT|   5000|\n",
      "+---------+-------+\n",
      "\n"
     ]
    }
   ],
   "source": [
    "#df.groupBy('job').sum().select('job', 'sum(sal)').show(\n",
    "df.groupBy('job').agg(expr('sum(sal) as SAL_SUM')).show()"
   ]
  },
  {
   "cell_type": "code",
   "execution_count": 95,
   "id": "b03204e9-da90-4eef-aabe-ee6782fab830",
   "metadata": {},
   "outputs": [
    {
     "name": "stdout",
     "output_type": "stream",
     "text": [
      "+---------+----------+--------+------------------+---------+-----------+\n",
      "|      job|avg(empno)|avg(mgr)|          avg(sal)|avg(comm)|avg(deptno)|\n",
      "+---------+----------+--------+------------------+---------+-----------+\n",
      "|  ANALYST|    7845.0|  7566.0|            3000.0|     null|       20.0|\n",
      "| SALESMAN|    7629.5|  7698.0|            1400.0|    550.0|       30.0|\n",
      "|    CLERK|    8074.2|  7790.4|            1470.0|     null|       30.0|\n",
      "|  MANAGER|    7682.0|  7839.0|2758.3333333333335|     null|       20.0|\n",
      "|PRESIDENT|    7839.0|    null|            5000.0|     null|       10.0|\n",
      "+---------+----------+--------+------------------+---------+-----------+\n",
      "\n"
     ]
    }
   ],
   "source": [
    "df.groupBy('job').avg().show()"
   ]
  },
  {
   "cell_type": "code",
   "execution_count": 93,
   "id": "324de0a2-29c1-4b8e-b698-b1d8499734c1",
   "metadata": {},
   "outputs": [
    {
     "name": "stdout",
     "output_type": "stream",
     "text": [
      "+---------+------------------+\n",
      "|      job|           SAL_AVG|\n",
      "+---------+------------------+\n",
      "|  ANALYST|            3000.0|\n",
      "| SALESMAN|            1400.0|\n",
      "|    CLERK|            1470.0|\n",
      "|  MANAGER|2758.3333333333335|\n",
      "|PRESIDENT|            5000.0|\n",
      "+---------+------------------+\n",
      "\n"
     ]
    }
   ],
   "source": [
    "df.groupBy('job').agg(expr('avg(sal) as SAL_AVG')).show()"
   ]
  },
  {
   "cell_type": "code",
   "execution_count": 98,
   "id": "3cce8bd7-c557-45ef-b3de-cb9b05fc4cf7",
   "metadata": {},
   "outputs": [],
   "source": [
    "#표준편차\n",
    "#1. sql.fucntion #2. sql expression"
   ]
  },
  {
   "cell_type": "code",
   "execution_count": 99,
   "id": "b8652a17-8373-4330-a7d5-51666b49d271",
   "metadata": {},
   "outputs": [
    {
     "name": "stdout",
     "output_type": "stream",
     "text": [
      "+---------+------------------+\n",
      "|      job|         SAL_STDEV|\n",
      "+---------+------------------+\n",
      "|  ANALYST|               0.0|\n",
      "| SALESMAN|154.11035007422439|\n",
      "|    CLERK| 880.6815542521599|\n",
      "|  MANAGER|223.91714737574006|\n",
      "|PRESIDENT|               0.0|\n",
      "+---------+------------------+\n",
      "\n"
     ]
    }
   ],
   "source": [
    "df.groupby('job').agg(expr('stddev_pop(sal) as SAL_STDEV')).show()"
   ]
  },
  {
   "cell_type": "code",
   "execution_count": null,
   "id": "4def40b7-8049-463e-b27b-fb7b71f1e6dd",
   "metadata": {},
   "outputs": [],
   "source": []
  },
  {
   "cell_type": "markdown",
   "id": "80955e80-1bf3-401b-bb2e-ac390d71d83e",
   "metadata": {},
   "source": [
    "## 윈도우 함수\n",
    "\n",
    "순위, 정렬 - rankm, row_number, dense_rank\n",
    "\n",
    "누계 - sum, avg, max, min + over()\n",
    "\n",
    "시차, 선행 - lag, lead\n",
    "\n",
    "ex) 세션 구간내 분석, 특정시간 동안 일어난 활동 그룹화"
   ]
  },
  {
   "cell_type": "code",
   "execution_count": 104,
   "id": "2ce5278a-435a-4d36-a67d-174740624606",
   "metadata": {},
   "outputs": [],
   "source": [
    "#1. partitionBy() : 소그룹으로 나누는 함수\n",
    "#2. orderBy() : 소그룹 내 정렬 \n",
    "#3. rowBetween(), rangeBetween()\n",
    "#4. over()"
   ]
  },
  {
   "cell_type": "code",
   "execution_count": 139,
   "id": "385f4c8a-6b20-42d9-89a0-ea54bedfbfa4",
   "metadata": {},
   "outputs": [],
   "source": [
    "from pyspark.sql.window import Window\n",
    "from pyspark.sql.functions import desc, asc"
   ]
  },
  {
   "cell_type": "code",
   "execution_count": 121,
   "id": "dfd12a12-026a-4b52-8c13-aeec23b66ee1",
   "metadata": {},
   "outputs": [],
   "source": [
    "#윈도우 명세 설정 \n",
    "windowspec = Window.orderBy(desc('sal'))"
   ]
  },
  {
   "cell_type": "code",
   "execution_count": 122,
   "id": "7b833bd8-54f9-47d4-88f8-eb369c3b1420",
   "metadata": {},
   "outputs": [],
   "source": [
    "salAllRank = rank().over(windowspec)"
   ]
  },
  {
   "cell_type": "code",
   "execution_count": 132,
   "id": "ba5de66f-b5db-4410-a9e4-43e5ddea20c8",
   "metadata": {},
   "outputs": [
    {
     "name": "stdout",
     "output_type": "stream",
     "text": [
      "+-----+------+---------+----+----------+----+----+------+-----------+\n",
      "|empno| ename|      job| mgr|  hiredate| sal|comm|deptno|salary_rank|\n",
      "+-----+------+---------+----+----------+----+----+------+-----------+\n",
      "| 7839|  KING|PRESIDENT|null|1981-11-17|5000|null|    10|          1|\n",
      "| 9292|  JACK|    CLERK|7782|1982-01-23|3200|null|    70|          2|\n",
      "| 7788| SCOTT|  ANALYST|7566|1987-04-19|3000|null|    20|          3|\n",
      "| 7902|  FORD|  ANALYST|7566|1981-12-03|3000|null|    20|          3|\n",
      "| 7566| JONES|  MANAGER|7839|1981-04-02|2975|null|    20|          5|\n",
      "| 7698| BLAKE|  MANAGER|7839|1981-05-01|2850|null|    30|          6|\n",
      "| 7782| CLARK|  MANAGER|7839|1981-06-09|2450|null|    10|          7|\n",
      "| 7499| ALLEN| SALESMAN|7698|1981-02-20|1600| 300|    30|          8|\n",
      "| 7844|TURNER| SALESMAN|7698|1981-09-08|1500|   0|    30|          9|\n",
      "| 7934|MILLER|    CLERK|7782|1982-01-23|1300|null|    10|         10|\n",
      "| 7521|  WARD| SALESMAN|7698|1981-02-22|1250| 500|    30|         11|\n",
      "| 7654|MARTIN| SALESMAN|7698|1981-09-28|1250|1400|    30|         11|\n",
      "| 7876| ADAMS|    CLERK|7788|1987-05-23|1100|null|    20|         13|\n",
      "| 7900| JAMES|    CLERK|7698|1981-12-03| 950|null|    30|         14|\n",
      "| 7369| SMITH|    CLERK|7902|1980-12-17| 800|null|    20|         15|\n",
      "+-----+------+---------+----+----------+----+----+------+-----------+\n",
      "\n"
     ]
    },
    {
     "name": "stderr",
     "output_type": "stream",
     "text": [
      "24/12/09 13:42:24 WARN WindowExec: No Partition Defined for Window operation! Moving all data to a single partition, this can cause serious performance degradation.\n"
     ]
    }
   ],
   "source": [
    "#데이터프레임에 컬럼으로 추가 > 액션\n",
    "df.withColumn(\"salary_rank\", salAllRank).show()"
   ]
  },
  {
   "cell_type": "code",
   "execution_count": 136,
   "id": "efcf1336-c4b8-4591-9a0c-f9014e0525c4",
   "metadata": {},
   "outputs": [
    {
     "name": "stdout",
     "output_type": "stream",
     "text": [
      "+-----+-----------+\n",
      "|empno|salary_rank|\n",
      "+-----+-----------+\n",
      "| 7839|          1|\n",
      "| 9292|          2|\n",
      "| 7788|          3|\n",
      "| 7902|          3|\n",
      "| 7566|          5|\n",
      "| 7698|          6|\n",
      "| 7782|          7|\n",
      "| 7499|          8|\n",
      "| 7844|          9|\n",
      "| 7934|         10|\n",
      "| 7521|         11|\n",
      "| 7654|         11|\n",
      "| 7876|         13|\n",
      "| 7900|         14|\n",
      "| 7369|         15|\n",
      "+-----+-----------+\n",
      "\n"
     ]
    },
    {
     "name": "stderr",
     "output_type": "stream",
     "text": [
      "24/12/09 13:45:15 WARN WindowExec: No Partition Defined for Window operation! Moving all data to a single partition, this can cause serious performance degradation.\n"
     ]
    }
   ],
   "source": [
    "df.select( 'empno',salAllRank.alias('salary_rank')).show()"
   ]
  },
  {
   "cell_type": "code",
   "execution_count": 147,
   "id": "10e03f37-5cdc-4ab3-a5b5-273cc4b3075c",
   "metadata": {},
   "outputs": [],
   "source": [
    "windowspec1 = Window.partitionBy('job').orderBy(desc('sal'))"
   ]
  },
  {
   "cell_type": "code",
   "execution_count": 148,
   "id": "1bfef475-4fdc-4527-b5e5-964d6efa6e25",
   "metadata": {},
   "outputs": [],
   "source": [
    "windowspec1 = rank().over(windowspec1)"
   ]
  },
  {
   "cell_type": "code",
   "execution_count": 151,
   "id": "d8c8a39b-a09a-4e12-9577-0e49951c7107",
   "metadata": {},
   "outputs": [
    {
     "name": "stdout",
     "output_type": "stream",
     "text": [
      "+---------+------+----+----------+\n",
      "|      job| ename| sal|saljobRank|\n",
      "+---------+------+----+----------+\n",
      "|  ANALYST| SCOTT|3000|         1|\n",
      "|  ANALYST|  FORD|3000|         1|\n",
      "| SALESMAN| ALLEN|1600|         1|\n",
      "| SALESMAN|TURNER|1500|         2|\n",
      "| SALESMAN|  WARD|1250|         3|\n",
      "| SALESMAN|MARTIN|1250|         3|\n",
      "|    CLERK|  JACK|3200|         1|\n",
      "|    CLERK|MILLER|1300|         2|\n",
      "|    CLERK| ADAMS|1100|         3|\n",
      "|    CLERK| JAMES| 950|         4|\n",
      "|    CLERK| SMITH| 800|         5|\n",
      "|  MANAGER| JONES|2975|         1|\n",
      "|  MANAGER| BLAKE|2850|         2|\n",
      "|  MANAGER| CLARK|2450|         3|\n",
      "|PRESIDENT|  KING|5000|         1|\n",
      "+---------+------+----+----------+\n",
      "\n"
     ]
    }
   ],
   "source": [
    "df.select(\n",
    "    'job','ename','sal',\n",
    "    windowspec1.alias('saljobRank')\n",
    ").show()"
   ]
  },
  {
   "cell_type": "code",
   "execution_count": 152,
   "id": "2095d4ac-0985-478b-9b5d-e10e137de3a3",
   "metadata": {},
   "outputs": [],
   "source": [
    "#부서면 급여 순위 \n",
    "windowspec2 = Window.partitionBy('deptno').orderBy(desc('sal'))"
   ]
  },
  {
   "cell_type": "code",
   "execution_count": 153,
   "id": "e7000e69-9ecc-4671-ae15-31b7dde3377c",
   "metadata": {},
   "outputs": [],
   "source": [
    "windowspec2 = rank().over(windowspec2)"
   ]
  },
  {
   "cell_type": "code",
   "execution_count": 155,
   "id": "c9af6219-8f8c-4f0a-8a6e-14a28850a644",
   "metadata": {},
   "outputs": [
    {
     "name": "stdout",
     "output_type": "stream",
     "text": [
      "+---------+------+------+----+-------------+\n",
      "|      job| ename|deptno| sal|deptnosalRank|\n",
      "+---------+------+------+----+-------------+\n",
      "|  ANALYST| SCOTT|    20|3000|            1|\n",
      "|  ANALYST|  FORD|    20|3000|            1|\n",
      "|  MANAGER| JONES|    20|2975|            3|\n",
      "|    CLERK| ADAMS|    20|1100|            4|\n",
      "|    CLERK| SMITH|    20| 800|            5|\n",
      "|PRESIDENT|  KING|    10|5000|            1|\n",
      "|  MANAGER| CLARK|    10|2450|            2|\n",
      "|    CLERK|MILLER|    10|1300|            3|\n",
      "|    CLERK|  JACK|    70|3200|            1|\n",
      "|  MANAGER| BLAKE|    30|2850|            1|\n",
      "| SALESMAN| ALLEN|    30|1600|            2|\n",
      "| SALESMAN|TURNER|    30|1500|            3|\n",
      "| SALESMAN|  WARD|    30|1250|            4|\n",
      "| SALESMAN|MARTIN|    30|1250|            4|\n",
      "|    CLERK| JAMES|    30| 950|            6|\n",
      "+---------+------+------+----+-------------+\n",
      "\n"
     ]
    }
   ],
   "source": [
    "df.select(\n",
    "    'job','ename','deptno','sal',\n",
    "    windowspec2.alias('deptnosalRank')\n",
    ").show()"
   ]
  },
  {
   "cell_type": "code",
   "execution_count": 159,
   "id": "b797c8df-84ef-43d8-86ab-df627b6dcbd2",
   "metadata": {},
   "outputs": [],
   "source": [
    "#누적 급여 계산\n",
    "from pyspark.sql.functions import dense_rank\n",
    "sum_window_spec = Window.partitionBy('deptno').orderBy('empno')"
   ]
  },
  {
   "cell_type": "code",
   "execution_count": 160,
   "id": "ac0fa4b4-24fc-4c75-9bae-55be3d0859bb",
   "metadata": {},
   "outputs": [
    {
     "name": "stdout",
     "output_type": "stream",
     "text": [
      "+------+------+----+----------+\n",
      "| ename|deptno| sal|cum_salary|\n",
      "+------+------+----+----------+\n",
      "| SMITH|    20| 800|       800|\n",
      "| JONES|    20|2975|      3775|\n",
      "| SCOTT|    20|3000|      6775|\n",
      "| ADAMS|    20|1100|      7875|\n",
      "|  FORD|    20|3000|     10875|\n",
      "| CLARK|    10|2450|      2450|\n",
      "|  KING|    10|5000|      7450|\n",
      "|MILLER|    10|1300|      8750|\n",
      "|  JACK|    70|3200|      3200|\n",
      "| ALLEN|    30|1600|      1600|\n",
      "|  WARD|    30|1250|      2850|\n",
      "|MARTIN|    30|1250|      4100|\n",
      "| BLAKE|    30|2850|      6950|\n",
      "|TURNER|    30|1500|      8450|\n",
      "| JAMES|    30| 950|      9400|\n",
      "+------+------+----+----------+\n",
      "\n"
     ]
    }
   ],
   "source": [
    "new_df = df.withColumn('cum_salary', sum('sal').over(sum_window_spec))\n",
    "new_df.select(\n",
    "    'ename','deptno','sal','cum_salary'\n",
    ").show()"
   ]
  },
  {
   "cell_type": "code",
   "execution_count": 181,
   "id": "08f061e8-01a8-4976-ae85-8fda64e85e8a",
   "metadata": {},
   "outputs": [
    {
     "name": "stdout",
     "output_type": "stream",
     "text": [
      "+------+------+----+------------------+\n",
      "| ename|deptno| sal|        avg_salary|\n",
      "+------+------+----+------------------+\n",
      "| SMITH|    20| 800|            2175.0|\n",
      "| JONES|    20|2975|            2175.0|\n",
      "| SCOTT|    20|3000|            2175.0|\n",
      "| ADAMS|    20|1100|            2175.0|\n",
      "|  FORD|    20|3000|            2175.0|\n",
      "| CLARK|    10|2450|2916.6666666666665|\n",
      "|  KING|    10|5000|2916.6666666666665|\n",
      "|MILLER|    10|1300|2916.6666666666665|\n",
      "|  JACK|    70|3200|            3200.0|\n",
      "| ALLEN|    30|1600|1566.6666666666667|\n",
      "|  WARD|    30|1250|1566.6666666666667|\n",
      "|MARTIN|    30|1250|1566.6666666666667|\n",
      "| BLAKE|    30|2850|1566.6666666666667|\n",
      "|TURNER|    30|1500|1566.6666666666667|\n",
      "| JAMES|    30| 950|1566.6666666666667|\n",
      "+------+------+----+------------------+\n",
      "\n"
     ]
    }
   ],
   "source": [
    "#부서별 평균급여 avg('sal')\n",
    "\n",
    "avg_window_spec = Window.partitionBy('deptno')\n",
    "avg_df = df.withColumn('avg_salary', avg('sal').over(avg_window_spec))\n",
    "avg_df.select(\n",
    "    'ename','deptno','sal','avg_salary').show()"
   ]
  },
  {
   "cell_type": "raw",
   "id": "69646c85-fb04-4945-a6e5-a0a826b23b79",
   "metadata": {},
   "source": [
    "select \n",
    "ename, deptno, sal,\n",
    "LAG(sal) OVER( patrition by deptno order by empno) as prev_salary,\n",
    "LEAD(sal) OVER( patrition by deptno order by empno) next_salary\n",
    "from emp;"
   ]
  },
  {
   "cell_type": "code",
   "execution_count": 187,
   "id": "1a51e537-36f6-48b7-ae01-8ea3a71dd1d0",
   "metadata": {},
   "outputs": [
    {
     "name": "stdout",
     "output_type": "stream",
     "text": [
      "+------+------+----+-----------+-----------+\n",
      "| ename|deptno| sal|prev_salary|next_salary|\n",
      "+------+------+----+-----------+-----------+\n",
      "| SMITH|    20| 800|       null|       2975|\n",
      "| JONES|    20|2975|        800|       3000|\n",
      "| SCOTT|    20|3000|       2975|       1100|\n",
      "| ADAMS|    20|1100|       3000|       3000|\n",
      "|  FORD|    20|3000|       1100|       null|\n",
      "| CLARK|    10|2450|       null|       5000|\n",
      "|  KING|    10|5000|       2450|       1300|\n",
      "|MILLER|    10|1300|       5000|       null|\n",
      "|  JACK|    70|3200|       null|       null|\n",
      "| ALLEN|    30|1600|       null|       1250|\n",
      "|  WARD|    30|1250|       1600|       1250|\n",
      "|MARTIN|    30|1250|       1250|       2850|\n",
      "| BLAKE|    30|2850|       1250|       1500|\n",
      "|TURNER|    30|1500|       2850|        950|\n",
      "| JAMES|    30| 950|       1500|       null|\n",
      "+------+------+----+-----------+-----------+\n",
      "\n"
     ]
    }
   ],
   "source": [
    "from pyspark.sql.functions import lag,lead\n",
    "\n",
    "#Lead , Lag 이전 급여, 이후 급여 \n",
    "row_window_spec = Window.partitionBy('deptno').orderBy('empno')\n",
    "\n",
    "#이전 급여 , 이후 급여 컬럼 \n",
    "lead_lag_sal_df = df.withColumn('prev_salary', lag('sal').over(row_window_spec))\n",
    "lead_lag_sal_df = lead_lag_sal_df.withColumn('next_salary', lead('sal').over(row_window_spec))\n",
    "lead_lag_sal_df.select('ename','deptno','sal','prev_salary','next_salary').show()"
   ]
  },
  {
   "cell_type": "markdown",
   "id": "5d1c331d-1ced-478f-9c68-9613e0150793",
   "metadata": {},
   "source": [
    "### rollup, cube (행 추가)\n",
    "\n",
    "rollup: 계층적 집계, 부분합(subtotal), 총합(grandtotal)\n",
    "\n",
    "cube: 모든 값으로 부분합, 결합 가능한 모든 값의 부분합을 구한다.  "
   ]
  },
  {
   "cell_type": "code",
   "execution_count": 189,
   "id": "e6caed08-352f-4fc1-b35e-76d9b8f42daf",
   "metadata": {},
   "outputs": [
    {
     "name": "stdout",
     "output_type": "stream",
     "text": [
      "+------+---------+--------+--------+\n",
      "|deptno|      job|count(1)|sum(sal)|\n",
      "+------+---------+--------+--------+\n",
      "|    20|  ANALYST|       2|    6000|\n",
      "|    20|  MANAGER|       1|    2975|\n",
      "|    30|  MANAGER|       1|    2850|\n",
      "|    70|    CLERK|       1|    3200|\n",
      "|    30| SALESMAN|       4|    5600|\n",
      "|    30|    CLERK|       1|     950|\n",
      "|    20|    CLERK|       2|    1900|\n",
      "|    10|PRESIDENT|       1|    5000|\n",
      "|    10|    CLERK|       1|    1300|\n",
      "|    10|  MANAGER|       1|    2450|\n",
      "+------+---------+--------+--------+\n",
      "\n"
     ]
    }
   ],
   "source": [
    "df.groupBy('deptno','job').agg(count('*'),sum('sal')).show()"
   ]
  },
  {
   "cell_type": "code",
   "execution_count": 191,
   "id": "04c8efab-47e5-4128-a92b-1ec13f5e3e06",
   "metadata": {},
   "outputs": [
    {
     "name": "stderr",
     "output_type": "stream",
     "text": [
      "[Stage 294:==================================================>  (191 + 2) / 200]"
     ]
    },
    {
     "name": "stdout",
     "output_type": "stream",
     "text": [
      "+------+---------+--------+--------+\n",
      "|deptno|      job|count(1)|sum(sal)|\n",
      "+------+---------+--------+--------+\n",
      "|  null|     null|      15|   32225|\n",
      "|    10|     null|       3|    8750|\n",
      "|    10|    CLERK|       1|    1300|\n",
      "|    10|  MANAGER|       1|    2450|\n",
      "|    10|PRESIDENT|       1|    5000|\n",
      "|    20|     null|       5|   10875|\n",
      "|    20|  ANALYST|       2|    6000|\n",
      "|    20|    CLERK|       2|    1900|\n",
      "|    20|  MANAGER|       1|    2975|\n",
      "|    30|     null|       6|    9400|\n",
      "|    30|    CLERK|       1|     950|\n",
      "|    30|  MANAGER|       1|    2850|\n",
      "|    30| SALESMAN|       4|    5600|\n",
      "|    70|     null|       1|    3200|\n",
      "|    70|    CLERK|       1|    3200|\n",
      "+------+---------+--------+--------+\n",
      "\n"
     ]
    },
    {
     "name": "stderr",
     "output_type": "stream",
     "text": [
      "                                                                                "
     ]
    }
   ],
   "source": [
    "df.rollup('deptno','job').agg(count('*'),sum('sal')).orderBy('deptno','job').show()"
   ]
  },
  {
   "cell_type": "code",
   "execution_count": 192,
   "id": "891c0878-676e-40a2-8b19-6f6ce3162eca",
   "metadata": {},
   "outputs": [
    {
     "name": "stdout",
     "output_type": "stream",
     "text": [
      "+------+---------+--------+--------+--------+\n",
      "|deptno|      job|count(1)|min(sal)|max(sal)|\n",
      "+------+---------+--------+--------+--------+\n",
      "|  null|     null|      15|     800|    5000|\n",
      "|    10|     null|       3|    1300|    5000|\n",
      "|    10|    CLERK|       1|    1300|    1300|\n",
      "|    10|  MANAGER|       1|    2450|    2450|\n",
      "|    10|PRESIDENT|       1|    5000|    5000|\n",
      "|    20|     null|       5|     800|    3000|\n",
      "|    20|  ANALYST|       2|    3000|    3000|\n",
      "|    20|    CLERK|       2|     800|    1100|\n",
      "|    20|  MANAGER|       1|    2975|    2975|\n",
      "|    30|     null|       6|     950|    2850|\n",
      "|    30|    CLERK|       1|     950|     950|\n",
      "|    30|  MANAGER|       1|    2850|    2850|\n",
      "|    30| SALESMAN|       4|    1250|    1600|\n",
      "|    70|     null|       1|    3200|    3200|\n",
      "|    70|    CLERK|       1|    3200|    3200|\n",
      "+------+---------+--------+--------+--------+\n",
      "\n"
     ]
    },
    {
     "name": "stderr",
     "output_type": "stream",
     "text": [
      "                                                                                "
     ]
    }
   ],
   "source": [
    "#롤업 -> 대,중분류 최대/최소\n",
    "\n",
    "df.rollup('deptno','job').agg(count('*'),min('sal'),max('sal')).orderBy('deptno','job').show()"
   ]
  },
  {
   "cell_type": "raw",
   "id": "d2f01782-187b-4b3e-a4be-3ac9450cf531",
   "metadata": {},
   "source": [
    "select deptno, \n",
    "        job,\n",
    "        max(sal) as max_sal,\n",
    "        min(sal) as min_sal\n",
    "from emp\n",
    "group by rollup(deptno, job)\n",
    "order by deptno, job;"
   ]
  },
  {
   "cell_type": "code",
   "execution_count": 193,
   "id": "82d5c865-ba88-4c51-a391-b5ad8e2c31a5",
   "metadata": {},
   "outputs": [],
   "source": [
    "#job 별 평균 급여"
   ]
  },
  {
   "cell_type": "code",
   "execution_count": 200,
   "id": "3f8118a5-1194-4ac1-b8be-b033673ca112",
   "metadata": {},
   "outputs": [
    {
     "name": "stdout",
     "output_type": "stream",
     "text": [
      "+---------+------------------+---------+\n",
      "|      job|           avg_sal|total_sal|\n",
      "+---------+------------------+---------+\n",
      "|     null|2148.3333333333335|    32225|\n",
      "|  ANALYST|            3000.0|     6000|\n",
      "|    CLERK|            1470.0|     7350|\n",
      "|  MANAGER|2758.3333333333335|     8275|\n",
      "|PRESIDENT|            5000.0|     5000|\n",
      "| SALESMAN|            1400.0|     5600|\n",
      "+---------+------------------+---------+\n",
      "\n"
     ]
    },
    {
     "name": "stderr",
     "output_type": "stream",
     "text": [
      "                                                                                "
     ]
    }
   ],
   "source": [
    "df.rollup('job').agg(avg('sal').alias('avg_sal'),sum('sal').alias('total_sal')).orderBy('job').show()"
   ]
  },
  {
   "cell_type": "raw",
   "id": "37942a7d-f40e-4ea7-89f4-fdb5fd9aa1e2",
   "metadata": {},
   "source": [
    "select job,\n",
    "        avg(sal) as avg_sal,\n",
    "        sum(sal) as total_sal\n",
    "from emp\n",
    "group by rollup('job')"
   ]
  },
  {
   "cell_type": "code",
   "execution_count": null,
   "id": "8de0bda4-119a-485a-bbe2-b6060d041391",
   "metadata": {},
   "outputs": [],
   "source": [
    "#deptno, job 평균급여, 최대급여를 모두 소계 냅니다 -cube "
   ]
  },
  {
   "cell_type": "code",
   "execution_count": 205,
   "id": "8dcfc5f3-6f19-40a6-8996-093f3294b478",
   "metadata": {},
   "outputs": [
    {
     "name": "stdout",
     "output_type": "stream",
     "text": [
      "+------+---------+-------+-------+\n",
      "|deptno|      job|avg_sal|max_sal|\n",
      "+------+---------+-------+-------+\n",
      "|  null|     null| 2148.3|   5000|\n",
      "|  null|  ANALYST| 3000.0|   3000|\n",
      "|  null|    CLERK| 1470.0|   3200|\n",
      "|  null|  MANAGER| 2758.3|   2975|\n",
      "|  null|PRESIDENT| 5000.0|   5000|\n",
      "|  null| SALESMAN| 1400.0|   1600|\n",
      "|    10|     null| 2916.7|   5000|\n",
      "|    10|    CLERK| 1300.0|   1300|\n",
      "|    10|  MANAGER| 2450.0|   2450|\n",
      "|    10|PRESIDENT| 5000.0|   5000|\n",
      "|    20|     null| 2175.0|   3000|\n",
      "|    20|  ANALYST| 3000.0|   3000|\n",
      "|    20|    CLERK|  950.0|   1100|\n",
      "|    20|  MANAGER| 2975.0|   2975|\n",
      "|    30|     null| 1566.7|   2850|\n",
      "|    30|    CLERK|  950.0|    950|\n",
      "|    30|  MANAGER| 2850.0|   2850|\n",
      "|    30| SALESMAN| 1400.0|   1600|\n",
      "|    70|     null| 3200.0|   3200|\n",
      "|    70|    CLERK| 3200.0|   3200|\n",
      "+------+---------+-------+-------+\n",
      "\n"
     ]
    },
    {
     "name": "stderr",
     "output_type": "stream",
     "text": [
      "                                                                                "
     ]
    }
   ],
   "source": [
    "df.cube('deptno','job')\\\n",
    "    .agg(round(avg('sal'),1).alias('avg_sal'), \n",
    "         max('sal').alias('max_sal'))\\\n",
    "    .orderBy('deptno','job')\\\n",
    "    .show()"
   ]
  },
  {
   "cell_type": "raw",
   "id": "7d123ebe-a014-4f0b-b341-4f0de941ced7",
   "metadata": {},
   "source": [
    "select deptno,\n",
    "        job,\n",
    "        round(avg(sal),1) as avg_sal,\n",
    "        sum(sal) as total_sal\n",
    "from emp\n",
    "group by cube('deptno','job')\n",
    "order by deptno, job;"
   ]
  },
  {
   "cell_type": "code",
   "execution_count": null,
   "id": "d2a2f947-d317-4743-870e-465cdf9f04ce",
   "metadata": {},
   "outputs": [],
   "source": []
  },
  {
   "cell_type": "code",
   "execution_count": 206,
   "id": "14caefee-e811-45df-82f4-93f39847e6d7",
   "metadata": {},
   "outputs": [],
   "source": [
    "spark.stop()"
   ]
  },
  {
   "cell_type": "code",
   "execution_count": null,
   "id": "1acc203b-8de9-43b0-ada2-cd19f1aa766c",
   "metadata": {},
   "outputs": [],
   "source": []
  }
 ],
 "metadata": {
  "kernelspec": {
   "display_name": "Python (spark_start)",
   "language": "python",
   "name": "spark_start"
  },
  "language_info": {
   "codemirror_mode": {
    "name": "ipython",
    "version": 3
   },
   "file_extension": ".py",
   "mimetype": "text/x-python",
   "name": "python",
   "nbconvert_exporter": "python",
   "pygments_lexer": "ipython3",
   "version": "3.8.20"
  }
 },
 "nbformat": 4,
 "nbformat_minor": 5
}
