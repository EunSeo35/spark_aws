{
 "cells": [
  {
   "cell_type": "code",
   "execution_count": 4,
   "id": "35011605-d445-44d0-8ef4-51014c83b55e",
   "metadata": {},
   "outputs": [],
   "source": [
    "from pyspark.sql import SparkSession\n",
    "spark = SparkSession.builder.appName('24121003_yellowtaxi_trip_count').getOrCreate()"
   ]
  },
  {
   "cell_type": "code",
   "execution_count": 5,
   "id": "357c1063-d0c8-4f77-9124-e2a7eb63eae7",
   "metadata": {},
   "outputs": [],
   "source": [
    "import os\n",
    "trip_files = '/trips/*'\n",
    "zone_file = 'taxi+_zone_lookup.csv'\n",
    "directory = os.path.join(os.getcwd(), 'data')"
   ]
  },
  {
   "cell_type": "code",
   "execution_count": 6,
   "id": "800d1961-b397-4435-a089-0322150b4ab4",
   "metadata": {},
   "outputs": [
    {
     "name": "stderr",
     "output_type": "stream",
     "text": [
      "                                                                                "
     ]
    }
   ],
   "source": [
    "trips_df = spark.read.csv(f'file:///{directory}/{trip_files}', inferSchema = True, header = True)"
   ]
  },
  {
   "cell_type": "code",
   "execution_count": 7,
   "id": "05d4c4b3-6483-49d4-a64b-e410fc058831",
   "metadata": {},
   "outputs": [],
   "source": [
    "zone_df = spark.read.csv(f'file:///{directory}/{zone_file}', inferSchema = True, header = True)"
   ]
  },
  {
   "cell_type": "code",
   "execution_count": 12,
   "id": "4d006093-aa04-4742-aaad-d1d0b77cee88",
   "metadata": {},
   "outputs": [
    {
     "name": "stdout",
     "output_type": "stream",
     "text": [
      "root\n",
      " |-- VendorID: integer (nullable = true)\n",
      " |-- tpep_pickup_datetime: string (nullable = true)\n",
      " |-- tpep_dropoff_datetime: string (nullable = true)\n",
      " |-- passenger_count: integer (nullable = true)\n",
      " |-- trip_distance: double (nullable = true)\n",
      " |-- RatecodeID: integer (nullable = true)\n",
      " |-- store_and_fwd_flag: string (nullable = true)\n",
      " |-- PULocationID: integer (nullable = true)\n",
      " |-- DOLocationID: integer (nullable = true)\n",
      " |-- payment_type: integer (nullable = true)\n",
      " |-- fare_amount: double (nullable = true)\n",
      " |-- extra: double (nullable = true)\n",
      " |-- mta_tax: double (nullable = true)\n",
      " |-- tip_amount: double (nullable = true)\n",
      " |-- tolls_amount: double (nullable = true)\n",
      " |-- improvement_surcharge: double (nullable = true)\n",
      " |-- total_amount: double (nullable = true)\n",
      " |-- congestion_surcharge: double (nullable = true)\n",
      "\n"
     ]
    }
   ],
   "source": [
    "trips_df.printSchema()"
   ]
  },
  {
   "cell_type": "code",
   "execution_count": 13,
   "id": "889310f4-bf5b-4562-8546-0d76b785e9c2",
   "metadata": {},
   "outputs": [
    {
     "name": "stdout",
     "output_type": "stream",
     "text": [
      "root\n",
      " |-- LocationID: integer (nullable = true)\n",
      " |-- Borough: string (nullable = true)\n",
      " |-- Zone: string (nullable = true)\n",
      " |-- service_zone: string (nullable = true)\n",
      "\n"
     ]
    }
   ],
   "source": [
    "zone_df.printSchema()"
   ]
  },
  {
   "cell_type": "code",
   "execution_count": 14,
   "id": "67cc1b74-ec0e-471f-96d2-af36ecb47883",
   "metadata": {},
   "outputs": [],
   "source": [
    "trips_df.createOrReplaceTempView('trips')\n",
    "zone_df.createOrReplaceTempView('zone')"
   ]
  },
  {
   "cell_type": "code",
   "execution_count": 26,
   "id": "e7fc4d16-dabe-4de8-8c7c-a307b3bcab1f",
   "metadata": {},
   "outputs": [],
   "source": [
    "comb_df = spark.sql(\n",
    "    '''\n",
    "    select t.VendorID, \n",
    "        TO_DATE(t.tpep_pickup_datetime) as pickup_date,\n",
    "        TO_DATE(t.tpep_dropoff_datetime) as dropoff_date,\n",
    "        HOUR(t.tpep_pickup_datetime) as pickup_time,\n",
    "        HOUR(t.tpep_dropoff_datetime) as dropoff_time,\n",
    "        t.passenger_count,\n",
    "        t.trip_distance,\n",
    "        t.payment_type,\n",
    "        t.tip_amount,\n",
    "        t.total_amount,\n",
    "        t.payment_type,\n",
    "        pz.Zone as pickup_zone,\n",
    "        dz.Zone as dropoff_zone\n",
    "        \n",
    "        \n",
    "    from trips t\n",
    "    LEFT JOIN zone pz ON t.PULocationID = pz.LocationID\n",
    "    LEFT JOIN zone dz ON t.DOLocationID = dz.LocationID\n",
    "    '''\n",
    ")"
   ]
  },
  {
   "cell_type": "code",
   "execution_count": 27,
   "id": "56918a76-9369-404d-b594-429ef6f04bc0",
   "metadata": {},
   "outputs": [
    {
     "name": "stderr",
     "output_type": "stream",
     "text": [
      "                                                                                "
     ]
    },
    {
     "data": {
      "text/plain": [
       "8921358"
      ]
     },
     "execution_count": 27,
     "metadata": {},
     "output_type": "execute_result"
    }
   ],
   "source": [
    "comb_df.count()"
   ]
  },
  {
   "cell_type": "code",
   "execution_count": 28,
   "id": "9920bbc6-8d94-45f7-8eb5-fb4b183038fb",
   "metadata": {},
   "outputs": [
    {
     "name": "stdout",
     "output_type": "stream",
     "text": [
      "+--------+-----------+------------+-----------+------------+---------------+-------------+------------+----------+------------+------------+-----------------+--------------+\n",
      "|VendorID|pickup_date|dropoff_date|pickup_time|dropoff_time|passenger_count|trip_distance|payment_type|tip_amount|total_amount|payment_type|      pickup_zone|  dropoff_zone|\n",
      "+--------+-----------+------------+-----------+------------+---------------+-------------+------------+----------+------------+------------+-----------------+--------------+\n",
      "|       2| 2021-03-01|  2021-03-01|          0|           0|              1|          0.0|           2|       0.0|         4.3|           2|               NV|            NV|\n",
      "|       2| 2021-03-01|  2021-03-01|          0|           0|              1|          0.0|           2|       0.0|         3.8|           2|   Manhattanville|Manhattanville|\n",
      "|       2| 2021-03-01|  2021-03-01|          0|           0|              1|          0.0|           2|       0.0|         4.8|           2|   Manhattanville|Manhattanville|\n",
      "|       1| 2021-03-01|  2021-03-01|          0|           0|              0|         16.5|           1|     11.65|       70.07|           1|LaGuardia Airport|            NA|\n",
      "|       2| 2021-03-01|  2021-03-01|          0|           0|              1|         1.13|           1|      1.86|       11.16|           1|     East Chelsea|            NV|\n",
      "+--------+-----------+------------+-----------+------------+---------------+-------------+------------+----------+------------+------------+-----------------+--------------+\n",
      "only showing top 5 rows\n",
      "\n"
     ]
    }
   ],
   "source": [
    "comb_df.show(5)"
   ]
  },
  {
   "cell_type": "code",
   "execution_count": 30,
   "id": "67adee7d-4006-477e-9b0c-6269373fe551",
   "metadata": {},
   "outputs": [],
   "source": [
    "comb_df.createOrReplaceTempView('comb')"
   ]
  },
  {
   "cell_type": "code",
   "execution_count": 35,
   "id": "fd162aa5-2630-4af5-a557-a3456eb11efd",
   "metadata": {},
   "outputs": [
    {
     "name": "stderr",
     "output_type": "stream",
     "text": [
      "[Stage 45:=================================================>        (6 + 1) / 7]"
     ]
    },
    {
     "name": "stdout",
     "output_type": "stream",
     "text": [
      "+-----------+\n",
      "|pickup_time|\n",
      "+-----------+\n",
      "|       null|\n",
      "|          0|\n",
      "|          1|\n",
      "|          2|\n",
      "|          3|\n",
      "|          4|\n",
      "|          5|\n",
      "|          6|\n",
      "|          7|\n",
      "|          8|\n",
      "|          9|\n",
      "|         10|\n",
      "|         11|\n",
      "|         12|\n",
      "|         13|\n",
      "|         14|\n",
      "|         15|\n",
      "|         16|\n",
      "|         17|\n",
      "|         18|\n",
      "|         19|\n",
      "|         20|\n",
      "|         21|\n",
      "|         22|\n",
      "|         23|\n",
      "+-----------+\n",
      "\n"
     ]
    },
    {
     "name": "stderr",
     "output_type": "stream",
     "text": [
      "                                                                                "
     ]
    }
   ],
   "source": [
    "spark.sql(\n",
    "    '''\n",
    "    select distinct pickup_time\n",
    "    from comb\n",
    "    order by pickup_time asc\n",
    "    '''\n",
    ").show(30)"
   ]
  },
  {
   "cell_type": "code",
   "execution_count": null,
   "id": "40c7efca-c21d-4023-baf6-9ae1c8370766",
   "metadata": {},
   "outputs": [],
   "source": []
  },
  {
   "cell_type": "code",
   "execution_count": 37,
   "id": "a933ad71-37d5-4ec1-8883-01d62bd9ceb9",
   "metadata": {},
   "outputs": [
    {
     "name": "stderr",
     "output_type": "stream",
     "text": [
      "[Stage 51:=================================================>        (6 + 1) / 7]"
     ]
    },
    {
     "name": "stdout",
     "output_type": "stream",
     "text": [
      "+-------+------------------+------------------+------------------+------------------+------------------+-------------------+------------------+------------------+-------------------+--------------------+--------------------+\n",
      "|summary|          VendorID|       pickup_time|      dropoff_time|   passenger_count|     trip_distance|       payment_type|        tip_amount|      total_amount|       payment_type|         pickup_zone|        dropoff_zone|\n",
      "+-------+------------------+------------------+------------------+------------------+------------------+-------------------+------------------+------------------+-------------------+--------------------+--------------------+\n",
      "|  count|           8596840|           8921357|           8921357|           8596839|           8921357|            8596838|           8921355|           8921354|            8596838|             8921357|             8921356|\n",
      "|   mean| 1.682631874037437|14.074268185882485|14.178853844768234|1.4186727237767276|3.7238418706928775|  1.263438371177868|2.0640901298068695| 17.99879389738831|  1.263438371177868|                null|                null|\n",
      "| stddev|0.4654520638972218|4.9642437412210105| 5.022495523857638|1.0434119830811381|293.76369881933465|0.48143819212054034|2.5215341583519155|188.57287562703326|0.48143819212054034|                null|                null|\n",
      "|    min|                 1|                 0|                 0|                 0|               0.0|                  1|           -333.32|            -634.8|                  1|Allerton/Pelham G...|Allerton/Pelham G...|\n",
      "|    max|                 2|                23|                23|                 9|         263163.28|                  4|           1140.44|          398469.2|                  4|      Yorkville West|      Yorkville West|\n",
      "+-------+------------------+------------------+------------------+------------------+------------------+-------------------+------------------+------------------+-------------------+--------------------+--------------------+\n",
      "\n"
     ]
    },
    {
     "name": "stderr",
     "output_type": "stream",
     "text": [
      "                                                                                "
     ]
    }
   ],
   "source": [
    "comb_df.describe().show()"
   ]
  },
  {
   "cell_type": "code",
   "execution_count": 38,
   "id": "e694c52f-3b9b-4a1a-97e7-b129b77089b9",
   "metadata": {},
   "outputs": [
    {
     "name": "stdout",
     "output_type": "stream",
     "text": [
      "+-----------+-----------+\n",
      "|pickup_date|pickup_time|\n",
      "+-----------+-----------+\n",
      "| 2021-03-01|          1|\n",
      "| 2021-03-01|          1|\n",
      "| 2021-03-01|          1|\n",
      "| 2021-03-01|          1|\n",
      "| 2021-03-01|          1|\n",
      "+-----------+-----------+\n",
      "only showing top 5 rows\n",
      "\n"
     ]
    }
   ],
   "source": [
    "# 실행계획, 실행결과(4040)\n",
    "query2 = '''\n",
    "select pickup_date, pickup_time\n",
    "from comb\n",
    "where pickup_time > 0 and pickup_time <= 12\n",
    "'''\n",
    "spark.sql(query2).show(5)"
   ]
  },
  {
   "cell_type": "code",
   "execution_count": 39,
   "id": "5fc035c3-75fd-4ea6-86bb-aa1b070adc19",
   "metadata": {},
   "outputs": [
    {
     "name": "stdout",
     "output_type": "stream",
     "text": [
      "== Physical Plan ==\n",
      "*(3) Project [cast(tpep_pickup_datetime#17 as date) AS pickup_date#419, hour(cast(tpep_pickup_datetime#17 as timestamp), Some(Asia/Seoul)) AS pickup_time#421]\n",
      "+- *(3) BroadcastHashJoin [DOLocationID#24], [LocationID#425], LeftOuter, BuildRight, false\n",
      "   :- *(3) Project [tpep_pickup_datetime#17, DOLocationID#24]\n",
      "   :  +- *(3) BroadcastHashJoin [PULocationID#23], [LocationID#68], LeftOuter, BuildRight, false\n",
      "   :     :- *(3) Filter ((isnotnull(tpep_pickup_datetime#17) AND (hour(cast(tpep_pickup_datetime#17 as timestamp), Some(Asia/Seoul)) > 0)) AND (hour(cast(tpep_pickup_datetime#17 as timestamp), Some(Asia/Seoul)) <= 12))\n",
      "   :     :  +- FileScan csv [tpep_pickup_datetime#17,PULocationID#23,DOLocationID#24] Batched: false, DataFilters: [isnotnull(tpep_pickup_datetime#17), (hour(cast(tpep_pickup_datetime#17 as timestamp), Some(Asia/..., Format: CSV, Location: InMemoryFileIndex[file:/home/lab09/git/src/data/trips/yellow_tripdata_2021-01.csv, file:/home/lab..., PartitionFilters: [], PushedFilters: [IsNotNull(tpep_pickup_datetime)], ReadSchema: struct<tpep_pickup_datetime:string,PULocationID:int,DOLocationID:int>\n",
      "   :     +- BroadcastExchange HashedRelationBroadcastMode(List(cast(input[0, int, false] as bigint)),false), [id=#1578]\n",
      "   :        +- *(1) Filter isnotnull(LocationID#68)\n",
      "   :           +- FileScan csv [LocationID#68] Batched: false, DataFilters: [isnotnull(LocationID#68)], Format: CSV, Location: InMemoryFileIndex[file:/home/lab09/git/src/data/taxi+_zone_lookup.csv], PartitionFilters: [], PushedFilters: [IsNotNull(LocationID)], ReadSchema: struct<LocationID:int>\n",
      "   +- ReusedExchange [LocationID#425], BroadcastExchange HashedRelationBroadcastMode(List(cast(input[0, int, false] as bigint)),false), [id=#1578]\n",
      "\n",
      "\n"
     ]
    }
   ],
   "source": [
    "spark.sql(query2).explain()"
   ]
  },
  {
   "cell_type": "code",
   "execution_count": 40,
   "id": "62876189-28a5-4db9-b501-c9f0fabe7c4e",
   "metadata": {},
   "outputs": [
    {
     "name": "stderr",
     "output_type": "stream",
     "text": [
      "[Stage 57:==================================>                   (128 + 2) / 200]"
     ]
    },
    {
     "name": "stdout",
     "output_type": "stream",
     "text": [
      "+-----------+----------+\n",
      "|pickup_date|trip_count|\n",
      "+-----------+----------+\n",
      "| 2002-12-31|         1|\n",
      "| 2004-04-04|         1|\n",
      "| 2008-12-31|        15|\n",
      "| 2009-01-01|        23|\n",
      "| 2020-12-31|        16|\n",
      "+-----------+----------+\n",
      "only showing top 5 rows\n",
      "\n"
     ]
    },
    {
     "name": "stderr",
     "output_type": "stream",
     "text": [
      "                                                                                "
     ]
    }
   ],
   "source": [
    "# 실행계획, 실행결과(4040)\n",
    "query3 = '''\n",
    "select pickup_date, count(*) as trip_count\n",
    "from comb\n",
    "where pickup_time > 0\n",
    "group by pickup_date\n",
    "order by pickup_date\n",
    "'''\n",
    "spark.sql(query3).show(5)"
   ]
  },
  {
   "cell_type": "code",
   "execution_count": 41,
   "id": "73a47943-8af7-4938-8166-83caf2355634",
   "metadata": {},
   "outputs": [
    {
     "name": "stdout",
     "output_type": "stream",
     "text": [
      "== Physical Plan ==\n",
      "*(5) Sort [pickup_date#419 ASC NULLS FIRST], true, 0\n",
      "+- Exchange rangepartitioning(pickup_date#419 ASC NULLS FIRST, 200), ENSURE_REQUIREMENTS, [id=#1840]\n",
      "   +- *(4) HashAggregate(keys=[pickup_date#419], functions=[count(1)])\n",
      "      +- Exchange hashpartitioning(pickup_date#419, 200), ENSURE_REQUIREMENTS, [id=#1836]\n",
      "         +- *(3) HashAggregate(keys=[pickup_date#419], functions=[partial_count(1)])\n",
      "            +- *(3) Project [cast(tpep_pickup_datetime#17 as date) AS pickup_date#419]\n",
      "               +- *(3) BroadcastHashJoin [DOLocationID#24], [LocationID#425], LeftOuter, BuildRight, false\n",
      "                  :- *(3) Project [tpep_pickup_datetime#17, DOLocationID#24]\n",
      "                  :  +- *(3) BroadcastHashJoin [PULocationID#23], [LocationID#68], LeftOuter, BuildRight, false\n",
      "                  :     :- *(3) Filter (isnotnull(tpep_pickup_datetime#17) AND (hour(cast(tpep_pickup_datetime#17 as timestamp), Some(Asia/Seoul)) > 0))\n",
      "                  :     :  +- FileScan csv [tpep_pickup_datetime#17,PULocationID#23,DOLocationID#24] Batched: false, DataFilters: [isnotnull(tpep_pickup_datetime#17), (hour(cast(tpep_pickup_datetime#17 as timestamp), Some(Asia/..., Format: CSV, Location: InMemoryFileIndex[file:/home/lab09/git/src/data/trips/yellow_tripdata_2021-01.csv, file:/home/lab..., PartitionFilters: [], PushedFilters: [IsNotNull(tpep_pickup_datetime)], ReadSchema: struct<tpep_pickup_datetime:string,PULocationID:int,DOLocationID:int>\n",
      "                  :     +- BroadcastExchange HashedRelationBroadcastMode(List(cast(input[0, int, false] as bigint)),false), [id=#1797]\n",
      "                  :        +- *(1) Filter isnotnull(LocationID#68)\n",
      "                  :           +- FileScan csv [LocationID#68] Batched: false, DataFilters: [isnotnull(LocationID#68)], Format: CSV, Location: InMemoryFileIndex[file:/home/lab09/git/src/data/taxi+_zone_lookup.csv], PartitionFilters: [], PushedFilters: [IsNotNull(LocationID)], ReadSchema: struct<LocationID:int>\n",
      "                  +- ReusedExchange [LocationID#425], BroadcastExchange HashedRelationBroadcastMode(List(cast(input[0, int, false] as bigint)),false), [id=#1797]\n",
      "\n",
      "\n"
     ]
    }
   ],
   "source": [
    "spark.sql(query3).explain()"
   ]
  },
  {
   "cell_type": "code",
   "execution_count": null,
   "id": "9870e39f-e3e4-413c-a2f7-4a1d7354f2e2",
   "metadata": {},
   "outputs": [],
   "source": []
  }
 ],
 "metadata": {
  "kernelspec": {
   "display_name": "Python (spark_start)",
   "language": "python",
   "name": "spark_start"
  },
  "language_info": {
   "codemirror_mode": {
    "name": "ipython",
    "version": 3
   },
   "file_extension": ".py",
   "mimetype": "text/x-python",
   "name": "python",
   "nbconvert_exporter": "python",
   "pygments_lexer": "ipython3",
   "version": "3.8.20"
  }
 },
 "nbformat": 4,
 "nbformat_minor": 5
}
