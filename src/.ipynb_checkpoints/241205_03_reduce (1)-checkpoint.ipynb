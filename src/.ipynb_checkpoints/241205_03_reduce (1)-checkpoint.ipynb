{
 "cells": [
  {
   "cell_type": "code",
   "execution_count": 1,
   "id": "63c78f65",
   "metadata": {},
   "outputs": [
    {
     "name": "stderr",
     "output_type": "stream",
     "text": [
      "24/12/05 10:51:57 WARN NativeCodeLoader: Unable to load native-hadoop library for your platform... using builtin-java classes where applicable\n",
      "Using Spark's default log4j profile: org/apache/spark/log4j-defaults.properties\n",
      "Setting default log level to \"WARN\".\n",
      "To adjust logging level use sc.setLogLevel(newLevel). For SparkR, use setLogLevel(newLevel).\n"
     ]
    }
   ],
   "source": [
    "from pyspark import SparkConf , SparkContext\n",
    "\n",
    "conf = SparkConf().setMaster(\"local\").setAppName(\"241205_03_reduce\")\n",
    "spark = SparkContext(conf=conf).getOrCreate()"
   ]
  },
  {
   "cell_type": "markdown",
   "id": "72dcf335",
   "metadata": {},
   "source": [
    "### Reduce : 여러개의 값을 하나로 축약"
   ]
  },
  {
   "cell_type": "code",
   "execution_count": 6,
   "id": "ee84ac5f",
   "metadata": {},
   "outputs": [],
   "source": [
    "#RDD.rduce( <func>)"
   ]
  },
  {
   "cell_type": "code",
   "execution_count": 3,
   "id": "25b4b0cc",
   "metadata": {},
   "outputs": [
    {
     "data": {
      "text/plain": [
       "ParallelCollectionRDD[0] at readRDDFromFile at PythonRDD.scala:274"
      ]
     },
     "execution_count": 3,
     "metadata": {},
     "output_type": "execute_result"
    }
   ],
   "source": [
    "sample_rdd = spark.parallelize([1,2,3,4,5])\n",
    "sample_rdd"
   ]
  },
  {
   "cell_type": "code",
   "execution_count": 4,
   "id": "13848871",
   "metadata": {},
   "outputs": [],
   "source": [
    "from operator import add"
   ]
  },
  {
   "cell_type": "code",
   "execution_count": 5,
   "id": "4a9868a0",
   "metadata": {},
   "outputs": [
    {
     "name": "stderr",
     "output_type": "stream",
     "text": [
      "                                                                                \r"
     ]
    },
    {
     "data": {
      "text/plain": [
       "15"
      ]
     },
     "execution_count": 5,
     "metadata": {},
     "output_type": "execute_result"
    }
   ],
   "source": [
    "sample_rdd.reduce(add)"
   ]
  },
  {
   "cell_type": "markdown",
   "id": "1798978f",
   "metadata": {},
   "source": [
    "## Partition이 나뉘어져 있을 때\n",
    "\n",
    "*** Reduce 연산은 순서 의존적 ***\n",
    "\n",
    "각 파티션 내에서 연산은 독립적으로 실행, 최종 결과는 파티션 간의 결과가 결합\n",
    "\n",
    "ex) lambda x,y : (x*2)+y\n",
    "\n",
    "1: x=1, y=2 >> (1*2)+2 = 4\n",
    "\n",
    "2: x=4, y=3 >> (4*2)+2 = 11\n",
    "\n",
    "3: x=11, y=4 >> (11*2)+4 = 26\n"
   ]
  },
  {
   "cell_type": "code",
   "execution_count": 8,
   "id": "13b07f66",
   "metadata": {},
   "outputs": [
    {
     "data": {
      "text/plain": [
       "26"
      ]
     },
     "execution_count": 8,
     "metadata": {},
     "output_type": "execute_result"
    }
   ],
   "source": [
    "sample_rdd1 = spark.parallelize([1,2,3,4])\n",
    "sample_rdd1.reduce(lambda x,y : (x*2)+y)"
   ]
  },
  {
   "cell_type": "code",
   "execution_count": 9,
   "id": "4bed2cee",
   "metadata": {},
   "outputs": [
    {
     "data": {
      "text/plain": [
       "[[1, 2, 3, 4]]"
      ]
     },
     "execution_count": 9,
     "metadata": {},
     "output_type": "execute_result"
    }
   ],
   "source": [
    "sample_rdd1.glom().collect()"
   ]
  },
  {
   "cell_type": "code",
   "execution_count": 12,
   "id": "8b9022c2",
   "metadata": {},
   "outputs": [
    {
     "data": {
      "text/plain": [
       "[[1, 2], [3, 4]]"
      ]
     },
     "execution_count": 12,
     "metadata": {},
     "output_type": "execute_result"
    }
   ],
   "source": [
    "sample_rdd2 = spark.parallelize([1,2,3,4],2)\n",
    "sample_rdd2.glom().collect()"
   ]
  },
  {
   "cell_type": "markdown",
   "id": "4aad3e37",
   "metadata": {},
   "source": [
    "파티션1\n",
    "\n",
    "1: 1*2 + 2 =4\n",
    "\n",
    "파티션2\n",
    "\n",
    "1: 3*2 + 4 = 10\n",
    "\n",
    "최종결합\n",
    "\n",
    "x=4, y=10\n",
    "4*2 + 10 = 18"
   ]
  },
  {
   "cell_type": "code",
   "execution_count": 14,
   "id": "c2aab515",
   "metadata": {},
   "outputs": [
    {
     "data": {
      "text/plain": [
       "18"
      ]
     },
     "execution_count": 14,
     "metadata": {},
     "output_type": "execute_result"
    }
   ],
   "source": [
    "sample_rdd2.reduce(lambda x,y : (x*2)+y )"
   ]
  },
  {
   "cell_type": "markdown",
   "id": "ece23cdc",
   "metadata": {},
   "source": [
    "파티션1\n",
    "\n",
    "1: 1\n",
    "\n",
    "파티션2\n",
    "\n",
    "1: 2\n",
    "\n",
    "파티션3\n",
    "\n",
    "1: 3 * 2 + 4 = 10\n",
    "\n",
    "* p1, p2 결합\n",
    "\n",
    "x = 1, y = 2 : 1 * 2 + 2 = 4\n",
    "\n",
    "* 4와 p3 결합\n",
    "\n",
    "x = 4, y = 10 : 4 * 2 + 10 = 18\n"
   ]
  },
  {
   "cell_type": "code",
   "execution_count": 18,
   "id": "c5a583eb",
   "metadata": {},
   "outputs": [
    {
     "data": {
      "text/plain": [
       "[[1], [2], [3, 4]]"
      ]
     },
     "execution_count": 18,
     "metadata": {},
     "output_type": "execute_result"
    }
   ],
   "source": [
    "sample_rdd3 = spark.parallelize([1,2,3,4],3)\n",
    "sample_rdd3.glom().collect()"
   ]
  },
  {
   "cell_type": "code",
   "execution_count": 19,
   "id": "3db5dcc0",
   "metadata": {},
   "outputs": [
    {
     "data": {
      "text/plain": [
       "18"
      ]
     },
     "execution_count": 19,
     "metadata": {},
     "output_type": "execute_result"
    }
   ],
   "source": [
    "sample_rdd3.reduce(lambda x,y : (x*2)+y )"
   ]
  },
  {
   "cell_type": "code",
   "execution_count": null,
   "id": "3535ec45",
   "metadata": {},
   "outputs": [],
   "source": []
  },
  {
   "cell_type": "markdown",
   "id": "1aa7b362",
   "metadata": {},
   "source": [
    "## fold 연산의 활용\n",
    "\n",
    "\n",
    "fold(zeroValue, \\<func> )\n",
    "\n",
    "zeroValue : 시작값, 항등원 *일때 1, +일 경우 0\n",
    "\n",
    "    "
   ]
  },
  {
   "cell_type": "code",
   "execution_count": 20,
   "id": "2080cef6",
   "metadata": {},
   "outputs": [
    {
     "data": {
      "text/plain": [
       "24"
      ]
     },
     "execution_count": 20,
     "metadata": {},
     "output_type": "execute_result"
    }
   ],
   "source": [
    "rdd4 =  spark.parallelize([2,3,4],4)\n",
    "rdd4.reduce(lambda x,y : x*y)"
   ]
  },
  {
   "cell_type": "code",
   "execution_count": 23,
   "id": "af23eff2",
   "metadata": {},
   "outputs": [
    {
     "data": {
      "text/plain": [
       "24"
      ]
     },
     "execution_count": 23,
     "metadata": {},
     "output_type": "execute_result"
    }
   ],
   "source": [
    "rdd4.fold(1, lambda x,y : x*y)"
   ]
  },
  {
   "cell_type": "code",
   "execution_count": 26,
   "id": "4de32f0f",
   "metadata": {},
   "outputs": [
    {
     "name": "stdout",
     "output_type": "stream",
     "text": [
      "Reduce Error: Can not reduce() empty RDD\n"
     ]
    }
   ],
   "source": [
    "#빈 RDD\n",
    "rdd5 = spark.parallelize([])\n",
    "try:\n",
    "    rdd5.reduce(lambda a,b : a+b)\n",
    "except ValueError as e:\n",
    "    print(f\"Reduce Error: {e}\")\n",
    "    "
   ]
  },
  {
   "cell_type": "code",
   "execution_count": 27,
   "id": "533cc438",
   "metadata": {},
   "outputs": [
    {
     "data": {
      "text/plain": [
       "0"
      ]
     },
     "execution_count": 27,
     "metadata": {},
     "output_type": "execute_result"
    }
   ],
   "source": [
    "rdd5.fold(0,lambda a,b : a+b)"
   ]
  },
  {
   "cell_type": "markdown",
   "id": "9f295b29",
   "metadata": {},
   "source": [
    "#### reduce(), fold()\n",
    "1. reduce : 단순한 RDD 연산, 비어있지 않는 RDD의 경우\n",
    "2. fold : 일반적이고 오류가 없는 연산, 초기값을 적용하여 비어있는 RDD, 파티션의 경우에도 적용할 수 있음"
   ]
  },
  {
   "cell_type": "code",
   "execution_count": 28,
   "id": "a809ea03",
   "metadata": {},
   "outputs": [
    {
     "data": {
      "text/plain": [
       "[1, 'a', 2]"
      ]
     },
     "execution_count": 28,
     "metadata": {},
     "output_type": "execute_result"
    }
   ],
   "source": [
    "rdd6 = spark.parallelize([1,'a',2])\n",
    "rdd6.collect()"
   ]
  },
  {
   "cell_type": "code",
   "execution_count": 44,
   "id": "32e514d2",
   "metadata": {},
   "outputs": [
    {
     "name": "stdout",
     "output_type": "stream",
     "text": [
      "<class 'str'> 1a2\n"
     ]
    }
   ],
   "source": [
    "from py4j.protocol import Py4JJavaError\n",
    "\n",
    "try:\n",
    "    res = rdd6.reduce(lambda x,y : str(x)+str(y))\n",
    "    print(type(res), res)\n",
    "    \n",
    "except TypeError as e:\n",
    "    print(f'Reduce Error: {e}')"
   ]
  },
  {
   "cell_type": "code",
   "execution_count": null,
   "id": "157d82bb",
   "metadata": {},
   "outputs": [],
   "source": []
  },
  {
   "cell_type": "code",
   "execution_count": null,
   "id": "52aa7264",
   "metadata": {},
   "outputs": [],
   "source": []
  },
  {
   "cell_type": "code",
   "execution_count": 45,
   "id": "5fd1fc14",
   "metadata": {},
   "outputs": [],
   "source": [
    "#groupBy(), aggregate()"
   ]
  },
  {
   "cell_type": "code",
   "execution_count": 46,
   "id": "3f579349",
   "metadata": {},
   "outputs": [
    {
     "data": {
      "text/plain": [
       "[1, 2, 1, 2, 34, 4, 5, 6]"
      ]
     },
     "execution_count": 46,
     "metadata": {},
     "output_type": "execute_result"
    }
   ],
   "source": [
    "rdd7 = spark.parallelize([1,2,1,2,34,4,5,6])\n",
    "rdd7.collect()"
   ]
  },
  {
   "cell_type": "code",
   "execution_count": 48,
   "id": "6416be75",
   "metadata": {},
   "outputs": [],
   "source": [
    "res= rdd7.groupBy(lambda x : x%2).collect()"
   ]
  },
  {
   "cell_type": "code",
   "execution_count": 51,
   "id": "5cfd830d",
   "metadata": {},
   "outputs": [
    {
     "data": {
      "text/plain": [
       "[(0, [2, 2, 4, 6, 34]), (1, [1, 1, 5])]"
      ]
     },
     "execution_count": 51,
     "metadata": {},
     "output_type": "execute_result"
    }
   ],
   "source": [
    "#sorted() list을 순회하면서 정렬하여 출력\n",
    "sorted([(x,sorted(y)) for (x,y) in res])"
   ]
  },
  {
   "cell_type": "code",
   "execution_count": 52,
   "id": "ec641602",
   "metadata": {},
   "outputs": [],
   "source": [
    "#RDD.aggregate(zeroValue, func1_partion, fun2_combine)"
   ]
  },
  {
   "cell_type": "code",
   "execution_count": 53,
   "id": "15caf55c",
   "metadata": {},
   "outputs": [],
   "source": [
    "fun1 = lambda x,y : (x[0] + y, x[1] +1 )"
   ]
  },
  {
   "cell_type": "code",
   "execution_count": 55,
   "id": "6bef4e79",
   "metadata": {},
   "outputs": [],
   "source": [
    "fun2 = lambda x,y : (x[0] + y[0], x[1] +y[1])"
   ]
  },
  {
   "cell_type": "code",
   "execution_count": 56,
   "id": "60955397",
   "metadata": {},
   "outputs": [],
   "source": [
    "rdd8 = spark.parallelize([1,2,3,4],2)"
   ]
  },
  {
   "cell_type": "code",
   "execution_count": 64,
   "id": "340c3b1c",
   "metadata": {},
   "outputs": [
    {
     "data": {
      "text/plain": [
       "[[1, 2], [3, 4]]"
      ]
     },
     "execution_count": 64,
     "metadata": {},
     "output_type": "execute_result"
    }
   ],
   "source": [
    "rdd8.glom().collect()"
   ]
  },
  {
   "cell_type": "code",
   "execution_count": 65,
   "id": "f57528fd",
   "metadata": {},
   "outputs": [
    {
     "data": {
      "text/plain": [
       "(10, 4)"
      ]
     },
     "execution_count": 65,
     "metadata": {},
     "output_type": "execute_result"
    }
   ],
   "source": [
    "rdd8.aggregate((0,0), fun1, fun2)"
   ]
  },
  {
   "cell_type": "markdown",
   "id": "75dd6fb6",
   "metadata": {},
   "source": []
  },
  {
   "cell_type": "code",
   "execution_count": null,
   "id": "56eddbfb",
   "metadata": {},
   "outputs": [],
   "source": []
  },
  {
   "cell_type": "markdown",
   "id": "bf25e0b9",
   "metadata": {},
   "source": [
    "## key-value RDD (Paired RDD)\n",
    "\n",
    "1) groupByKey() : 두단계 (groupByKey() -> mapValues())\n",
    "\n",
    "2) reduceByKey() : 한단계\n",
    "\n",
    "그룹핑 후 transformation을 수행, 키가 필요함.\n",
    "\n",
    "reduceByKey() > groupByKey()\n",
    "\n"
   ]
  },
  {
   "cell_type": "code",
   "execution_count": 66,
   "id": "39bd5deb",
   "metadata": {},
   "outputs": [],
   "source": [
    "rdd9 = spark.parallelize(\n",
    "    [\n",
    "        ('짜장면',15),\n",
    "        ('짬뽕', 10),\n",
    "        ('짜장면',5),\n",
    "        ('짬뽕',20)\n",
    "    ]\n",
    ")"
   ]
  },
  {
   "cell_type": "code",
   "execution_count": 67,
   "id": "d0e9dcff",
   "metadata": {},
   "outputs": [
    {
     "data": {
      "text/plain": [
       "PythonRDD[75] at RDD at PythonRDD.scala:53"
      ]
     },
     "execution_count": 67,
     "metadata": {},
     "output_type": "execute_result"
    }
   ],
   "source": [
    "rdd9_g = rdd9.groupByKey()\n",
    "rdd9_g"
   ]
  },
  {
   "cell_type": "code",
   "execution_count": 76,
   "id": "de990234",
   "metadata": {},
   "outputs": [
    {
     "name": "stdout",
     "output_type": "stream",
     "text": [
      "[('짜장면', [15, 5]), ('짬뽕', [10, 20])]\n"
     ]
    }
   ],
   "source": [
    "#mapValues()\n",
    "print(rdd9_g.mapValues(list).collect())"
   ]
  },
  {
   "cell_type": "code",
   "execution_count": 73,
   "id": "e84ec3c8",
   "metadata": {},
   "outputs": [
    {
     "name": "stdout",
     "output_type": "stream",
     "text": [
      "[('짜장면', 2), ('짬뽕', 2)]\n"
     ]
    }
   ],
   "source": [
    "print(rdd9_g.mapValues(len).collect())"
   ]
  },
  {
   "cell_type": "code",
   "execution_count": 74,
   "id": "5c1f433d",
   "metadata": {},
   "outputs": [
    {
     "name": "stdout",
     "output_type": "stream",
     "text": [
      "[('짜장면', 15), ('짬뽕', 20)]\n"
     ]
    }
   ],
   "source": [
    "print(rdd9_g.mapValues(max).collect())"
   ]
  },
  {
   "cell_type": "code",
   "execution_count": 75,
   "id": "8694c97f",
   "metadata": {},
   "outputs": [
    {
     "name": "stdout",
     "output_type": "stream",
     "text": [
      "[('짜장면', 5), ('짬뽕', 10)]\n"
     ]
    }
   ],
   "source": [
    "print(rdd9_g.mapValues(min).collect())"
   ]
  },
  {
   "cell_type": "code",
   "execution_count": 77,
   "id": "9fcd0f65",
   "metadata": {},
   "outputs": [
    {
     "data": {
      "text/plain": [
       "[('짜장면', 10.0), ('짬뽕', 15.0)]"
      ]
     },
     "execution_count": 77,
     "metadata": {},
     "output_type": "execute_result"
    }
   ],
   "source": [
    "rdd9_g.mapValues(lambda x : sum(x)/len(x)).collect()"
   ]
  },
  {
   "cell_type": "code",
   "execution_count": 78,
   "id": "bacff135",
   "metadata": {},
   "outputs": [
    {
     "data": {
      "text/plain": [
       "[('짜장면', 20), ('짬뽕', 30)]"
      ]
     },
     "execution_count": 78,
     "metadata": {},
     "output_type": "execute_result"
    }
   ],
   "source": [
    "#reduceByKey\n",
    "rdd9.reduceByKey(add).collect()"
   ]
  },
  {
   "cell_type": "markdown",
   "id": "7a75b9c0",
   "metadata": {},
   "source": [
    "#### countByKey()\n",
    "각 키별로 요소들의 개수 카운트 -> Action"
   ]
  },
  {
   "cell_type": "code",
   "execution_count": 82,
   "id": "9a3dfd3c",
   "metadata": {},
   "outputs": [
    {
     "data": {
      "text/plain": [
       "defaultdict(int, {'짜장면': 2, '짬뽕': 2})"
      ]
     },
     "execution_count": 82,
     "metadata": {},
     "output_type": "execute_result"
    }
   ],
   "source": [
    "rdd9.countByKey()"
   ]
  },
  {
   "cell_type": "code",
   "execution_count": 83,
   "id": "fa5987c9",
   "metadata": {},
   "outputs": [],
   "source": [
    "#key() : 키만 가진 RDD > transformation"
   ]
  },
  {
   "cell_type": "code",
   "execution_count": 85,
   "id": "c4d95215",
   "metadata": {},
   "outputs": [
    {
     "data": {
      "text/plain": [
       "PythonRDD[105] at RDD at PythonRDD.scala:53"
      ]
     },
     "execution_count": 85,
     "metadata": {},
     "output_type": "execute_result"
    }
   ],
   "source": [
    "rdd9.keys()"
   ]
  },
  {
   "cell_type": "code",
   "execution_count": 86,
   "id": "46feb4b1",
   "metadata": {},
   "outputs": [
    {
     "data": {
      "text/plain": [
       "['짜장면', '짬뽕', '짜장면', '짬뽕']"
      ]
     },
     "execution_count": 86,
     "metadata": {},
     "output_type": "execute_result"
    }
   ],
   "source": [
    "rdd9.keys().collect()"
   ]
  },
  {
   "cell_type": "markdown",
   "id": "21b6ccd4",
   "metadata": {},
   "source": [
    "#### join : outer join, inner join\n",
    "\n",
    "inner join : 교집합 (default)\n",
    "outer join : 한쪽에만 있을 때 (left, right)"
   ]
  },
  {
   "cell_type": "code",
   "execution_count": 98,
   "id": "a1b4a12c",
   "metadata": {},
   "outputs": [],
   "source": [
    "join_rdd1 = spark.parallelize(\n",
    "    [('a',10),\n",
    "    ('b',20),\n",
    "    ('c',30)]\n",
    ")\n",
    "\n",
    "join_rdd2 = spark.parallelize(\n",
    "    [('a',20),\n",
    "    ('b',20),\n",
    "    ('b',10)\n",
    "    ]\n",
    "    \n",
    ")"
   ]
  },
  {
   "cell_type": "code",
   "execution_count": 102,
   "id": "18e227b5",
   "metadata": {},
   "outputs": [
    {
     "data": {
      "text/plain": [
       "[('b', (20, 20)), ('b', (20, 10)), ('a', (10, 20))]"
      ]
     },
     "execution_count": 102,
     "metadata": {},
     "output_type": "execute_result"
    }
   ],
   "source": [
    "# join\n",
    "join_rdd1.join(join_rdd2).collect()"
   ]
  },
  {
   "cell_type": "code",
   "execution_count": 100,
   "id": "3a4f8f4b",
   "metadata": {},
   "outputs": [
    {
     "data": {
      "text/plain": [
       "[('b', (20, 20)), ('b', (20, 10)), ('c', (30, None)), ('a', (10, 20))]"
      ]
     },
     "execution_count": 100,
     "metadata": {},
     "output_type": "execute_result"
    }
   ],
   "source": [
    "join_rdd1.leftOuterJoin(join_rdd2).collect()"
   ]
  },
  {
   "cell_type": "code",
   "execution_count": 101,
   "id": "e5621367",
   "metadata": {},
   "outputs": [
    {
     "data": {
      "text/plain": [
       "[('b', (20, 20)), ('b', (20, 10)), ('a', (10, 20))]"
      ]
     },
     "execution_count": 101,
     "metadata": {},
     "output_type": "execute_result"
    }
   ],
   "source": [
    "join_rdd1.rightOuterJoin(join_rdd2).collect()"
   ]
  },
  {
   "cell_type": "code",
   "execution_count": 103,
   "id": "8f3c742c",
   "metadata": {},
   "outputs": [],
   "source": [
    "spark.stop()"
   ]
  },
  {
   "cell_type": "code",
   "execution_count": null,
   "id": "55a80659",
   "metadata": {},
   "outputs": [],
   "source": []
  }
 ],
 "metadata": {
  "kernelspec": {
   "display_name": "Python (spark_start)",
   "language": "python",
   "name": "spark_start"
  },
  "language_info": {
   "codemirror_mode": {
    "name": "ipython",
    "version": 3
   },
   "file_extension": ".py",
   "mimetype": "text/x-python",
   "name": "python",
   "nbconvert_exporter": "python",
   "pygments_lexer": "ipython3",
   "version": "3.8.20"
  }
 },
 "nbformat": 4,
 "nbformat_minor": 5
}
