{
 "cells": [
  {
   "cell_type": "code",
   "execution_count": 5,
   "id": "edf5dc69-644a-4241-a3ed-dc4f59e24564",
   "metadata": {},
   "outputs": [],
   "source": [
    "from pyspark import SparkConf, SparkContext"
   ]
  },
  {
   "cell_type": "code",
   "execution_count": 6,
   "id": "2cc6ea17-bbc7-40a4-81ec-070f6882cbfe",
   "metadata": {},
   "outputs": [],
   "source": [
    "from pyspark.sql import SparkSession\n",
    "spark = SparkSession.builder.appName(\"FirstSparkSessionApp\").getOrCreate() #builder : spark session 형성하는 객체 "
   ]
  },
  {
   "cell_type": "code",
   "execution_count": 8,
   "id": "813704f5-7562-4ddb-96c4-cc544d49abe1",
   "metadata": {},
   "outputs": [
    {
     "data": {
      "text/plain": [
       "DataFrame[id: bigint]"
      ]
     },
     "execution_count": 8,
     "metadata": {},
     "output_type": "execute_result"
    }
   ],
   "source": [
    "myRange = spark.range(1000)\n",
    "myRange"
   ]
  },
  {
   "cell_type": "code",
   "execution_count": 9,
   "id": "df033449-b8be-4b5d-9676-1bdbd800e0f8",
   "metadata": {},
   "outputs": [
    {
     "name": "stdout",
     "output_type": "stream",
     "text": [
      "+---+\n",
      "| id|\n",
      "+---+\n",
      "|  0|\n",
      "|  1|\n",
      "|  2|\n",
      "|  3|\n",
      "|  4|\n",
      "|  5|\n",
      "|  6|\n",
      "|  7|\n",
      "|  8|\n",
      "|  9|\n",
      "+---+\n",
      "only showing top 10 rows\n",
      "\n"
     ]
    },
    {
     "name": "stderr",
     "output_type": "stream",
     "text": [
      "                                                                                "
     ]
    }
   ],
   "source": [
    "myRange.show(10)"
   ]
  },
  {
   "cell_type": "markdown",
   "id": "cafafdf7-cecd-4c57-8ed4-5b3cd94469e2",
   "metadata": {},
   "source": [
    "### 데이터프레임 생성\n",
    "\n",
    "createDataFrame"
   ]
  },
  {
   "cell_type": "code",
   "execution_count": 40,
   "id": "f52f3b16-e211-4820-bfc0-fb124497b058",
   "metadata": {},
   "outputs": [],
   "source": [
    "data = [\n",
    "    ('Brook', 20, 'M'),\n",
    "    ('Denny', 31, 'F'),\n",
    "    ('Jules', 30, 'F'),\n",
    "    ('Avery', 25, 'M'),\n",
    "    ('Jordan', 28, 'F'),\n",
    "    ('Casey', 27, 'M'),\n",
    "    ('Taylor', 22, 'F'),\n",
    "    ('Morgan', 29, 'F'),\n",
    "    ('Jamie', 24, 'M'),\n",
    "    ('Peyton', 26, 'F'),\n",
    "    ('Riley', 19, 'M'),\n",
    "    ('Quinn', 32, 'F'),\n",
    "    ('Alex', 18, 'M'),\n",
    "    ('Charlie', 34, 'F'),\n",
    "    ('Sam', 17, 'M'),\n",
    "    ('Blake', 15, 'M'),\n",
    "    ('Harper', 14, 'F'),\n",
    "    ('Cameron', 13, 'M'),\n",
    "    ('Addison', 16, 'F'),\n",
    "    ('Elliot', 12, 'M'),\n",
    "    ('Parker', 40, 'F'),\n",
    "    ('Rowan', 41, 'M'),\n",
    "    ('Drew', 45, 'F'),\n",
    "    ('Dakota', 50, 'M'),\n",
    "    ('Hunter', 51, 'F'),\n",
    "    ('Skylar', 35, 'M'),\n",
    "    ('Emerson', 36, 'F'),\n",
    "    ('Reese', 55, 'F'),\n",
    "    ('Kendall', 60, 'M'),\n",
    "    ('Phoenix', 61, 'F'),\n",
    "    ('Sage', 62, 'M'),\n",
    "    ('Ashton', 65, 'F'),\n",
    "    ('Sawyer', 70, 'M'),\n",
    "    ('River', 71, 'F'),\n",
    "    ('Lennon', 75, 'M'),\n",
    "    ('Marley', 80, 'F'),\n",
    "    ('Hayden', 81, 'M'),\n",
    "    ('Logan', 85, 'F'),\n",
    "    ('Finley', 86, 'M'),\n",
    "    ('Remy', 90, 'F'),\n",
    "    ('Tatum', 91, 'M'),\n",
    "    ('Sydney', 94, 'F'),\n",
    "    ('Eden', 95, 'M'),\n",
    "    ('Spencer', 88, 'M'),\n",
    "    ('Carter', 48, 'M'),\n",
    "    ('Mackenzie', 37, 'F'),\n",
    "    ('Ellis', 20, 'M'),\n",
    "    ('Greer', 22, 'F'),\n",
    "    ('Wren', 23, 'F'),\n",
    "    ('Bailey', 60, 'M'),\n",
    "]\n"
   ]
  },
  {
   "cell_type": "code",
   "execution_count": 41,
   "id": "504e4394-a017-4d7e-bef1-7317a0f56f90",
   "metadata": {},
   "outputs": [
    {
     "name": "stdout",
     "output_type": "stream",
     "text": [
      "+-------+---+---+\n",
      "|     _1| _2| _3|\n",
      "+-------+---+---+\n",
      "|  Brook| 20|  M|\n",
      "|  Denny| 31|  F|\n",
      "|  Jules| 30|  F|\n",
      "|  Avery| 25|  M|\n",
      "| Jordan| 28|  F|\n",
      "|  Casey| 27|  M|\n",
      "| Taylor| 22|  F|\n",
      "| Morgan| 29|  F|\n",
      "|  Jamie| 24|  M|\n",
      "| Peyton| 26|  F|\n",
      "|  Riley| 19|  M|\n",
      "|  Quinn| 32|  F|\n",
      "|   Alex| 18|  M|\n",
      "|Charlie| 34|  F|\n",
      "|    Sam| 17|  M|\n",
      "|  Blake| 15|  M|\n",
      "| Harper| 14|  F|\n",
      "|Cameron| 13|  M|\n",
      "|Addison| 16|  F|\n",
      "| Elliot| 12|  M|\n",
      "+-------+---+---+\n",
      "only showing top 20 rows\n",
      "\n"
     ]
    }
   ],
   "source": [
    "df = spark.createDataFrame(data)\n",
    "df.show()"
   ]
  },
  {
   "cell_type": "code",
   "execution_count": 42,
   "id": "0bd85351-49c3-4ecf-8a01-3f7215b75bd4",
   "metadata": {},
   "outputs": [
    {
     "name": "stdout",
     "output_type": "stream",
     "text": [
      "root\n",
      " |-- _1: string (nullable = true)\n",
      " |-- _2: long (nullable = true)\n",
      " |-- _3: string (nullable = true)\n",
      "\n"
     ]
    }
   ],
   "source": [
    "df.printSchema()"
   ]
  },
  {
   "cell_type": "markdown",
   "id": "2803f827-af55-4521-9c43-c1896ceb6fe8",
   "metadata": {},
   "source": [
    "#### 테이블 뷰 (SQL 접근 가능)\n",
    "\n",
    "createOrReplaceTempView"
   ]
  },
  {
   "cell_type": "code",
   "execution_count": 43,
   "id": "2c3d6544-b3f4-4e0a-8bf4-eed22781f4bb",
   "metadata": {},
   "outputs": [],
   "source": [
    "df.createOrReplaceTempView('people')"
   ]
  },
  {
   "cell_type": "code",
   "execution_count": 51,
   "id": "e258e911-2482-4d0e-9f5a-41ef574a9e6d",
   "metadata": {},
   "outputs": [
    {
     "name": "stdout",
     "output_type": "stream",
     "text": [
      "+-------+---+\n",
      "|     _1| _2|\n",
      "+-------+---+\n",
      "|  Denny| 31|\n",
      "|  Quinn| 32|\n",
      "|Charlie| 34|\n",
      "| Parker| 40|\n",
      "|  Rowan| 41|\n",
      "|   Drew| 45|\n",
      "| Dakota| 50|\n",
      "| Hunter| 51|\n",
      "| Skylar| 35|\n",
      "|Emerson| 36|\n",
      "|  Reese| 55|\n",
      "|Kendall| 60|\n",
      "|Phoenix| 61|\n",
      "|   Sage| 62|\n",
      "| Ashton| 65|\n",
      "| Sawyer| 70|\n",
      "|  River| 71|\n",
      "| Lennon| 75|\n",
      "| Marley| 80|\n",
      "| Hayden| 81|\n",
      "+-------+---+\n",
      "only showing top 20 rows\n",
      "\n"
     ]
    }
   ],
   "source": [
    "#sql\n",
    "result = spark.sql('select _1, _2 from people where _2 > 30')\n",
    "result.show()"
   ]
  },
  {
   "cell_type": "markdown",
   "id": "5c7293ca-1f99-4b10-89bd-f97b1afd1936",
   "metadata": {},
   "source": [
    "#### 테이블 구조 설정\n",
    "\n",
    "structType"
   ]
  },
  {
   "cell_type": "code",
   "execution_count": 28,
   "id": "e92678fc-822d-4e3f-bdb0-1736af166ad6",
   "metadata": {},
   "outputs": [],
   "source": [
    "from pyspark.sql.types import *"
   ]
  },
  {
   "cell_type": "code",
   "execution_count": 44,
   "id": "e98ac6a0-86c8-4ecd-938c-15cf0c287bb4",
   "metadata": {},
   "outputs": [],
   "source": [
    "schema = StructType(\n",
    "    [\n",
    "        StructField('Author',StringType(),False),\n",
    "        StructField('Age',IntegerType(),False),\n",
    "        StructField('gender',StringType(), False),\n",
    "    ]\n",
    ")"
   ]
  },
  {
   "cell_type": "code",
   "execution_count": 45,
   "id": "3a825cba-dc0d-423c-ab76-4345b564e58f",
   "metadata": {},
   "outputs": [
    {
     "data": {
      "text/plain": [
       "StructType(List(StructField(Author,StringType,false),StructField(Age,IntegerType,false),StructField(gender,StringType,false)))"
      ]
     },
     "execution_count": 45,
     "metadata": {},
     "output_type": "execute_result"
    }
   ],
   "source": [
    "schema"
   ]
  },
  {
   "cell_type": "code",
   "execution_count": 47,
   "id": "c868a1e3-9741-4cfb-aea3-03bebb215683",
   "metadata": {},
   "outputs": [
    {
     "name": "stdout",
     "output_type": "stream",
     "text": [
      "+-------+---+------+\n",
      "| Author|Age|gender|\n",
      "+-------+---+------+\n",
      "|  Brook| 20|     M|\n",
      "|  Denny| 31|     F|\n",
      "|  Jules| 30|     F|\n",
      "|  Avery| 25|     M|\n",
      "| Jordan| 28|     F|\n",
      "|  Casey| 27|     M|\n",
      "| Taylor| 22|     F|\n",
      "| Morgan| 29|     F|\n",
      "|  Jamie| 24|     M|\n",
      "| Peyton| 26|     F|\n",
      "|  Riley| 19|     M|\n",
      "|  Quinn| 32|     F|\n",
      "|   Alex| 18|     M|\n",
      "|Charlie| 34|     F|\n",
      "|    Sam| 17|     M|\n",
      "|  Blake| 15|     M|\n",
      "| Harper| 14|     F|\n",
      "|Cameron| 13|     M|\n",
      "|Addison| 16|     F|\n",
      "| Elliot| 12|     M|\n",
      "+-------+---+------+\n",
      "only showing top 20 rows\n",
      "\n"
     ]
    }
   ],
   "source": [
    "a_df = spark.createDataFrame(data, schema)\n",
    "a_df.show()"
   ]
  },
  {
   "cell_type": "code",
   "execution_count": null,
   "id": "2ef3d11f-8360-4c3b-843d-169ad717f12f",
   "metadata": {},
   "outputs": [],
   "source": []
  },
  {
   "cell_type": "code",
   "execution_count": 48,
   "id": "47d9890e-60b8-4e0f-8343-cb140fa6cbe2",
   "metadata": {},
   "outputs": [],
   "source": [
    "# define schema for our data\n",
    "schema = StructType([\n",
    "   StructField(\"Id\", IntegerType(), False),\n",
    "   StructField(\"First\", StringType(), False),\n",
    "   StructField(\"Last\", StringType(), False),\n",
    "   StructField(\"Url\", StringType(), False),\n",
    "   StructField(\"Published\", StringType(), False),\n",
    "   StructField(\"Hits\", IntegerType(), False),\n",
    "   StructField(\"Campaigns\", ArrayType(StringType()), False)])\n",
    "\n",
    "#create our data\n",
    "data = [[1, \"Jules\", \"Damji\", \"https://tinyurl.1\", \"1/4/2016\", 4535, [\"twitter\", \"LinkedIn\"]],\n",
    "       [2, \"Brooke\",\"Wenig\",\"https://tinyurl.2\", \"5/5/2018\", 8908, [\"twitter\", \"LinkedIn\"]],\n",
    "       [3, \"Denny\", \"Lee\", \"https://tinyurl.3\",\"6/7/2019\",7659, [\"web\", \"twitter\", \"FB\", \"LinkedIn\"]],\n",
    "       [4, \"Tathagata\", \"Das\",\"https://tinyurl.4\", \"5/12/2018\", 10568, [\"twitter\", \"FB\"]],\n",
    "       [5, \"Matei\",\"Zaharia\", \"https://tinyurl.5\", \"5/14/2014\", 40578, [\"web\", \"twitter\", \"FB\", \"LinkedIn\"]],\n",
    "       [6, \"Reynold\", \"Xin\", \"https://tinyurl.6\", \"3/2/2015\", 25568, [\"twitter\", \"LinkedIn\"]]\n",
    "      ]"
   ]
  },
  {
   "cell_type": "code",
   "execution_count": 49,
   "id": "67277bcf-13ae-4b07-b56d-3eb63c027873",
   "metadata": {},
   "outputs": [
    {
     "name": "stdout",
     "output_type": "stream",
     "text": [
      "+---+---------+-------+-----------------+---------+-----+--------------------+\n",
      "| Id|    First|   Last|              Url|Published| Hits|           Campaigns|\n",
      "+---+---------+-------+-----------------+---------+-----+--------------------+\n",
      "|  1|    Jules|  Damji|https://tinyurl.1| 1/4/2016| 4535| [twitter, LinkedIn]|\n",
      "|  2|   Brooke|  Wenig|https://tinyurl.2| 5/5/2018| 8908| [twitter, LinkedIn]|\n",
      "|  3|    Denny|    Lee|https://tinyurl.3| 6/7/2019| 7659|[web, twitter, FB...|\n",
      "|  4|Tathagata|    Das|https://tinyurl.4|5/12/2018|10568|       [twitter, FB]|\n",
      "|  5|    Matei|Zaharia|https://tinyurl.5|5/14/2014|40578|[web, twitter, FB...|\n",
      "|  6|  Reynold|    Xin|https://tinyurl.6| 3/2/2015|25568| [twitter, LinkedIn]|\n",
      "+---+---------+-------+-----------------+---------+-----+--------------------+\n",
      "\n"
     ]
    }
   ],
   "source": [
    "b_df = spark.createDataFrame(data, schema)\n",
    "b_df.show()"
   ]
  },
  {
   "cell_type": "code",
   "execution_count": 50,
   "id": "f15643da-dfe1-4fe8-a945-a2f348ce961f",
   "metadata": {},
   "outputs": [
    {
     "name": "stdout",
     "output_type": "stream",
     "text": [
      "root\n",
      " |-- Id: integer (nullable = false)\n",
      " |-- First: string (nullable = false)\n",
      " |-- Last: string (nullable = false)\n",
      " |-- Url: string (nullable = false)\n",
      " |-- Published: string (nullable = false)\n",
      " |-- Hits: integer (nullable = false)\n",
      " |-- Campaigns: array (nullable = false)\n",
      " |    |-- element: string (containsNull = true)\n",
      "\n"
     ]
    }
   ],
   "source": [
    "b_df.printSchema()"
   ]
  },
  {
   "cell_type": "code",
   "execution_count": 53,
   "id": "2cffc8d9-316b-457f-bd0e-37d4c839b9fd",
   "metadata": {},
   "outputs": [
    {
     "name": "stdout",
     "output_type": "stream",
     "text": [
      "+---+\n",
      "| Id|\n",
      "+---+\n",
      "|  1|\n",
      "|  2|\n",
      "+---+\n",
      "only showing top 2 rows\n",
      "\n"
     ]
    }
   ],
   "source": [
    "b_df.select('Id').show(2) #projection"
   ]
  },
  {
   "cell_type": "code",
   "execution_count": 57,
   "id": "fca8e530-6a36-4563-9ebb-c2fa80f93ecc",
   "metadata": {},
   "outputs": [],
   "source": [
    "from pyspark.sql.functions import *"
   ]
  },
  {
   "cell_type": "code",
   "execution_count": 58,
   "id": "d2a9bc63-f8ad-4d5d-80ab-32d1b70d6a09",
   "metadata": {},
   "outputs": [
    {
     "name": "stdout",
     "output_type": "stream",
     "text": [
      "+-----+\n",
      "| Hits|\n",
      "+-----+\n",
      "| 4535|\n",
      "| 8908|\n",
      "| 7659|\n",
      "|10568|\n",
      "|40578|\n",
      "|25568|\n",
      "+-----+\n",
      "\n"
     ]
    }
   ],
   "source": [
    "b_df.select('Hits').show()"
   ]
  },
  {
   "cell_type": "code",
   "execution_count": 59,
   "id": "ea4adb6e-761f-4887-9c6c-90208be34d93",
   "metadata": {},
   "outputs": [
    {
     "name": "stdout",
     "output_type": "stream",
     "text": [
      "+----------+\n",
      "|(Hits * 2)|\n",
      "+----------+\n",
      "|      9070|\n",
      "|     17816|\n",
      "|     15318|\n",
      "|     21136|\n",
      "|     81156|\n",
      "|     51136|\n",
      "+----------+\n",
      "\n"
     ]
    }
   ],
   "source": [
    "b_df.select(expr('Hits')*2).show()"
   ]
  },
  {
   "cell_type": "code",
   "execution_count": null,
   "id": "d634d3f4-57ba-42df-a9b1-403f02ebec30",
   "metadata": {},
   "outputs": [],
   "source": []
  },
  {
   "cell_type": "code",
   "execution_count": null,
   "id": "5332a708-34e0-4cbe-b105-73f7b97b9340",
   "metadata": {},
   "outputs": [],
   "source": []
  },
  {
   "cell_type": "code",
   "execution_count": null,
   "id": "e9b222a7-efb1-4781-8cb5-1819bedc86fa",
   "metadata": {},
   "outputs": [],
   "source": []
  },
  {
   "cell_type": "code",
   "execution_count": 60,
   "id": "29499e83-6668-44b3-a15b-810bbafe56aa",
   "metadata": {},
   "outputs": [
    {
     "name": "stdout",
     "output_type": "stream",
     "text": [
      "The history saving thread hit an unexpected error (OperationalError('attempt to write a readonly database')).History will not be written to the database.\n"
     ]
    }
   ],
   "source": [
    "spark.stop()"
   ]
  },
  {
   "cell_type": "code",
   "execution_count": null,
   "id": "a3b0150d-a9c8-4580-a584-419faf8b89ea",
   "metadata": {},
   "outputs": [],
   "source": []
  }
 ],
 "metadata": {
  "kernelspec": {
   "display_name": "Python (spark_start)",
   "language": "python",
   "name": "spark_start"
  },
  "language_info": {
   "codemirror_mode": {
    "name": "ipython",
    "version": 3
   },
   "file_extension": ".py",
   "mimetype": "text/x-python",
   "name": "python",
   "nbconvert_exporter": "python",
   "pygments_lexer": "ipython3",
   "version": "3.8.20"
  }
 },
 "nbformat": 4,
 "nbformat_minor": 5
}
