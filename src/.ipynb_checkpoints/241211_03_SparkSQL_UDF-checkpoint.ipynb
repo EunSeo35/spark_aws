{
 "cells": [
  {
   "cell_type": "code",
   "execution_count": 23,
   "id": "1f853944-2131-41b3-bd21-7f7144e0bcc5",
   "metadata": {},
   "outputs": [],
   "source": [
    "from pyspark.sql import SparkSession\n",
    "\n",
    "# SparkSession 생성\n",
    "spark = SparkSession.builder \\\n",
    "    .appName(\"241211_03_SparkSQL_UDF\") \\\n",
    "    .getOrCreate()\n"
   ]
  },
  {
   "cell_type": "code",
   "execution_count": null,
   "id": "ca43910a-3876-40b3-ad7a-e8f81ce69528",
   "metadata": {},
   "outputs": [],
   "source": []
  },
  {
   "cell_type": "code",
   "execution_count": 24,
   "id": "439a7081-0ff0-4562-be80-33905f8d6262",
   "metadata": {},
   "outputs": [],
   "source": [
    "datas = [\n",
    "    (\"A\", \"2022-04-16\", 31200),\n",
    "    (\"B\", \"2022-04-17\", 41200),\n",
    "    (\"C\", \"2022-04-11\", 31500),\n",
    "    (\"D\", \"2022-04-12\", 21500),\n",
    "    (\"E\", \"2022-04-13\", 51000)\n",
    "]\n",
    "columns = [\"product\", \"date\", \"price\"]"
   ]
  },
  {
   "cell_type": "code",
   "execution_count": 3,
   "id": "d8422204-389e-434b-b372-e8c4aa5467f8",
   "metadata": {},
   "outputs": [
    {
     "name": "stderr",
     "output_type": "stream",
     "text": [
      "[Stage 0:>                                                          (0 + 1) / 1]"
     ]
    },
    {
     "name": "stdout",
     "output_type": "stream",
     "text": [
      "+-------+----------+-----+\n",
      "|product|      date|price|\n",
      "+-------+----------+-----+\n",
      "|      A|2022-04-16|31200|\n",
      "|      B|2022-04-17|41200|\n",
      "|      C|2022-04-11|31500|\n",
      "|      D|2022-04-12|21500|\n",
      "|      E|2022-04-13|51000|\n",
      "+-------+----------+-----+\n",
      "\n"
     ]
    },
    {
     "name": "stderr",
     "output_type": "stream",
     "text": [
      "                                                                                "
     ]
    }
   ],
   "source": [
    "df = spark.createDataFrame(data = datas, schema = columns)\n",
    "df.show()"
   ]
  },
  {
   "cell_type": "markdown",
   "id": "20613180-e060-4dc1-bb07-5645d0eea0aa",
   "metadata": {},
   "source": [
    "### UDF \n",
    "\n",
    "user defined function 사용자 정의 함수 \n",
    "\n",
    "1. 파이썬의 함수로 정의\n",
    "2. spark.udf.register()로 등록\n",
    "3. session이 지나고 나면 사라짐\n",
    "4. sql 문 안에서 func 처럼 사용한다."
   ]
  },
  {
   "cell_type": "code",
   "execution_count": 4,
   "id": "b61691dd-cb2e-48f6-87b9-9f26df16c270",
   "metadata": {},
   "outputs": [],
   "source": [
    "from pyspark.sql.types import LongType\n",
    "\n",
    "def squared(n):\n",
    "    return n*n"
   ]
  },
  {
   "cell_type": "code",
   "execution_count": 7,
   "id": "69e81c02-4272-4a90-8ab7-8fece8bc40ce",
   "metadata": {},
   "outputs": [
    {
     "name": "stdout",
     "output_type": "stream",
     "text": [
      "+-------+----------+-----+\n",
      "|product|      date|price|\n",
      "+-------+----------+-----+\n",
      "|      A|2022-04-16|31200|\n",
      "|      B|2022-04-17|41200|\n",
      "|      C|2022-04-11|31500|\n",
      "|      D|2022-04-12|21500|\n",
      "|      E|2022-04-13|51000|\n",
      "+-------+----------+-----+\n",
      "\n"
     ]
    }
   ],
   "source": [
    "spark.sql(\n",
    "    '''\n",
    "    select * from product\n",
    "    '''\n",
    ").show()"
   ]
  },
  {
   "cell_type": "code",
   "execution_count": 10,
   "id": "ad46f706-8db6-4105-b253-85a6bc93fb26",
   "metadata": {},
   "outputs": [
    {
     "name": "stderr",
     "output_type": "stream",
     "text": [
      "24/12/11 16:17:06 WARN SimpleFunctionRegistry: The function squared replaced a previously registered function.\n"
     ]
    },
    {
     "data": {
      "text/plain": [
       "<function __main__.squared(n)>"
      ]
     },
     "execution_count": 10,
     "metadata": {},
     "output_type": "execute_result"
    }
   ],
   "source": [
    "spark.udf.register('squared', squared, LongType())"
   ]
  },
  {
   "cell_type": "code",
   "execution_count": 11,
   "id": "c053d519-264d-410d-b619-4eb077b3d338",
   "metadata": {},
   "outputs": [],
   "source": [
    "df.createOrReplaceTempView('product')"
   ]
  },
  {
   "cell_type": "code",
   "execution_count": 13,
   "id": "06283fc8-6963-4122-b73c-ae103a4e7fd4",
   "metadata": {},
   "outputs": [
    {
     "name": "stdout",
     "output_type": "stream",
     "text": [
      "+-----+--------------+\n",
      "|price|squared(price)|\n",
      "+-----+--------------+\n",
      "|31200|     973440000|\n",
      "|41200|    1697440000|\n",
      "|31500|     992250000|\n",
      "|21500|     462250000|\n",
      "|51000|    2601000000|\n",
      "+-----+--------------+\n",
      "\n"
     ]
    }
   ],
   "source": [
    "spark.sql('select price, squared(price) from product').show()"
   ]
  },
  {
   "cell_type": "code",
   "execution_count": 18,
   "id": "485339fe-ce54-40d4-a70e-d49eb715e09c",
   "metadata": {},
   "outputs": [],
   "source": [
    "def read_number(n):\n",
    "    units = [\"\", \"십\", \"백\", \"천\", \"만\"]\n",
    "    nums = '일이삼사오육칠팔구'\n",
    "    result = []\n",
    "    i=0\n",
    "    while n > 0 :\n",
    "        n,r = divmod(n,10)\n",
    "        if r >0 :\n",
    "            result.append(nums[r-1]+units[i])\n",
    "        i += 1\n",
    "\n",
    "    return \"\".join(reversed(result))"
   ]
  },
  {
   "cell_type": "code",
   "execution_count": 19,
   "id": "5ad92542-687c-407a-b334-7fcd2ed317d9",
   "metadata": {},
   "outputs": [
    {
     "data": {
      "text/plain": [
       "'일백이십삼'"
      ]
     },
     "execution_count": 19,
     "metadata": {},
     "output_type": "execute_result"
    }
   ],
   "source": [
    "read_number(123)"
   ]
  },
  {
   "cell_type": "code",
   "execution_count": 20,
   "id": "229077c3-143b-49fc-8cfa-52d45effa214",
   "metadata": {},
   "outputs": [
    {
     "data": {
      "text/plain": [
       "<function __main__.read_number(n)>"
      ]
     },
     "execution_count": 20,
     "metadata": {},
     "output_type": "execute_result"
    }
   ],
   "source": [
    "spark.udf.register('read_number', read_number)"
   ]
  },
  {
   "cell_type": "code",
   "execution_count": 21,
   "id": "3f6b65e3-eeb9-4549-b081-b1b2ea4ce81b",
   "metadata": {},
   "outputs": [
    {
     "name": "stdout",
     "output_type": "stream",
     "text": [
      "+-----+------------------+\n",
      "|price|read_number(price)|\n",
      "+-----+------------------+\n",
      "|31200|      삼만일천이백|\n",
      "|41200|      사만일천이백|\n",
      "|31500|      삼만일천오백|\n",
      "|21500|      이만일천오백|\n",
      "|51000|          오만일천|\n",
      "+-----+------------------+\n",
      "\n"
     ]
    }
   ],
   "source": [
    "spark.sql('select price, read_number(price) from product').show()"
   ]
  },
  {
   "cell_type": "code",
   "execution_count": null,
   "id": "265da5ae-e9fc-4693-b34b-a6c5b74c63c5",
   "metadata": {},
   "outputs": [],
   "source": []
  },
  {
   "cell_type": "code",
   "execution_count": null,
   "id": "6d73b76b-a891-4758-af1e-bfa98bb19c00",
   "metadata": {},
   "outputs": [],
   "source": []
  },
  {
   "cell_type": "code",
   "execution_count": null,
   "id": "9ffcc7bd-ef12-4412-b873-03f547cdb1ad",
   "metadata": {},
   "outputs": [],
   "source": []
  },
  {
   "cell_type": "code",
   "execution_count": 25,
   "id": "93777638-434a-4a7d-a682-3cebb228f2a2",
   "metadata": {},
   "outputs": [],
   "source": [
    "spark.stop()"
   ]
  },
  {
   "cell_type": "code",
   "execution_count": null,
   "id": "79aa8fb8-428e-472d-8cb7-d0b5d3518d45",
   "metadata": {},
   "outputs": [],
   "source": []
  }
 ],
 "metadata": {
  "kernelspec": {
   "display_name": "Python (spark_start)",
   "language": "python",
   "name": "spark_start"
  },
  "language_info": {
   "codemirror_mode": {
    "name": "ipython",
    "version": 3
   },
   "file_extension": ".py",
   "mimetype": "text/x-python",
   "name": "python",
   "nbconvert_exporter": "python",
   "pygments_lexer": "ipython3",
   "version": "3.8.20"
  }
 },
 "nbformat": 4,
 "nbformat_minor": 5
}
