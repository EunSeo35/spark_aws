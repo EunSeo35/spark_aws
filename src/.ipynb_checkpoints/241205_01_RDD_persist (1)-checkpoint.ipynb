{
 "cells": [
  {
   "cell_type": "code",
   "execution_count": 21,
   "id": "d693b297",
   "metadata": {},
   "outputs": [
    {
     "data": {
      "text/plain": [
       "file:////home/lab09/spark_aws/data/restaurant_reviews.csv MapPartitionsRDD[1] at textFile at NativeMethodAccessorImpl.java:0"
      ]
     },
     "execution_count": 21,
     "metadata": {},
     "output_type": "execute_result"
    }
   ],
   "source": [
    "from pyspark import SparkConf , SparkContext\n",
    "\n",
    "conf = SparkConf().setMaster(\"local\").setAppName(\"restaurant-review-average\")\n",
    "spark = SparkContext(conf=conf).getOrCreate()\n",
    "\n",
    "import os \n",
    "\n",
    "directory = os.path.join(os.getcwd(),\"data\")\n",
    "filename = \"restaurant_reviews.csv\"\n",
    "filepath = os.path.join(directory, filename)\n",
    "\n",
    "lines = spark.textFile(\"file:///\"+filepath.replace(\"ww\", \"/\"))\n",
    "lines "
   ]
  },
  {
   "cell_type": "code",
   "execution_count": 22,
   "id": "c93a1218",
   "metadata": {},
   "outputs": [],
   "source": [
    "header = lines.first()\n",
    "filtered_lines = lines.filter(lambda row : row != header)"
   ]
  },
  {
   "cell_type": "code",
   "execution_count": 23,
   "id": "14bdf9f2",
   "metadata": {},
   "outputs": [
    {
     "data": {
      "text/plain": [
       "['0,짜장면,중식,125,',\n",
       " '1,짬뽕,중식,235,',\n",
       " '2,김밥,분식,32,',\n",
       " '3,떡볶이,분식,534,',\n",
       " '4,라멘,일식,223,']"
      ]
     },
     "execution_count": 23,
     "metadata": {},
     "output_type": "execute_result"
    }
   ],
   "source": [
    "filtered_lines.take(5)"
   ]
  },
  {
   "cell_type": "code",
   "execution_count": 24,
   "id": "e54035be",
   "metadata": {},
   "outputs": [],
   "source": [
    "def parse(row):\n",
    "    fields = row.split(\",\")\n",
    "    category = fields[2]\n",
    "    reviews = int(fields[3])\n",
    "    return category, reviews"
   ]
  },
  {
   "cell_type": "code",
   "execution_count": 5,
   "id": "7da40211",
   "metadata": {},
   "outputs": [],
   "source": [
    "result1 = filtered_lines.map(parse).collect()"
   ]
  },
  {
   "cell_type": "code",
   "execution_count": 7,
   "id": "17ad4191",
   "metadata": {},
   "outputs": [],
   "source": [
    "result2 = filtered_lines.map(parse).take(10)"
   ]
  },
  {
   "cell_type": "code",
   "execution_count": 8,
   "id": "b32c641c",
   "metadata": {},
   "outputs": [
    {
     "data": {
      "text/plain": [
       "[('중식', 125),\n",
       " ('중식', 235),\n",
       " ('분식', 32),\n",
       " ('분식', 534),\n",
       " ('일식', 223),\n",
       " ('일식', 52),\n",
       " ('일식', 12),\n",
       " ('아시안', 312),\n",
       " ('패스트푸드', 12),\n",
       " ('패스트푸드', 23)]"
      ]
     },
     "execution_count": 8,
     "metadata": {},
     "output_type": "execute_result"
    }
   ],
   "source": [
    "result1"
   ]
  },
  {
   "cell_type": "code",
   "execution_count": 9,
   "id": "89f56466",
   "metadata": {},
   "outputs": [
    {
     "data": {
      "text/plain": [
       "[('중식', 125),\n",
       " ('중식', 235),\n",
       " ('분식', 32),\n",
       " ('분식', 534),\n",
       " ('일식', 223),\n",
       " ('일식', 52),\n",
       " ('일식', 12),\n",
       " ('아시안', 312),\n",
       " ('패스트푸드', 12),\n",
       " ('패스트푸드', 23)]"
      ]
     },
     "execution_count": 9,
     "metadata": {},
     "output_type": "execute_result"
    }
   ],
   "source": [
    "result2"
   ]
  },
  {
   "cell_type": "code",
   "execution_count": 15,
   "id": "320b4404",
   "metadata": {},
   "outputs": [],
   "source": [
    "# persist() 보관  ,매번 새로운 RDD가 형성되지 않도록 함 \n",
    "cat_reviews = filtered_lines.map(parse).persist()"
   ]
  },
  {
   "cell_type": "code",
   "execution_count": 16,
   "id": "21455047",
   "metadata": {},
   "outputs": [],
   "source": [
    "result11= cat_reviews.take(10)\n",
    "result12= cat_reviews.collect()"
   ]
  },
  {
   "cell_type": "code",
   "execution_count": 17,
   "id": "d9157548",
   "metadata": {},
   "outputs": [
    {
     "data": {
      "text/plain": [
       "[('중식', 125),\n",
       " ('중식', 235),\n",
       " ('분식', 32),\n",
       " ('분식', 534),\n",
       " ('일식', 223),\n",
       " ('일식', 52),\n",
       " ('일식', 12),\n",
       " ('아시안', 312),\n",
       " ('패스트푸드', 12),\n",
       " ('패스트푸드', 23)]"
      ]
     },
     "execution_count": 17,
     "metadata": {},
     "output_type": "execute_result"
    }
   ],
   "source": [
    "result11"
   ]
  },
  {
   "cell_type": "code",
   "execution_count": 18,
   "id": "1e0ec1d5",
   "metadata": {},
   "outputs": [
    {
     "data": {
      "text/plain": [
       "[('중식', 125),\n",
       " ('중식', 235),\n",
       " ('분식', 32),\n",
       " ('분식', 534),\n",
       " ('일식', 223),\n",
       " ('일식', 52),\n",
       " ('일식', 12),\n",
       " ('아시안', 312),\n",
       " ('패스트푸드', 12),\n",
       " ('패스트푸드', 23)]"
      ]
     },
     "execution_count": 18,
     "metadata": {},
     "output_type": "execute_result"
    }
   ],
   "source": [
    "result12"
   ]
  },
  {
   "cell_type": "code",
   "execution_count": null,
   "id": "9ab77a0c",
   "metadata": {},
   "outputs": [],
   "source": [
    "sp"
   ]
  }
 ],
 "metadata": {
  "kernelspec": {
   "display_name": "Python (spark_start)",
   "language": "python",
   "name": "spark_start"
  },
  "language_info": {
   "codemirror_mode": {
    "name": "ipython",
    "version": 3
   },
   "file_extension": ".py",
   "mimetype": "text/x-python",
   "name": "python",
   "nbconvert_exporter": "python",
   "pygments_lexer": "ipython3",
   "version": "3.8.20"
  }
 },
 "nbformat": 4,
 "nbformat_minor": 5
}
