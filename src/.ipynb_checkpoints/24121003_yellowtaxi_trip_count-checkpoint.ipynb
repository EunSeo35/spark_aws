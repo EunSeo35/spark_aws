{
 "cells": [
  {
   "cell_type": "code",
   "execution_count": 1,
   "id": "35011605-d445-44d0-8ef4-51014c83b55e",
   "metadata": {},
   "outputs": [
    {
     "name": "stderr",
     "output_type": "stream",
     "text": [
      "24/12/12 09:26:33 WARN NativeCodeLoader: Unable to load native-hadoop library for your platform... using builtin-java classes where applicable\n",
      "Using Spark's default log4j profile: org/apache/spark/log4j-defaults.properties\n",
      "Setting default log level to \"WARN\".\n",
      "To adjust logging level use sc.setLogLevel(newLevel). For SparkR, use setLogLevel(newLevel).\n"
     ]
    }
   ],
   "source": [
    "from pyspark.sql import SparkSession\n",
    "spark = SparkSession.builder.appName('24121003_yellowtaxi_trip_count').getOrCreate()"
   ]
  },
  {
   "cell_type": "code",
   "execution_count": 2,
   "id": "357c1063-d0c8-4f77-9124-e2a7eb63eae7",
   "metadata": {},
   "outputs": [],
   "source": [
    "import os\n",
    "trip_files = '/trips/*'\n",
    "zone_file = 'taxi+_zone_lookup.csv'\n",
    "directory = os.path.join(os.getcwd(), 'data')"
   ]
  },
  {
   "cell_type": "code",
   "execution_count": 3,
   "id": "800d1961-b397-4435-a089-0322150b4ab4",
   "metadata": {},
   "outputs": [
    {
     "name": "stderr",
     "output_type": "stream",
     "text": [
      "                                                                                "
     ]
    }
   ],
   "source": [
    "trips_df = spark.read.csv(f'file:///{directory}/{trip_files}', inferSchema = True, header = True)"
   ]
  },
  {
   "cell_type": "code",
   "execution_count": 4,
   "id": "05d4c4b3-6483-49d4-a64b-e410fc058831",
   "metadata": {},
   "outputs": [],
   "source": [
    "zone_df = spark.read.csv(f'file:///{directory}/{zone_file}', inferSchema = True, header = True)"
   ]
  },
  {
   "cell_type": "raw",
   "id": "fcec0019-a447-4446-86f5-44378464f01f",
   "metadata": {},
   "source": [
    "[trips_df]\n",
    "\n",
    "1. VendorID: 기록을 제공하는 the TPEP provider를 나타내는 코드\n",
    "\n",
    "2. tpep_pickup_datetime: 승차 날짜 및 시간\n",
    "\n",
    "3. tpep_dropoff_datetime: 하자 날짜 및 시간\n",
    "\n",
    "4. passenger_count: 승객 수\n",
    "\n",
    "5. trip_distance: 거리(mile)\n",
    "\n",
    "6. PULocationID: 승차 장소(ID)\n",
    "\n",
    "7. DOLocationID: 하차 장소(ID)\n",
    "\n",
    "8. payment_type: 지불 방법\n",
    "\n",
    "9. fare_amount: 요금\n",
    "10. extra: 추가 요금\n",
    "11. tip_amount: 팁\n",
    "12. tolls_amount: 톨비\n",
    "13. total_amount: 총 비용\n",
    "\n",
    " \n",
    "\n",
    " \n",
    "\n",
    "[zone_df]\n",
    "\n",
    "1. LocationID: 지역 ID\n",
    "2. Borough: 크게 본 지역구\n",
    "3. Zone: 지역 동"
   ]
  },
  {
   "cell_type": "code",
   "execution_count": 5,
   "id": "4d006093-aa04-4742-aaad-d1d0b77cee88",
   "metadata": {},
   "outputs": [
    {
     "name": "stdout",
     "output_type": "stream",
     "text": [
      "root\n",
      " |-- VendorID: integer (nullable = true)\n",
      " |-- tpep_pickup_datetime: string (nullable = true)\n",
      " |-- tpep_dropoff_datetime: string (nullable = true)\n",
      " |-- passenger_count: integer (nullable = true)\n",
      " |-- trip_distance: double (nullable = true)\n",
      " |-- RatecodeID: integer (nullable = true)\n",
      " |-- store_and_fwd_flag: string (nullable = true)\n",
      " |-- PULocationID: integer (nullable = true)\n",
      " |-- DOLocationID: integer (nullable = true)\n",
      " |-- payment_type: integer (nullable = true)\n",
      " |-- fare_amount: double (nullable = true)\n",
      " |-- extra: double (nullable = true)\n",
      " |-- mta_tax: double (nullable = true)\n",
      " |-- tip_amount: double (nullable = true)\n",
      " |-- tolls_amount: double (nullable = true)\n",
      " |-- improvement_surcharge: double (nullable = true)\n",
      " |-- total_amount: double (nullable = true)\n",
      " |-- congestion_surcharge: double (nullable = true)\n",
      "\n"
     ]
    }
   ],
   "source": [
    "trips_df.printSchema()"
   ]
  },
  {
   "cell_type": "code",
   "execution_count": 6,
   "id": "889310f4-bf5b-4562-8546-0d76b785e9c2",
   "metadata": {},
   "outputs": [
    {
     "name": "stdout",
     "output_type": "stream",
     "text": [
      "root\n",
      " |-- LocationID: integer (nullable = true)\n",
      " |-- Borough: string (nullable = true)\n",
      " |-- Zone: string (nullable = true)\n",
      " |-- service_zone: string (nullable = true)\n",
      "\n"
     ]
    }
   ],
   "source": [
    "zone_df.printSchema()"
   ]
  },
  {
   "cell_type": "code",
   "execution_count": 7,
   "id": "67cc1b74-ec0e-471f-96d2-af36ecb47883",
   "metadata": {},
   "outputs": [],
   "source": [
    "trips_df.createOrReplaceTempView('trips')\n",
    "zone_df.createOrReplaceTempView('zone')"
   ]
  },
  {
   "cell_type": "code",
   "execution_count": 8,
   "id": "e7fc4d16-dabe-4de8-8c7c-a307b3bcab1f",
   "metadata": {},
   "outputs": [],
   "source": [
    "comb_df = spark.sql(\n",
    "    '''\n",
    "    select t.VendorID, \n",
    "        TO_DATE(t.tpep_pickup_datetime) as pickup_date,\n",
    "        TO_DATE(t.tpep_dropoff_datetime) as dropoff_date,\n",
    "        HOUR(t.tpep_pickup_datetime) as pickup_time,\n",
    "        HOUR(t.tpep_dropoff_datetime) as dropoff_time,\n",
    "        t.passenger_count,\n",
    "        t.trip_distance,\n",
    "        t.payment_type,\n",
    "        t.tip_amount,\n",
    "        t.total_amount,\n",
    "        t.tolls_amount,\n",
    "        pz.Zone as pickup_zone,\n",
    "        dz.Zone as dropoff_zone\n",
    "        \n",
    "        \n",
    "    from trips t\n",
    "    LEFT JOIN zone pz ON t.PULocationID = pz.LocationID\n",
    "    LEFT JOIN zone dz ON t.DOLocationID = dz.LocationID\n",
    "    '''\n",
    ")"
   ]
  },
  {
   "cell_type": "code",
   "execution_count": 9,
   "id": "56918a76-9369-404d-b594-429ef6f04bc0",
   "metadata": {},
   "outputs": [
    {
     "name": "stderr",
     "output_type": "stream",
     "text": [
      "                                                                                "
     ]
    },
    {
     "data": {
      "text/plain": [
       "15000700"
      ]
     },
     "execution_count": 9,
     "metadata": {},
     "output_type": "execute_result"
    }
   ],
   "source": [
    "comb_df.count()"
   ]
  },
  {
   "cell_type": "code",
   "execution_count": 44,
   "id": "9920bbc6-8d94-45f7-8eb5-fb4b183038fb",
   "metadata": {},
   "outputs": [
    {
     "name": "stdout",
     "output_type": "stream",
     "text": [
      "+--------+-----------+------------+-----------+------------+---------------+-------------+------------+----------+------------+------------+-----------------+--------------+\n",
      "|VendorID|pickup_date|dropoff_date|pickup_time|dropoff_time|passenger_count|trip_distance|payment_type|tip_amount|total_amount|tolls_amount|      pickup_zone|  dropoff_zone|\n",
      "+--------+-----------+------------+-----------+------------+---------------+-------------+------------+----------+------------+------------+-----------------+--------------+\n",
      "|       2| 2021-03-01|  2021-03-01|          0|           0|              1|          0.0|           2|       0.0|         4.3|         0.0|               NV|            NV|\n",
      "|       2| 2021-03-01|  2021-03-01|          0|           0|              1|          0.0|           2|       0.0|         3.8|         0.0|   Manhattanville|Manhattanville|\n",
      "|       2| 2021-03-01|  2021-03-01|          0|           0|              1|          0.0|           2|       0.0|         4.8|         0.0|   Manhattanville|Manhattanville|\n",
      "|       1| 2021-03-01|  2021-03-01|          0|           0|              0|         16.5|           1|     11.65|       70.07|        6.12|LaGuardia Airport|            NA|\n",
      "|       2| 2021-03-01|  2021-03-01|          0|           0|              1|         1.13|           1|      1.86|       11.16|         0.0|     East Chelsea|            NV|\n",
      "+--------+-----------+------------+-----------+------------+---------------+-------------+------------+----------+------------+------------+-----------------+--------------+\n",
      "only showing top 5 rows\n",
      "\n"
     ]
    }
   ],
   "source": [
    "comb_df.show(5)"
   ]
  },
  {
   "cell_type": "code",
   "execution_count": 10,
   "id": "67adee7d-4006-477e-9b0c-6269373fe551",
   "metadata": {},
   "outputs": [],
   "source": [
    "comb_df.createOrReplaceTempView('comb')"
   ]
  },
  {
   "cell_type": "markdown",
   "id": "e1232424-8a2c-4995-9439-31a51ad9a79d",
   "metadata": {},
   "source": [
    "## 데이터 전처리\n",
    "\n",
    "1. 2021년을 제외한 자료 제거\n",
    "2. 이상치 값 제거"
   ]
  },
  {
   "cell_type": "code",
   "execution_count": 11,
   "id": "08d44fce-af5a-48a0-9b0d-d2ba4b23181d",
   "metadata": {},
   "outputs": [
    {
     "name": "stderr",
     "output_type": "stream",
     "text": [
      "[Stage 9:============================================>          (161 + 3) / 200]"
     ]
    },
    {
     "name": "stdout",
     "output_type": "stream",
     "text": [
      "+-----------+\n",
      "|pickup_date|\n",
      "+-----------+\n",
      "| 2002-12-31|\n",
      "| 2003-01-05|\n",
      "| 2004-04-04|\n",
      "| 2008-12-31|\n",
      "| 2009-01-01|\n",
      "| 2020-12-31|\n",
      "| 2029-05-05|\n",
      "+-----------+\n",
      "\n"
     ]
    },
    {
     "name": "stderr",
     "output_type": "stream",
     "text": [
      "                                                                                "
     ]
    }
   ],
   "source": [
    "#2021년이 아닌 데이터\n",
    "spark.sql(\n",
    "    '''\n",
    "    SELECT distinct pickup_date\n",
    "    FROM comb \n",
    "    WHERE year(pickup_date) != '2021'\n",
    "    ORDER BY pickup_date\n",
    "    '''\n",
    ").show()"
   ]
  },
  {
   "cell_type": "code",
   "execution_count": 12,
   "id": "612d4e25-d302-48de-8c72-ca1374d83527",
   "metadata": {},
   "outputs": [
    {
     "name": "stdout",
     "output_type": "stream",
     "text": [
      "passenger_count의 describe -----------------------------------\n"
     ]
    },
    {
     "name": "stderr",
     "output_type": "stream",
     "text": [
      "                                                                                "
     ]
    },
    {
     "name": "stdout",
     "output_type": "stream",
     "text": [
      "+-------+------------------+\n",
      "|summary|   passenger_count|\n",
      "+-------+------------------+\n",
      "|  count|          14166672|\n",
      "|   mean|1.4253783104458126|\n",
      "| stddev|  1.04432704905968|\n",
      "|    min|                 0|\n",
      "|    max|                 9|\n",
      "+-------+------------------+\n",
      "\n",
      "trip_distance의 describe -----------------------------------\n"
     ]
    },
    {
     "name": "stderr",
     "output_type": "stream",
     "text": [
      "                                                                                "
     ]
    },
    {
     "name": "stdout",
     "output_type": "stream",
     "text": [
      "+-------+-----------------+\n",
      "|summary|    trip_distance|\n",
      "+-------+-----------------+\n",
      "|  count|         15000700|\n",
      "|   mean|6.628629402627818|\n",
      "| stddev|671.7293482115828|\n",
      "|    min|              0.0|\n",
      "|    max|        332541.19|\n",
      "+-------+-----------------+\n",
      "\n",
      "tip_amount의 describe -----------------------------------\n"
     ]
    },
    {
     "name": "stderr",
     "output_type": "stream",
     "text": [
      "                                                                                "
     ]
    },
    {
     "name": "stdout",
     "output_type": "stream",
     "text": [
      "+-------+-----------------+\n",
      "|summary|       tip_amount|\n",
      "+-------+-----------------+\n",
      "|  count|         15000700|\n",
      "|   mean|2.146797558780939|\n",
      "| stddev|2.610914434555077|\n",
      "|    min|          -333.32|\n",
      "|    max|          1140.44|\n",
      "+-------+-----------------+\n",
      "\n",
      "total_amount의 describe -----------------------------------\n"
     ]
    },
    {
     "name": "stderr",
     "output_type": "stream",
     "text": [
      "[Stage 20:==================================================>     (10 + 1) / 11]"
     ]
    },
    {
     "name": "stdout",
     "output_type": "stream",
     "text": [
      "+-------+-----------------+\n",
      "|summary|     total_amount|\n",
      "+-------+-----------------+\n",
      "|  count|         15000700|\n",
      "|   mean|18.75545205708744|\n",
      "| stddev|145.7442452805979|\n",
      "|    min|           -647.8|\n",
      "|    max|         398469.2|\n",
      "+-------+-----------------+\n",
      "\n"
     ]
    },
    {
     "name": "stderr",
     "output_type": "stream",
     "text": [
      "                                                                                "
     ]
    }
   ],
   "source": [
    "# 이상치 값 찾기\n",
    "\n",
    "for i in ['passenger_count', 'trip_distance','tip_amount', 'total_amount']:\n",
    "    print(f'{i}의 describe -----------------------------------')\n",
    "    comb_df.select(i).describe().show()"
   ]
  },
  {
   "cell_type": "raw",
   "id": "f4db29b4-66fd-4a89-894c-76d9f9e0fd64",
   "metadata": {},
   "source": [
    "법적으로 허용가능한 최대 yellow taxi 승객 수 5명 \n",
    "tip amount, total_amount 음수 제거 \n",
    "trip_distance 0 제거 "
   ]
  },
  {
   "cell_type": "code",
   "execution_count": null,
   "id": "d8d8e7bb-971c-43f5-917c-fd2299482244",
   "metadata": {},
   "outputs": [],
   "source": []
  },
  {
   "cell_type": "code",
   "execution_count": null,
   "id": "bb3a890c-aab4-4928-af8f-8a0af4841f26",
   "metadata": {},
   "outputs": [],
   "source": []
  },
  {
   "cell_type": "code",
   "execution_count": null,
   "id": "1a588595-eafc-427f-adb7-8b442e0b5010",
   "metadata": {},
   "outputs": [],
   "source": []
  },
  {
   "cell_type": "code",
   "execution_count": null,
   "id": "e2c8f8c2-8108-4c32-b19d-88111c73c4b4",
   "metadata": {},
   "outputs": [],
   "source": []
  },
  {
   "cell_type": "code",
   "execution_count": null,
   "id": "814d61f9-2512-46ca-bf7d-24f396361d52",
   "metadata": {},
   "outputs": [],
   "source": []
  },
  {
   "cell_type": "code",
   "execution_count": null,
   "id": "e7f98ec8-0b48-4ea6-a635-62c712ed3607",
   "metadata": {},
   "outputs": [],
   "source": []
  },
  {
   "cell_type": "code",
   "execution_count": null,
   "id": "8bfd4dd1-9157-44a2-8476-5f3447357308",
   "metadata": {},
   "outputs": [],
   "source": []
  },
  {
   "cell_type": "code",
   "execution_count": null,
   "id": "a784077b-5df4-4ade-825e-0f91041564c2",
   "metadata": {},
   "outputs": [],
   "source": []
  },
  {
   "cell_type": "code",
   "execution_count": 35,
   "id": "fd162aa5-2630-4af5-a557-a3456eb11efd",
   "metadata": {},
   "outputs": [
    {
     "name": "stderr",
     "output_type": "stream",
     "text": [
      "[Stage 45:=================================================>        (6 + 1) / 7]"
     ]
    },
    {
     "name": "stdout",
     "output_type": "stream",
     "text": [
      "+-----------+\n",
      "|pickup_time|\n",
      "+-----------+\n",
      "|       null|\n",
      "|          0|\n",
      "|          1|\n",
      "|          2|\n",
      "|          3|\n",
      "|          4|\n",
      "|          5|\n",
      "|          6|\n",
      "|          7|\n",
      "|          8|\n",
      "|          9|\n",
      "|         10|\n",
      "|         11|\n",
      "|         12|\n",
      "|         13|\n",
      "|         14|\n",
      "|         15|\n",
      "|         16|\n",
      "|         17|\n",
      "|         18|\n",
      "|         19|\n",
      "|         20|\n",
      "|         21|\n",
      "|         22|\n",
      "|         23|\n",
      "+-----------+\n",
      "\n"
     ]
    },
    {
     "name": "stderr",
     "output_type": "stream",
     "text": [
      "                                                                                "
     ]
    }
   ],
   "source": [
    "spark.sql(\n",
    "    '''\n",
    "    select distinct pickup_time\n",
    "    from comb\n",
    "    order by pickup_time asc\n",
    "    '''\n",
    ").show(30)"
   ]
  },
  {
   "cell_type": "code",
   "execution_count": null,
   "id": "40c7efca-c21d-4023-baf6-9ae1c8370766",
   "metadata": {},
   "outputs": [],
   "source": []
  },
  {
   "cell_type": "code",
   "execution_count": 37,
   "id": "a933ad71-37d5-4ec1-8883-01d62bd9ceb9",
   "metadata": {},
   "outputs": [
    {
     "name": "stderr",
     "output_type": "stream",
     "text": [
      "[Stage 51:=================================================>        (6 + 1) / 7]"
     ]
    },
    {
     "name": "stdout",
     "output_type": "stream",
     "text": [
      "+-------+------------------+------------------+------------------+------------------+------------------+-------------------+------------------+------------------+-------------------+--------------------+--------------------+\n",
      "|summary|          VendorID|       pickup_time|      dropoff_time|   passenger_count|     trip_distance|       payment_type|        tip_amount|      total_amount|       payment_type|         pickup_zone|        dropoff_zone|\n",
      "+-------+------------------+------------------+------------------+------------------+------------------+-------------------+------------------+------------------+-------------------+--------------------+--------------------+\n",
      "|  count|           8596840|           8921357|           8921357|           8596839|           8921357|            8596838|           8921355|           8921354|            8596838|             8921357|             8921356|\n",
      "|   mean| 1.682631874037437|14.074268185882485|14.178853844768234|1.4186727237767276|3.7238418706928775|  1.263438371177868|2.0640901298068695| 17.99879389738831|  1.263438371177868|                null|                null|\n",
      "| stddev|0.4654520638972218|4.9642437412210105| 5.022495523857638|1.0434119830811381|293.76369881933465|0.48143819212054034|2.5215341583519155|188.57287562703326|0.48143819212054034|                null|                null|\n",
      "|    min|                 1|                 0|                 0|                 0|               0.0|                  1|           -333.32|            -634.8|                  1|Allerton/Pelham G...|Allerton/Pelham G...|\n",
      "|    max|                 2|                23|                23|                 9|         263163.28|                  4|           1140.44|          398469.2|                  4|      Yorkville West|      Yorkville West|\n",
      "+-------+------------------+------------------+------------------+------------------+------------------+-------------------+------------------+------------------+-------------------+--------------------+--------------------+\n",
      "\n"
     ]
    },
    {
     "name": "stderr",
     "output_type": "stream",
     "text": [
      "                                                                                "
     ]
    }
   ],
   "source": [
    "comb_df.describe().show()"
   ]
  },
  {
   "cell_type": "code",
   "execution_count": 38,
   "id": "e694c52f-3b9b-4a1a-97e7-b129b77089b9",
   "metadata": {},
   "outputs": [
    {
     "name": "stdout",
     "output_type": "stream",
     "text": [
      "+-----------+-----------+\n",
      "|pickup_date|pickup_time|\n",
      "+-----------+-----------+\n",
      "| 2021-03-01|          1|\n",
      "| 2021-03-01|          1|\n",
      "| 2021-03-01|          1|\n",
      "| 2021-03-01|          1|\n",
      "| 2021-03-01|          1|\n",
      "+-----------+-----------+\n",
      "only showing top 5 rows\n",
      "\n"
     ]
    }
   ],
   "source": [
    "# 실행계획, 실행결과(4040)\n",
    "query2 = '''\n",
    "select pickup_date, pickup_time\n",
    "from comb\n",
    "where pickup_time > 0 and pickup_time <= 12\n",
    "'''\n",
    "spark.sql(query2).show(5)"
   ]
  },
  {
   "cell_type": "code",
   "execution_count": 39,
   "id": "5fc035c3-75fd-4ea6-86bb-aa1b070adc19",
   "metadata": {},
   "outputs": [
    {
     "name": "stdout",
     "output_type": "stream",
     "text": [
      "== Physical Plan ==\n",
      "*(3) Project [cast(tpep_pickup_datetime#17 as date) AS pickup_date#419, hour(cast(tpep_pickup_datetime#17 as timestamp), Some(Asia/Seoul)) AS pickup_time#421]\n",
      "+- *(3) BroadcastHashJoin [DOLocationID#24], [LocationID#425], LeftOuter, BuildRight, false\n",
      "   :- *(3) Project [tpep_pickup_datetime#17, DOLocationID#24]\n",
      "   :  +- *(3) BroadcastHashJoin [PULocationID#23], [LocationID#68], LeftOuter, BuildRight, false\n",
      "   :     :- *(3) Filter ((isnotnull(tpep_pickup_datetime#17) AND (hour(cast(tpep_pickup_datetime#17 as timestamp), Some(Asia/Seoul)) > 0)) AND (hour(cast(tpep_pickup_datetime#17 as timestamp), Some(Asia/Seoul)) <= 12))\n",
      "   :     :  +- FileScan csv [tpep_pickup_datetime#17,PULocationID#23,DOLocationID#24] Batched: false, DataFilters: [isnotnull(tpep_pickup_datetime#17), (hour(cast(tpep_pickup_datetime#17 as timestamp), Some(Asia/..., Format: CSV, Location: InMemoryFileIndex[file:/home/lab09/git/src/data/trips/yellow_tripdata_2021-01.csv, file:/home/lab..., PartitionFilters: [], PushedFilters: [IsNotNull(tpep_pickup_datetime)], ReadSchema: struct<tpep_pickup_datetime:string,PULocationID:int,DOLocationID:int>\n",
      "   :     +- BroadcastExchange HashedRelationBroadcastMode(List(cast(input[0, int, false] as bigint)),false), [id=#1578]\n",
      "   :        +- *(1) Filter isnotnull(LocationID#68)\n",
      "   :           +- FileScan csv [LocationID#68] Batched: false, DataFilters: [isnotnull(LocationID#68)], Format: CSV, Location: InMemoryFileIndex[file:/home/lab09/git/src/data/taxi+_zone_lookup.csv], PartitionFilters: [], PushedFilters: [IsNotNull(LocationID)], ReadSchema: struct<LocationID:int>\n",
      "   +- ReusedExchange [LocationID#425], BroadcastExchange HashedRelationBroadcastMode(List(cast(input[0, int, false] as bigint)),false), [id=#1578]\n",
      "\n",
      "\n"
     ]
    }
   ],
   "source": [
    "spark.sql(query2).explain()"
   ]
  },
  {
   "cell_type": "code",
   "execution_count": 40,
   "id": "62876189-28a5-4db9-b501-c9f0fabe7c4e",
   "metadata": {},
   "outputs": [
    {
     "name": "stderr",
     "output_type": "stream",
     "text": [
      "[Stage 57:==================================>                   (128 + 2) / 200]"
     ]
    },
    {
     "name": "stdout",
     "output_type": "stream",
     "text": [
      "+-----------+----------+\n",
      "|pickup_date|trip_count|\n",
      "+-----------+----------+\n",
      "| 2002-12-31|         1|\n",
      "| 2004-04-04|         1|\n",
      "| 2008-12-31|        15|\n",
      "| 2009-01-01|        23|\n",
      "| 2020-12-31|        16|\n",
      "+-----------+----------+\n",
      "only showing top 5 rows\n",
      "\n"
     ]
    },
    {
     "name": "stderr",
     "output_type": "stream",
     "text": [
      "                                                                                "
     ]
    }
   ],
   "source": [
    "# 실행계획, 실행결과(4040)\n",
    "query3 = '''\n",
    "select pickup_date, count(*) as trip_count\n",
    "from comb\n",
    "where pickup_time > 0\n",
    "group by pickup_date\n",
    "order by pickup_date\n",
    "'''\n",
    "spark.sql(query3).show(5)"
   ]
  },
  {
   "cell_type": "code",
   "execution_count": 41,
   "id": "73a47943-8af7-4938-8166-83caf2355634",
   "metadata": {},
   "outputs": [
    {
     "name": "stdout",
     "output_type": "stream",
     "text": [
      "== Physical Plan ==\n",
      "*(5) Sort [pickup_date#419 ASC NULLS FIRST], true, 0\n",
      "+- Exchange rangepartitioning(pickup_date#419 ASC NULLS FIRST, 200), ENSURE_REQUIREMENTS, [id=#1840]\n",
      "   +- *(4) HashAggregate(keys=[pickup_date#419], functions=[count(1)])\n",
      "      +- Exchange hashpartitioning(pickup_date#419, 200), ENSURE_REQUIREMENTS, [id=#1836]\n",
      "         +- *(3) HashAggregate(keys=[pickup_date#419], functions=[partial_count(1)])\n",
      "            +- *(3) Project [cast(tpep_pickup_datetime#17 as date) AS pickup_date#419]\n",
      "               +- *(3) BroadcastHashJoin [DOLocationID#24], [LocationID#425], LeftOuter, BuildRight, false\n",
      "                  :- *(3) Project [tpep_pickup_datetime#17, DOLocationID#24]\n",
      "                  :  +- *(3) BroadcastHashJoin [PULocationID#23], [LocationID#68], LeftOuter, BuildRight, false\n",
      "                  :     :- *(3) Filter (isnotnull(tpep_pickup_datetime#17) AND (hour(cast(tpep_pickup_datetime#17 as timestamp), Some(Asia/Seoul)) > 0))\n",
      "                  :     :  +- FileScan csv [tpep_pickup_datetime#17,PULocationID#23,DOLocationID#24] Batched: false, DataFilters: [isnotnull(tpep_pickup_datetime#17), (hour(cast(tpep_pickup_datetime#17 as timestamp), Some(Asia/..., Format: CSV, Location: InMemoryFileIndex[file:/home/lab09/git/src/data/trips/yellow_tripdata_2021-01.csv, file:/home/lab..., PartitionFilters: [], PushedFilters: [IsNotNull(tpep_pickup_datetime)], ReadSchema: struct<tpep_pickup_datetime:string,PULocationID:int,DOLocationID:int>\n",
      "                  :     +- BroadcastExchange HashedRelationBroadcastMode(List(cast(input[0, int, false] as bigint)),false), [id=#1797]\n",
      "                  :        +- *(1) Filter isnotnull(LocationID#68)\n",
      "                  :           +- FileScan csv [LocationID#68] Batched: false, DataFilters: [isnotnull(LocationID#68)], Format: CSV, Location: InMemoryFileIndex[file:/home/lab09/git/src/data/taxi+_zone_lookup.csv], PartitionFilters: [], PushedFilters: [IsNotNull(LocationID)], ReadSchema: struct<LocationID:int>\n",
      "                  +- ReusedExchange [LocationID#425], BroadcastExchange HashedRelationBroadcastMode(List(cast(input[0, int, false] as bigint)),false), [id=#1797]\n",
      "\n",
      "\n"
     ]
    }
   ],
   "source": [
    "spark.sql(query3).explain()"
   ]
  },
  {
   "cell_type": "code",
   "execution_count": null,
   "id": "fc5bf243-11f7-453c-ae53-98cae1c7cd29",
   "metadata": {},
   "outputs": [],
   "source": []
  },
  {
   "cell_type": "code",
   "execution_count": 12,
   "id": "b9cd6d61-b5f5-445f-84bb-d031e103eb36",
   "metadata": {},
   "outputs": [
    {
     "name": "stdout",
     "output_type": "stream",
     "text": [
      "root\n",
      " |-- VendorID: integer (nullable = true)\n",
      " |-- pickup_date: date (nullable = true)\n",
      " |-- dropoff_date: date (nullable = true)\n",
      " |-- pickup_time: integer (nullable = true)\n",
      " |-- dropoff_time: integer (nullable = true)\n",
      " |-- passenger_count: integer (nullable = true)\n",
      " |-- trip_distance: double (nullable = true)\n",
      " |-- payment_type: integer (nullable = true)\n",
      " |-- tip_amount: double (nullable = true)\n",
      " |-- total_amount: double (nullable = true)\n",
      " |-- payment_type: integer (nullable = true)\n",
      " |-- pickup_zone: string (nullable = true)\n",
      " |-- dropoff_zone: string (nullable = true)\n",
      "\n"
     ]
    }
   ],
   "source": [
    "comb_df.printSchema()"
   ]
  },
  {
   "cell_type": "code",
   "execution_count": null,
   "id": "4efe4e09-349a-4ce9-ab84-bf409d056c6d",
   "metadata": {},
   "outputs": [],
   "source": []
  },
  {
   "cell_type": "code",
   "execution_count": null,
   "id": "e4789456-cf44-41db-bd2e-418107a8388c",
   "metadata": {},
   "outputs": [],
   "source": []
  },
  {
   "cell_type": "code",
   "execution_count": null,
   "id": "fce43065-2c73-4100-9c2e-7bb54b27e03c",
   "metadata": {},
   "outputs": [],
   "source": []
  },
  {
   "cell_type": "code",
   "execution_count": null,
   "id": "43fcd95a-40f5-4992-a289-697a582c437b",
   "metadata": {},
   "outputs": [],
   "source": [
    "# 1. 운행 거리와 요금의 상관관계 분석  > 쿼리, 데이터프레임으로 구현\n"
   ]
  },
  {
   "cell_type": "raw",
   "id": "8789ac42-d65b-492b-819f-d40fa2f85437",
   "metadata": {},
   "source": [
    "2. 피크 시간대 요금 분석\n",
    "\n",
    "1) 피크 시간은 언제인가? -> 택시 이용시간이 가장 많은 시간 -> pickup time의 데이터 형식은? (0시 ~ 23시)\n",
    "2) 피크 시간대의 정의\n",
    "    16시를 제외한 14시~18시까지 택시 이용률이 100만 건으로 상위 5개에 속한다. 따라서 14시~18시까지를 피크 시간대라 정의하겠다. \n",
    "\n",
    "3) 요금은 어떻게 계산할 것인가?\n",
    "    (total_amount - tip_amount) % trip_distance  \n",
    "\n",
    "3) 피크 시간대(사용률 상위 5시간)와 피크 시간대가 아닌(사용률 하위 5시간) 시간대의 요금 비교"
   ]
  },
  {
   "cell_type": "code",
   "execution_count": 29,
   "id": "df86f3b3-7e7a-4deb-8576-033ec5599a7c",
   "metadata": {},
   "outputs": [
    {
     "name": "stdout",
     "output_type": "stream",
     "text": [
      "+------------+------------+----------+-------------+\n",
      "|payment_type|total_amount|tip_amount|trip_distance|\n",
      "+------------+------------+----------+-------------+\n",
      "|           2|         4.3|       0.0|          0.0|\n",
      "|           2|         3.8|       0.0|          0.0|\n",
      "|           2|         4.8|       0.0|          0.0|\n",
      "|           1|       70.07|     11.65|         16.5|\n",
      "|           1|       11.16|      1.86|         1.13|\n",
      "|           1|       18.59|      4.29|         2.68|\n",
      "|           1|        43.8|       0.0|         12.4|\n",
      "|           2|        32.3|       0.0|          9.7|\n",
      "|           1|       43.67|      7.25|          9.3|\n",
      "|           1|        46.1|      7.68|         9.58|\n",
      "+------------+------------+----------+-------------+\n",
      "\n"
     ]
    }
   ],
   "source": [
    "spark.sql(\n",
    "    '''\n",
    "    SELECT payment_type, total_amount, tip_amount, trip_distance\n",
    "    FROM comb\n",
    "    LIMIT 10 \n",
    "    '''\n",
    ").show()"
   ]
  },
  {
   "cell_type": "code",
   "execution_count": 25,
   "id": "b248c83f-ef42-4a75-9657-20dbac005c97",
   "metadata": {},
   "outputs": [
    {
     "name": "stderr",
     "output_type": "stream",
     "text": [
      "[Stage 53:====================================================> (195 + 2) / 200]"
     ]
    },
    {
     "name": "stdout",
     "output_type": "stream",
     "text": [
      "+-----------+-------+\n",
      "|pickup_time|using_c|\n",
      "+-----------+-------+\n",
      "|         18|1041430|\n",
      "|         15|1038263|\n",
      "|         17|1034744|\n",
      "|         14|1027552|\n",
      "|         16| 992228|\n",
      "|         13| 943650|\n",
      "|         12| 912906|\n",
      "|         19| 879011|\n",
      "|         11| 824072|\n",
      "|         10| 742738|\n",
      "|         20| 676077|\n",
      "|          9| 663235|\n",
      "|         21| 594733|\n",
      "|          8| 593089|\n",
      "|         22| 523054|\n",
      "|         23| 403656|\n",
      "|          7| 401582|\n",
      "|          0| 259029|\n",
      "|          6| 215919|\n",
      "|          1| 152301|\n",
      "+-----------+-------+\n",
      "only showing top 20 rows\n",
      "\n"
     ]
    },
    {
     "name": "stderr",
     "output_type": "stream",
     "text": [
      "                                                                                "
     ]
    }
   ],
   "source": [
    "spark.sql(\n",
    "    '''\n",
    "    SELECT pickup_time, count(VendorID) as using_c, \n",
    "    FROM comb\n",
    "    Group By pickup_time\n",
    "    Order By using_c Desc \n",
    "    Limit 5\n",
    "    '''\n",
    ").show()"
   ]
  },
  {
   "cell_type": "code",
   "execution_count": null,
   "id": "e3cac35f-f92c-451b-887c-453bb735430f",
   "metadata": {},
   "outputs": [],
   "source": []
  },
  {
   "cell_type": "raw",
   "id": "40fe0cda-757c-4506-98cc-f92787ec1a43",
   "metadata": {},
   "source": [
    "3. 지불 유형별 요금, 팁 분석\n",
    "payment_type \n",
    "tip_amount"
   ]
  },
  {
   "cell_type": "code",
   "execution_count": null,
   "id": "8df7a1ee-87e2-40e8-9c54-503369ccec36",
   "metadata": {},
   "outputs": [],
   "source": [
    "\n",
    "spark.sql(\n",
    "    '''\n",
    "    SELECT pickup_time, count(VendorID)\n",
    "    FROM comb\n",
    "    Group By pickup_time\n",
    "    '''\n",
    ").show()"
   ]
  },
  {
   "cell_type": "code",
   "execution_count": null,
   "id": "ba6b5dc9-c166-4e4d-a2b6-7d972d860624",
   "metadata": {},
   "outputs": [],
   "source": [
    "# 4. 승차지역/하차지역별 평균거리, 요금\n"
   ]
  },
  {
   "cell_type": "code",
   "execution_count": null,
   "id": "21d50beb-7eff-47d5-a2f9-aaf8d1cdc6a5",
   "metadata": {},
   "outputs": [],
   "source": [
    "# 5. 팁의 비율에 따른 거리, 여행 건수 서비스 관련 분석\n"
   ]
  },
  {
   "cell_type": "code",
   "execution_count": null,
   "id": "997aa13e-44b3-448b-b14c-512daad5ae79",
   "metadata": {},
   "outputs": [],
   "source": []
  },
  {
   "cell_type": "code",
   "execution_count": null,
   "id": "1ad70920-ced9-439f-9f6f-9b6fdf2036b4",
   "metadata": {},
   "outputs": [],
   "source": []
  },
  {
   "cell_type": "code",
   "execution_count": null,
   "id": "6eab1c52-77f2-4108-b629-29d4c1dd9c65",
   "metadata": {},
   "outputs": [],
   "source": []
  },
  {
   "cell_type": "code",
   "execution_count": null,
   "id": "d4f99226-bb87-406e-b5fc-029d6561c29c",
   "metadata": {},
   "outputs": [],
   "source": []
  },
  {
   "cell_type": "code",
   "execution_count": null,
   "id": "04f7187d-f567-4b39-b498-11ec2a1f5f71",
   "metadata": {},
   "outputs": [],
   "source": []
  },
  {
   "cell_type": "code",
   "execution_count": null,
   "id": "f5fdf63b-5f84-4255-b5e8-bba2e4fa00e6",
   "metadata": {},
   "outputs": [],
   "source": []
  },
  {
   "cell_type": "code",
   "execution_count": 44,
   "id": "9870e39f-e3e4-413c-a2f7-4a1d7354f2e2",
   "metadata": {},
   "outputs": [],
   "source": [
    "spark.stop()"
   ]
  },
  {
   "cell_type": "code",
   "execution_count": null,
   "id": "fb4cac6d-1575-4345-abfa-d618836ca04f",
   "metadata": {},
   "outputs": [],
   "source": []
  }
 ],
 "metadata": {
  "kernelspec": {
   "display_name": "Python (spark_start)",
   "language": "python",
   "name": "spark_start"
  },
  "language_info": {
   "codemirror_mode": {
    "name": "ipython",
    "version": 3
   },
   "file_extension": ".py",
   "mimetype": "text/x-python",
   "name": "python",
   "nbconvert_exporter": "python",
   "pygments_lexer": "ipython3",
   "version": "3.8.20"
  }
 },
 "nbformat": 4,
 "nbformat_minor": 5
}
