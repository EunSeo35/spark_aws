{
 "cells": [
  {
   "cell_type": "code",
   "execution_count": 1,
   "id": "35011605-d445-44d0-8ef4-51014c83b55e",
   "metadata": {},
   "outputs": [
    {
     "name": "stderr",
     "output_type": "stream",
     "text": [
      "24/12/12 09:26:33 WARN NativeCodeLoader: Unable to load native-hadoop library for your platform... using builtin-java classes where applicable\n",
      "Using Spark's default log4j profile: org/apache/spark/log4j-defaults.properties\n",
      "Setting default log level to \"WARN\".\n",
      "To adjust logging level use sc.setLogLevel(newLevel). For SparkR, use setLogLevel(newLevel).\n"
     ]
    }
   ],
   "source": [
    "from pyspark.sql import SparkSession\n",
    "spark = SparkSession.builder.appName('24121003_yellowtaxi_trip_count').getOrCreate()"
   ]
  },
  {
   "cell_type": "code",
   "execution_count": 2,
   "id": "357c1063-d0c8-4f77-9124-e2a7eb63eae7",
   "metadata": {},
   "outputs": [],
   "source": [
    "import os\n",
    "trip_files = '/trips/*'\n",
    "zone_file = 'taxi+_zone_lookup.csv'\n",
    "directory = os.path.join(os.getcwd(), 'data')"
   ]
  },
  {
   "cell_type": "code",
   "execution_count": 3,
   "id": "800d1961-b397-4435-a089-0322150b4ab4",
   "metadata": {},
   "outputs": [
    {
     "name": "stderr",
     "output_type": "stream",
     "text": [
      "                                                                                "
     ]
    }
   ],
   "source": [
    "trips_df = spark.read.csv(f'file:///{directory}/{trip_files}', inferSchema = True, header = True)"
   ]
  },
  {
   "cell_type": "code",
   "execution_count": 4,
   "id": "05d4c4b3-6483-49d4-a64b-e410fc058831",
   "metadata": {},
   "outputs": [],
   "source": [
    "zone_df = spark.read.csv(f'file:///{directory}/{zone_file}', inferSchema = True, header = True)"
   ]
  },
  {
   "cell_type": "raw",
   "id": "fcec0019-a447-4446-86f5-44378464f01f",
   "metadata": {},
   "source": [
    "[trips_df]\n",
    "\n",
    "1. VendorID: 기록을 제공하는 the TPEP provider를 나타내는 코드\n",
    "\n",
    "2. tpep_pickup_datetime: 승차 날짜 및 시간\n",
    "\n",
    "3. tpep_dropoff_datetime: 하자 날짜 및 시간\n",
    "\n",
    "4. passenger_count: 승객 수\n",
    "\n",
    "5. trip_distance: 거리(mile)\n",
    "\n",
    "6. PULocationID: 승차 장소(ID)\n",
    "\n",
    "7. DOLocationID: 하차 장소(ID)\n",
    "\n",
    "8. payment_type: 지불 방법\n",
    "\n",
    "9. fare_amount: 요금\n",
    "10. extra: 추가 요금\n",
    "11. tip_amount: 팁\n",
    "12. tolls_amount: 톨비\n",
    "13. total_amount: 총 비용\n",
    "\n",
    " \n",
    "\n",
    " \n",
    "\n",
    "[zone_df]\n",
    "\n",
    "1. LocationID: 지역 ID\n",
    "2. Borough: 크게 본 지역구\n",
    "3. Zone: 지역 동"
   ]
  },
  {
   "cell_type": "code",
   "execution_count": 5,
   "id": "4d006093-aa04-4742-aaad-d1d0b77cee88",
   "metadata": {},
   "outputs": [
    {
     "name": "stdout",
     "output_type": "stream",
     "text": [
      "root\n",
      " |-- VendorID: integer (nullable = true)\n",
      " |-- tpep_pickup_datetime: string (nullable = true)\n",
      " |-- tpep_dropoff_datetime: string (nullable = true)\n",
      " |-- passenger_count: integer (nullable = true)\n",
      " |-- trip_distance: double (nullable = true)\n",
      " |-- RatecodeID: integer (nullable = true)\n",
      " |-- store_and_fwd_flag: string (nullable = true)\n",
      " |-- PULocationID: integer (nullable = true)\n",
      " |-- DOLocationID: integer (nullable = true)\n",
      " |-- payment_type: integer (nullable = true)\n",
      " |-- fare_amount: double (nullable = true)\n",
      " |-- extra: double (nullable = true)\n",
      " |-- mta_tax: double (nullable = true)\n",
      " |-- tip_amount: double (nullable = true)\n",
      " |-- tolls_amount: double (nullable = true)\n",
      " |-- improvement_surcharge: double (nullable = true)\n",
      " |-- total_amount: double (nullable = true)\n",
      " |-- congestion_surcharge: double (nullable = true)\n",
      "\n"
     ]
    }
   ],
   "source": [
    "trips_df.printSchema()"
   ]
  },
  {
   "cell_type": "code",
   "execution_count": 6,
   "id": "889310f4-bf5b-4562-8546-0d76b785e9c2",
   "metadata": {},
   "outputs": [
    {
     "name": "stdout",
     "output_type": "stream",
     "text": [
      "root\n",
      " |-- LocationID: integer (nullable = true)\n",
      " |-- Borough: string (nullable = true)\n",
      " |-- Zone: string (nullable = true)\n",
      " |-- service_zone: string (nullable = true)\n",
      "\n"
     ]
    }
   ],
   "source": [
    "zone_df.printSchema()"
   ]
  },
  {
   "cell_type": "code",
   "execution_count": 7,
   "id": "67cc1b74-ec0e-471f-96d2-af36ecb47883",
   "metadata": {},
   "outputs": [],
   "source": [
    "trips_df.createOrReplaceTempView('trips')\n",
    "zone_df.createOrReplaceTempView('zone')"
   ]
  },
  {
   "cell_type": "code",
   "execution_count": 8,
   "id": "e7fc4d16-dabe-4de8-8c7c-a307b3bcab1f",
   "metadata": {},
   "outputs": [],
   "source": [
    "comb_df = spark.sql(\n",
    "    '''\n",
    "    select t.VendorID, \n",
    "        TO_DATE(t.tpep_pickup_datetime) as pickup_date,\n",
    "        TO_DATE(t.tpep_dropoff_datetime) as dropoff_date,\n",
    "        HOUR(t.tpep_pickup_datetime) as pickup_time,\n",
    "        HOUR(t.tpep_dropoff_datetime) as dropoff_time,\n",
    "        t.passenger_count,\n",
    "        t.trip_distance,\n",
    "        t.payment_type,\n",
    "        t.tip_amount,\n",
    "        t.total_amount,\n",
    "        t.tolls_amount,\n",
    "        pz.Zone as pickup_zone,\n",
    "        dz.Zone as dropoff_zone\n",
    "        \n",
    "        \n",
    "    from trips t\n",
    "    LEFT JOIN zone pz ON t.PULocationID = pz.LocationID\n",
    "    LEFT JOIN zone dz ON t.DOLocationID = dz.LocationID\n",
    "    '''\n",
    ")"
   ]
  },
  {
   "cell_type": "code",
   "execution_count": 9,
   "id": "56918a76-9369-404d-b594-429ef6f04bc0",
   "metadata": {},
   "outputs": [
    {
     "name": "stderr",
     "output_type": "stream",
     "text": [
      "                                                                                "
     ]
    },
    {
     "data": {
      "text/plain": [
       "15000700"
      ]
     },
     "execution_count": 9,
     "metadata": {},
     "output_type": "execute_result"
    }
   ],
   "source": [
    "comb_df.count()"
   ]
  },
  {
   "cell_type": "code",
   "execution_count": 44,
   "id": "9920bbc6-8d94-45f7-8eb5-fb4b183038fb",
   "metadata": {},
   "outputs": [
    {
     "name": "stdout",
     "output_type": "stream",
     "text": [
      "+--------+-----------+------------+-----------+------------+---------------+-------------+------------+----------+------------+------------+-----------------+--------------+\n",
      "|VendorID|pickup_date|dropoff_date|pickup_time|dropoff_time|passenger_count|trip_distance|payment_type|tip_amount|total_amount|tolls_amount|      pickup_zone|  dropoff_zone|\n",
      "+--------+-----------+------------+-----------+------------+---------------+-------------+------------+----------+------------+------------+-----------------+--------------+\n",
      "|       2| 2021-03-01|  2021-03-01|          0|           0|              1|          0.0|           2|       0.0|         4.3|         0.0|               NV|            NV|\n",
      "|       2| 2021-03-01|  2021-03-01|          0|           0|              1|          0.0|           2|       0.0|         3.8|         0.0|   Manhattanville|Manhattanville|\n",
      "|       2| 2021-03-01|  2021-03-01|          0|           0|              1|          0.0|           2|       0.0|         4.8|         0.0|   Manhattanville|Manhattanville|\n",
      "|       1| 2021-03-01|  2021-03-01|          0|           0|              0|         16.5|           1|     11.65|       70.07|        6.12|LaGuardia Airport|            NA|\n",
      "|       2| 2021-03-01|  2021-03-01|          0|           0|              1|         1.13|           1|      1.86|       11.16|         0.0|     East Chelsea|            NV|\n",
      "+--------+-----------+------------+-----------+------------+---------------+-------------+------------+----------+------------+------------+-----------------+--------------+\n",
      "only showing top 5 rows\n",
      "\n"
     ]
    }
   ],
   "source": [
    "comb_df.show(5)"
   ]
  },
  {
   "cell_type": "code",
   "execution_count": 10,
   "id": "67adee7d-4006-477e-9b0c-6269373fe551",
   "metadata": {},
   "outputs": [],
   "source": [
    "comb_df.createOrReplaceTempView('comb')"
   ]
  },
  {
   "cell_type": "markdown",
   "id": "e1232424-8a2c-4995-9439-31a51ad9a79d",
   "metadata": {},
   "source": [
    "## 데이터 전처리\n",
    "\n",
    "1. 2021년을 제외한 자료 제거\n",
    "2. 이상치 값 제거"
   ]
  },
  {
   "cell_type": "code",
   "execution_count": 11,
   "id": "08d44fce-af5a-48a0-9b0d-d2ba4b23181d",
   "metadata": {},
   "outputs": [
    {
     "name": "stderr",
     "output_type": "stream",
     "text": [
      "[Stage 9:============================================>          (161 + 3) / 200]"
     ]
    },
    {
     "name": "stdout",
     "output_type": "stream",
     "text": [
      "+-----------+\n",
      "|pickup_date|\n",
      "+-----------+\n",
      "| 2002-12-31|\n",
      "| 2003-01-05|\n",
      "| 2004-04-04|\n",
      "| 2008-12-31|\n",
      "| 2009-01-01|\n",
      "| 2020-12-31|\n",
      "| 2029-05-05|\n",
      "+-----------+\n",
      "\n"
     ]
    },
    {
     "name": "stderr",
     "output_type": "stream",
     "text": [
      "                                                                                "
     ]
    }
   ],
   "source": [
    "#2021년이 아닌 데이터\n",
    "spark.sql(\n",
    "    '''\n",
    "    SELECT distinct pickup_date\n",
    "    FROM comb \n",
    "    WHERE year(pickup_date) != '2021'\n",
    "    ORDER BY pickup_date\n",
    "    '''\n",
    ").show()"
   ]
  },
  {
   "cell_type": "raw",
   "id": "7f5dbb9e-a26b-4246-94ac-b7b9b51afaf1",
   "metadata": {},
   "source": [
    "# 전처리 기준\n",
    "\n",
    "1. 택시 승객 수 5명 제한\n",
    "법적으로 뉴욕 최대 노란 택시 승객 수는 5명이다. \n",
    "\n",
    "2. trip_distance, tip_amount, total_amount 0 값 제거\n",
    "\n",
    "3. trip_distance 2000 마일 이상 제거\n",
    "미국의 총 육지 면적은 약 3,531,905 평방마일이며 뉴욕의 육지 면적은 약 302 마일이다. 따라서 임의적으로 2000마일 이상은 제거하겠다. \n",
    "\n",
    "\n",
    "# 고려사항\n",
    "\n",
    "1. trip_distance가 0인 이유는 하차 거리가 짧지 않아서인가? 또는 택시 승객이 호출한 후 노쇼일 가능성은? \n"
   ]
  },
  {
   "cell_type": "code",
   "execution_count": 12,
   "id": "612d4e25-d302-48de-8c72-ca1374d83527",
   "metadata": {},
   "outputs": [
    {
     "name": "stdout",
     "output_type": "stream",
     "text": [
      "passenger_count의 describe -----------------------------------\n"
     ]
    },
    {
     "name": "stderr",
     "output_type": "stream",
     "text": [
      "                                                                                "
     ]
    },
    {
     "name": "stdout",
     "output_type": "stream",
     "text": [
      "+-------+------------------+\n",
      "|summary|   passenger_count|\n",
      "+-------+------------------+\n",
      "|  count|          14166672|\n",
      "|   mean|1.4253783104458126|\n",
      "| stddev|  1.04432704905968|\n",
      "|    min|                 0|\n",
      "|    max|                 9|\n",
      "+-------+------------------+\n",
      "\n",
      "trip_distance의 describe -----------------------------------\n"
     ]
    },
    {
     "name": "stderr",
     "output_type": "stream",
     "text": [
      "                                                                                "
     ]
    },
    {
     "name": "stdout",
     "output_type": "stream",
     "text": [
      "+-------+-----------------+\n",
      "|summary|    trip_distance|\n",
      "+-------+-----------------+\n",
      "|  count|         15000700|\n",
      "|   mean|6.628629402627818|\n",
      "| stddev|671.7293482115828|\n",
      "|    min|              0.0|\n",
      "|    max|        332541.19|\n",
      "+-------+-----------------+\n",
      "\n",
      "tip_amount의 describe -----------------------------------\n"
     ]
    },
    {
     "name": "stderr",
     "output_type": "stream",
     "text": [
      "                                                                                "
     ]
    },
    {
     "name": "stdout",
     "output_type": "stream",
     "text": [
      "+-------+-----------------+\n",
      "|summary|       tip_amount|\n",
      "+-------+-----------------+\n",
      "|  count|         15000700|\n",
      "|   mean|2.146797558780939|\n",
      "| stddev|2.610914434555077|\n",
      "|    min|          -333.32|\n",
      "|    max|          1140.44|\n",
      "+-------+-----------------+\n",
      "\n",
      "total_amount의 describe -----------------------------------\n"
     ]
    },
    {
     "name": "stderr",
     "output_type": "stream",
     "text": [
      "[Stage 20:==================================================>     (10 + 1) / 11]"
     ]
    },
    {
     "name": "stdout",
     "output_type": "stream",
     "text": [
      "+-------+-----------------+\n",
      "|summary|     total_amount|\n",
      "+-------+-----------------+\n",
      "|  count|         15000700|\n",
      "|   mean|18.75545205708744|\n",
      "| stddev|145.7442452805979|\n",
      "|    min|           -647.8|\n",
      "|    max|         398469.2|\n",
      "+-------+-----------------+\n",
      "\n"
     ]
    },
    {
     "name": "stderr",
     "output_type": "stream",
     "text": [
      "                                                                                "
     ]
    }
   ],
   "source": [
    "# 이상치 값 찾기\n",
    "\n",
    "for i in ['passenger_count', 'trip_distance','tip_amount', 'total_amount']:\n",
    "    print(f'{i}의 describe -----------------------------------')\n",
    "    comb_df.select(i).describe().show()"
   ]
  },
  {
   "cell_type": "code",
   "execution_count": 23,
   "id": "d8d8e7bb-971c-43f5-917c-fd2299482244",
   "metadata": {},
   "outputs": [
    {
     "name": "stderr",
     "output_type": "stream",
     "text": [
      "                                                                                "
     ]
    },
    {
     "data": {
      "text/plain": [
       "10567904"
      ]
     },
     "execution_count": 23,
     "metadata": {},
     "output_type": "execute_result"
    }
   ],
   "source": [
    "taxi = spark.sql(\n",
    "    '''\n",
    "    SELECT *\n",
    "    FROM comb \n",
    "    WHERE year(pickup_date) == '2021'\n",
    "        AND tip_amount > 0\n",
    "        AND total_amount > 0\n",
    "        AND trip_distance > 0\n",
    "    '''\n",
    ")\n",
    "taxi.count()"
   ]
  },
  {
   "cell_type": "code",
   "execution_count": 29,
   "id": "1a588595-eafc-427f-adb7-8b442e0b5010",
   "metadata": {},
   "outputs": [
    {
     "name": "stdout",
     "output_type": "stream",
     "text": [
      "+-------------+----------+------------+------------+\n",
      "|trip_distance|tip_amount|total_amount|tolls_amount|\n",
      "+-------------+----------+------------+------------+\n",
      "|          0.0|       0.0|         4.3|         0.0|\n",
      "|          0.0|       0.0|         3.8|         0.0|\n",
      "|          0.0|       0.0|         4.8|         0.0|\n",
      "|         12.4|       0.0|        43.8|         0.0|\n",
      "|          9.7|       0.0|        32.3|         0.0|\n",
      "|         16.2|       0.0|        45.3|         0.0|\n",
      "|         2.57|       0.0|        12.8|         0.0|\n",
      "|          0.4|       0.0|         5.3|         0.0|\n",
      "|         3.26|       0.0|        17.3|         0.0|\n",
      "|         2.35|       0.0|        12.8|         0.0|\n",
      "|         18.3|       0.0|       61.42|        6.12|\n",
      "|          2.0|       0.0|        11.8|         0.0|\n",
      "|          1.3|       0.0|        16.8|         0.0|\n",
      "|         4.19|       0.0|        17.8|         0.0|\n",
      "|          3.5|       0.0|        16.3|         0.0|\n",
      "|         4.89|       0.0|        18.3|         0.0|\n",
      "|          1.7|       0.0|        50.3|         0.0|\n",
      "|          0.0|       0.0|         3.8|         0.0|\n",
      "|         6.59|       0.0|        25.8|         0.0|\n",
      "|         5.29|       0.0|        20.3|         0.0|\n",
      "+-------------+----------+------------+------------+\n",
      "only showing top 20 rows\n",
      "\n"
     ]
    }
   ],
   "source": [
    "spark.sql(\n",
    "    '''\n",
    "    SELECT trip_distance, tip_amount, total_amount, tolls_amount\n",
    "    FROM comb \n",
    "    WHERE tip_amount = 0\n",
    "    '''\n",
    ").show(20)"
   ]
  },
  {
   "cell_type": "code",
   "execution_count": 31,
   "id": "e2c8f8c2-8108-4c32-b19d-88111c73c4b4",
   "metadata": {},
   "outputs": [],
   "source": [
    "taxi.createOrReplaceTempView(\"taxi\")"
   ]
  },
  {
   "cell_type": "code",
   "execution_count": null,
   "id": "40c7efca-c21d-4023-baf6-9ae1c8370766",
   "metadata": {},
   "outputs": [],
   "source": []
  },
  {
   "cell_type": "code",
   "execution_count": 37,
   "id": "a933ad71-37d5-4ec1-8883-01d62bd9ceb9",
   "metadata": {},
   "outputs": [
    {
     "name": "stderr",
     "output_type": "stream",
     "text": [
      "[Stage 51:=================================================>        (6 + 1) / 7]"
     ]
    },
    {
     "name": "stdout",
     "output_type": "stream",
     "text": [
      "+-------+------------------+------------------+------------------+------------------+------------------+-------------------+------------------+------------------+-------------------+--------------------+--------------------+\n",
      "|summary|          VendorID|       pickup_time|      dropoff_time|   passenger_count|     trip_distance|       payment_type|        tip_amount|      total_amount|       payment_type|         pickup_zone|        dropoff_zone|\n",
      "+-------+------------------+------------------+------------------+------------------+------------------+-------------------+------------------+------------------+-------------------+--------------------+--------------------+\n",
      "|  count|           8596840|           8921357|           8921357|           8596839|           8921357|            8596838|           8921355|           8921354|            8596838|             8921357|             8921356|\n",
      "|   mean| 1.682631874037437|14.074268185882485|14.178853844768234|1.4186727237767276|3.7238418706928775|  1.263438371177868|2.0640901298068695| 17.99879389738831|  1.263438371177868|                null|                null|\n",
      "| stddev|0.4654520638972218|4.9642437412210105| 5.022495523857638|1.0434119830811381|293.76369881933465|0.48143819212054034|2.5215341583519155|188.57287562703326|0.48143819212054034|                null|                null|\n",
      "|    min|                 1|                 0|                 0|                 0|               0.0|                  1|           -333.32|            -634.8|                  1|Allerton/Pelham G...|Allerton/Pelham G...|\n",
      "|    max|                 2|                23|                23|                 9|         263163.28|                  4|           1140.44|          398469.2|                  4|      Yorkville West|      Yorkville West|\n",
      "+-------+------------------+------------------+------------------+------------------+------------------+-------------------+------------------+------------------+-------------------+--------------------+--------------------+\n",
      "\n"
     ]
    },
    {
     "name": "stderr",
     "output_type": "stream",
     "text": [
      "                                                                                "
     ]
    }
   ],
   "source": [
    "comb_df.describe().show()"
   ]
  },
  {
   "cell_type": "code",
   "execution_count": 38,
   "id": "e694c52f-3b9b-4a1a-97e7-b129b77089b9",
   "metadata": {},
   "outputs": [
    {
     "name": "stdout",
     "output_type": "stream",
     "text": [
      "+-----------+-----------+\n",
      "|pickup_date|pickup_time|\n",
      "+-----------+-----------+\n",
      "| 2021-03-01|          1|\n",
      "| 2021-03-01|          1|\n",
      "| 2021-03-01|          1|\n",
      "| 2021-03-01|          1|\n",
      "| 2021-03-01|          1|\n",
      "+-----------+-----------+\n",
      "only showing top 5 rows\n",
      "\n"
     ]
    }
   ],
   "source": [
    "# 실행계획, 실행결과(4040)\n",
    "query2 = '''\n",
    "select pickup_date, pickup_time\n",
    "from comb\n",
    "where pickup_time > 0 and pickup_time <= 12\n",
    "'''\n",
    "spark.sql(query2).show(5)"
   ]
  },
  {
   "cell_type": "code",
   "execution_count": 39,
   "id": "5fc035c3-75fd-4ea6-86bb-aa1b070adc19",
   "metadata": {},
   "outputs": [
    {
     "name": "stdout",
     "output_type": "stream",
     "text": [
      "== Physical Plan ==\n",
      "*(3) Project [cast(tpep_pickup_datetime#17 as date) AS pickup_date#419, hour(cast(tpep_pickup_datetime#17 as timestamp), Some(Asia/Seoul)) AS pickup_time#421]\n",
      "+- *(3) BroadcastHashJoin [DOLocationID#24], [LocationID#425], LeftOuter, BuildRight, false\n",
      "   :- *(3) Project [tpep_pickup_datetime#17, DOLocationID#24]\n",
      "   :  +- *(3) BroadcastHashJoin [PULocationID#23], [LocationID#68], LeftOuter, BuildRight, false\n",
      "   :     :- *(3) Filter ((isnotnull(tpep_pickup_datetime#17) AND (hour(cast(tpep_pickup_datetime#17 as timestamp), Some(Asia/Seoul)) > 0)) AND (hour(cast(tpep_pickup_datetime#17 as timestamp), Some(Asia/Seoul)) <= 12))\n",
      "   :     :  +- FileScan csv [tpep_pickup_datetime#17,PULocationID#23,DOLocationID#24] Batched: false, DataFilters: [isnotnull(tpep_pickup_datetime#17), (hour(cast(tpep_pickup_datetime#17 as timestamp), Some(Asia/..., Format: CSV, Location: InMemoryFileIndex[file:/home/lab09/git/src/data/trips/yellow_tripdata_2021-01.csv, file:/home/lab..., PartitionFilters: [], PushedFilters: [IsNotNull(tpep_pickup_datetime)], ReadSchema: struct<tpep_pickup_datetime:string,PULocationID:int,DOLocationID:int>\n",
      "   :     +- BroadcastExchange HashedRelationBroadcastMode(List(cast(input[0, int, false] as bigint)),false), [id=#1578]\n",
      "   :        +- *(1) Filter isnotnull(LocationID#68)\n",
      "   :           +- FileScan csv [LocationID#68] Batched: false, DataFilters: [isnotnull(LocationID#68)], Format: CSV, Location: InMemoryFileIndex[file:/home/lab09/git/src/data/taxi+_zone_lookup.csv], PartitionFilters: [], PushedFilters: [IsNotNull(LocationID)], ReadSchema: struct<LocationID:int>\n",
      "   +- ReusedExchange [LocationID#425], BroadcastExchange HashedRelationBroadcastMode(List(cast(input[0, int, false] as bigint)),false), [id=#1578]\n",
      "\n",
      "\n"
     ]
    }
   ],
   "source": [
    "spark.sql(query2).explain()"
   ]
  },
  {
   "cell_type": "code",
   "execution_count": 40,
   "id": "62876189-28a5-4db9-b501-c9f0fabe7c4e",
   "metadata": {},
   "outputs": [
    {
     "name": "stderr",
     "output_type": "stream",
     "text": [
      "[Stage 57:==================================>                   (128 + 2) / 200]"
     ]
    },
    {
     "name": "stdout",
     "output_type": "stream",
     "text": [
      "+-----------+----------+\n",
      "|pickup_date|trip_count|\n",
      "+-----------+----------+\n",
      "| 2002-12-31|         1|\n",
      "| 2004-04-04|         1|\n",
      "| 2008-12-31|        15|\n",
      "| 2009-01-01|        23|\n",
      "| 2020-12-31|        16|\n",
      "+-----------+----------+\n",
      "only showing top 5 rows\n",
      "\n"
     ]
    },
    {
     "name": "stderr",
     "output_type": "stream",
     "text": [
      "                                                                                "
     ]
    }
   ],
   "source": [
    "# 실행계획, 실행결과(4040)\n",
    "query3 = '''\n",
    "select pickup_date, count(*) as trip_count\n",
    "from comb\n",
    "where pickup_time > 0\n",
    "group by pickup_date\n",
    "order by pickup_date\n",
    "'''\n",
    "spark.sql(query3).show(5)"
   ]
  },
  {
   "cell_type": "code",
   "execution_count": 41,
   "id": "73a47943-8af7-4938-8166-83caf2355634",
   "metadata": {},
   "outputs": [
    {
     "name": "stdout",
     "output_type": "stream",
     "text": [
      "== Physical Plan ==\n",
      "*(5) Sort [pickup_date#419 ASC NULLS FIRST], true, 0\n",
      "+- Exchange rangepartitioning(pickup_date#419 ASC NULLS FIRST, 200), ENSURE_REQUIREMENTS, [id=#1840]\n",
      "   +- *(4) HashAggregate(keys=[pickup_date#419], functions=[count(1)])\n",
      "      +- Exchange hashpartitioning(pickup_date#419, 200), ENSURE_REQUIREMENTS, [id=#1836]\n",
      "         +- *(3) HashAggregate(keys=[pickup_date#419], functions=[partial_count(1)])\n",
      "            +- *(3) Project [cast(tpep_pickup_datetime#17 as date) AS pickup_date#419]\n",
      "               +- *(3) BroadcastHashJoin [DOLocationID#24], [LocationID#425], LeftOuter, BuildRight, false\n",
      "                  :- *(3) Project [tpep_pickup_datetime#17, DOLocationID#24]\n",
      "                  :  +- *(3) BroadcastHashJoin [PULocationID#23], [LocationID#68], LeftOuter, BuildRight, false\n",
      "                  :     :- *(3) Filter (isnotnull(tpep_pickup_datetime#17) AND (hour(cast(tpep_pickup_datetime#17 as timestamp), Some(Asia/Seoul)) > 0))\n",
      "                  :     :  +- FileScan csv [tpep_pickup_datetime#17,PULocationID#23,DOLocationID#24] Batched: false, DataFilters: [isnotnull(tpep_pickup_datetime#17), (hour(cast(tpep_pickup_datetime#17 as timestamp), Some(Asia/..., Format: CSV, Location: InMemoryFileIndex[file:/home/lab09/git/src/data/trips/yellow_tripdata_2021-01.csv, file:/home/lab..., PartitionFilters: [], PushedFilters: [IsNotNull(tpep_pickup_datetime)], ReadSchema: struct<tpep_pickup_datetime:string,PULocationID:int,DOLocationID:int>\n",
      "                  :     +- BroadcastExchange HashedRelationBroadcastMode(List(cast(input[0, int, false] as bigint)),false), [id=#1797]\n",
      "                  :        +- *(1) Filter isnotnull(LocationID#68)\n",
      "                  :           +- FileScan csv [LocationID#68] Batched: false, DataFilters: [isnotnull(LocationID#68)], Format: CSV, Location: InMemoryFileIndex[file:/home/lab09/git/src/data/taxi+_zone_lookup.csv], PartitionFilters: [], PushedFilters: [IsNotNull(LocationID)], ReadSchema: struct<LocationID:int>\n",
      "                  +- ReusedExchange [LocationID#425], BroadcastExchange HashedRelationBroadcastMode(List(cast(input[0, int, false] as bigint)),false), [id=#1797]\n",
      "\n",
      "\n"
     ]
    }
   ],
   "source": [
    "spark.sql(query3).explain()"
   ]
  },
  {
   "cell_type": "code",
   "execution_count": null,
   "id": "fc5bf243-11f7-453c-ae53-98cae1c7cd29",
   "metadata": {},
   "outputs": [],
   "source": []
  },
  {
   "cell_type": "code",
   "execution_count": 12,
   "id": "b9cd6d61-b5f5-445f-84bb-d031e103eb36",
   "metadata": {},
   "outputs": [
    {
     "name": "stdout",
     "output_type": "stream",
     "text": [
      "root\n",
      " |-- VendorID: integer (nullable = true)\n",
      " |-- pickup_date: date (nullable = true)\n",
      " |-- dropoff_date: date (nullable = true)\n",
      " |-- pickup_time: integer (nullable = true)\n",
      " |-- dropoff_time: integer (nullable = true)\n",
      " |-- passenger_count: integer (nullable = true)\n",
      " |-- trip_distance: double (nullable = true)\n",
      " |-- payment_type: integer (nullable = true)\n",
      " |-- tip_amount: double (nullable = true)\n",
      " |-- total_amount: double (nullable = true)\n",
      " |-- payment_type: integer (nullable = true)\n",
      " |-- pickup_zone: string (nullable = true)\n",
      " |-- dropoff_zone: string (nullable = true)\n",
      "\n"
     ]
    }
   ],
   "source": [
    "comb_df.printSchema()"
   ]
  },
  {
   "cell_type": "code",
   "execution_count": null,
   "id": "4efe4e09-349a-4ce9-ab84-bf409d056c6d",
   "metadata": {},
   "outputs": [],
   "source": []
  },
  {
   "cell_type": "code",
   "execution_count": null,
   "id": "e4789456-cf44-41db-bd2e-418107a8388c",
   "metadata": {},
   "outputs": [],
   "source": []
  },
  {
   "cell_type": "code",
   "execution_count": null,
   "id": "fce43065-2c73-4100-9c2e-7bb54b27e03c",
   "metadata": {},
   "outputs": [],
   "source": []
  },
  {
   "cell_type": "code",
   "execution_count": null,
   "id": "43fcd95a-40f5-4992-a289-697a582c437b",
   "metadata": {},
   "outputs": [],
   "source": [
    "# 1. 운행 거리와 요금의 상관관계 분석  > 쿼리, 데이터프레임으로 구현\n"
   ]
  },
  {
   "cell_type": "raw",
   "id": "8789ac42-d65b-492b-819f-d40fa2f85437",
   "metadata": {},
   "source": [
    "2. 피크 시간대 요금 분석\n",
    "\n",
    "1) 피크 시간은 언제인가? -> 택시 이용시간이 가장 많은 시간 -> pickup time의 데이터 형식은? (0시 ~ 23시)\n",
    "2) 피크 시간대의 정의\n",
    "    16시를 제외한 14시~18시까지 택시 이용률이 100만 건으로 상위 5개에 속한다. 따라서 14시~18시까지를 피크 시간대라 정의하겠다. \n",
    "\n",
    "3) 요금은 어떻게 계산할 것인가?\n",
    "    (total_amount - tip_amount) % trip_distance  \n",
    "\n",
    "3) 피크 시간대(사용률 상위 5시간)와 피크 시간대가 아닌(사용률 하위 5시간) 시간대의 요금 비교"
   ]
  },
  {
   "cell_type": "code",
   "execution_count": 34,
   "id": "df86f3b3-7e7a-4deb-8576-033ec5599a7c",
   "metadata": {},
   "outputs": [
    {
     "name": "stdout",
     "output_type": "stream",
     "text": [
      "+------------+------------+----------+-------------+\n",
      "|payment_type|total_amount|tip_amount|trip_distance|\n",
      "+------------+------------+----------+-------------+\n",
      "|           1|       70.07|     11.65|         16.5|\n",
      "|           1|       11.16|      1.86|         1.13|\n",
      "|           1|       18.59|      4.29|         2.68|\n",
      "|           1|       43.67|      7.25|          9.3|\n",
      "|           1|        46.1|      7.68|         9.58|\n",
      "|           1|        19.3|       2.0|         3.58|\n",
      "|           1|        14.8|       5.0|         0.91|\n",
      "|           1|       47.25|      9.45|        13.41|\n",
      "|           1|       14.16|      2.36|         1.53|\n",
      "|           1|       54.96|      9.16|         16.6|\n",
      "+------------+------------+----------+-------------+\n",
      "\n"
     ]
    }
   ],
   "source": [
    "spark.sql(\n",
    "    '''\n",
    "    SELECT payment_type, total_amount, tip_amount, trip_distance\n",
    "    FROM taxi\n",
    "    LIMIT 10 \n",
    "    '''\n",
    ").show()"
   ]
  },
  {
   "cell_type": "code",
   "execution_count": 35,
   "id": "8a1be1fc-4d2e-4675-afb3-d20885931ec2",
   "metadata": {},
   "outputs": [
    {
     "name": "stdout",
     "output_type": "stream",
     "text": [
      "+--------+-----------+------------+-----------+------------+---------------+-------------+------------+----------+------------+------------+--------------------+--------------------+\n",
      "|VendorID|pickup_date|dropoff_date|pickup_time|dropoff_time|passenger_count|trip_distance|payment_type|tip_amount|total_amount|tolls_amount|         pickup_zone|        dropoff_zone|\n",
      "+--------+-----------+------------+-----------+------------+---------------+-------------+------------+----------+------------+------------+--------------------+--------------------+\n",
      "|       1| 2021-03-01|  2021-03-01|          0|           0|              0|         16.5|           1|     11.65|       70.07|        6.12|   LaGuardia Airport|                  NA|\n",
      "|       2| 2021-03-01|  2021-03-01|          0|           0|              1|         1.13|           1|      1.86|       11.16|         0.0|        East Chelsea|                  NV|\n",
      "|       2| 2021-03-01|  2021-03-01|          0|           0|              1|         2.68|           1|      4.29|       18.59|         0.0|Upper West Side S...|      Yorkville East|\n",
      "|       1| 2021-03-01|  2021-03-01|          0|           0|              1|          9.3|           1|      7.25|       43.67|        6.12|   LaGuardia Airport|     Lenox Hill West|\n",
      "|       2| 2021-03-01|  2021-03-01|          0|           0|              1|         9.58|           1|      7.68|        46.1|        6.12|   LaGuardia Airport|        Clinton West|\n",
      "|       2| 2021-03-01|  2021-03-01|          0|           0|              1|         3.58|           1|       2.0|        19.3|         0.0|     Lenox Hill East|             Astoria|\n",
      "|       2| 2021-03-01|  2021-03-01|          0|           0|              1|         0.91|           1|       5.0|        14.8|         0.0|Upper West Side S...|Upper West Side N...|\n",
      "|       2| 2021-03-01|  2021-03-01|          0|           0|              1|        13.41|           1|      9.45|       47.25|         0.0|         JFK Airport|           Flatlands|\n",
      "|       2| 2021-03-01|  2021-03-01|          0|           0|              1|         1.53|           1|      2.36|       14.16|         0.0|Sutton Place/Turt...|        Clinton East|\n",
      "|       2| 2021-03-01|  2021-03-01|          0|           0|              2|         16.6|           1|      9.16|       54.96|         0.0|         JFK Airport|Williamsburg (Nor...|\n",
      "+--------+-----------+------------+-----------+------------+---------------+-------------+------------+----------+------------+------------+--------------------+--------------------+\n",
      "\n"
     ]
    }
   ],
   "source": [
    "spark.sql(\n",
    "    '''\n",
    "    SELECT *\n",
    "    FROM taxi\n",
    "    LIMIT 10 \n",
    "    '''\n",
    ").show()"
   ]
  },
  {
   "cell_type": "code",
   "execution_count": 33,
   "id": "b248c83f-ef42-4a75-9657-20dbac005c97",
   "metadata": {},
   "outputs": [
    {
     "ename": "AnalysisException",
     "evalue": "cannot resolve '`pickup_time`' given input columns: []; line 4 pos 13;\n'GlobalLimit 5\n+- 'LocalLimit 5\n   +- 'Sort ['using_c DESC NULLS LAST], true\n      +- 'Aggregate ['pickup_time], ['pickup_time, 'count('VendorID) AS using_c#1016, 'FROM AS taxi#1017]\n         +- OneRowRelation\n",
     "output_type": "error",
     "traceback": [
      "\u001b[0;31m---------------------------------------------------------------------------\u001b[0m",
      "\u001b[0;31mAnalysisException\u001b[0m                         Traceback (most recent call last)",
      "Cell \u001b[0;32mIn[33], line 1\u001b[0m\n\u001b[0;32m----> 1\u001b[0m \u001b[43mspark\u001b[49m\u001b[38;5;241;43m.\u001b[39;49m\u001b[43msql\u001b[49m\u001b[43m(\u001b[49m\n\u001b[1;32m      2\u001b[0m \u001b[38;5;250;43m    \u001b[39;49m\u001b[38;5;124;43;03m'''\u001b[39;49;00m\n\u001b[1;32m      3\u001b[0m \u001b[38;5;124;43;03m    SELECT pickup_time, count(VendorID) as using_c, \u001b[39;49;00m\n\u001b[1;32m      4\u001b[0m \u001b[38;5;124;43;03m    FROM taxi\u001b[39;49;00m\n\u001b[1;32m      5\u001b[0m \u001b[38;5;124;43;03m    Group By pickup_time\u001b[39;49;00m\n\u001b[1;32m      6\u001b[0m \u001b[38;5;124;43;03m    Order By using_c Desc \u001b[39;49;00m\n\u001b[1;32m      7\u001b[0m \u001b[38;5;124;43;03m    Limit 5\u001b[39;49;00m\n\u001b[1;32m      8\u001b[0m \u001b[38;5;124;43;03m    '''\u001b[39;49;00m\n\u001b[1;32m      9\u001b[0m \u001b[43m)\u001b[49m\u001b[38;5;241m.\u001b[39mshow()\n",
      "File \u001b[0;32m/opt/spark/python/pyspark/sql/session.py:723\u001b[0m, in \u001b[0;36mSparkSession.sql\u001b[0;34m(self, sqlQuery)\u001b[0m\n\u001b[1;32m    707\u001b[0m \u001b[38;5;28;01mdef\u001b[39;00m \u001b[38;5;21msql\u001b[39m(\u001b[38;5;28mself\u001b[39m, sqlQuery):\n\u001b[1;32m    708\u001b[0m \u001b[38;5;250m    \u001b[39m\u001b[38;5;124;03m\"\"\"Returns a :class:`DataFrame` representing the result of the given query.\u001b[39;00m\n\u001b[1;32m    709\u001b[0m \n\u001b[1;32m    710\u001b[0m \u001b[38;5;124;03m    .. versionadded:: 2.0.0\u001b[39;00m\n\u001b[0;32m   (...)\u001b[0m\n\u001b[1;32m    721\u001b[0m \u001b[38;5;124;03m    [Row(f1=1, f2='row1'), Row(f1=2, f2='row2'), Row(f1=3, f2='row3')]\u001b[39;00m\n\u001b[1;32m    722\u001b[0m \u001b[38;5;124;03m    \"\"\"\u001b[39;00m\n\u001b[0;32m--> 723\u001b[0m     \u001b[38;5;28;01mreturn\u001b[39;00m DataFrame(\u001b[38;5;28;43mself\u001b[39;49m\u001b[38;5;241;43m.\u001b[39;49m\u001b[43m_jsparkSession\u001b[49m\u001b[38;5;241;43m.\u001b[39;49m\u001b[43msql\u001b[49m\u001b[43m(\u001b[49m\u001b[43msqlQuery\u001b[49m\u001b[43m)\u001b[49m, \u001b[38;5;28mself\u001b[39m\u001b[38;5;241m.\u001b[39m_wrapped)\n",
      "File \u001b[0;32m/opt/spark/python/lib/py4j-0.10.9-src.zip/py4j/java_gateway.py:1304\u001b[0m, in \u001b[0;36mJavaMember.__call__\u001b[0;34m(self, *args)\u001b[0m\n\u001b[1;32m   1298\u001b[0m command \u001b[38;5;241m=\u001b[39m proto\u001b[38;5;241m.\u001b[39mCALL_COMMAND_NAME \u001b[38;5;241m+\u001b[39m\\\n\u001b[1;32m   1299\u001b[0m     \u001b[38;5;28mself\u001b[39m\u001b[38;5;241m.\u001b[39mcommand_header \u001b[38;5;241m+\u001b[39m\\\n\u001b[1;32m   1300\u001b[0m     args_command \u001b[38;5;241m+\u001b[39m\\\n\u001b[1;32m   1301\u001b[0m     proto\u001b[38;5;241m.\u001b[39mEND_COMMAND_PART\n\u001b[1;32m   1303\u001b[0m answer \u001b[38;5;241m=\u001b[39m \u001b[38;5;28mself\u001b[39m\u001b[38;5;241m.\u001b[39mgateway_client\u001b[38;5;241m.\u001b[39msend_command(command)\n\u001b[0;32m-> 1304\u001b[0m return_value \u001b[38;5;241m=\u001b[39m \u001b[43mget_return_value\u001b[49m\u001b[43m(\u001b[49m\n\u001b[1;32m   1305\u001b[0m \u001b[43m    \u001b[49m\u001b[43manswer\u001b[49m\u001b[43m,\u001b[49m\u001b[43m \u001b[49m\u001b[38;5;28;43mself\u001b[39;49m\u001b[38;5;241;43m.\u001b[39;49m\u001b[43mgateway_client\u001b[49m\u001b[43m,\u001b[49m\u001b[43m \u001b[49m\u001b[38;5;28;43mself\u001b[39;49m\u001b[38;5;241;43m.\u001b[39;49m\u001b[43mtarget_id\u001b[49m\u001b[43m,\u001b[49m\u001b[43m \u001b[49m\u001b[38;5;28;43mself\u001b[39;49m\u001b[38;5;241;43m.\u001b[39;49m\u001b[43mname\u001b[49m\u001b[43m)\u001b[49m\n\u001b[1;32m   1307\u001b[0m \u001b[38;5;28;01mfor\u001b[39;00m temp_arg \u001b[38;5;129;01min\u001b[39;00m temp_args:\n\u001b[1;32m   1308\u001b[0m     temp_arg\u001b[38;5;241m.\u001b[39m_detach()\n",
      "File \u001b[0;32m/opt/spark/python/pyspark/sql/utils.py:117\u001b[0m, in \u001b[0;36mcapture_sql_exception.<locals>.deco\u001b[0;34m(*a, **kw)\u001b[0m\n\u001b[1;32m    113\u001b[0m converted \u001b[38;5;241m=\u001b[39m convert_exception(e\u001b[38;5;241m.\u001b[39mjava_exception)\n\u001b[1;32m    114\u001b[0m \u001b[38;5;28;01mif\u001b[39;00m \u001b[38;5;129;01mnot\u001b[39;00m \u001b[38;5;28misinstance\u001b[39m(converted, UnknownException):\n\u001b[1;32m    115\u001b[0m     \u001b[38;5;66;03m# Hide where the exception came from that shows a non-Pythonic\u001b[39;00m\n\u001b[1;32m    116\u001b[0m     \u001b[38;5;66;03m# JVM exception message.\u001b[39;00m\n\u001b[0;32m--> 117\u001b[0m     \u001b[38;5;28;01mraise\u001b[39;00m converted \u001b[38;5;28;01mfrom\u001b[39;00m \u001b[38;5;28;01mNone\u001b[39;00m\n\u001b[1;32m    118\u001b[0m \u001b[38;5;28;01melse\u001b[39;00m:\n\u001b[1;32m    119\u001b[0m     \u001b[38;5;28;01mraise\u001b[39;00m\n",
      "\u001b[0;31mAnalysisException\u001b[0m: cannot resolve '`pickup_time`' given input columns: []; line 4 pos 13;\n'GlobalLimit 5\n+- 'LocalLimit 5\n   +- 'Sort ['using_c DESC NULLS LAST], true\n      +- 'Aggregate ['pickup_time], ['pickup_time, 'count('VendorID) AS using_c#1016, 'FROM AS taxi#1017]\n         +- OneRowRelation\n"
     ]
    }
   ],
   "source": [
    "spark.sql(\n",
    "    '''\n",
    "    SELECT pickup_time, count(VendorID) as using_c, \n",
    "    FROM taxi\n",
    "    Group By pickup_time\n",
    "    Order By using_c Desc \n",
    "    Limit 5\n",
    "    '''\n",
    ").show()"
   ]
  },
  {
   "cell_type": "code",
   "execution_count": null,
   "id": "e3cac35f-f92c-451b-887c-453bb735430f",
   "metadata": {},
   "outputs": [],
   "source": []
  },
  {
   "cell_type": "raw",
   "id": "40fe0cda-757c-4506-98cc-f92787ec1a43",
   "metadata": {},
   "source": [
    "3. 지불 유형별 요금, 팁 분석\n",
    "payment_type \n",
    "tip_amount"
   ]
  },
  {
   "cell_type": "code",
   "execution_count": null,
   "id": "8df7a1ee-87e2-40e8-9c54-503369ccec36",
   "metadata": {},
   "outputs": [],
   "source": [
    "\n",
    "spark.sql(\n",
    "    '''\n",
    "    SELECT pickup_time, count(VendorID)\n",
    "    FROM comb\n",
    "    Group By pickup_time\n",
    "    '''\n",
    ").show()"
   ]
  },
  {
   "cell_type": "code",
   "execution_count": null,
   "id": "ba6b5dc9-c166-4e4d-a2b6-7d972d860624",
   "metadata": {},
   "outputs": [],
   "source": [
    "# 4. 승차지역/하차지역별 평균거리, 요금\n"
   ]
  },
  {
   "cell_type": "code",
   "execution_count": null,
   "id": "21d50beb-7eff-47d5-a2f9-aaf8d1cdc6a5",
   "metadata": {},
   "outputs": [],
   "source": [
    "# 5. 팁의 비율에 따른 거리, 여행 건수 서비스 관련 분석\n"
   ]
  },
  {
   "cell_type": "code",
   "execution_count": null,
   "id": "997aa13e-44b3-448b-b14c-512daad5ae79",
   "metadata": {},
   "outputs": [],
   "source": []
  },
  {
   "cell_type": "code",
   "execution_count": null,
   "id": "1ad70920-ced9-439f-9f6f-9b6fdf2036b4",
   "metadata": {},
   "outputs": [],
   "source": []
  },
  {
   "cell_type": "code",
   "execution_count": null,
   "id": "6eab1c52-77f2-4108-b629-29d4c1dd9c65",
   "metadata": {},
   "outputs": [],
   "source": []
  },
  {
   "cell_type": "code",
   "execution_count": null,
   "id": "d4f99226-bb87-406e-b5fc-029d6561c29c",
   "metadata": {},
   "outputs": [],
   "source": []
  },
  {
   "cell_type": "code",
   "execution_count": null,
   "id": "04f7187d-f567-4b39-b498-11ec2a1f5f71",
   "metadata": {},
   "outputs": [],
   "source": []
  },
  {
   "cell_type": "code",
   "execution_count": null,
   "id": "f5fdf63b-5f84-4255-b5e8-bba2e4fa00e6",
   "metadata": {},
   "outputs": [],
   "source": []
  },
  {
   "cell_type": "code",
   "execution_count": 44,
   "id": "9870e39f-e3e4-413c-a2f7-4a1d7354f2e2",
   "metadata": {},
   "outputs": [],
   "source": [
    "spark.stop()"
   ]
  },
  {
   "cell_type": "code",
   "execution_count": null,
   "id": "fb4cac6d-1575-4345-abfa-d618836ca04f",
   "metadata": {},
   "outputs": [],
   "source": []
  }
 ],
 "metadata": {
  "kernelspec": {
   "display_name": "Python (spark_start)",
   "language": "python",
   "name": "spark_start"
  },
  "language_info": {
   "codemirror_mode": {
    "name": "ipython",
    "version": 3
   },
   "file_extension": ".py",
   "mimetype": "text/x-python",
   "name": "python",
   "nbconvert_exporter": "python",
   "pygments_lexer": "ipython3",
   "version": "3.8.20"
  }
 },
 "nbformat": 4,
 "nbformat_minor": 5
}
