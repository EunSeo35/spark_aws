{
 "cells": [
  {
   "cell_type": "code",
   "execution_count": 21,
   "id": "5681c12d-f80c-4d51-93be-a342bf2ff3dd",
   "metadata": {},
   "outputs": [],
   "source": [
    "host_ip = \"15.152.89.63\"\n",
    "user_id = \"spark_user\"\n",
    "user_password = \"1234\""
   ]
  },
  {
   "cell_type": "code",
   "execution_count": 22,
   "id": "3e46da2f-b747-4a48-875a-2c6f71675025",
   "metadata": {},
   "outputs": [],
   "source": [
    "import mysql.connector\n",
    "\n",
    "# MySQL 연결 설정\n",
    "conn = mysql.connector.connect(\n",
    "    host=\"localhost\",      # 또는 EC2의 IP 주소\n",
    "    user=\"spark_user\",     # MySQL 사용자 이름\n",
    "    password=\"1234\",       # MySQL 사용자 비밀번호\n",
    "    database=\"my_db\"       # 연결할 데이터베이스 이름\n",
    ")"
   ]
  },
  {
   "cell_type": "code",
   "execution_count": 23,
   "id": "21bb2ce6-891a-4513-b1e4-6ff64af34f5d",
   "metadata": {},
   "outputs": [],
   "source": [
    "# 커서 생성\n",
    "cursor = conn.cursor()\n",
    "# SQL 쿼리 실행\n",
    "cursor.execute(\"SHOW TABLES;\")"
   ]
  },
  {
   "cell_type": "code",
   "execution_count": 24,
   "id": "dcac0967-6edb-4e88-a5d1-489a4379c414",
   "metadata": {},
   "outputs": [
    {
     "name": "stdout",
     "output_type": "stream",
     "text": [
      "('DEPT',)\n",
      "('EMP',)\n",
      "('salgrade',)\n"
     ]
    }
   ],
   "source": [
    "# 결과 출력\n",
    "for table in cursor.fetchall():\n",
    "    print(table)"
   ]
  },
  {
   "cell_type": "code",
   "execution_count": 6,
   "id": "c9258d27-8beb-4360-aaa0-49af4cd4bf2d",
   "metadata": {},
   "outputs": [],
   "source": [
    "# 연결 종료\n",
    "cursor.close()\n",
    "conn.close()\n"
   ]
  },
  {
   "cell_type": "code",
   "execution_count": null,
   "id": "6d6fe628-bab9-4684-8651-53daed6dd899",
   "metadata": {},
   "outputs": [],
   "source": []
  }
 ],
 "metadata": {
  "kernelspec": {
   "display_name": "Python (spark_start)",
   "language": "python",
   "name": "spark_start"
  },
  "language_info": {
   "codemirror_mode": {
    "name": "ipython",
    "version": 3
   },
   "file_extension": ".py",
   "mimetype": "text/x-python",
   "name": "python",
   "nbconvert_exporter": "python",
   "pygments_lexer": "ipython3",
   "version": "3.8.20"
  }
 },
 "nbformat": 4,
 "nbformat_minor": 5
}
