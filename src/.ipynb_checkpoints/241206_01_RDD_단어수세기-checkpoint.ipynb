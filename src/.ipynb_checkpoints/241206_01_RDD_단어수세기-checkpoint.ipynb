{
 "cells": [
  {
   "cell_type": "code",
   "execution_count": 4,
   "id": "d8219cf0-4e4a-4cc0-8b54-d3ffb4306625",
   "metadata": {},
   "outputs": [
    {
     "data": {
      "text/plain": [
       "file:////home/lab09/src/data/Book MapPartitionsRDD[1] at textFile at NativeMethodAccessorImpl.java:0"
      ]
     },
     "execution_count": 4,
     "metadata": {},
     "output_type": "execute_result"
    }
   ],
   "source": [
    "#스파크 객체 생성\n",
    "from pyspark import SparkConf , SparkContext\n",
    "\n",
    "conf = SparkConf().setMaster(\"local\").setAppName(\"Book\")\n",
    "spark = SparkContext(conf=conf).getOrCreate()\n",
    "\n",
    "import os \n",
    "\n",
    "#데이터 로드\n",
    "directory = os.path.join(os.getcwd(),\"data\")\n",
    "filename = \"Book\"\n",
    "filepath = os.path.join(directory, filename)\n",
    "\n",
    "#Spark RDD 생성\n",
    "lines = spark.textFile(\"file:///\"+filepath.replace(\"ww\", \"/\"))\n",
    "lines "
   ]
  },
  {
   "cell_type": "code",
   "execution_count": 6,
   "id": "6d71b2b3-cf9f-4117-918b-4ea4d80caaa0",
   "metadata": {},
   "outputs": [
    {
     "name": "stderr",
     "output_type": "stream",
     "text": [
      "                                                                                "
     ]
    },
    {
     "data": {
      "text/plain": [
       "['Self-Employment: Building an Internet Business of One',\n",
       " 'Achieving Financial and Personal Freedom through a Lifestyle Technology Business',\n",
       " 'By Frank Kane']"
      ]
     },
     "execution_count": 6,
     "metadata": {},
     "output_type": "execute_result"
    }
   ],
   "source": [
    "lines.take(3)"
   ]
  },
  {
   "cell_type": "code",
   "execution_count": null,
   "id": "5df1a8d3-7e5a-436c-a3fa-fd073c05faa2",
   "metadata": {},
   "outputs": [],
   "source": []
  },
  {
   "cell_type": "code",
   "execution_count": null,
   "id": "48bbf367-63a8-4a6d-9184-ce6d4cba16b3",
   "metadata": {},
   "outputs": [],
   "source": []
  },
  {
   "cell_type": "code",
   "execution_count": null,
   "id": "24c2e66c-e141-4945-b8f1-f27dfcb3f2a2",
   "metadata": {},
   "outputs": [],
   "source": []
  },
  {
   "cell_type": "code",
   "execution_count": null,
   "id": "8dc674c9-786d-44f2-978c-26ec5228ea4c",
   "metadata": {},
   "outputs": [],
   "source": []
  },
  {
   "cell_type": "code",
   "execution_count": null,
   "id": "a1a53ae3-28f4-438a-bc4a-741c39dfa929",
   "metadata": {},
   "outputs": [],
   "source": []
  },
  {
   "cell_type": "code",
   "execution_count": 3,
   "id": "2dcd1d90-8567-4f36-bdca-51bd8f1b89a0",
   "metadata": {},
   "outputs": [],
   "source": [
    "spark.stop()"
   ]
  },
  {
   "cell_type": "code",
   "execution_count": null,
   "id": "7e47871d-60e2-4abc-a7cc-1c7741df7afb",
   "metadata": {},
   "outputs": [],
   "source": []
  }
 ],
 "metadata": {
  "kernelspec": {
   "display_name": "Python (spark_start)",
   "language": "python",
   "name": "spark_start"
  },
  "language_info": {
   "codemirror_mode": {
    "name": "ipython",
    "version": 3
   },
   "file_extension": ".py",
   "mimetype": "text/x-python",
   "name": "python",
   "nbconvert_exporter": "python",
   "pygments_lexer": "ipython3",
   "version": "3.8.20"
  }
 },
 "nbformat": 4,
 "nbformat_minor": 5
}
