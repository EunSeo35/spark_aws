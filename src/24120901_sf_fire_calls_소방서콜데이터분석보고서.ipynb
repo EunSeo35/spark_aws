{
 "cells": [
  {
   "cell_type": "markdown",
   "id": "020874d4-0e54-4429-bdd1-f02203afcc41",
   "metadata": {},
   "source": [
    "# 스파크 환경설정"
   ]
  },
  {
   "cell_type": "code",
   "execution_count": 14,
   "id": "65856953-135a-4c65-9923-9f4cd78be1d1",
   "metadata": {},
   "outputs": [],
   "source": [
    "from pyspark.sql import SparkSession\n",
    "spark = SparkSession.builder.appName(\"24120901_sf_fire_calls_App\").getOrCreate() "
   ]
  },
  {
   "cell_type": "code",
   "execution_count": 11,
   "id": "6d9a261e-ea6f-4abf-9be1-85618574e9ee",
   "metadata": {},
   "outputs": [],
   "source": [
    "from pyspark.sql.functions import *"
   ]
  },
  {
   "cell_type": "markdown",
   "id": "632cd19b-ea78-4f61-b9c7-6414f34c93b6",
   "metadata": {},
   "source": [
    "# 데이터 로드"
   ]
  },
  {
   "cell_type": "code",
   "execution_count": 18,
   "id": "a9624cd5-0c5e-4124-8111-7ce3a59bbc6f",
   "metadata": {},
   "outputs": [
    {
     "name": "stderr",
     "output_type": "stream",
     "text": [
      "                                                                                "
     ]
    }
   ],
   "source": [
    "df = spark.read.format('csv').load('src/data/sf-fire-calls.csv', inferSchema = True, header = True)"
   ]
  },
  {
   "cell_type": "code",
   "execution_count": 19,
   "id": "9ca44811-068b-41f1-afae-5a079f6611b1",
   "metadata": {},
   "outputs": [
    {
     "name": "stdout",
     "output_type": "stream",
     "text": [
      "root\n",
      " |-- CallNumber: integer (nullable = true)\n",
      " |-- UnitID: string (nullable = true)\n",
      " |-- IncidentNumber: integer (nullable = true)\n",
      " |-- CallType: string (nullable = true)\n",
      " |-- CallDate: string (nullable = true)\n",
      " |-- WatchDate: string (nullable = true)\n",
      " |-- CallFinalDisposition: string (nullable = true)\n",
      " |-- AvailableDtTm: string (nullable = true)\n",
      " |-- Address: string (nullable = true)\n",
      " |-- City: string (nullable = true)\n",
      " |-- Zipcode: integer (nullable = true)\n",
      " |-- Battalion: string (nullable = true)\n",
      " |-- StationArea: string (nullable = true)\n",
      " |-- Box: string (nullable = true)\n",
      " |-- OriginalPriority: string (nullable = true)\n",
      " |-- Priority: string (nullable = true)\n",
      " |-- FinalPriority: integer (nullable = true)\n",
      " |-- ALSUnit: boolean (nullable = true)\n",
      " |-- CallTypeGroup: string (nullable = true)\n",
      " |-- NumAlarms: integer (nullable = true)\n",
      " |-- UnitType: string (nullable = true)\n",
      " |-- UnitSequenceInCallDispatch: integer (nullable = true)\n",
      " |-- FirePreventionDistrict: string (nullable = true)\n",
      " |-- SupervisorDistrict: string (nullable = true)\n",
      " |-- Neighborhood: string (nullable = true)\n",
      " |-- Location: string (nullable = true)\n",
      " |-- RowID: string (nullable = true)\n",
      " |-- Delay: double (nullable = true)\n",
      "\n"
     ]
    }
   ],
   "source": [
    "df.printSchema()"
   ]
  },
  {
   "cell_type": "code",
   "execution_count": 22,
   "id": "9e9913b3-a48c-4773-be3b-92b1ea6c2776",
   "metadata": {},
   "outputs": [
    {
     "name": "stdout",
     "output_type": "stream",
     "text": [
      "+----------+------+--------------+----------------+----------+----------+--------------------+--------------------+--------------------+----+-------+---------+-----------+----+----------------+--------+-------------+-------+-------------+---------+--------+--------------------------+----------------------+------------------+--------------------+--------------------+-------------+---------+\n",
      "|CallNumber|UnitID|IncidentNumber|        CallType|  CallDate| WatchDate|CallFinalDisposition|       AvailableDtTm|             Address|City|Zipcode|Battalion|StationArea| Box|OriginalPriority|Priority|FinalPriority|ALSUnit|CallTypeGroup|NumAlarms|UnitType|UnitSequenceInCallDispatch|FirePreventionDistrict|SupervisorDistrict|        Neighborhood|            Location|        RowID|    Delay|\n",
      "+----------+------+--------------+----------------+----------+----------+--------------------+--------------------+--------------------+----+-------+---------+-----------+----+----------------+--------+-------------+-------+-------------+---------+--------+--------------------------+----------------------+------------------+--------------------+--------------------+-------------+---------+\n",
      "|  20110016|   T13|       2003235|  Structure Fire|01/11/2002|01/10/2002|               Other|01/11/2002 01:51:...|2000 Block of CAL...|  SF|  94109|      B04|         38|3362|               3|       3|            3|  false|         null|        1|   TRUCK|                         2|                     4|                 5|     Pacific Heights|(37.7895840679362...|020110016-T13|     2.95|\n",
      "|  20110022|   M17|       2003241|Medical Incident|01/11/2002|01/10/2002|               Other|01/11/2002 03:01:...|0 Block of SILVER...|  SF|  94124|      B10|         42|6495|               3|       3|            3|   true|         null|        1|   MEDIC|                         1|                    10|                10|Bayview Hunters P...|(37.7337623673897...|020110022-M17|      4.7|\n",
      "|  20110023|   M41|       2003242|Medical Incident|01/11/2002|01/10/2002|               Other|01/11/2002 02:39:...|MARKET ST/MCALLIS...|  SF|  94102|      B03|         01|1455|               3|       3|            3|   true|         null|        1|   MEDIC|                         2|                     3|                 6|          Tenderloin|(37.7811772186856...|020110023-M41|2.4333334|\n",
      "|  20110032|   E11|       2003250|    Vehicle Fire|01/11/2002|01/10/2002|               Other|01/11/2002 04:16:...|APPLETON AV/MISSI...|  SF|  94110|      B06|         32|5626|               3|       3|            3|  false|         null|        1|  ENGINE|                         1|                     6|                 9|      Bernal Heights|(37.7388432849018...|020110032-E11|      1.5|\n",
      "|  20110043|   B04|       2003259|          Alarms|01/11/2002|01/10/2002|               Other|01/11/2002 06:01:...|1400 Block of SUT...|  SF|  94109|      B04|         03|3223|               3|       3|            3|  false|         null|        1|   CHIEF|                         2|                     4|                 2|    Western Addition|(37.7872890372638...|020110043-B04|3.4833333|\n",
      "+----------+------+--------------+----------------+----------+----------+--------------------+--------------------+--------------------+----+-------+---------+-----------+----+----------------+--------+-------------+-------+-------------+---------+--------+--------------------------+----------------------+------------------+--------------------+--------------------+-------------+---------+\n",
      "only showing top 5 rows\n",
      "\n"
     ]
    }
   ],
   "source": [
    "df.show(5)"
   ]
  },
  {
   "cell_type": "markdown",
   "id": "7101a0a0-9c1c-483b-b128-221063137f06",
   "metadata": {},
   "source": [
    "# 데이터 탐색"
   ]
  },
  {
   "cell_type": "code",
   "execution_count": 23,
   "id": "90357e80-aa2d-4c68-bd5d-0ad205ec5a05",
   "metadata": {},
   "outputs": [
    {
     "data": {
      "text/plain": [
       "175296"
      ]
     },
     "execution_count": 23,
     "metadata": {},
     "output_type": "execute_result"
    }
   ],
   "source": [
    "#175296 행 \n",
    "df.count()"
   ]
  },
  {
   "cell_type": "code",
   "execution_count": 130,
   "id": "51af3ee2-069a-48eb-b781-dc3449015e3e",
   "metadata": {},
   "outputs": [
    {
     "data": {
      "text/plain": [
       "['CallNumber',\n",
       " 'UnitID',\n",
       " 'IncidentNumber',\n",
       " 'CallType',\n",
       " 'CallDate',\n",
       " 'WatchDate',\n",
       " 'CallFinalDisposition',\n",
       " 'AvailableDtTm',\n",
       " 'Address',\n",
       " 'City',\n",
       " 'Zipcode',\n",
       " 'Battalion',\n",
       " 'StationArea',\n",
       " 'Box',\n",
       " 'OriginalPriority',\n",
       " 'Priority',\n",
       " 'FinalPriority',\n",
       " 'ALSUnit',\n",
       " 'CallTypeGroup',\n",
       " 'NumAlarms',\n",
       " 'UnitType',\n",
       " 'UnitSequenceInCallDispatch',\n",
       " 'FirePreventionDistrict',\n",
       " 'SupervisorDistrict',\n",
       " 'Neighborhood',\n",
       " 'Location',\n",
       " 'RowID',\n",
       " 'Delay']"
      ]
     },
     "execution_count": 130,
     "metadata": {},
     "output_type": "execute_result"
    }
   ],
   "source": [
    "df.columns"
   ]
  },
  {
   "cell_type": "code",
   "execution_count": 150,
   "id": "08b5f37a-5004-4a8b-a577-b535cb6a020c",
   "metadata": {},
   "outputs": [
    {
     "name": "stdout",
     "output_type": "stream",
     "text": [
      "AvailableDtTm 의 Null 개수: 1794개\n",
      "City 의 Null 개수: 207개\n",
      "Zipcode 의 Null 개수: 142개\n",
      "StationArea 의 Null 개수: 75개\n",
      "Box 의 Null 개수: 13개\n",
      "OriginalPriority 의 Null 개수: 922개\n",
      "CallTypeGroup 의 Null 개수: 99517개\n",
      "UnitSequenceInCallDispatch 의 Null 개수: 1개\n"
     ]
    }
   ],
   "source": [
    "for i in df.columns:\n",
    "    num_count = df.filter(col(i).isNull()).count()\n",
    "    if num_count > 0 :\n",
    "        print(f'{i} 의 Null 개수: {num_count}개')"
   ]
  },
  {
   "cell_type": "code",
   "execution_count": 152,
   "id": "5179ee35-04f2-4976-9bb4-0f247e2a3f65",
   "metadata": {},
   "outputs": [
    {
     "name": "stdout",
     "output_type": "stream",
     "text": [
      "+--------------------+\n",
      "|       CallTypeGroup|\n",
      "+--------------------+\n",
      "|               Alarm|\n",
      "|                null|\n",
      "|Potentially Life-...|\n",
      "|Non Life-threatening|\n",
      "|                Fire|\n",
      "+--------------------+\n",
      "\n"
     ]
    }
   ],
   "source": [
    "df.select(\"CallTypeGroup\").distinct().show(10)"
   ]
  },
  {
   "cell_type": "code",
   "execution_count": null,
   "id": "87224cac-a243-4690-9fb8-45d48a90d768",
   "metadata": {},
   "outputs": [],
   "source": []
  },
  {
   "cell_type": "markdown",
   "id": "af1677cb-2f7b-4b03-819e-c64bfdbc88e8",
   "metadata": {},
   "source": [
    "### 1. 화재 신고로 기록된 calltype의 종류\n",
    "\n",
    "-총 30개"
   ]
  },
  {
   "cell_type": "code",
   "execution_count": 24,
   "id": "6f3f1a70-820a-480a-a477-23df69757c7d",
   "metadata": {},
   "outputs": [
    {
     "name": "stderr",
     "output_type": "stream",
     "text": [
      "                                                                                "
     ]
    },
    {
     "name": "stdout",
     "output_type": "stream",
     "text": [
      "+--------------------+\n",
      "|            calltype|\n",
      "+--------------------+\n",
      "|Elevator / Escala...|\n",
      "|         Marine Fire|\n",
      "|  Aircraft Emergency|\n",
      "|Confined Space / ...|\n",
      "|      Administrative|\n",
      "|              Alarms|\n",
      "|Odor (Strange / U...|\n",
      "|Citizen Assist / ...|\n",
      "|              HazMat|\n",
      "|Watercraft in Dis...|\n",
      "|           Explosion|\n",
      "|           Oil Spill|\n",
      "|        Vehicle Fire|\n",
      "|  Suspicious Package|\n",
      "|Extrication / Ent...|\n",
      "|               Other|\n",
      "|        Outside Fire|\n",
      "|   Traffic Collision|\n",
      "|       Assist Police|\n",
      "|Gas Leak (Natural...|\n",
      "+--------------------+\n",
      "only showing top 20 rows\n",
      "\n"
     ]
    },
    {
     "name": "stderr",
     "output_type": "stream",
     "text": [
      "                                                                                "
     ]
    }
   ],
   "source": [
    "df.select('calltype').where(col('calltype').isNotNull()).distinct().show()"
   ]
  },
  {
   "cell_type": "code",
   "execution_count": 25,
   "id": "560da96d-5237-4166-ae4b-128183ea996a",
   "metadata": {},
   "outputs": [
    {
     "name": "stderr",
     "output_type": "stream",
     "text": [
      "                                                                                "
     ]
    },
    {
     "data": {
      "text/plain": [
       "30"
      ]
     },
     "execution_count": 25,
     "metadata": {},
     "output_type": "execute_result"
    }
   ],
   "source": [
    "df.select('calltype').where(col('calltype').isNotNull()).distinct().count()"
   ]
  },
  {
   "cell_type": "markdown",
   "id": "54554e28-7831-4e7a-9907-9e86ffd08f1c",
   "metadata": {},
   "source": [
    "## 2. 5분 이상 걸린 응답시간 "
   ]
  },
  {
   "cell_type": "code",
   "execution_count": 26,
   "id": "6262ec1d-4ce7-4026-aa8a-409439358f13",
   "metadata": {},
   "outputs": [
    {
     "name": "stdout",
     "output_type": "stream",
     "text": [
      "+-------------------+\n",
      "|ResponseDelayedMins|\n",
      "+-------------------+\n",
      "|               5.35|\n",
      "|               6.25|\n",
      "|                5.2|\n",
      "|                5.6|\n",
      "|               7.25|\n",
      "+-------------------+\n",
      "only showing top 5 rows\n",
      "\n"
     ]
    }
   ],
   "source": [
    "new_fire_df = df.withColumnRenamed('Delay', 'ResponseDelayedMins')\n",
    "new_fire_df.select('ResponseDelayedMins').where('ResponseDelayedMins > 5').show(5)"
   ]
  },
  {
   "cell_type": "code",
   "execution_count": 27,
   "id": "c86cd9ed-7d91-43c8-82bf-c8b94fc1348d",
   "metadata": {},
   "outputs": [
    {
     "name": "stdout",
     "output_type": "stream",
     "text": [
      "root\n",
      " |-- CallNumber: integer (nullable = true)\n",
      " |-- UnitID: string (nullable = true)\n",
      " |-- IncidentNumber: integer (nullable = true)\n",
      " |-- CallType: string (nullable = true)\n",
      " |-- CallDate: string (nullable = true)\n",
      " |-- WatchDate: string (nullable = true)\n",
      " |-- CallFinalDisposition: string (nullable = true)\n",
      " |-- AvailableDtTm: string (nullable = true)\n",
      " |-- Address: string (nullable = true)\n",
      " |-- City: string (nullable = true)\n",
      " |-- Zipcode: integer (nullable = true)\n",
      " |-- Battalion: string (nullable = true)\n",
      " |-- StationArea: string (nullable = true)\n",
      " |-- Box: string (nullable = true)\n",
      " |-- OriginalPriority: string (nullable = true)\n",
      " |-- Priority: string (nullable = true)\n",
      " |-- FinalPriority: integer (nullable = true)\n",
      " |-- ALSUnit: boolean (nullable = true)\n",
      " |-- CallTypeGroup: string (nullable = true)\n",
      " |-- NumAlarms: integer (nullable = true)\n",
      " |-- UnitType: string (nullable = true)\n",
      " |-- UnitSequenceInCallDispatch: integer (nullable = true)\n",
      " |-- FirePreventionDistrict: string (nullable = true)\n",
      " |-- SupervisorDistrict: string (nullable = true)\n",
      " |-- Neighborhood: string (nullable = true)\n",
      " |-- Location: string (nullable = true)\n",
      " |-- RowID: string (nullable = true)\n",
      " |-- ResponseDelayedMins: double (nullable = true)\n",
      "\n"
     ]
    }
   ],
   "source": [
    "new_fire_df.printSchema()"
   ]
  },
  {
   "cell_type": "markdown",
   "id": "700cf822-b1a2-40ea-91de-acc82d5499b0",
   "metadata": {},
   "source": [
    "## 3. 날짜 데이터 타입 변경\n",
    "\n",
    "- 'CallDate','WatchDate','AvailableDtTm' 데이터 타입 변경"
   ]
  },
  {
   "cell_type": "code",
   "execution_count": 28,
   "id": "5b253299-3085-4343-9996-67f35793f6aa",
   "metadata": {},
   "outputs": [
    {
     "name": "stdout",
     "output_type": "stream",
     "text": [
      "+----------+----------+--------------------+\n",
      "|  CallDate| WatchDate|       AvailableDtTm|\n",
      "+----------+----------+--------------------+\n",
      "|01/11/2002|01/10/2002|01/11/2002 01:51:...|\n",
      "|01/11/2002|01/10/2002|01/11/2002 03:01:...|\n",
      "|01/11/2002|01/10/2002|01/11/2002 02:39:...|\n",
      "|01/11/2002|01/10/2002|01/11/2002 04:16:...|\n",
      "|01/11/2002|01/10/2002|01/11/2002 06:01:...|\n",
      "+----------+----------+--------------------+\n",
      "only showing top 5 rows\n",
      "\n"
     ]
    }
   ],
   "source": [
    "df.select('CallDate','WatchDate','AvailableDtTm').show(5)"
   ]
  },
  {
   "cell_type": "code",
   "execution_count": 29,
   "id": "2acdf134-7522-4eaa-a993-d6b583730de5",
   "metadata": {},
   "outputs": [
    {
     "name": "stdout",
     "output_type": "stream",
     "text": [
      "+-------------------+-------------------+-------------------+\n",
      "|       IncidentDate|        OnWatchDate|      AvailableDtTS|\n",
      "+-------------------+-------------------+-------------------+\n",
      "|2002-01-11 00:00:00|2002-01-10 00:00:00|2002-01-11 01:51:44|\n",
      "|2002-01-11 00:00:00|2002-01-10 00:00:00|2002-01-11 03:01:18|\n",
      "|2002-01-11 00:00:00|2002-01-10 00:00:00|2002-01-11 02:39:50|\n",
      "|2002-01-11 00:00:00|2002-01-10 00:00:00|2002-01-11 04:16:46|\n",
      "|2002-01-11 00:00:00|2002-01-10 00:00:00|2002-01-11 06:01:58|\n",
      "+-------------------+-------------------+-------------------+\n",
      "only showing top 5 rows\n",
      "\n"
     ]
    }
   ],
   "source": [
    "fire_ts_df = new_fire_df.withColumn('IncidentDate', to_timestamp(col('CallDate'), 'MM/dd/yyyy'))\\\n",
    "    .drop('CallDate')\\\n",
    "    .withColumn('OnWatchDate', to_timestamp(col('WatchDate'), 'MM/dd/yyyy'))\\\n",
    "    .drop('WatchDate')\\\n",
    "    .withColumn('AvailableDtTS', to_timestamp(col('AvailableDtTm'), 'MM/dd/yyyy HH:mm:ss a'))\\\n",
    "    .drop('AvailableDtTm')\n",
    "\n",
    "fire_ts_df.select('IncidentDate', 'OnWatchDate', 'AvailableDtTS').show(5)"
   ]
  },
  {
   "cell_type": "markdown",
   "id": "6a4b3665-46bf-4389-a9de-6ec4bc053b59",
   "metadata": {},
   "source": [
    "## 4. 소방서 호출 년수 \n",
    "\n",
    "- 2000년 ~ 2019년 (총 19년) "
   ]
  },
  {
   "cell_type": "code",
   "execution_count": 30,
   "id": "7824ea89-2900-4038-a7cd-236aea9a92b4",
   "metadata": {},
   "outputs": [
    {
     "name": "stderr",
     "output_type": "stream",
     "text": [
      "                                                                                "
     ]
    },
    {
     "name": "stdout",
     "output_type": "stream",
     "text": [
      "+------------------+\n",
      "|year(IncidentDate)|\n",
      "+------------------+\n",
      "|              2000|\n",
      "|              2001|\n",
      "|              2002|\n",
      "|              2003|\n",
      "|              2004|\n",
      "|              2005|\n",
      "|              2006|\n",
      "|              2007|\n",
      "|              2008|\n",
      "|              2009|\n",
      "|              2010|\n",
      "|              2011|\n",
      "|              2012|\n",
      "|              2013|\n",
      "|              2014|\n",
      "|              2015|\n",
      "|              2016|\n",
      "|              2017|\n",
      "|              2018|\n",
      "+------------------+\n",
      "\n"
     ]
    }
   ],
   "source": [
    "fire_ts_df\\\n",
    "    .select(year('IncidentDate'))\\\n",
    "    .distinct()\\\n",
    "    .orderBy(year('IncidentDate'))\\\n",
    "    .show()"
   ]
  },
  {
   "cell_type": "code",
   "execution_count": 31,
   "id": "fec38012-431c-4d46-bc74-1458c593fa4b",
   "metadata": {},
   "outputs": [
    {
     "name": "stderr",
     "output_type": "stream",
     "text": [
      "                                                                                "
     ]
    },
    {
     "data": {
      "text/plain": [
       "19"
      ]
     },
     "execution_count": 31,
     "metadata": {},
     "output_type": "execute_result"
    }
   ],
   "source": [
    "fire_ts_df\\\n",
    "    .select(year('IncidentDate'))\\\n",
    "    .distinct()\\\n",
    "    .orderBy(year('IncidentDate'))\\\n",
    "    .count()"
   ]
  },
  {
   "cell_type": "markdown",
   "id": "cf35af58-30a1-4b4c-93fa-1d77da839691",
   "metadata": {},
   "source": [
    "## 5. 가장 흔한 형태의 신고는 무엇인가?\n",
    "\n",
    "1. Medical Incident\n",
    "2. Structure Fire\n",
    "3. Traffic Collision\n",
    "4. Citizen Assist\n",
    "5. Other"
   ]
  },
  {
   "cell_type": "code",
   "execution_count": 32,
   "id": "e133061a-be5b-44a0-9b33-e40382986666",
   "metadata": {},
   "outputs": [
    {
     "name": "stdout",
     "output_type": "stream",
     "text": [
      "+--------------------+------+\n",
      "|            CallType| count|\n",
      "+--------------------+------+\n",
      "|    Medical Incident|113794|\n",
      "|      Structure Fire| 23319|\n",
      "|              Alarms| 19406|\n",
      "|   Traffic Collision|  7013|\n",
      "|Citizen Assist / ...|  2524|\n",
      "|               Other|  2166|\n",
      "|        Outside Fire|  2094|\n",
      "|        Vehicle Fire|   854|\n",
      "|Gas Leak (Natural...|   764|\n",
      "|        Water Rescue|   755|\n",
      "|Odor (Strange / U...|   490|\n",
      "|   Electrical Hazard|   482|\n",
      "|Elevator / Escala...|   453|\n",
      "|Smoke Investigati...|   391|\n",
      "|          Fuel Spill|   193|\n",
      "|              HazMat|   124|\n",
      "|Industrial Accidents|    94|\n",
      "|           Explosion|    89|\n",
      "|Train / Rail Inci...|    57|\n",
      "|  Aircraft Emergency|    36|\n",
      "+--------------------+------+\n",
      "only showing top 20 rows\n",
      "\n"
     ]
    },
    {
     "name": "stderr",
     "output_type": "stream",
     "text": [
      "                                                                                "
     ]
    }
   ],
   "source": [
    "fire_ts_df\\\n",
    "    .select('CallType')\\\n",
    "    .where(col('CallType').isNotNull())\\\n",
    "    .groupBy('CallType')\\\n",
    "    .count()\\\n",
    "    .orderBy('count', ascending = False)\\\n",
    "    .show()"
   ]
  },
  {
   "cell_type": "markdown",
   "id": "4ab99f12-35e9-4d49-8bb8-81811fedbabf",
   "metadata": {},
   "source": [
    "## 6. 2018년도의 신고 전화들의 유형은 어떤 것들이었나? "
   ]
  },
  {
   "cell_type": "code",
   "execution_count": 107,
   "id": "d203f4d4-fe1f-4655-a2bb-43cd65c36616",
   "metadata": {},
   "outputs": [],
   "source": [
    "fire_ts_df.createOrReplaceTempView(\"fire_ts_df_view\")"
   ]
  },
  {
   "cell_type": "code",
   "execution_count": 108,
   "id": "e891c19e-4a9d-4e1b-89d4-f68f60625875",
   "metadata": {},
   "outputs": [
    {
     "name": "stdout",
     "output_type": "stream",
     "text": [
      "+--------------------+\n",
      "|            CallType|\n",
      "+--------------------+\n",
      "|Elevator / Escala...|\n",
      "|              Alarms|\n",
      "|Odor (Strange / U...|\n",
      "|Citizen Assist / ...|\n",
      "|              HazMat|\n",
      "|           Explosion|\n",
      "|        Vehicle Fire|\n",
      "|  Suspicious Package|\n",
      "|               Other|\n",
      "|        Outside Fire|\n",
      "|   Traffic Collision|\n",
      "|       Assist Police|\n",
      "|Gas Leak (Natural...|\n",
      "|        Water Rescue|\n",
      "|   Electrical Hazard|\n",
      "|      Structure Fire|\n",
      "|    Medical Incident|\n",
      "|          Fuel Spill|\n",
      "|Smoke Investigati...|\n",
      "|Train / Rail Inci...|\n",
      "+--------------------+\n",
      "\n"
     ]
    }
   ],
   "source": [
    "spark.sql(\n",
    "    '''\n",
    "    SELECT Distinct CallType\n",
    "    FROM fire_ts_df_view\n",
    "    WHERE year(IncidentDate) = '2018'\n",
    "    '''\n",
    ").show()"
   ]
  },
  {
   "cell_type": "markdown",
   "id": "44dbef06-8733-425d-8546-363fe765a9a6",
   "metadata": {},
   "source": [
    "## 7. 2018년에 신고 전화가 가장 많았던 달은 언제인가?\n",
    "\n",
    "- 12월달의 기록은 없다.\n",
    "- 10월달의 신고 전화가 가장 많다."
   ]
  },
  {
   "cell_type": "code",
   "execution_count": 51,
   "id": "8a059ac0-f871-42eb-a163-7001fb5eb9eb",
   "metadata": {},
   "outputs": [
    {
     "name": "stdout",
     "output_type": "stream",
     "text": [
      "+---------------------------------+----------------------------------------+\n",
      "|month(CAST(IncidentDate AS DATE))|count(month(CAST(IncidentDate AS DATE)))|\n",
      "+---------------------------------+----------------------------------------+\n",
      "|                               10|                                    1068|\n",
      "|                                5|                                    1047|\n",
      "|                                3|                                    1029|\n",
      "|                                8|                                    1021|\n",
      "|                                1|                                    1007|\n",
      "|                                7|                                     974|\n",
      "|                                6|                                     974|\n",
      "|                                9|                                     951|\n",
      "|                                4|                                     947|\n",
      "|                                2|                                     919|\n",
      "|                               11|                                     199|\n",
      "+---------------------------------+----------------------------------------+\n",
      "\n"
     ]
    },
    {
     "name": "stderr",
     "output_type": "stream",
     "text": [
      "                                                                                "
     ]
    }
   ],
   "source": [
    "spark.sql(\n",
    "    '''\n",
    "    SELECT Month(IncidentDate), count(Month(IncidentDate))\n",
    "    FROM fire_ts_df_view\n",
    "    WHERE year(IncidentDate) = '2018'\n",
    "    group by Month(IncidentDate)\n",
    "    order by count(Month(IncidentDate)) desc\n",
    "    '''\n",
    ").show()"
   ]
  },
  {
   "cell_type": "markdown",
   "id": "4928b93c-4079-4fa9-bacb-91fd32849ebb",
   "metadata": {},
   "source": [
    "## 8. 2018년도에 가장 많은 신고가 들어온 샌프란시스코 지역은 어디인가?\n",
    "\n",
    "- 샌프란시스코의 Tenderloin 지역이 총 신고 건수가 1193건으로 가장 많았다. "
   ]
  },
  {
   "cell_type": "code",
   "execution_count": 124,
   "id": "756d06ea-dd5f-4ad2-b71d-d4e3054c534a",
   "metadata": {},
   "outputs": [
    {
     "name": "stdout",
     "output_type": "stream",
     "text": [
      "+---------------+\n",
      "|           city|\n",
      "+---------------+\n",
      "|     FORT MASON|\n",
      "|     Fort Mason|\n",
      "|            OAK|\n",
      "|             DC|\n",
      "|             TI|\n",
      "|TREASURE ISLAND|\n",
      "|           null|\n",
      "|  San Francisco|\n",
      "|             HP|\n",
      "|             YB|\n",
      "|             BN|\n",
      "|       Brisbane|\n",
      "|      Daly City|\n",
      "|    Yerba Buena|\n",
      "|Treasure Island|\n",
      "|             SF|\n",
      "|       PRESIDIO|\n",
      "|       Presidio|\n",
      "|             FM|\n",
      "|            SFO|\n",
      "|  Hunters Point|\n",
      "|             PR|\n",
      "|  SAN FRANCISCO|\n",
      "|  Treasure Isla|\n",
      "+---------------+\n",
      "\n"
     ]
    },
    {
     "data": {
      "text/plain": [
       "24"
      ]
     },
     "execution_count": 124,
     "metadata": {},
     "output_type": "execute_result"
    }
   ],
   "source": [
    "# 24개의 city\n",
    "spark.sql(\n",
    "    '''\n",
    "    SELECT distinct city\n",
    "    FROM fire_ts_df_view\n",
    "    '''\n",
    ").show(24)\n",
    "\n",
    "spark.sql(\n",
    "    '''\n",
    "    SELECT distinct city\n",
    "    FROM fire_ts_df_view\n",
    "    '''\n",
    ").count()"
   ]
  },
  {
   "cell_type": "code",
   "execution_count": 125,
   "id": "2088bfca-6194-4000-87af-12a005ae8d03",
   "metadata": {},
   "outputs": [
    {
     "data": {
      "text/plain": [
       "42"
      ]
     },
     "execution_count": 125,
     "metadata": {},
     "output_type": "execute_result"
    }
   ],
   "source": [
    "spark.sql(\n",
    "    '''\n",
    "    SELECT distinct Neighborhood\n",
    "    FROM fire_ts_df_view\n",
    "    WHERE city = 'San Francisco'\n",
    "    '''\n",
    ").count()"
   ]
  },
  {
   "cell_type": "code",
   "execution_count": 126,
   "id": "82c732da-77bc-4268-8a77-025deb81d6f9",
   "metadata": {},
   "outputs": [
    {
     "name": "stdout",
     "output_type": "stream",
     "text": [
      "+--------------------+-------------+\n",
      "|        Neighborhood|count_by_area|\n",
      "+--------------------+-------------+\n",
      "|          Tenderloin|         1393|\n",
      "|     South of Market|         1052|\n",
      "|             Mission|          911|\n",
      "|Financial Distric...|          764|\n",
      "|Bayview Hunters P...|          513|\n",
      "+--------------------+-------------+\n",
      "\n"
     ]
    }
   ],
   "source": [
    "spark.sql(\n",
    "    '''\n",
    "    SELECT Neighborhood, count(Neighborhood) as count_by_area\n",
    "    FROM fire_ts_df_view\n",
    "    WHERE year(IncidentDate) = '2018'\n",
    "        AND City = 'San Francisco'\n",
    "    group by Neighborhood\n",
    "    order by count_by_area desc\n",
    "    limit 5\n",
    "    '''\n",
    ").show()"
   ]
  },
  {
   "cell_type": "markdown",
   "id": "0b81b3ec-daf3-44fe-bed8-db6f27740b5e",
   "metadata": {},
   "source": [
    "## 9. 2018년에 가장 응답 시간이 늦었던 지역은 어디인가?\n",
    "\n",
    "- 2018년에 가장 응답 시간이 늦었던 지역은 san francisco이나 평균적으로 가장 응답 시간이 늦었던 지역은 Daly City다. "
   ]
  },
  {
   "cell_type": "code",
   "execution_count": 111,
   "id": "ce7d36df-c130-429c-8ff1-0ff103ef1e10",
   "metadata": {},
   "outputs": [
    {
     "name": "stdout",
     "output_type": "stream",
     "text": [
      "+-------------------+\n",
      "|ResponseDelayedMins|\n",
      "+-------------------+\n",
      "|          2.8833334|\n",
      "|          6.3333335|\n",
      "+-------------------+\n",
      "only showing top 2 rows\n",
      "\n"
     ]
    }
   ],
   "source": [
    "spark.sql(\n",
    "    '''\n",
    "    SELECT ResponseDelayedMins\n",
    "    FROM fire_ts_df_view\n",
    "    WHERE year(IncidentDate) = '2018'\n",
    "    '''\n",
    ").show(2)"
   ]
  },
  {
   "cell_type": "code",
   "execution_count": 93,
   "id": "f663dadc-fb90-447d-a23c-7e0afda6ffb6",
   "metadata": {},
   "outputs": [
    {
     "name": "stdout",
     "output_type": "stream",
     "text": [
      "+-------------+-----------------------+\n",
      "|         city|avg_ResponseDelayedMins|\n",
      "+-------------+-----------------------+\n",
      "|    Daly City|                   5.63|\n",
      "|     Presidio|                   5.53|\n",
      "|  Yerba Buena|                   5.03|\n",
      "|Treasure Isla|                   4.63|\n",
      "|   Fort Mason|                   4.52|\n",
      "|     Brisbane|                   4.18|\n",
      "|Hunters Point|                    4.1|\n",
      "|San Francisco|                   3.94|\n",
      "|         null|                   3.06|\n",
      "+-------------+-----------------------+\n",
      "\n"
     ]
    }
   ],
   "source": [
    "spark.sql(\n",
    "    '''\n",
    "    SELECT city, round(avg(ResponseDelayedMins),2) as avg_ResponseDelayedMins\n",
    "    FROM fire_ts_df_view\n",
    "    WHERE year(IncidentDate) = '2018'\n",
    "    group by city\n",
    "    order by avg_ResponseDelayedMins desc\n",
    "    '''\n",
    ").show(10)"
   ]
  },
  {
   "cell_type": "code",
   "execution_count": 92,
   "id": "73705635-b62b-4b3f-a995-2e810e6e6431",
   "metadata": {},
   "outputs": [
    {
     "name": "stdout",
     "output_type": "stream",
     "text": [
      "+-------------+-----------------------+\n",
      "|         city|Max_ResponseDelayedMins|\n",
      "+-------------+-----------------------+\n",
      "|San Francisco|                 491.27|\n",
      "|     Presidio|                  38.05|\n",
      "|Treasure Isla|                  31.25|\n",
      "|  Yerba Buena|                  10.57|\n",
      "|         null|                   9.65|\n",
      "|   Fort Mason|                    8.8|\n",
      "|Hunters Point|                    5.8|\n",
      "|    Daly City|                   5.63|\n",
      "|     Brisbane|                   4.18|\n",
      "+-------------+-----------------------+\n",
      "\n"
     ]
    }
   ],
   "source": [
    "spark.sql(\n",
    "    '''\n",
    "    SELECT city, round(max(ResponseDelayedMins),2) as Max_ResponseDelayedMins\n",
    "    FROM fire_ts_df_view\n",
    "    WHERE year(IncidentDate) = '2018'\n",
    "    group by city \n",
    "    order by Max_ResponseDelayedMins desc\n",
    "    '''\n",
    ").show(10)"
   ]
  },
  {
   "cell_type": "code",
   "execution_count": null,
   "id": "b4c7e584-a7c2-49db-97c4-477bac9d76a2",
   "metadata": {},
   "outputs": [],
   "source": []
  },
  {
   "cell_type": "markdown",
   "id": "a7c16c61-b2c2-4872-afc3-9ef50be13a0c",
   "metadata": {},
   "source": [
    "## 10. 2018년에 어떤 주에서 신고가 가장 많았는가?\n",
    "\n",
    "- San Francisco가 9967건으로 신고가 가장 많았다."
   ]
  },
  {
   "cell_type": "code",
   "execution_count": 105,
   "id": "8ac4c5f2-6da3-4e4e-9db2-c47b5815b6c3",
   "metadata": {},
   "outputs": [
    {
     "name": "stdout",
     "output_type": "stream",
     "text": [
      "+-------------+-----+\n",
      "|         city|count|\n",
      "+-------------+-----+\n",
      "|San Francisco| 9967|\n",
      "|     Presidio|   63|\n",
      "|Treasure Isla|   58|\n",
      "|  Yerba Buena|   10|\n",
      "|Hunters Point|    9|\n",
      "|   Fort Mason|    8|\n",
      "|     Brisbane|    1|\n",
      "|    Daly City|    1|\n",
      "|         null|    0|\n",
      "+-------------+-----+\n",
      "\n"
     ]
    }
   ],
   "source": [
    "spark.sql(\n",
    "    '''\n",
    "    SELECT city, count(city) as count\n",
    "    FROM fire_ts_df_view\n",
    "    WHERE year(IncidentDate) = '2018'\n",
    "    group by city\n",
    "    order by count desc\n",
    "    '''\n",
    ").show(10)"
   ]
  },
  {
   "cell_type": "markdown",
   "id": "dbb549ca-8119-4636-94d4-2c0d0a4a2988",
   "metadata": {},
   "source": [
    "## 11. 지역, 우편번호, 신고 숫자 간에 상관관계가 있는가?"
   ]
  },
  {
   "cell_type": "code",
   "execution_count": 153,
   "id": "e49f54b5-dbad-4637-9e67-10fae2c8e0c1",
   "metadata": {},
   "outputs": [
    {
     "name": "stdout",
     "output_type": "stream",
     "text": [
      "+-------------+-------+-------------------+\n",
      "|         city|zipcode|count(IncidentDate)|\n",
      "+-------------+-------+-------------------+\n",
      "|           SF|  94124|               6554|\n",
      "|Treasure Isla|  94130|                225|\n",
      "|           PR|  94123|                 15|\n",
      "|           FM|  94118|                  6|\n",
      "|SAN FRANCISCO|  94130|                  2|\n",
      "|         null|  94109|                  9|\n",
      "|           HP|  94124|                 31|\n",
      "|     PRESIDIO|  94108|                  2|\n",
      "|San Francisco|  94121|               1300|\n",
      "|  Yerba Buena|  94105|                  8|\n",
      "+-------------+-------+-------------------+\n",
      "only showing top 10 rows\n",
      "\n"
     ]
    }
   ],
   "source": [
    "spark.sql(\n",
    "    '''\n",
    "    SELECT city, zipcode, count(IncidentDate)\n",
    "    FROM fire_ts_df_view\n",
    "    group by city, zipcode\n",
    "    '''\n",
    ").show(10)"
   ]
  },
  {
   "cell_type": "code",
   "execution_count": null,
   "id": "0cdf6e86-d1e2-42b1-873a-d3255faa7739",
   "metadata": {},
   "outputs": [],
   "source": []
  },
  {
   "cell_type": "code",
   "execution_count": null,
   "id": "ecedefb1-7ffb-412c-94b6-05036db6a37d",
   "metadata": {},
   "outputs": [],
   "source": []
  },
  {
   "cell_type": "code",
   "execution_count": null,
   "id": "880e3510-a2b4-40e2-b0d8-b816b6c4885f",
   "metadata": {},
   "outputs": [],
   "source": []
  },
  {
   "cell_type": "code",
   "execution_count": 13,
   "id": "53c0d8ea-a2c5-427f-9a6c-bc99566cae01",
   "metadata": {},
   "outputs": [],
   "source": [
    "spark.stop()"
   ]
  },
  {
   "cell_type": "code",
   "execution_count": null,
   "id": "17cbb043-228b-482a-998b-801610d469e9",
   "metadata": {},
   "outputs": [],
   "source": []
  }
 ],
 "metadata": {
  "kernelspec": {
   "display_name": "Python (spark_start)",
   "language": "python",
   "name": "spark_start"
  },
  "language_info": {
   "codemirror_mode": {
    "name": "ipython",
    "version": 3
   },
   "file_extension": ".py",
   "mimetype": "text/x-python",
   "name": "python",
   "nbconvert_exporter": "python",
   "pygments_lexer": "ipython3",
   "version": "3.8.20"
  }
 },
 "nbformat": 4,
 "nbformat_minor": 5
}
