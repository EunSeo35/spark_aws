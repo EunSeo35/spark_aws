{
 "cells": [
  {
   "cell_type": "code",
   "execution_count": 3,
   "id": "967282dd-e3bc-4374-9d22-83bb6ab727d8",
   "metadata": {},
   "outputs": [],
   "source": [
    "from pyspark.sql import SparkSession\n",
    "spark = SparkSession.builder.appName('241212_01_MLlib_regression').getOrCreate()"
   ]
  },
  {
   "cell_type": "code",
   "execution_count": 4,
   "id": "0a74a838-743a-488f-9838-748302ce09e9",
   "metadata": {},
   "outputs": [
    {
     "name": "stderr",
     "output_type": "stream",
     "text": [
      "                                                                                "
     ]
    }
   ],
   "source": [
    "train_df = spark.read.format(\"csv\")\\\n",
    "    .option(\"header\", 'true')\\\n",
    "    .option('inferSchema', 'true')\\\n",
    "    .load('data/house_train.csv')"
   ]
  },
  {
   "cell_type": "code",
   "execution_count": 5,
   "id": "6bca0485-58ef-4da7-ad7f-8353d02a2796",
   "metadata": {},
   "outputs": [],
   "source": [
    "test_df = spark.read.format(\"csv\")\\\n",
    "    .option(\"header\", 'true')\\\n",
    "    .option('inferSchema', 'true')\\\n",
    "    .load('data/house_test.csv')"
   ]
  },
  {
   "cell_type": "code",
   "execution_count": 6,
   "id": "542f2319-d08a-47ee-aa51-7c2c9a3cf3e4",
   "metadata": {},
   "outputs": [
    {
     "name": "stdout",
     "output_type": "stream",
     "text": [
      "root\n",
      " |-- Id: integer (nullable = true)\n",
      " |-- MSSubClass: integer (nullable = true)\n",
      " |-- MSZoning: string (nullable = true)\n",
      " |-- LotFrontage: string (nullable = true)\n",
      " |-- LotArea: integer (nullable = true)\n",
      " |-- Street: string (nullable = true)\n",
      " |-- Alley: string (nullable = true)\n",
      " |-- LotShape: string (nullable = true)\n",
      " |-- LandContour: string (nullable = true)\n",
      " |-- Utilities: string (nullable = true)\n",
      " |-- LotConfig: string (nullable = true)\n",
      " |-- LandSlope: string (nullable = true)\n",
      " |-- Neighborhood: string (nullable = true)\n",
      " |-- Condition1: string (nullable = true)\n",
      " |-- Condition2: string (nullable = true)\n",
      " |-- BldgType: string (nullable = true)\n",
      " |-- HouseStyle: string (nullable = true)\n",
      " |-- OverallQual: integer (nullable = true)\n",
      " |-- OverallCond: integer (nullable = true)\n",
      " |-- YearBuilt: integer (nullable = true)\n",
      " |-- YearRemodAdd: integer (nullable = true)\n",
      " |-- RoofStyle: string (nullable = true)\n",
      " |-- RoofMatl: string (nullable = true)\n",
      " |-- Exterior1st: string (nullable = true)\n",
      " |-- Exterior2nd: string (nullable = true)\n",
      " |-- MasVnrType: string (nullable = true)\n",
      " |-- MasVnrArea: string (nullable = true)\n",
      " |-- ExterQual: string (nullable = true)\n",
      " |-- ExterCond: string (nullable = true)\n",
      " |-- Foundation: string (nullable = true)\n",
      " |-- BsmtQual: string (nullable = true)\n",
      " |-- BsmtCond: string (nullable = true)\n",
      " |-- BsmtExposure: string (nullable = true)\n",
      " |-- BsmtFinType1: string (nullable = true)\n",
      " |-- BsmtFinSF1: integer (nullable = true)\n",
      " |-- BsmtFinType2: string (nullable = true)\n",
      " |-- BsmtFinSF2: integer (nullable = true)\n",
      " |-- BsmtUnfSF: integer (nullable = true)\n",
      " |-- TotalBsmtSF: integer (nullable = true)\n",
      " |-- Heating: string (nullable = true)\n",
      " |-- HeatingQC: string (nullable = true)\n",
      " |-- CentralAir: string (nullable = true)\n",
      " |-- Electrical: string (nullable = true)\n",
      " |-- 1stFlrSF: integer (nullable = true)\n",
      " |-- 2ndFlrSF: integer (nullable = true)\n",
      " |-- LowQualFinSF: integer (nullable = true)\n",
      " |-- GrLivArea: integer (nullable = true)\n",
      " |-- BsmtFullBath: integer (nullable = true)\n",
      " |-- BsmtHalfBath: integer (nullable = true)\n",
      " |-- FullBath: integer (nullable = true)\n",
      " |-- HalfBath: integer (nullable = true)\n",
      " |-- BedroomAbvGr: integer (nullable = true)\n",
      " |-- KitchenAbvGr: integer (nullable = true)\n",
      " |-- KitchenQual: string (nullable = true)\n",
      " |-- TotRmsAbvGrd: integer (nullable = true)\n",
      " |-- Functional: string (nullable = true)\n",
      " |-- Fireplaces: integer (nullable = true)\n",
      " |-- FireplaceQu: string (nullable = true)\n",
      " |-- GarageType: string (nullable = true)\n",
      " |-- GarageYrBlt: string (nullable = true)\n",
      " |-- GarageFinish: string (nullable = true)\n",
      " |-- GarageCars: integer (nullable = true)\n",
      " |-- GarageArea: integer (nullable = true)\n",
      " |-- GarageQual: string (nullable = true)\n",
      " |-- GarageCond: string (nullable = true)\n",
      " |-- PavedDrive: string (nullable = true)\n",
      " |-- WoodDeckSF: integer (nullable = true)\n",
      " |-- OpenPorchSF: integer (nullable = true)\n",
      " |-- EnclosedPorch: integer (nullable = true)\n",
      " |-- 3SsnPorch: integer (nullable = true)\n",
      " |-- ScreenPorch: integer (nullable = true)\n",
      " |-- PoolArea: integer (nullable = true)\n",
      " |-- PoolQC: string (nullable = true)\n",
      " |-- Fence: string (nullable = true)\n",
      " |-- MiscFeature: string (nullable = true)\n",
      " |-- MiscVal: integer (nullable = true)\n",
      " |-- MoSold: integer (nullable = true)\n",
      " |-- YrSold: integer (nullable = true)\n",
      " |-- SaleType: string (nullable = true)\n",
      " |-- SaleCondition: string (nullable = true)\n",
      " |-- SalePrice: integer (nullable = true)\n",
      "\n"
     ]
    }
   ],
   "source": [
    "train_df.printSchema()"
   ]
  },
  {
   "cell_type": "markdown",
   "id": "ea59dac4-920a-4923-9dcf-64ee548bb8fc",
   "metadata": {},
   "source": [
    "### 전처리"
   ]
  },
  {
   "cell_type": "code",
   "execution_count": null,
   "id": "2786561c-e69e-4aed-9d5f-d05e520e825d",
   "metadata": {},
   "outputs": [],
   "source": [
    "#GarageArea, GarageCars integer로 변환 -> cast()"
   ]
  },
  {
   "cell_type": "code",
   "execution_count": 13,
   "id": "82124152-a604-4970-a88e-c1ea1932302a",
   "metadata": {},
   "outputs": [],
   "source": [
    "train_df = train_df.withColumn( \"GarageArea\", train_df[\"GarageArea\"].cast(\"integer\") )\n",
    "test_df = test_df.withColumn( \"GarageArea\",  test_df[\"GarageArea\"].cast(\"integer\") )"
   ]
  },
  {
   "cell_type": "code",
   "execution_count": 14,
   "id": "c3225908-36ea-4f8f-9465-0f2d8fc9893e",
   "metadata": {},
   "outputs": [],
   "source": [
    "train_df = train_df.withColumn( \"GarageCars\", train_df[\"GarageCars\"].cast(\"integer\") )\n",
    "test_df = test_df.withColumn( \"GarageCars\",  test_df[\"GarageCars\"].cast(\"integer\") )"
   ]
  },
  {
   "cell_type": "code",
   "execution_count": 15,
   "id": "342fcfdf-9f2d-4c55-ac8e-d6babbb7ed5b",
   "metadata": {},
   "outputs": [
    {
     "name": "stdout",
     "output_type": "stream",
     "text": [
      "root\n",
      " |-- Id: integer (nullable = true)\n",
      " |-- MSSubClass: integer (nullable = true)\n",
      " |-- MSZoning: string (nullable = true)\n",
      " |-- LotFrontage: string (nullable = true)\n",
      " |-- LotArea: integer (nullable = true)\n",
      " |-- Street: string (nullable = true)\n",
      " |-- Alley: string (nullable = true)\n",
      " |-- LotShape: string (nullable = true)\n",
      " |-- LandContour: string (nullable = true)\n",
      " |-- Utilities: string (nullable = true)\n",
      " |-- LotConfig: string (nullable = true)\n",
      " |-- LandSlope: string (nullable = true)\n",
      " |-- Neighborhood: string (nullable = true)\n",
      " |-- Condition1: string (nullable = true)\n",
      " |-- Condition2: string (nullable = true)\n",
      " |-- BldgType: string (nullable = true)\n",
      " |-- HouseStyle: string (nullable = true)\n",
      " |-- OverallQual: integer (nullable = true)\n",
      " |-- OverallCond: integer (nullable = true)\n",
      " |-- YearBuilt: integer (nullable = true)\n",
      " |-- YearRemodAdd: integer (nullable = true)\n",
      " |-- RoofStyle: string (nullable = true)\n",
      " |-- RoofMatl: string (nullable = true)\n",
      " |-- Exterior1st: string (nullable = true)\n",
      " |-- Exterior2nd: string (nullable = true)\n",
      " |-- MasVnrType: string (nullable = true)\n",
      " |-- MasVnrArea: string (nullable = true)\n",
      " |-- ExterQual: string (nullable = true)\n",
      " |-- ExterCond: string (nullable = true)\n",
      " |-- Foundation: string (nullable = true)\n",
      " |-- BsmtQual: string (nullable = true)\n",
      " |-- BsmtCond: string (nullable = true)\n",
      " |-- BsmtExposure: string (nullable = true)\n",
      " |-- BsmtFinType1: string (nullable = true)\n",
      " |-- BsmtFinSF1: integer (nullable = true)\n",
      " |-- BsmtFinType2: string (nullable = true)\n",
      " |-- BsmtFinSF2: integer (nullable = true)\n",
      " |-- BsmtUnfSF: integer (nullable = true)\n",
      " |-- TotalBsmtSF: integer (nullable = true)\n",
      " |-- Heating: string (nullable = true)\n",
      " |-- HeatingQC: string (nullable = true)\n",
      " |-- CentralAir: string (nullable = true)\n",
      " |-- Electrical: string (nullable = true)\n",
      " |-- 1stFlrSF: integer (nullable = true)\n",
      " |-- 2ndFlrSF: integer (nullable = true)\n",
      " |-- LowQualFinSF: integer (nullable = true)\n",
      " |-- GrLivArea: integer (nullable = true)\n",
      " |-- BsmtFullBath: integer (nullable = true)\n",
      " |-- BsmtHalfBath: integer (nullable = true)\n",
      " |-- FullBath: integer (nullable = true)\n",
      " |-- HalfBath: integer (nullable = true)\n",
      " |-- BedroomAbvGr: integer (nullable = true)\n",
      " |-- KitchenAbvGr: integer (nullable = true)\n",
      " |-- KitchenQual: string (nullable = true)\n",
      " |-- TotRmsAbvGrd: integer (nullable = true)\n",
      " |-- Functional: string (nullable = true)\n",
      " |-- Fireplaces: integer (nullable = true)\n",
      " |-- FireplaceQu: string (nullable = true)\n",
      " |-- GarageType: string (nullable = true)\n",
      " |-- GarageYrBlt: string (nullable = true)\n",
      " |-- GarageFinish: string (nullable = true)\n",
      " |-- GarageCars: integer (nullable = true)\n",
      " |-- GarageArea: integer (nullable = true)\n",
      " |-- GarageQual: string (nullable = true)\n",
      " |-- GarageCond: string (nullable = true)\n",
      " |-- PavedDrive: string (nullable = true)\n",
      " |-- WoodDeckSF: integer (nullable = true)\n",
      " |-- OpenPorchSF: integer (nullable = true)\n",
      " |-- EnclosedPorch: integer (nullable = true)\n",
      " |-- 3SsnPorch: integer (nullable = true)\n",
      " |-- ScreenPorch: integer (nullable = true)\n",
      " |-- PoolArea: integer (nullable = true)\n",
      " |-- PoolQC: string (nullable = true)\n",
      " |-- Fence: string (nullable = true)\n",
      " |-- MiscFeature: string (nullable = true)\n",
      " |-- MiscVal: integer (nullable = true)\n",
      " |-- MoSold: integer (nullable = true)\n",
      " |-- YrSold: integer (nullable = true)\n",
      " |-- SaleType: string (nullable = true)\n",
      " |-- SaleCondition: string (nullable = true)\n",
      " |-- SalePrice: integer (nullable = true)\n",
      "\n"
     ]
    }
   ],
   "source": [
    "train_df.printSchema()"
   ]
  },
  {
   "cell_type": "code",
   "execution_count": 16,
   "id": "466b5b9a-4757-4498-b58d-00fa4b83c117",
   "metadata": {},
   "outputs": [],
   "source": [
    "# 결측치 0 \n",
    "train_df = train_df.fillna(0)\n",
    "test_df = test_df.fillna(0)"
   ]
  },
  {
   "cell_type": "code",
   "execution_count": 17,
   "id": "ec645854-ab05-4d21-9276-793520efab94",
   "metadata": {},
   "outputs": [],
   "source": [
    "#encoding : 문자형 -> 숫자형 1,2,3,4"
   ]
  },
  {
   "cell_type": "code",
   "execution_count": 18,
   "id": "dd85ef68-e139-4bf8-bcd2-8796209acbda",
   "metadata": {},
   "outputs": [],
   "source": [
    "from pyspark.ml.feature import StringIndexer, VectorAssembler, OneHotEncoder"
   ]
  },
  {
   "cell_type": "code",
   "execution_count": 19,
   "id": "c0bcc84f-a1ed-4d68-9e40-b36e6f5e273e",
   "metadata": {},
   "outputs": [],
   "source": [
    "string_columns = ['Neighborhood']\n",
    "# 1,2,3,4 로 값을 단순화\n",
    "indexers = [StringIndexer(inputCol=col, outputCol=col+\"_index\")   for col in string_columns]"
   ]
  },
  {
   "cell_type": "code",
   "execution_count": 20,
   "id": "48c3541c-4e6d-44cc-81b8-b70dd71bf6e3",
   "metadata": {},
   "outputs": [],
   "source": [
    "# onehotencoding : 범주형변수 1,2,3,4, -> 1로 바꾸는 인코딩\n",
    "# 모두 1로 바꾼다.\n",
    "encoders = [OneHotEncoder(inputCol=col+\"_index\", outputCol=col+\"_encoded\")   for col in string_columns]"
   ]
  },
  {
   "cell_type": "markdown",
   "id": "7558fe3d-ad3b-49a3-bbb2-a6f055869176",
   "metadata": {},
   "source": [
    "## features selection"
   ]
  },
  {
   "cell_type": "code",
   "execution_count": 21,
   "id": "3cfc89cb-42b4-407d-adcd-6cd895c21655",
   "metadata": {},
   "outputs": [],
   "source": [
    "numeric_columns = [ \"LotArea\", \"OverallQual\", \"OverallCond\", \"YearBuilt\", \"YearRemodAdd\", \n",
    "    \"1stFlrSF\", \"2ndFlrSF\", \"GrLivArea\", \"GarageCars\", \"GarageArea\"]"
   ]
  },
  {
   "cell_type": "code",
   "execution_count": 23,
   "id": "0ab167f2-2d4b-443a-9fe7-12ce7b831faa",
   "metadata": {},
   "outputs": [],
   "source": [
    "#문자형(인코딩) + 숫자형 feature를 결합한 모델 생성 \n",
    "assembler_inputs = [col+\"_encoded\" for col in string_columns] + numeric_columns"
   ]
  },
  {
   "cell_type": "code",
   "execution_count": 24,
   "id": "0c3ebf5a-6708-4bb9-8970-a86677a81cc3",
   "metadata": {},
   "outputs": [],
   "source": [
    "# assembler \n",
    "assembler = VectorAssembler(inputCols = assembler_inputs, outputCol = \"features\")"
   ]
  },
  {
   "cell_type": "code",
   "execution_count": null,
   "id": "53cc73c1-9384-4d0e-bb2f-8de23dfbc6c8",
   "metadata": {},
   "outputs": [],
   "source": []
  },
  {
   "cell_type": "code",
   "execution_count": null,
   "id": "f3f78604-562b-4a6e-bba9-68053f1f5a4c",
   "metadata": {},
   "outputs": [],
   "source": []
  },
  {
   "cell_type": "markdown",
   "id": "b9cd1f56-e786-4cf3-bd50-cc9b9dcbac2d",
   "metadata": {},
   "source": [
    "## Label Selection"
   ]
  },
  {
   "cell_type": "code",
   "execution_count": 25,
   "id": "eb0159cf-42e1-4d88-b6d3-2821fcd7bd1d",
   "metadata": {},
   "outputs": [],
   "source": [
    "train_df = train_df.withColumnRenamed(\"SalePrice\",\"label\")"
   ]
  },
  {
   "cell_type": "code",
   "execution_count": null,
   "id": "59f58942-21a4-4fe7-87c8-2ca24c3864bf",
   "metadata": {},
   "outputs": [],
   "source": []
  },
  {
   "cell_type": "markdown",
   "id": "5504c556-9125-4a67-a6a0-bd615762fd5f",
   "metadata": {},
   "source": [
    "## Pipelie setting"
   ]
  },
  {
   "cell_type": "raw",
   "id": "83a2587e-65c9-4cee-a413-47c7a4e7d133",
   "metadata": {},
   "source": [
    "StringIndex + oneHotEncoder + Assembler ->> 하나의 SparkML Pipeline으로 결합"
   ]
  },
  {
   "cell_type": "code",
   "execution_count": 26,
   "id": "94003ec2-2360-4c4a-9028-81fff7b4644c",
   "metadata": {},
   "outputs": [],
   "source": [
    "from pyspark.ml import Pipeline"
   ]
  },
  {
   "cell_type": "code",
   "execution_count": 27,
   "id": "2bf6f4ea-1785-4986-9cc1-b6fdd3a1cd3b",
   "metadata": {},
   "outputs": [],
   "source": [
    "pipeline = Pipeline(stages = indexers+encoders+[assembler])"
   ]
  },
  {
   "cell_type": "code",
   "execution_count": 28,
   "id": "5b130a4b-56d1-444b-95ff-8a8bc25c236e",
   "metadata": {},
   "outputs": [
    {
     "name": "stderr",
     "output_type": "stream",
     "text": [
      "                                                                                "
     ]
    }
   ],
   "source": [
    "pipeline_model = pipeline.fit( train_df )"
   ]
  },
  {
   "cell_type": "code",
   "execution_count": 29,
   "id": "c2e7db5a-da00-4019-a169-d1948ce685a8",
   "metadata": {},
   "outputs": [],
   "source": [
    "train_transformed = pipeline_model.transform( train_df )"
   ]
  },
  {
   "cell_type": "code",
   "execution_count": null,
   "id": "3d7d0134-3cce-47c2-93f8-9d5bb3ac7a2c",
   "metadata": {},
   "outputs": [],
   "source": []
  },
  {
   "cell_type": "markdown",
   "id": "828b1d9e-ae80-4211-9c6f-a2ac7bcbdae9",
   "metadata": {},
   "source": [
    "## 예측 -> 회귀 모델 학습 -> 평가 -> 예측"
   ]
  },
  {
   "cell_type": "code",
   "execution_count": 30,
   "id": "a5a202ac-e33a-4f9b-bb26-37406d31e32a",
   "metadata": {},
   "outputs": [],
   "source": [
    "from pyspark.ml.regression import LinearRegression"
   ]
  },
  {
   "cell_type": "code",
   "execution_count": 31,
   "id": "43becb93-c773-42fd-afc2-3af83b7b1395",
   "metadata": {},
   "outputs": [
    {
     "name": "stderr",
     "output_type": "stream",
     "text": [
      "24/12/13 10:28:28 WARN Instrumentation: [1a254bcd] regParam is zero, which might cause numerical instability and overfitting.\n",
      "24/12/13 10:28:28 WARN BLAS: Failed to load implementation from: com.github.fommil.netlib.NativeSystemBLAS\n",
      "24/12/13 10:28:28 WARN BLAS: Failed to load implementation from: com.github.fommil.netlib.NativeRefBLAS\n",
      "24/12/13 10:28:28 WARN LAPACK: Failed to load implementation from: com.github.fommil.netlib.NativeSystemLAPACK\n",
      "24/12/13 10:28:28 WARN LAPACK: Failed to load implementation from: com.github.fommil.netlib.NativeRefLAPACK\n"
     ]
    }
   ],
   "source": [
    "lr = LinearRegression(featuresCol=\"features\", labelCol=\"label\")\n",
    "lr_model = lr.fit(train_transformed)"
   ]
  },
  {
   "cell_type": "code",
   "execution_count": 35,
   "id": "60ddcf53-e80d-472f-9cf6-ca8ff226b35c",
   "metadata": {},
   "outputs": [],
   "source": [
    "#fit : 모델 맞춤 과정 , 테스트 데이터에 의해 규칙이 변환됨\n",
    "#따라서 test model은 fit 과정 없이 transform 과정 진행 \n",
    "\n",
    "test_transformed = pipeline_model.transform(test_df)\n",
    "predictions= lr_model.transform(test_transformed) #transform: 시험 봄 "
   ]
  },
  {
   "cell_type": "code",
   "execution_count": 37,
   "id": "8bbc78df-892d-4edd-bab1-f173169e94cb",
   "metadata": {},
   "outputs": [
    {
     "name": "stdout",
     "output_type": "stream",
     "text": [
      "+----+-------------------------------------------------------------------------------------------------------+------------------+\n",
      "|id  |features                                                                                               |prediction        |\n",
      "+----+-------------------------------------------------------------------------------------------------------+------------------+\n",
      "|1461|(34,[0,24,25,26,27,28,29,31,32,33],[1.0,11622.0,5.0,6.0,1961.0,1961.0,896.0,896.0,1.0,730.0])          |114113.60325331613|\n",
      "|1462|(34,[0,24,25,26,27,28,29,31,32,33],[1.0,14267.0,6.0,6.0,1958.0,1958.0,1329.0,1329.0,1.0,312.0])        |156145.8445868329 |\n",
      "|1463|(34,[5,24,25,26,27,28,29,30,31,32,33],[1.0,13830.0,5.0,5.0,1997.0,1998.0,928.0,701.0,1629.0,2.0,482.0])|168254.6697326172 |\n",
      "|1464|(34,[5,24,25,26,27,28,29,30,31,32,33],[1.0,9978.0,6.0,6.0,1998.0,1998.0,926.0,678.0,1604.0,2.0,470.0]) |186898.44701529457|\n",
      "|1465|(34,[18,24,25,26,27,28,29,31,32,33],[1.0,5005.0,8.0,5.0,1992.0,1992.0,1280.0,1280.0,2.0,506.0])        |263561.2240313499 |\n",
      "|1466|(34,[5,24,25,26,27,28,29,30,31,32,33],[1.0,10000.0,6.0,5.0,1993.0,1994.0,763.0,892.0,1655.0,2.0,440.0])|175809.50195952365|\n",
      "|1467|(34,[5,24,25,26,27,28,29,31,32,33],[1.0,7980.0,6.0,7.0,1992.0,2007.0,1187.0,1187.0,2.0,420.0])         |178614.1366187206 |\n",
      "|1468|(34,[5,24,25,26,27,28,29,30,31,32,33],[1.0,8402.0,6.0,5.0,1998.0,1998.0,789.0,676.0,1465.0,2.0,393.0]) |169044.90403965162|\n",
      "|1469|(34,[5,24,25,26,27,28,29,31,32,33],[1.0,10176.0,7.0,5.0,1990.0,1990.0,1341.0,1341.0,2.0,506.0])        |189982.47999848984|\n",
      "|1470|(34,[0,24,25,26,27,28,29,31,32,33],[1.0,8400.0,4.0,5.0,1970.0,1970.0,882.0,882.0,2.0,525.0])           |102005.8108274308 |\n",
      "+----+-------------------------------------------------------------------------------------------------------+------------------+\n",
      "only showing top 10 rows\n",
      "\n"
     ]
    }
   ],
   "source": [
    "predictions.select(\"id\",\"features\",\"prediction\").show(10, truncate = False)"
   ]
  },
  {
   "cell_type": "code",
   "execution_count": 39,
   "id": "356744fd-3b77-4ca2-800e-dbaf29192fe1",
   "metadata": {},
   "outputs": [],
   "source": [
    "#예측 결과 저장\n",
    "\n",
    "predictions.select(\"id\", \"prediction\")\\\n",
    "    .withColumnRenamed(\"prediction\", \"SalePrice\")\\\n",
    "    .write.csv('data/output/house_prediction.csv', header = True, mode = \"overwrite\")"
   ]
  },
  {
   "cell_type": "code",
   "execution_count": null,
   "id": "fd995c56-f773-4f7f-b7f4-b6756e3d3d85",
   "metadata": {},
   "outputs": [],
   "source": []
  },
  {
   "cell_type": "raw",
   "id": "596484ad-0d5b-4b6d-9992-59331f64901e",
   "metadata": {},
   "source": [
    "# 예측 모델의 활용\n",
    "1. 파이프라인 저장 \n",
    "2. 모델 저장 "
   ]
  },
  {
   "cell_type": "code",
   "execution_count": 47,
   "id": "c7cd7dc2-230c-4b1c-8285-eddef2ebe77b",
   "metadata": {},
   "outputs": [
    {
     "name": "stdout",
     "output_type": "stream",
     "text": [
      "model_saved...\n"
     ]
    }
   ],
   "source": [
    "model_save_path = 'data/output/boston_housing_lr_model'\n",
    "pipeline_save_path = 'data/output/boston_housing_pipline_model'\n",
    "\n",
    "#pipline\n",
    "pipeline_model.write().overwrite().save(pipeline_save_path)\n",
    "\n",
    "#linear regression model\n",
    "lr_model.write().overwrite().save(model_save_path)\n",
    "print('model_saved...')"
   ]
  },
  {
   "cell_type": "code",
   "execution_count": null,
   "id": "0d2227cf-a1f4-4215-a7ba-47a19a2c4c3c",
   "metadata": {},
   "outputs": [],
   "source": []
  },
  {
   "cell_type": "markdown",
   "id": "1b067915-93e0-47c7-8c83-55cdc126f534",
   "metadata": {},
   "source": [
    "## Load Model & Pipeline"
   ]
  },
  {
   "cell_type": "code",
   "execution_count": 63,
   "id": "4ae19574-ffd5-434d-a02f-5682ba005b27",
   "metadata": {},
   "outputs": [],
   "source": [
    "from pyspark.ml.regression import LinearRegressionModel\n",
    "from pyspark.ml import PipelineModel"
   ]
  },
  {
   "cell_type": "code",
   "execution_count": 64,
   "id": "d59f4cfd-cdcd-415b-8c02-63e0991afa03",
   "metadata": {},
   "outputs": [
    {
     "data": {
      "text/plain": [
       "LinearRegressionModel: uid=LinearRegression_27be3aa8f05f, numFeatures=34"
      ]
     },
     "execution_count": 64,
     "metadata": {},
     "output_type": "execute_result"
    }
   ],
   "source": [
    "loaded_pipeline = PipelineModel.load(pipeline_save_path)\n",
    "loaded_pipeline\n",
    "\n",
    "\n",
    "loaded_model = LinearRegressionModel.load(model_save_path)\n",
    "loaded_model"
   ]
  },
  {
   "cell_type": "raw",
   "id": "93d54f9c-df1b-4874-b0df-c69e3240336a",
   "metadata": {},
   "source": [
    "#새로운 데이터로 예측\n",
    "1. 새로운 데이터 >>> ???\n",
    "2. 파이프라인모델을 이용해서 변환\n",
    "3. 모델에 넣어 예측"
   ]
  },
  {
   "cell_type": "code",
   "execution_count": 53,
   "id": "808c18a6-6226-48ec-8f24-e5ae0fb32303",
   "metadata": {},
   "outputs": [
    {
     "name": "stdout",
     "output_type": "stream",
     "text": [
      "Collecting pandas\n",
      "  Downloading pandas-2.0.3-cp38-cp38-manylinux_2_17_x86_64.manylinux2014_x86_64.whl.metadata (18 kB)\n",
      "Requirement already satisfied: python-dateutil>=2.8.2 in /home/ubuntu/anaconda3/envs/spark_start/lib/python3.8/site-packages (from pandas) (2.9.0.post0)\n",
      "Requirement already satisfied: pytz>=2020.1 in /home/ubuntu/anaconda3/envs/spark_start/lib/python3.8/site-packages (from pandas) (2024.2)\n",
      "Collecting tzdata>=2022.1 (from pandas)\n",
      "  Downloading tzdata-2024.2-py2.py3-none-any.whl.metadata (1.4 kB)\n",
      "Requirement already satisfied: numpy>=1.20.3 in /home/ubuntu/anaconda3/envs/spark_start/lib/python3.8/site-packages (from pandas) (1.24.4)\n",
      "Requirement already satisfied: six>=1.5 in /home/ubuntu/anaconda3/envs/spark_start/lib/python3.8/site-packages (from python-dateutil>=2.8.2->pandas) (1.17.0)\n",
      "Downloading pandas-2.0.3-cp38-cp38-manylinux_2_17_x86_64.manylinux2014_x86_64.whl (12.4 MB)\n",
      "\u001b[2K   \u001b[90m━━━━━━━━━━━━━━━━━━━━━━━━━━━━━━━━━━━━━━━━\u001b[0m \u001b[32m12.4/12.4 MB\u001b[0m \u001b[31m146.9 MB/s\u001b[0m eta \u001b[36m0:00:00\u001b[0m\n",
      "\u001b[?25hDownloading tzdata-2024.2-py2.py3-none-any.whl (346 kB)\n",
      "Installing collected packages: tzdata, pandas\n",
      "Successfully installed pandas-2.0.3 tzdata-2024.2\n",
      "Note: you may need to restart the kernel to use updated packages.\n"
     ]
    }
   ],
   "source": [
    "#pip install pandas"
   ]
  },
  {
   "cell_type": "code",
   "execution_count": 54,
   "id": "b9426c7e-199e-42f5-9035-f7472ddbec50",
   "metadata": {},
   "outputs": [],
   "source": [
    "import pandas as pd \n",
    "\n",
    "# 새로운 데이터 샘플 생성\n",
    "data = {\n",
    "    \"Id\": [1461],\n",
    "    \"MSSubClass\": [20],\n",
    "    \"MSZoning\": [\"RH\"],\n",
    "    \"LotFrontage\": [80],\n",
    "    \"LotArea\": [11622],\n",
    "    \"Street\": [\"Pave\"],\n",
    "    \"Alley\": [None],  # NA를 None으로 표현\n",
    "    \"LotShape\": [\"Reg\"],\n",
    "    \"LandContour\": [\"Lvl\"],\n",
    "    \"Utilities\": [\"AllPub\"],\n",
    "    \"LotConfig\": [\"Inside\"],\n",
    "    \"LandSlope\": [\"Gtl\"],\n",
    "    \"Neighborhood\": [\"NAmes\"],\n",
    "    \"Condition1\": [\"Feedr\"],\n",
    "    \"Condition2\": [\"Norm\"],\n",
    "    \"BldgType\": [\"1Fam\"],\n",
    "    \"HouseStyle\": [\"1Story\"],\n",
    "    \"OverallQual\": [5],\n",
    "    \"OverallCond\": [6],\n",
    "    \"YearBuilt\": [1961],\n",
    "    \"YearRemodAdd\": [1961],\n",
    "    \"RoofStyle\": [\"Gable\"],\n",
    "    \"RoofMatl\": [\"CompShg\"],\n",
    "    \"Exterior1st\": [\"VinylSd\"],\n",
    "    \"Exterior2nd\": [\"VinylSd\"],\n",
    "    \"MasVnrType\": [None],  # None은 NA를 의미\n",
    "    \"MasVnrArea\": [0],\n",
    "    \"ExterQual\": [\"TA\"],\n",
    "    \"ExterCond\": [\"TA\"],\n",
    "    \"Foundation\": [\"CBlock\"],\n",
    "    \"BsmtQual\": [\"TA\"],\n",
    "    \"BsmtCond\": [\"TA\"],\n",
    "    \"BsmtExposure\": [\"No\"],\n",
    "    \"BsmtFinType1\": [\"Rec\"],\n",
    "    \"BsmtFinSF1\": [468],\n",
    "    \"BsmtFinType2\": [\"LwQ\"],\n",
    "    \"BsmtFinSF2\": [144],\n",
    "    \"BsmtUnfSF\": [270],\n",
    "    \"TotalBsmtSF\": [882],\n",
    "    \"Heating\": [\"GasA\"],\n",
    "    \"HeatingQC\": [\"TA\"],\n",
    "    \"CentralAir\": [\"Y\"],\n",
    "    \"Electrical\": [\"SBrkr\"],\n",
    "    \"1stFlrSF\": [896],\n",
    "    \"2ndFlrSF\": [0],\n",
    "    \"LowQualFinSF\": [0],\n",
    "    \"GrLivArea\": [896],\n",
    "    \"BsmtFullBath\": [0],\n",
    "    \"BsmtHalfBath\": [0],\n",
    "    \"FullBath\": [1],\n",
    "    \"HalfBath\": [0],\n",
    "    \"BedroomAbvGr\": [2],\n",
    "    \"KitchenAbvGr\": [1],\n",
    "    \"KitchenQual\": [\"TA\"],\n",
    "    \"TotRmsAbvGrd\": [5],\n",
    "    \"Functional\": [\"Typ\"],\n",
    "    \"Fireplaces\": [0],\n",
    "    \"FireplaceQu\": [None],  # NA를 None으로 표현\n",
    "    \"GarageType\": [\"Attchd\"],\n",
    "    \"GarageYrBlt\": [1961],\n",
    "    \"GarageFinish\": [\"Unf\"],\n",
    "    \"GarageCars\": [1],\n",
    "    \"GarageArea\": [730],\n",
    "    \"GarageQual\": [\"TA\"],\n",
    "    \"GarageCond\": [\"TA\"],\n",
    "    \"PavedDrive\": [\"Y\"],\n",
    "    \"WoodDeckSF\": [140],\n",
    "    \"OpenPorchSF\": [0],\n",
    "    \"EnclosedPorch\": [0],\n",
    "    \"3SsnPorch\": [0],\n",
    "    \"ScreenPorch\": [120],\n",
    "    \"PoolArea\": [0],\n",
    "    \"PoolQC\": [None],  # NA를 None으로 표현\n",
    "    \"Fence\": [\"MnPrv\"],\n",
    "    \"MiscFeature\": [None],  # NA를 None으로 표현\n",
    "    \"MiscVal\": [0],\n",
    "    \"MoSold\": [6],\n",
    "    \"YrSold\": [2010],\n",
    "    \"SaleType\": [\"WD\"],\n",
    "    \"SaleCondition\":[\"Normal\"]\n",
    "}\n",
    "\n",
    "pd.DataFrame(data).to_csv('data/new_test_data.csv', index = False)"
   ]
  },
  {
   "cell_type": "code",
   "execution_count": 55,
   "id": "69c5534b-1479-483e-a5f7-1e7298b443db",
   "metadata": {},
   "outputs": [],
   "source": [
    "new_test_data = spark.read.csv('data/new_test_data.csv', header = True, inferSchema = True)"
   ]
  },
  {
   "cell_type": "code",
   "execution_count": null,
   "id": "839ceee5-fade-415a-b7c2-6ee544ca2873",
   "metadata": {},
   "outputs": [],
   "source": []
  },
  {
   "cell_type": "code",
   "execution_count": 56,
   "id": "0499cccb-63b2-4f72-8385-3a2f3391aaa7",
   "metadata": {},
   "outputs": [],
   "source": [
    "# 필요한 특성만 선택 (파이프라인에서 사용된 특성들)\n",
    "# 수치형 컬럼 + 범주형 컬럼 정의\n",
    "selected_features = [\n",
    "    \"LotArea\", \"OverallQual\", \"OverallCond\", \"YearBuilt\", \"YearRemodAdd\", \n",
    "    \"1stFlrSF\", \"2ndFlrSF\", \"GrLivArea\", \"GarageCars\", \"GarageArea\", \"Neighborhood\"\n",
    "]"
   ]
  },
  {
   "cell_type": "code",
   "execution_count": 58,
   "id": "238c4ef9-ee2f-4db1-b1e8-686439e5d5b7",
   "metadata": {},
   "outputs": [],
   "source": [
    "# 데이터 타입 변환 및 필요한 특성 선택\n",
    "new_test_data = new_test_data.withColumn(\"GarageCars\", new_test_data[\"GarageCars\"].cast(\"integer\"))\n",
    "new_test_data = new_test_data.withColumn(\"GarageArea\", new_test_data[\"GarageArea\"].cast(\"integer\")) "
   ]
  },
  {
   "cell_type": "code",
   "execution_count": null,
   "id": "8f86aeed-54be-4064-8c02-c81da3379cea",
   "metadata": {},
   "outputs": [],
   "source": []
  },
  {
   "cell_type": "code",
   "execution_count": null,
   "id": "394cfc2f-9837-4e8a-a443-7afd331fdbb6",
   "metadata": {},
   "outputs": [],
   "source": []
  },
  {
   "cell_type": "code",
   "execution_count": null,
   "id": "16a28453-a840-45b5-b0ca-3bb58c946eb6",
   "metadata": {},
   "outputs": [],
   "source": [
    "# Input New Data to Pipeline"
   ]
  },
  {
   "cell_type": "code",
   "execution_count": 65,
   "id": "dae80ecf-6db5-46bb-a9f4-c3e140566077",
   "metadata": {},
   "outputs": [],
   "source": [
    "new_pipe = loaded_pipeline.transform(new_test_data)"
   ]
  },
  {
   "cell_type": "code",
   "execution_count": 66,
   "id": "a3d9173c-328d-473a-9ef1-4b5610fa41f0",
   "metadata": {},
   "outputs": [],
   "source": [
    "# Input Model to Pipeline"
   ]
  },
  {
   "cell_type": "code",
   "execution_count": 67,
   "id": "cb9754bf-3511-4fa4-ae07-91f7cd63570c",
   "metadata": {},
   "outputs": [],
   "source": [
    "new_pred = loaded_model.transform(new_pipe)"
   ]
  },
  {
   "cell_type": "code",
   "execution_count": null,
   "id": "e0eac46f-5636-4562-8727-3716246076d3",
   "metadata": {},
   "outputs": [],
   "source": []
  },
  {
   "cell_type": "code",
   "execution_count": 68,
   "id": "45f1d028-f982-4f09-a651-f89b8ea3d239",
   "metadata": {},
   "outputs": [
    {
     "name": "stdout",
     "output_type": "stream",
     "text": [
      "+------------------+\n",
      "|        prediction|\n",
      "+------------------+\n",
      "|114113.60325331613|\n",
      "+------------------+\n",
      "\n"
     ]
    }
   ],
   "source": [
    "new_pred.select(\"prediction\").show()"
   ]
  },
  {
   "cell_type": "code",
   "execution_count": null,
   "id": "d90284d0-4dcc-4a6e-bf63-c0969e3b2663",
   "metadata": {},
   "outputs": [],
   "source": []
  },
  {
   "cell_type": "code",
   "execution_count": 69,
   "id": "f9fd9ec2-e20a-4126-b8c5-8b93726cce51",
   "metadata": {},
   "outputs": [],
   "source": [
    "#csv 저장"
   ]
  },
  {
   "cell_type": "code",
   "execution_count": 70,
   "id": "4bcfc35e-e40a-46f7-8b1b-63d14631b28f",
   "metadata": {},
   "outputs": [],
   "source": [
    "#Log를 남긴다 - csv 저장, DB에 저장 "
   ]
  },
  {
   "cell_type": "code",
   "execution_count": null,
   "id": "673a4452-b53b-47ae-81c4-2cfee0e604d4",
   "metadata": {},
   "outputs": [],
   "source": []
  },
  {
   "cell_type": "code",
   "execution_count": null,
   "id": "3a150c6e-7ac4-4002-9635-1a93884d15f6",
   "metadata": {},
   "outputs": [],
   "source": []
  },
  {
   "cell_type": "code",
   "execution_count": 71,
   "id": "02ec254d-f2fd-41fe-ab6f-bc19bc368957",
   "metadata": {},
   "outputs": [],
   "source": [
    "spark.stop()"
   ]
  },
  {
   "cell_type": "code",
   "execution_count": null,
   "id": "1793e478-22ad-4550-8215-2ab9635df486",
   "metadata": {},
   "outputs": [],
   "source": []
  }
 ],
 "metadata": {
  "kernelspec": {
   "display_name": "Python (spark_start)",
   "language": "python",
   "name": "spark_start"
  },
  "language_info": {
   "codemirror_mode": {
    "name": "ipython",
    "version": 3
   },
   "file_extension": ".py",
   "mimetype": "text/x-python",
   "name": "python",
   "nbconvert_exporter": "python",
   "pygments_lexer": "ipython3",
   "version": "3.8.20"
  }
 },
 "nbformat": 4,
 "nbformat_minor": 5
}
