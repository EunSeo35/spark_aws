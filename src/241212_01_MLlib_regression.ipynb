{
 "cells": [
  {
   "cell_type": "code",
   "execution_count": 1,
   "id": "967282dd-e3bc-4374-9d22-83bb6ab727d8",
   "metadata": {},
   "outputs": [
    {
     "name": "stderr",
     "output_type": "stream",
     "text": [
      "24/12/12 16:43:57 WARN NativeCodeLoader: Unable to load native-hadoop library for your platform... using builtin-java classes where applicable\n",
      "Using Spark's default log4j profile: org/apache/spark/log4j-defaults.properties\n",
      "Setting default log level to \"WARN\".\n",
      "To adjust logging level use sc.setLogLevel(newLevel). For SparkR, use setLogLevel(newLevel).\n"
     ]
    }
   ],
   "source": [
    "from pyspark.sql import SparkSession\n",
    "spark = SparkSession.builder.appName('241212_01_MLlib_regression').getOrCreate()"
   ]
  },
  {
   "cell_type": "code",
   "execution_count": 2,
   "id": "0a74a838-743a-488f-9838-748302ce09e9",
   "metadata": {},
   "outputs": [
    {
     "name": "stderr",
     "output_type": "stream",
     "text": [
      "                                                                                "
     ]
    }
   ],
   "source": [
    "train_df = spark.read.format(\"csv\")\\\n",
    "    .option(\"header\", 'true')\\\n",
    "    .option('inferSchema', 'true')\\\n",
    "    .load('data/house_train.csv')"
   ]
  },
  {
   "cell_type": "code",
   "execution_count": 3,
   "id": "6bca0485-58ef-4da7-ad7f-8353d02a2796",
   "metadata": {},
   "outputs": [],
   "source": [
    "test_df = spark.read.format(\"csv\")\\\n",
    "    .option(\"header\", 'true')\\\n",
    "    .option('inferSchema', 'true')\\\n",
    "    .load('data/house_test.csv')"
   ]
  },
  {
   "cell_type": "code",
   "execution_count": 4,
   "id": "542f2319-d08a-47ee-aa51-7c2c9a3cf3e4",
   "metadata": {},
   "outputs": [
    {
     "name": "stdout",
     "output_type": "stream",
     "text": [
      "root\n",
      " |-- Id: integer (nullable = true)\n",
      " |-- MSSubClass: integer (nullable = true)\n",
      " |-- MSZoning: string (nullable = true)\n",
      " |-- LotFrontage: string (nullable = true)\n",
      " |-- LotArea: integer (nullable = true)\n",
      " |-- Street: string (nullable = true)\n",
      " |-- Alley: string (nullable = true)\n",
      " |-- LotShape: string (nullable = true)\n",
      " |-- LandContour: string (nullable = true)\n",
      " |-- Utilities: string (nullable = true)\n",
      " |-- LotConfig: string (nullable = true)\n",
      " |-- LandSlope: string (nullable = true)\n",
      " |-- Neighborhood: string (nullable = true)\n",
      " |-- Condition1: string (nullable = true)\n",
      " |-- Condition2: string (nullable = true)\n",
      " |-- BldgType: string (nullable = true)\n",
      " |-- HouseStyle: string (nullable = true)\n",
      " |-- OverallQual: integer (nullable = true)\n",
      " |-- OverallCond: integer (nullable = true)\n",
      " |-- YearBuilt: integer (nullable = true)\n",
      " |-- YearRemodAdd: integer (nullable = true)\n",
      " |-- RoofStyle: string (nullable = true)\n",
      " |-- RoofMatl: string (nullable = true)\n",
      " |-- Exterior1st: string (nullable = true)\n",
      " |-- Exterior2nd: string (nullable = true)\n",
      " |-- MasVnrType: string (nullable = true)\n",
      " |-- MasVnrArea: string (nullable = true)\n",
      " |-- ExterQual: string (nullable = true)\n",
      " |-- ExterCond: string (nullable = true)\n",
      " |-- Foundation: string (nullable = true)\n",
      " |-- BsmtQual: string (nullable = true)\n",
      " |-- BsmtCond: string (nullable = true)\n",
      " |-- BsmtExposure: string (nullable = true)\n",
      " |-- BsmtFinType1: string (nullable = true)\n",
      " |-- BsmtFinSF1: integer (nullable = true)\n",
      " |-- BsmtFinType2: string (nullable = true)\n",
      " |-- BsmtFinSF2: integer (nullable = true)\n",
      " |-- BsmtUnfSF: integer (nullable = true)\n",
      " |-- TotalBsmtSF: integer (nullable = true)\n",
      " |-- Heating: string (nullable = true)\n",
      " |-- HeatingQC: string (nullable = true)\n",
      " |-- CentralAir: string (nullable = true)\n",
      " |-- Electrical: string (nullable = true)\n",
      " |-- 1stFlrSF: integer (nullable = true)\n",
      " |-- 2ndFlrSF: integer (nullable = true)\n",
      " |-- LowQualFinSF: integer (nullable = true)\n",
      " |-- GrLivArea: integer (nullable = true)\n",
      " |-- BsmtFullBath: integer (nullable = true)\n",
      " |-- BsmtHalfBath: integer (nullable = true)\n",
      " |-- FullBath: integer (nullable = true)\n",
      " |-- HalfBath: integer (nullable = true)\n",
      " |-- BedroomAbvGr: integer (nullable = true)\n",
      " |-- KitchenAbvGr: integer (nullable = true)\n",
      " |-- KitchenQual: string (nullable = true)\n",
      " |-- TotRmsAbvGrd: integer (nullable = true)\n",
      " |-- Functional: string (nullable = true)\n",
      " |-- Fireplaces: integer (nullable = true)\n",
      " |-- FireplaceQu: string (nullable = true)\n",
      " |-- GarageType: string (nullable = true)\n",
      " |-- GarageYrBlt: string (nullable = true)\n",
      " |-- GarageFinish: string (nullable = true)\n",
      " |-- GarageCars: integer (nullable = true)\n",
      " |-- GarageArea: integer (nullable = true)\n",
      " |-- GarageQual: string (nullable = true)\n",
      " |-- GarageCond: string (nullable = true)\n",
      " |-- PavedDrive: string (nullable = true)\n",
      " |-- WoodDeckSF: integer (nullable = true)\n",
      " |-- OpenPorchSF: integer (nullable = true)\n",
      " |-- EnclosedPorch: integer (nullable = true)\n",
      " |-- 3SsnPorch: integer (nullable = true)\n",
      " |-- ScreenPorch: integer (nullable = true)\n",
      " |-- PoolArea: integer (nullable = true)\n",
      " |-- PoolQC: string (nullable = true)\n",
      " |-- Fence: string (nullable = true)\n",
      " |-- MiscFeature: string (nullable = true)\n",
      " |-- MiscVal: integer (nullable = true)\n",
      " |-- MoSold: integer (nullable = true)\n",
      " |-- YrSold: integer (nullable = true)\n",
      " |-- SaleType: string (nullable = true)\n",
      " |-- SaleCondition: string (nullable = true)\n",
      " |-- SalePrice: integer (nullable = true)\n",
      "\n"
     ]
    }
   ],
   "source": [
    "train_df.printSchema()"
   ]
  },
  {
   "cell_type": "code",
   "execution_count": 5,
   "id": "e867fe35-3caa-41d9-8627-a87114f292c7",
   "metadata": {},
   "outputs": [
    {
     "name": "stderr",
     "output_type": "stream",
     "text": [
      "24/12/12 16:44:10 WARN package: Truncated the string representation of a plan since it was too large. This behavior can be adjusted by setting 'spark.sql.debug.maxToStringFields'.\n"
     ]
    },
    {
     "name": "stdout",
     "output_type": "stream",
     "text": [
      "+---+----------+--------+-----------+-------+------+-----+--------+-----------+---------+---------+---------+------------+----------+----------+--------+----------+-----------+-----------+---------+------------+---------+--------+-----------+-----------+----------+----------+---------+---------+----------+--------+--------+------------+------------+----------+------------+----------+---------+-----------+-------+---------+----------+----------+--------+--------+------------+---------+------------+------------+--------+--------+------------+------------+-----------+------------+----------+----------+-----------+----------+-----------+------------+----------+----------+----------+----------+----------+----------+-----------+-------------+---------+-----------+--------+------+-----+-----------+-------+------+------+--------+-------------+---------+\n",
      "| Id|MSSubClass|MSZoning|LotFrontage|LotArea|Street|Alley|LotShape|LandContour|Utilities|LotConfig|LandSlope|Neighborhood|Condition1|Condition2|BldgType|HouseStyle|OverallQual|OverallCond|YearBuilt|YearRemodAdd|RoofStyle|RoofMatl|Exterior1st|Exterior2nd|MasVnrType|MasVnrArea|ExterQual|ExterCond|Foundation|BsmtQual|BsmtCond|BsmtExposure|BsmtFinType1|BsmtFinSF1|BsmtFinType2|BsmtFinSF2|BsmtUnfSF|TotalBsmtSF|Heating|HeatingQC|CentralAir|Electrical|1stFlrSF|2ndFlrSF|LowQualFinSF|GrLivArea|BsmtFullBath|BsmtHalfBath|FullBath|HalfBath|BedroomAbvGr|KitchenAbvGr|KitchenQual|TotRmsAbvGrd|Functional|Fireplaces|FireplaceQu|GarageType|GarageYrBlt|GarageFinish|GarageCars|GarageArea|GarageQual|GarageCond|PavedDrive|WoodDeckSF|OpenPorchSF|EnclosedPorch|3SsnPorch|ScreenPorch|PoolArea|PoolQC|Fence|MiscFeature|MiscVal|MoSold|YrSold|SaleType|SaleCondition|SalePrice|\n",
      "+---+----------+--------+-----------+-------+------+-----+--------+-----------+---------+---------+---------+------------+----------+----------+--------+----------+-----------+-----------+---------+------------+---------+--------+-----------+-----------+----------+----------+---------+---------+----------+--------+--------+------------+------------+----------+------------+----------+---------+-----------+-------+---------+----------+----------+--------+--------+------------+---------+------------+------------+--------+--------+------------+------------+-----------+------------+----------+----------+-----------+----------+-----------+------------+----------+----------+----------+----------+----------+----------+-----------+-------------+---------+-----------+--------+------+-----+-----------+-------+------+------+--------+-------------+---------+\n",
      "|  1|        60|      RL|         65|   8450|  Pave|   NA|     Reg|        Lvl|   AllPub|   Inside|      Gtl|     CollgCr|      Norm|      Norm|    1Fam|    2Story|          7|          5|     2003|        2003|    Gable| CompShg|    VinylSd|    VinylSd|   BrkFace|       196|       Gd|       TA|     PConc|      Gd|      TA|          No|         GLQ|       706|         Unf|         0|      150|        856|   GasA|       Ex|         Y|     SBrkr|     856|     854|           0|     1710|           1|           0|       2|       1|           3|           1|         Gd|           8|       Typ|         0|         NA|    Attchd|       2003|         RFn|         2|       548|        TA|        TA|         Y|         0|         61|            0|        0|          0|       0|    NA|   NA|         NA|      0|     2|  2008|      WD|       Normal|   208500|\n",
      "|  2|        20|      RL|         80|   9600|  Pave|   NA|     Reg|        Lvl|   AllPub|      FR2|      Gtl|     Veenker|     Feedr|      Norm|    1Fam|    1Story|          6|          8|     1976|        1976|    Gable| CompShg|    MetalSd|    MetalSd|      None|         0|       TA|       TA|    CBlock|      Gd|      TA|          Gd|         ALQ|       978|         Unf|         0|      284|       1262|   GasA|       Ex|         Y|     SBrkr|    1262|       0|           0|     1262|           0|           1|       2|       0|           3|           1|         TA|           6|       Typ|         1|         TA|    Attchd|       1976|         RFn|         2|       460|        TA|        TA|         Y|       298|          0|            0|        0|          0|       0|    NA|   NA|         NA|      0|     5|  2007|      WD|       Normal|   181500|\n",
      "|  3|        60|      RL|         68|  11250|  Pave|   NA|     IR1|        Lvl|   AllPub|   Inside|      Gtl|     CollgCr|      Norm|      Norm|    1Fam|    2Story|          7|          5|     2001|        2002|    Gable| CompShg|    VinylSd|    VinylSd|   BrkFace|       162|       Gd|       TA|     PConc|      Gd|      TA|          Mn|         GLQ|       486|         Unf|         0|      434|        920|   GasA|       Ex|         Y|     SBrkr|     920|     866|           0|     1786|           1|           0|       2|       1|           3|           1|         Gd|           6|       Typ|         1|         TA|    Attchd|       2001|         RFn|         2|       608|        TA|        TA|         Y|         0|         42|            0|        0|          0|       0|    NA|   NA|         NA|      0|     9|  2008|      WD|       Normal|   223500|\n",
      "|  4|        70|      RL|         60|   9550|  Pave|   NA|     IR1|        Lvl|   AllPub|   Corner|      Gtl|     Crawfor|      Norm|      Norm|    1Fam|    2Story|          7|          5|     1915|        1970|    Gable| CompShg|    Wd Sdng|    Wd Shng|      None|         0|       TA|       TA|    BrkTil|      TA|      Gd|          No|         ALQ|       216|         Unf|         0|      540|        756|   GasA|       Gd|         Y|     SBrkr|     961|     756|           0|     1717|           1|           0|       1|       0|           3|           1|         Gd|           7|       Typ|         1|         Gd|    Detchd|       1998|         Unf|         3|       642|        TA|        TA|         Y|         0|         35|          272|        0|          0|       0|    NA|   NA|         NA|      0|     2|  2006|      WD|      Abnorml|   140000|\n",
      "|  5|        60|      RL|         84|  14260|  Pave|   NA|     IR1|        Lvl|   AllPub|      FR2|      Gtl|     NoRidge|      Norm|      Norm|    1Fam|    2Story|          8|          5|     2000|        2000|    Gable| CompShg|    VinylSd|    VinylSd|   BrkFace|       350|       Gd|       TA|     PConc|      Gd|      TA|          Av|         GLQ|       655|         Unf|         0|      490|       1145|   GasA|       Ex|         Y|     SBrkr|    1145|    1053|           0|     2198|           1|           0|       2|       1|           4|           1|         Gd|           9|       Typ|         1|         TA|    Attchd|       2000|         RFn|         3|       836|        TA|        TA|         Y|       192|         84|            0|        0|          0|       0|    NA|   NA|         NA|      0|    12|  2008|      WD|       Normal|   250000|\n",
      "|  6|        50|      RL|         85|  14115|  Pave|   NA|     IR1|        Lvl|   AllPub|   Inside|      Gtl|     Mitchel|      Norm|      Norm|    1Fam|    1.5Fin|          5|          5|     1993|        1995|    Gable| CompShg|    VinylSd|    VinylSd|      None|         0|       TA|       TA|      Wood|      Gd|      TA|          No|         GLQ|       732|         Unf|         0|       64|        796|   GasA|       Ex|         Y|     SBrkr|     796|     566|           0|     1362|           1|           0|       1|       1|           1|           1|         TA|           5|       Typ|         0|         NA|    Attchd|       1993|         Unf|         2|       480|        TA|        TA|         Y|        40|         30|            0|      320|          0|       0|    NA|MnPrv|       Shed|    700|    10|  2009|      WD|       Normal|   143000|\n",
      "|  7|        20|      RL|         75|  10084|  Pave|   NA|     Reg|        Lvl|   AllPub|   Inside|      Gtl|     Somerst|      Norm|      Norm|    1Fam|    1Story|          8|          5|     2004|        2005|    Gable| CompShg|    VinylSd|    VinylSd|     Stone|       186|       Gd|       TA|     PConc|      Ex|      TA|          Av|         GLQ|      1369|         Unf|         0|      317|       1686|   GasA|       Ex|         Y|     SBrkr|    1694|       0|           0|     1694|           1|           0|       2|       0|           3|           1|         Gd|           7|       Typ|         1|         Gd|    Attchd|       2004|         RFn|         2|       636|        TA|        TA|         Y|       255|         57|            0|        0|          0|       0|    NA|   NA|         NA|      0|     8|  2007|      WD|       Normal|   307000|\n",
      "|  8|        60|      RL|         NA|  10382|  Pave|   NA|     IR1|        Lvl|   AllPub|   Corner|      Gtl|      NWAmes|      PosN|      Norm|    1Fam|    2Story|          7|          6|     1973|        1973|    Gable| CompShg|    HdBoard|    HdBoard|     Stone|       240|       TA|       TA|    CBlock|      Gd|      TA|          Mn|         ALQ|       859|         BLQ|        32|      216|       1107|   GasA|       Ex|         Y|     SBrkr|    1107|     983|           0|     2090|           1|           0|       2|       1|           3|           1|         TA|           7|       Typ|         2|         TA|    Attchd|       1973|         RFn|         2|       484|        TA|        TA|         Y|       235|        204|          228|        0|          0|       0|    NA|   NA|       Shed|    350|    11|  2009|      WD|       Normal|   200000|\n",
      "|  9|        50|      RM|         51|   6120|  Pave|   NA|     Reg|        Lvl|   AllPub|   Inside|      Gtl|     OldTown|    Artery|      Norm|    1Fam|    1.5Fin|          7|          5|     1931|        1950|    Gable| CompShg|    BrkFace|    Wd Shng|      None|         0|       TA|       TA|    BrkTil|      TA|      TA|          No|         Unf|         0|         Unf|         0|      952|        952|   GasA|       Gd|         Y|     FuseF|    1022|     752|           0|     1774|           0|           0|       2|       0|           2|           2|         TA|           8|      Min1|         2|         TA|    Detchd|       1931|         Unf|         2|       468|        Fa|        TA|         Y|        90|          0|          205|        0|          0|       0|    NA|   NA|         NA|      0|     4|  2008|      WD|      Abnorml|   129900|\n",
      "| 10|       190|      RL|         50|   7420|  Pave|   NA|     Reg|        Lvl|   AllPub|   Corner|      Gtl|     BrkSide|    Artery|    Artery|  2fmCon|    1.5Unf|          5|          6|     1939|        1950|    Gable| CompShg|    MetalSd|    MetalSd|      None|         0|       TA|       TA|    BrkTil|      TA|      TA|          No|         GLQ|       851|         Unf|         0|      140|        991|   GasA|       Ex|         Y|     SBrkr|    1077|       0|           0|     1077|           1|           0|       1|       0|           2|           2|         TA|           5|       Typ|         2|         TA|    Attchd|       1939|         RFn|         1|       205|        Gd|        TA|         Y|         0|          4|            0|        0|          0|       0|    NA|   NA|         NA|      0|     1|  2008|      WD|       Normal|   118000|\n",
      "+---+----------+--------+-----------+-------+------+-----+--------+-----------+---------+---------+---------+------------+----------+----------+--------+----------+-----------+-----------+---------+------------+---------+--------+-----------+-----------+----------+----------+---------+---------+----------+--------+--------+------------+------------+----------+------------+----------+---------+-----------+-------+---------+----------+----------+--------+--------+------------+---------+------------+------------+--------+--------+------------+------------+-----------+------------+----------+----------+-----------+----------+-----------+------------+----------+----------+----------+----------+----------+----------+-----------+-------------+---------+-----------+--------+------+-----+-----------+-------+------+------+--------+-------------+---------+\n",
      "only showing top 10 rows\n",
      "\n"
     ]
    }
   ],
   "source": [
    "train_df.show(10)"
   ]
  },
  {
   "cell_type": "code",
   "execution_count": 6,
   "id": "466b5b9a-4757-4498-b58d-00fa4b83c117",
   "metadata": {},
   "outputs": [],
   "source": [
    "# 결측치 0 \n",
    "train_df = train_df.fillna(0)\n",
    "test_df = test_df.fillna(0)"
   ]
  },
  {
   "cell_type": "code",
   "execution_count": 7,
   "id": "ec645854-ab05-4d21-9276-793520efab94",
   "metadata": {},
   "outputs": [],
   "source": [
    "#encoding : 문자형 -> 숫자형 1,2,3,4"
   ]
  },
  {
   "cell_type": "code",
   "execution_count": 27,
   "id": "dd85ef68-e139-4bf8-bcd2-8796209acbda",
   "metadata": {},
   "outputs": [],
   "source": [
    "from pyspark.ml.feature import StringIndexer, VectorAssembler, OneHotEncoder"
   ]
  },
  {
   "cell_type": "code",
   "execution_count": 28,
   "id": "c0bcc84f-a1ed-4d68-9e40-b36e6f5e273e",
   "metadata": {},
   "outputs": [],
   "source": [
    "string_columns = ['Neighborhood']\n",
    "# 1,2,3,4 로 값을 단순화\n",
    "indexers = [StringIndexer(inputCol=col, outputCol=col+\"_index\")   for col in string_columns]"
   ]
  },
  {
   "cell_type": "code",
   "execution_count": 29,
   "id": "48c3541c-4e6d-44cc-81b8-b70dd71bf6e3",
   "metadata": {},
   "outputs": [],
   "source": [
    "# onehotencoding : 범주형변수 1,2,3,4, -> 1로 바꾸는 인코딩\n",
    "# 모두 1로 바꾼다.\n",
    "encoders = [OneHotEncoder(inputCol=col+\"_index\", outputCol=col+\"_encoded\")   for col in string_columns]"
   ]
  },
  {
   "cell_type": "markdown",
   "id": "7558fe3d-ad3b-49a3-bbb2-a6f055869176",
   "metadata": {},
   "source": [
    "## features selection"
   ]
  },
  {
   "cell_type": "code",
   "execution_count": 30,
   "id": "3cfc89cb-42b4-407d-adcd-6cd895c21655",
   "metadata": {},
   "outputs": [],
   "source": [
    "numeric_columns = [ \"LotArea\", \"OverallQual\", \"OverallCond\", \"YearBuilt\", \"YearRemodAdd\", \n",
    "    \"1stFlrSF\", \"2ndFlrSF\", \"GrLivArea\", \"GarageCars\", \"GarageArea\"]"
   ]
  },
  {
   "cell_type": "code",
   "execution_count": 31,
   "id": "0ab167f2-2d4b-443a-9fe7-12ce7b831faa",
   "metadata": {},
   "outputs": [],
   "source": [
    "assembler_inputs = [col+\"_encoded\" for col in string_columns] + numeric_columns"
   ]
  },
  {
   "cell_type": "code",
   "execution_count": 32,
   "id": "0c3ebf5a-6708-4bb9-8970-a86677a81cc3",
   "metadata": {},
   "outputs": [],
   "source": [
    "# assembler \n",
    "assembler = VectorAssembler(inputCols = assembler_inputs, outputCol = \"features\")"
   ]
  },
  {
   "cell_type": "code",
   "execution_count": null,
   "id": "53cc73c1-9384-4d0e-bb2f-8de23dfbc6c8",
   "metadata": {},
   "outputs": [],
   "source": []
  },
  {
   "cell_type": "code",
   "execution_count": null,
   "id": "f3f78604-562b-4a6e-bba9-68053f1f5a4c",
   "metadata": {},
   "outputs": [],
   "source": []
  },
  {
   "cell_type": "markdown",
   "id": "b9cd1f56-e786-4cf3-bd50-cc9b9dcbac2d",
   "metadata": {},
   "source": [
    "## Label Selection"
   ]
  },
  {
   "cell_type": "code",
   "execution_count": 33,
   "id": "eb0159cf-42e1-4d88-b6d3-2821fcd7bd1d",
   "metadata": {},
   "outputs": [],
   "source": [
    "train_df = train_df.withColumnRenamed(\"SalePrice\",\"label\")"
   ]
  },
  {
   "cell_type": "code",
   "execution_count": null,
   "id": "59f58942-21a4-4fe7-87c8-2ca24c3864bf",
   "metadata": {},
   "outputs": [],
   "source": []
  },
  {
   "cell_type": "markdown",
   "id": "5504c556-9125-4a67-a6a0-bd615762fd5f",
   "metadata": {},
   "source": [
    "## Pipelie setting"
   ]
  },
  {
   "cell_type": "raw",
   "id": "83a2587e-65c9-4cee-a413-47c7a4e7d133",
   "metadata": {},
   "source": [
    "StringIndex + oneHotEncoder + Assembler ->> 하나의 SparkML Pipeline으로 결합"
   ]
  },
  {
   "cell_type": "code",
   "execution_count": 34,
   "id": "94003ec2-2360-4c4a-9028-81fff7b4644c",
   "metadata": {},
   "outputs": [],
   "source": [
    "from pyspark.ml import Pipeline"
   ]
  },
  {
   "cell_type": "code",
   "execution_count": 35,
   "id": "2bf6f4ea-1785-4986-9cc1-b6fdd3a1cd3b",
   "metadata": {},
   "outputs": [],
   "source": [
    "pipeline = Pipeline(stages = indexers+encoders+[assembler])"
   ]
  },
  {
   "cell_type": "code",
   "execution_count": 36,
   "id": "5b130a4b-56d1-444b-95ff-8a8bc25c236e",
   "metadata": {},
   "outputs": [],
   "source": [
    "pipeline_model = pipeline.fit( train_df )"
   ]
  },
  {
   "cell_type": "code",
   "execution_count": 37,
   "id": "c2e7db5a-da00-4019-a169-d1948ce685a8",
   "metadata": {},
   "outputs": [],
   "source": [
    "train_transformed = pipeline_model.transform( train_df )"
   ]
  },
  {
   "cell_type": "code",
   "execution_count": null,
   "id": "3d7d0134-3cce-47c2-93f8-9d5bb3ac7a2c",
   "metadata": {},
   "outputs": [],
   "source": []
  },
  {
   "cell_type": "markdown",
   "id": "828b1d9e-ae80-4211-9c6f-a2ac7bcbdae9",
   "metadata": {},
   "source": [
    "## 예측 -> 회귀 모델 학습 -> 평가 -> 예측"
   ]
  },
  {
   "cell_type": "code",
   "execution_count": 39,
   "id": "a5a202ac-e33a-4f9b-bb26-37406d31e32a",
   "metadata": {},
   "outputs": [],
   "source": [
    "from pyspark.ml.regression import LinearRegression"
   ]
  },
  {
   "cell_type": "code",
   "execution_count": 41,
   "id": "43becb93-c773-42fd-afc2-3af83b7b1395",
   "metadata": {},
   "outputs": [
    {
     "name": "stderr",
     "output_type": "stream",
     "text": [
      "24/12/12 17:47:21 WARN Instrumentation: [83f42166] regParam is zero, which might cause numerical instability and overfitting.\n",
      "24/12/12 17:47:22 WARN BLAS: Failed to load implementation from: com.github.fommil.netlib.NativeSystemBLAS\n",
      "24/12/12 17:47:22 WARN BLAS: Failed to load implementation from: com.github.fommil.netlib.NativeRefBLAS\n",
      "24/12/12 17:47:22 WARN LAPACK: Failed to load implementation from: com.github.fommil.netlib.NativeSystemLAPACK\n",
      "24/12/12 17:47:22 WARN LAPACK: Failed to load implementation from: com.github.fommil.netlib.NativeRefLAPACK\n"
     ]
    }
   ],
   "source": [
    "lr = LinearRegression(featuresCol=\"features\", labelCol=\"label\")\n",
    "lr_model = lr.fit(train_transformed)"
   ]
  },
  {
   "cell_type": "code",
   "execution_count": 42,
   "id": "60ddcf53-e80d-472f-9cf6-ca8ff226b35c",
   "metadata": {},
   "outputs": [
    {
     "ename": "NameError",
     "evalue": "name 'pipline_model' is not defined",
     "output_type": "error",
     "traceback": [
      "\u001b[0;31m---------------------------------------------------------------------------\u001b[0m",
      "\u001b[0;31mNameError\u001b[0m                                 Traceback (most recent call last)",
      "Cell \u001b[0;32mIn[42], line 4\u001b[0m\n\u001b[1;32m      1\u001b[0m \u001b[38;5;66;03m#fit : 모델 맞춤 과정 , 테스트 데이터에 의해 규칙이 변환됨\u001b[39;00m\n\u001b[1;32m      2\u001b[0m \u001b[38;5;66;03m#따라서 test model은 fit 과정 없이 transform 과정 진행 \u001b[39;00m\n\u001b[0;32m----> 4\u001b[0m test_transformed \u001b[38;5;241m=\u001b[39m \u001b[43mpipline_model\u001b[49m\u001b[38;5;241m.\u001b[39mtransform(test_df)\n\u001b[1;32m      5\u001b[0m lr_model\u001b[38;5;241m.\u001b[39mtransform(test_transformed)\n",
      "\u001b[0;31mNameError\u001b[0m: name 'pipline_model' is not defined"
     ]
    }
   ],
   "source": [
    "#fit : 모델 맞춤 과정 , 테스트 데이터에 의해 규칙이 변환됨\n",
    "#따라서 test model은 fit 과정 없이 transform 과정 진행 \n",
    "\n",
    "test_transformed = pipline_model.transform(test_df)\n",
    "lr_model.transform(test_transformed)"
   ]
  },
  {
   "cell_type": "code",
   "execution_count": null,
   "id": "8bbc78df-892d-4edd-bab1-f173169e94cb",
   "metadata": {},
   "outputs": [],
   "source": []
  },
  {
   "cell_type": "code",
   "execution_count": null,
   "id": "356744fd-3b77-4ca2-800e-dbaf29192fe1",
   "metadata": {},
   "outputs": [],
   "source": []
  },
  {
   "cell_type": "code",
   "execution_count": null,
   "id": "fd995c56-f773-4f7f-b7f4-b6756e3d3d85",
   "metadata": {},
   "outputs": [],
   "source": []
  },
  {
   "cell_type": "code",
   "execution_count": null,
   "id": "c51ff8cd-ebff-4082-a4f7-ef696cccf462",
   "metadata": {},
   "outputs": [],
   "source": []
  },
  {
   "cell_type": "code",
   "execution_count": null,
   "id": "c7cd7dc2-230c-4b1c-8285-eddef2ebe77b",
   "metadata": {},
   "outputs": [],
   "source": []
  }
 ],
 "metadata": {
  "kernelspec": {
   "display_name": "Python (spark_start)",
   "language": "python",
   "name": "spark_start"
  },
  "language_info": {
   "codemirror_mode": {
    "name": "ipython",
    "version": 3
   },
   "file_extension": ".py",
   "mimetype": "text/x-python",
   "name": "python",
   "nbconvert_exporter": "python",
   "pygments_lexer": "ipython3",
   "version": "3.8.20"
  }
 },
 "nbformat": 4,
 "nbformat_minor": 5
}
