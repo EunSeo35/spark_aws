{
 "cells": [
  {
   "cell_type": "markdown",
   "id": "f018a9cc-f142-4f66-83a4-aa211b2d86f7",
   "metadata": {},
   "source": [
    "## 잠재요인기반 추천시스템 ALS 모델 만들기"
   ]
  },
  {
   "cell_type": "code",
   "execution_count": 6,
   "id": "120a028a-2807-41ce-a675-e9b76df441dc",
   "metadata": {},
   "outputs": [],
   "source": [
    "from pyspark.sql import SparkSession\n",
    "MAX_MEMORY = '5g'\n",
    "spark = SparkSession.builder.appName('241213_02_MLlib_ALS')\\\n",
    "        .config(\"spark.executeor.memory\", MAX_MEMORY)\\\n",
    "        .config(\"spark.driver.memory\", MAX_MEMORY)\\\n",
    "        .getOrCreate()"
   ]
  },
  {
   "cell_type": "code",
   "execution_count": 7,
   "id": "857dc393-4b50-4191-9530-6faa3e3ab874",
   "metadata": {},
   "outputs": [
    {
     "name": "stderr",
     "output_type": "stream",
     "text": [
      "                                                                                "
     ]
    }
   ],
   "source": [
    "rating_df = spark.read.format(\"csv\")\\\n",
    "    .option(\"header\", 'true')\\\n",
    "    .option('inferSchema', 'true')\\\n",
    "    .load('data/ratings.csv')"
   ]
  },
  {
   "cell_type": "code",
   "execution_count": 8,
   "id": "8fead3c3-a133-4ae8-80a9-63bb44a9d3de",
   "metadata": {},
   "outputs": [
    {
     "name": "stdout",
     "output_type": "stream",
     "text": [
      "root\n",
      " |-- userId: integer (nullable = true)\n",
      " |-- movieId: integer (nullable = true)\n",
      " |-- rating: double (nullable = true)\n",
      " |-- timestamp: integer (nullable = true)\n",
      "\n"
     ]
    }
   ],
   "source": [
    "rating_df.printSchema()"
   ]
  },
  {
   "cell_type": "code",
   "execution_count": 10,
   "id": "22822109-611e-41b8-a018-cc5f844326b0",
   "metadata": {},
   "outputs": [
    {
     "name": "stdout",
     "output_type": "stream",
     "text": [
      "+------+-------+------+----------+\n",
      "|userId|movieId|rating| timestamp|\n",
      "+------+-------+------+----------+\n",
      "|     1|    296|   5.0|1147880044|\n",
      "|     1|    306|   3.5|1147868817|\n",
      "|     1|    307|   5.0|1147868828|\n",
      "|     1|    665|   5.0|1147878820|\n",
      "|     1|    899|   3.5|1147868510|\n",
      "+------+-------+------+----------+\n",
      "only showing top 5 rows\n",
      "\n"
     ]
    }
   ],
   "source": [
    "rating_df.show(5)"
   ]
  },
  {
   "cell_type": "code",
   "execution_count": 27,
   "id": "05ed517c-4a62-4aee-b59e-387e684b83bb",
   "metadata": {},
   "outputs": [
    {
     "data": {
      "text/plain": [
       "169209"
      ]
     },
     "execution_count": 27,
     "metadata": {},
     "output_type": "execute_result"
    }
   ],
   "source": [
    "rating_df.count()"
   ]
  },
  {
   "cell_type": "markdown",
   "id": "eef64942-6513-46f9-9c62-7d0ca72223dc",
   "metadata": {},
   "source": [
    "## 전처리\n",
    "\n",
    "- timestamp column 제거\n",
    "  "
   ]
  },
  {
   "cell_type": "code",
   "execution_count": 29,
   "id": "bedfec95-4e53-4deb-89cb-66a3fb60e8a8",
   "metadata": {},
   "outputs": [],
   "source": [
    "rating_df = rating_df.select('userId','movieId','rating')"
   ]
  },
  {
   "cell_type": "markdown",
   "id": "e470f38c-7ef5-48f9-bb47-c4557ac1e8d3",
   "metadata": {},
   "source": [
    "## Dataset 분할"
   ]
  },
  {
   "cell_type": "code",
   "execution_count": 14,
   "id": "7f1ac461-4254-4356-9c46-0a1acb00c85e",
   "metadata": {},
   "outputs": [],
   "source": [
    "train_ratio = 0.8\n",
    "test_ratio = 0.2\n",
    "train_df, test_df = rating_df.randomSplit([train_ratio,test_ratio], seed = 42)"
   ]
  },
  {
   "cell_type": "code",
   "execution_count": null,
   "id": "e891d303-273d-4e9a-8454-dffcc8dbe742",
   "metadata": {},
   "outputs": [],
   "source": []
  },
  {
   "cell_type": "code",
   "execution_count": null,
   "id": "f4ee2caf-6c63-4185-aa59-988c8fc39d18",
   "metadata": {},
   "outputs": [],
   "source": [
    "## ALS 모델 객체 생성"
   ]
  },
  {
   "cell_type": "code",
   "execution_count": 18,
   "id": "204c089f-bf62-47e0-b8a3-094366f2d552",
   "metadata": {},
   "outputs": [],
   "source": [
    "from pyspark.ml.recommendation import ALS\n",
    "\n",
    "#깡통 ALS 모델 생성\n",
    "als = ALS(\n",
    "    maxIter = 5,\n",
    "    regParam = 0.1,\n",
    "    userCol = \"userId\",\n",
    "    itemCol = \"movieId\",\n",
    "    ratingCol = \"rating\"\n",
    ")"
   ]
  },
  {
   "cell_type": "markdown",
   "id": "8f843e44-97c2-4436-b49b-42e7062f21ab",
   "metadata": {},
   "source": [
    "## 모델 학습"
   ]
  },
  {
   "cell_type": "code",
   "execution_count": 21,
   "id": "e0605d26-fdb3-471f-a24a-3eb92b801077",
   "metadata": {},
   "outputs": [],
   "source": [
    "als_model = als.fit(train_df)"
   ]
  },
  {
   "cell_type": "markdown",
   "id": "79f918de-7690-4d96-9e8c-e44720d38413",
   "metadata": {},
   "source": [
    "## 예측 확인 "
   ]
  },
  {
   "cell_type": "code",
   "execution_count": 32,
   "id": "438e10f2-7c65-421c-9914-9b6825966e68",
   "metadata": {},
   "outputs": [
    {
     "name": "stderr",
     "output_type": "stream",
     "text": [
      "[Stage 215:=================================================>   (185 + 2) / 200]"
     ]
    },
    {
     "name": "stdout",
     "output_type": "stream",
     "text": [
      "+------+-------+------+----------+\n",
      "|userId|movieId|rating|prediction|\n",
      "+------+-------+------+----------+\n",
      "|   897|    471|   4.0| 2.9620304|\n",
      "|    12|    471|   4.0| 3.7224145|\n",
      "|   346|    471|   5.0| 3.3885448|\n",
      "|   846|    471|   3.0| 2.8563602|\n",
      "|   318|    471|   4.0| 3.9682584|\n",
      "+------+-------+------+----------+\n",
      "only showing top 5 rows\n",
      "\n"
     ]
    },
    {
     "name": "stderr",
     "output_type": "stream",
     "text": [
      "                                                                                "
     ]
    }
   ],
   "source": [
    "#userId, movieId -> rating\n",
    "predictions = als_model.transform(test_df)\n",
    "predictions.show(5)"
   ]
  },
  {
   "cell_type": "code",
   "execution_count": 33,
   "id": "c40b1779-7b8c-4983-a5f2-69a2778d4026",
   "metadata": {},
   "outputs": [
    {
     "name": "stderr",
     "output_type": "stream",
     "text": [
      "[Stage 235:================================================>    (182 + 2) / 200]"
     ]
    },
    {
     "name": "stdout",
     "output_type": "stream",
     "text": [
      "+-------+------------------+----------+\n",
      "|summary|            rating|prediction|\n",
      "+-------+------------------+----------+\n",
      "|  count|             33908|     33908|\n",
      "|   mean| 3.566857378789666|       NaN|\n",
      "| stddev|1.0480526319009411|       NaN|\n",
      "|    min|               0.5|0.07923436|\n",
      "|    max|               5.0|       NaN|\n",
      "+-------+------------------+----------+\n",
      "\n"
     ]
    },
    {
     "name": "stderr",
     "output_type": "stream",
     "text": [
      "                                                                                "
     ]
    }
   ],
   "source": [
    "predictions.select(\"rating\",\"prediction\").describe().show()"
   ]
  },
  {
   "cell_type": "markdown",
   "id": "39bd401d-2048-4c3c-9d83-805824063851",
   "metadata": {},
   "source": [
    "## ALS 모델 hyperparameter 조정\n",
    "- coldStartStrategy = 'drop'"
   ]
  },
  {
   "cell_type": "code",
   "execution_count": 34,
   "id": "230e630c-c164-45c9-82ef-9dce6a5cada9",
   "metadata": {},
   "outputs": [
    {
     "data": {
      "text/plain": [
       "ALS_8df216b69810"
      ]
     },
     "execution_count": 34,
     "metadata": {},
     "output_type": "execute_result"
    }
   ],
   "source": [
    "als.setColdStartStrategy('drop')"
   ]
  },
  {
   "cell_type": "code",
   "execution_count": 35,
   "id": "4bc41f8f-98c1-441c-aeba-a2719b6b5106",
   "metadata": {},
   "outputs": [
    {
     "name": "stderr",
     "output_type": "stream",
     "text": [
      "[Stage 252:==============================================>      (176 + 2) / 200]"
     ]
    },
    {
     "name": "stdout",
     "output_type": "stream",
     "text": [
      "+------+-------+------+----------+\n",
      "|userId|movieId|rating|prediction|\n",
      "+------+-------+------+----------+\n",
      "|   897|    471|   4.0| 2.9620304|\n",
      "|    12|    471|   4.0| 3.7224145|\n",
      "|   346|    471|   5.0| 3.3885448|\n",
      "|   846|    471|   3.0| 2.8563602|\n",
      "|   318|    471|   4.0| 3.9682584|\n",
      "+------+-------+------+----------+\n",
      "only showing top 5 rows\n",
      "\n"
     ]
    },
    {
     "name": "stderr",
     "output_type": "stream",
     "text": [
      "                                                                                "
     ]
    }
   ],
   "source": [
    "##userid, movieid > rating\n",
    "predictions = als_model.transform(test_df)\n",
    "predictions.show(5)"
   ]
  },
  {
   "cell_type": "code",
   "execution_count": 28,
   "id": "c4f09d5a-5656-406c-bc82-29ae91905938",
   "metadata": {},
   "outputs": [
    {
     "name": "stderr",
     "output_type": "stream",
     "text": [
      "                                                                                "
     ]
    },
    {
     "data": {
      "text/plain": [
       "33908"
      ]
     },
     "execution_count": 28,
     "metadata": {},
     "output_type": "execute_result"
    }
   ],
   "source": [
    "predictions.count()"
   ]
  },
  {
   "cell_type": "code",
   "execution_count": null,
   "id": "25bc337d-a9d8-48ec-ae30-7676a547a495",
   "metadata": {},
   "outputs": [],
   "source": []
  },
  {
   "cell_type": "markdown",
   "id": "9769193c-cfe7-43f7-9f3c-b28ec86c787e",
   "metadata": {},
   "source": [
    "## 평가\n",
    "\n",
    "- RMSE 측정"
   ]
  },
  {
   "cell_type": "code",
   "execution_count": 30,
   "id": "5578f688-23c5-47ae-b6e7-9cc52179bc41",
   "metadata": {},
   "outputs": [],
   "source": [
    "from pyspark.ml.evaluation import RegressionEvaluator\n",
    "\n",
    "evaluator = RegressionEvaluator(metricName = 'rmse', labelCol = 'rating', predictionCol = 'prediction')"
   ]
  },
  {
   "cell_type": "code",
   "execution_count": 31,
   "id": "f7f2b624-65b3-47be-bc63-f1081f2cb5a6",
   "metadata": {},
   "outputs": [
    {
     "name": "stderr",
     "output_type": "stream",
     "text": [
      "                                                                                "
     ]
    },
    {
     "data": {
      "text/plain": [
       "nan"
      ]
     },
     "execution_count": 31,
     "metadata": {},
     "output_type": "execute_result"
    }
   ],
   "source": [
    "rmse = evaluator.evaluate(predictions)\n",
    "rmse"
   ]
  },
  {
   "cell_type": "code",
   "execution_count": null,
   "id": "0546108e-a95a-482b-a2dc-56f0ee8a1d67",
   "metadata": {},
   "outputs": [],
   "source": []
  },
  {
   "cell_type": "markdown",
   "id": "1979528a-62d5-43db-bcd5-70ad52265384",
   "metadata": {},
   "source": [
    "## 활용\n",
    "\n",
    "1. 사용자id -> 추천목록\n",
    "2. 영화id -> 사용자목록"
   ]
  },
  {
   "cell_type": "code",
   "execution_count": 51,
   "id": "e350c930-decb-4013-96ca-d79b1925ae4d",
   "metadata": {},
   "outputs": [
    {
     "ename": "AttributeError",
     "evalue": "'ALSModel' object has no attribute 'getRecommendForAllUsers'",
     "output_type": "error",
     "traceback": [
      "\u001b[0;31m---------------------------------------------------------------------------\u001b[0m",
      "\u001b[0;31mAttributeError\u001b[0m                            Traceback (most recent call last)",
      "Cell \u001b[0;32mIn[51], line 1\u001b[0m\n\u001b[0;32m----> 1\u001b[0m \u001b[43mals_model\u001b[49m\u001b[38;5;241;43m.\u001b[39;49m\u001b[43mgetRecommendForAllUsers\u001b[49m(\u001b[38;5;241m3\u001b[39m) \u001b[38;5;66;03m#user별로 추천할 영화 3개\u001b[39;00m\n",
      "\u001b[0;31mAttributeError\u001b[0m: 'ALSModel' object has no attribute 'getRecommendForAllUsers'"
     ]
    }
   ],
   "source": [
    "als_model.getRecommendForAllUsers(3) #user별로 추천할 영화 3개"
   ]
  },
  {
   "cell_type": "code",
   "execution_count": null,
   "id": "e52fd0ee-919a-4285-a8c0-fc1be4bcd481",
   "metadata": {},
   "outputs": [],
   "source": [
    "als_model.recommendForAllItems(3) #item별로 추천할 유저 3명 "
   ]
  },
  {
   "cell_type": "code",
   "execution_count": 38,
   "id": "bf712209-72af-42d0-b363-1d80deb5b5f1",
   "metadata": {},
   "outputs": [
    {
     "name": "stdout",
     "output_type": "stream",
     "text": [
      "+------+\n",
      "|userID|\n",
      "+------+\n",
      "|    65|\n",
      "|    78|\n",
      "|    81|\n",
      "+------+\n",
      "\n"
     ]
    }
   ],
   "source": [
    "from pyspark.sql.types import IntegerType\n",
    "\n",
    "user_list = [65,78,81]\n",
    "user_df = spark.createDataFrame(user_list, IntegerType()).toDF(\"userID\")\n",
    "user_df.show()"
   ]
  },
  {
   "cell_type": "code",
   "execution_count": 39,
   "id": "e49c45fc-6c00-4f02-83c8-d1cf6cdb2e14",
   "metadata": {},
   "outputs": [
    {
     "name": "stderr",
     "output_type": "stream",
     "text": [
      "                                                                                "
     ]
    },
    {
     "name": "stdout",
     "output_type": "stream",
     "text": [
      "+------+--------------------+\n",
      "|userId|     recommendations|\n",
      "+------+--------------------+\n",
      "|    65|[{127019, 6.08112...|\n",
      "|    78|[{82591, 6.123962...|\n",
      "|    81|[{3896, 4.564083}...|\n",
      "+------+--------------------+\n",
      "\n"
     ]
    }
   ],
   "source": [
    "user_recommend_movies = als_model.recommendForUserSubset(user_df, 3)\n",
    "user_recommend_movies.show()"
   ]
  },
  {
   "cell_type": "code",
   "execution_count": 42,
   "id": "4191975e-cb7d-43e3-a2fd-a45d82973f01",
   "metadata": {},
   "outputs": [],
   "source": [
    "#movie list load \n",
    "\n",
    "movie_file = 'data/movies.csv'\n",
    "movies_df= spark.read.csv(movie_file, inferSchema = True, header = True)"
   ]
  },
  {
   "cell_type": "code",
   "execution_count": 43,
   "id": "d494237a-db61-49c6-8c30-4c6945cafc97",
   "metadata": {},
   "outputs": [
    {
     "name": "stdout",
     "output_type": "stream",
     "text": [
      "+-------+--------------------+--------------------+\n",
      "|movieId|               title|              genres|\n",
      "+-------+--------------------+--------------------+\n",
      "|      1|    Toy Story (1995)|Adventure|Animati...|\n",
      "|      2|      Jumanji (1995)|Adventure|Childre...|\n",
      "|      3|Grumpier Old Men ...|      Comedy|Romance|\n",
      "+-------+--------------------+--------------------+\n",
      "only showing top 3 rows\n",
      "\n"
     ]
    }
   ],
   "source": [
    "movies_df.show(3)"
   ]
  },
  {
   "cell_type": "code",
   "execution_count": null,
   "id": "e0bbbf78-73a7-47fe-8c9f-7cbacf754a6f",
   "metadata": {},
   "outputs": [],
   "source": []
  },
  {
   "cell_type": "code",
   "execution_count": 49,
   "id": "fd46094d-0f19-4f93-85b6-e26ace97260c",
   "metadata": {},
   "outputs": [
    {
     "name": "stderr",
     "output_type": "stream",
     "text": [
      "                                                                                "
     ]
    },
    {
     "data": {
      "text/plain": [
       "[Row(movieId=127019, rating=6.081121921539307),\n",
       " Row(movieId=198185, rating=5.965970039367676),\n",
       " Row(movieId=5792, rating=5.677191734313965)]"
      ]
     },
     "execution_count": 49,
     "metadata": {},
     "output_type": "execute_result"
    }
   ],
   "source": [
    "#65번 사용자의 추천영화 목록\n",
    "movies_list = user_recommend_movies.collect()[0].recommendations\n",
    "movies_list"
   ]
  },
  {
   "cell_type": "code",
   "execution_count": 50,
   "id": "a1868404-5557-4715-97e2-0917843341e6",
   "metadata": {},
   "outputs": [
    {
     "name": "stdout",
     "output_type": "stream",
     "text": [
      "+-------+-----------------+\n",
      "|movieId|           rating|\n",
      "+-------+-----------------+\n",
      "| 127019|6.081121921539307|\n",
      "| 198185|5.965970039367676|\n",
      "|   5792|5.677191734313965|\n",
      "+-------+-----------------+\n",
      "\n"
     ]
    }
   ],
   "source": [
    "rec_df = spark.createDataFrame(movies_list)\n",
    "rec_df.show()"
   ]
  },
  {
   "cell_type": "code",
   "execution_count": 53,
   "id": "2f1bd8b4-c2aa-4084-aae2-25d0d70855ed",
   "metadata": {},
   "outputs": [],
   "source": [
    "#영화정보와 추천영화목록 조인 \n",
    "\n",
    "rec_df.createOrReplaceTempView('recommend')\n",
    "movies_df.createOrReplaceTempView('movies')"
   ]
  },
  {
   "cell_type": "code",
   "execution_count": 56,
   "id": "6c9572fc-e154-45ae-82b5-8985a1f16d7d",
   "metadata": {},
   "outputs": [
    {
     "name": "stdout",
     "output_type": "stream",
     "text": [
      "+-------+--------------------+-------------+-------+-----------------+\n",
      "|movieId|               title|       genres|movieId|           rating|\n",
      "+-------+--------------------+-------------+-------+-----------------+\n",
      "| 127019|Line of Sight (2012)|  Documentary| 127019|6.081121921539307|\n",
      "| 198185|   Twin Peaks (1989)|Drama|Mystery| 198185|5.965970039367676|\n",
      "|   5792| Roger Dodger (2002)| Comedy|Drama|   5792|5.677191734313965|\n",
      "+-------+--------------------+-------------+-------+-----------------+\n",
      "\n"
     ]
    }
   ],
   "source": [
    "query = '''\n",
    "select *\n",
    "from movies join recommend on movies.movieId = recommend.movieId\n",
    "order by rating desc\n",
    "'''\n",
    "spark.sql(query).show()"
   ]
  },
  {
   "cell_type": "code",
   "execution_count": null,
   "id": "b95ca78c-8ae6-4076-9f22-93a2b7b704cb",
   "metadata": {},
   "outputs": [],
   "source": []
  },
  {
   "cell_type": "code",
   "execution_count": null,
   "id": "0e1ddd45-bbf4-449d-859d-0cb0a85c7dc3",
   "metadata": {},
   "outputs": [],
   "source": []
  },
  {
   "cell_type": "code",
   "execution_count": null,
   "id": "a4c9b047-7be2-4006-86aa-bb82be1e31fa",
   "metadata": {},
   "outputs": [],
   "source": []
  },
  {
   "cell_type": "code",
   "execution_count": null,
   "id": "4222531e-0159-4cec-b426-b05634bd39d7",
   "metadata": {},
   "outputs": [],
   "source": []
  },
  {
   "cell_type": "code",
   "execution_count": null,
   "id": "0c5e61b5-a70a-41c1-973a-dedf976c0d39",
   "metadata": {},
   "outputs": [],
   "source": []
  },
  {
   "cell_type": "code",
   "execution_count": 4,
   "id": "70b9c994-fa04-421a-8597-8516bdcb302f",
   "metadata": {},
   "outputs": [],
   "source": [
    "spark.stop()"
   ]
  },
  {
   "cell_type": "code",
   "execution_count": null,
   "id": "c494ee04-d7be-4ea0-ac2a-d17e5a70c23c",
   "metadata": {},
   "outputs": [],
   "source": []
  }
 ],
 "metadata": {
  "kernelspec": {
   "display_name": "Python (spark_start)",
   "language": "python",
   "name": "spark_start"
  },
  "language_info": {
   "codemirror_mode": {
    "name": "ipython",
    "version": 3
   },
   "file_extension": ".py",
   "mimetype": "text/x-python",
   "name": "python",
   "nbconvert_exporter": "python",
   "pygments_lexer": "ipython3",
   "version": "3.8.20"
  }
 },
 "nbformat": 4,
 "nbformat_minor": 5
}
